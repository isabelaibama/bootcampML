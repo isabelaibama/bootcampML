{
  "nbformat": 4,
  "nbformat_minor": 0,
  "metadata": {
    "colab": {
      "name": "TCU_Jurisprudencia_20211214.ipynb",
      "provenance": [],
      "collapsed_sections": [
        "HbL_2GGTZSBh",
        "mw1WxlZoWcRW",
        "rcTALWtZ-J1I",
        "obLBmtSJaIIG",
        "E7ToM7IWdm5d",
        "IFzfkgn4ce3l",
        "cpTBnjXMrC5J",
        "5kXaxIvgudcb",
        "tMYKjthJNId8",
        "9iMljuSyNQz2"
      ],
      "toc_visible": true
    },
    "kernelspec": {
      "name": "python3",
      "display_name": "Python 3"
    },
    "language_info": {
      "name": "python"
    }
  },
  "cells": [
    {
      "cell_type": "markdown",
      "source": [
        "#                  **Classificação de Jurisprudência do TCU**\n"
      ],
      "metadata": {
        "id": "9SWPSOljTywH"
      }
    },
    {
      "cell_type": "markdown",
      "source": [
        "**Descrição do Projeto:**\n",
        "\n",
        "Classificar as Jurisprudências do TCU,a partir do texto da súmula. As classificações são em dez áreas, sendo elas: Competência do TCU, Contrato Administrativo, Convênio, Desestatização, Direito Processual, Finanças Públicas, Gestão Administrativa, Licitação, Pessoal e Responsabilidade. \n",
        "\n",
        "**Fonte de Dados**:\n",
        "\n",
        "Portal do Tribunal de Contas da União, disponível em: <https://portal.tcu.gov.br/inicio/index.htm>."
      ],
      "metadata": {
        "id": "WhsntM2jU3He"
      }
    },
    {
      "cell_type": "markdown",
      "source": [
        "### **Importar Bibliotecas**"
      ],
      "metadata": {
        "id": "HbL_2GGTZSBh"
      }
    },
    {
      "cell_type": "code",
      "source": [
        "import os\n",
        "import numpy as np\n",
        "import pandas as pd\n",
        "pd.options.display.max_rows = 1000\n",
        "from sklearn.pipeline import Pipeline\n",
        "from sklearn.ensemble import RandomForestClassifier\n",
        "\n",
        "import imblearn\n",
        "\n",
        "\n",
        "import matplotlib as m\n",
        "import matplotlib.pyplot as plt\n",
        "from sklearn.metrics import plot_confusion_matrix\n",
        "\n",
        "%matplotlib inline\n",
        "\n",
        "from sklearn.feature_extraction.text import CountVectorizer\n",
        "from sklearn.feature_extraction.text import TfidfVectorizer\n",
        "from sklearn.feature_extraction.text import TfidfTransformer\n",
        "\n",
        "\n",
        "from time import time\n",
        "from joblib import dump, load\n",
        "\n",
        "#import logging\n",
        "\n",
        "\n",
        "from sklearn.feature_extraction.text import TfidfVectorizer\n",
        "from sklearn.feature_extraction.text import TfidfTransformer\n",
        "from sklearn.linear_model import SGDClassifier\n",
        "from sklearn.model_selection import GridSearchCV\n",
        "from sklearn.pipeline import Pipeline\n",
        "from sklearn.model_selection import train_test_split\n",
        "from imblearn.over_sampling import RandomOverSampler\n",
        "from sklearn.metrics import f1_score \n",
        "from sklearn import metrics\n",
        "\n",
        "\n",
        "import nltk\n",
        "nltk.download('stopwords')\n",
        "stopwords = nltk.corpus.stopwords.words('portuguese')\n"
      ],
      "metadata": {
        "id": "9DiJcAnAZPJm",
        "colab": {
          "base_uri": "https://localhost:8080/"
        },
        "outputId": "4f5384e0-cbb6-49e5-8b10-69ac1576b288"
      },
      "execution_count": 2,
      "outputs": [
        {
          "output_type": "stream",
          "name": "stdout",
          "text": [
            "[nltk_data] Downloading package stopwords to /root/nltk_data...\n",
            "[nltk_data]   Unzipping corpora/stopwords.zip.\n"
          ]
        }
      ]
    },
    {
      "cell_type": "markdown",
      "source": [
        "### **Montar Drive**"
      ],
      "metadata": {
        "id": "mw1WxlZoWcRW"
      }
    },
    {
      "cell_type": "code",
      "source": [
        "# mostrar o diretório atual (current folder)\n",
        "%pwd"
      ],
      "metadata": {
        "id": "RkOkb1I2Wb__",
        "colab": {
          "base_uri": "https://localhost:8080/",
          "height": 35
        },
        "outputId": "1fcd552c-19be-44d0-93a6-bc303d174342"
      },
      "execution_count": 3,
      "outputs": [
        {
          "output_type": "execute_result",
          "data": {
            "application/vnd.google.colaboratory.intrinsic+json": {
              "type": "string"
            },
            "text/plain": [
              "'/content'"
            ]
          },
          "metadata": {},
          "execution_count": 3
        }
      ]
    },
    {
      "cell_type": "code",
      "source": [
        "from google.colab import drive\n",
        "drive.mount('/content/drive')"
      ],
      "metadata": {
        "id": "1c7podr8U2nO",
        "colab": {
          "base_uri": "https://localhost:8080/"
        },
        "outputId": "11a51628-3391-4a9e-85cc-5673ac782e73"
      },
      "execution_count": 4,
      "outputs": [
        {
          "output_type": "stream",
          "name": "stdout",
          "text": [
            "Mounted at /content/drive\n"
          ]
        }
      ]
    },
    {
      "cell_type": "code",
      "source": [
        "# mudar o diretório ou pasta (folder) para o local que contém os arquivos de dados\n",
        "%cd /content/drive/MyDrive/Colab Notebooks/bootcamp/ProjetoTCU/dados"
      ],
      "metadata": {
        "id": "fydJvRTJU0h-",
        "colab": {
          "base_uri": "https://localhost:8080/"
        },
        "outputId": "1c409d53-2a05-4926-914f-74a3f7ddff9d"
      },
      "execution_count": 5,
      "outputs": [
        {
          "output_type": "stream",
          "name": "stdout",
          "text": [
            "/content/drive/MyDrive/Colab Notebooks/bootcamp/ProjetoTCU/dados\n"
          ]
        }
      ]
    },
    {
      "cell_type": "markdown",
      "source": [
        "### **Importar os dados e criar o DataFrame**\n",
        "\n",
        "\n",
        "\n"
      ],
      "metadata": {
        "id": "rcTALWtZ-J1I"
      }
    },
    {
      "cell_type": "code",
      "source": [
        "%ll"
      ],
      "metadata": {
        "id": "wKDTLUMK-T1k",
        "colab": {
          "base_uri": "https://localhost:8080/"
        },
        "outputId": "0310ad3a-3b88-461b-878c-03bf93b7b585"
      },
      "execution_count": 6,
      "outputs": [
        {
          "output_type": "stream",
          "name": "stdout",
          "text": [
            "total 96065\n",
            "-rw------- 1 root   360960 Dec  2 21:00  Competencia_do_TCU_657.xls\n",
            "-rw------- 1 root   581632 Dec  2 21:01  Contrato_Administrativo_1026.xls\n",
            "-rw------- 1 root   428544 Dec  2 21:03  Convenio_760.xls\n",
            "-rw------- 1 root   104960 Dec  2 21:05  Desestatizacao_147.xls\n",
            "-rw------- 1 root  1077760 Dec  2 21:18 'Direito Processual_2164.xls'\n",
            "-rw------- 1 root   295424 Dec  2 21:19  Financas_Publicas_418.xls\n",
            "-rw------- 1 root   231936 Dec  2 21:23  GestaoAdministrativa_371.xls\n",
            "-rw------- 1 root  1640448 Dec  2 22:23  Licitacao_3002.xls\n",
            "-rw------- 1 root   942301 Dec 14 19:10  modelo_tf-idf_sklearn_tcu_jurisprudencia1.pkl\n",
            "-rw------- 1 root   866293 Dec 14 19:10  modelo_tf-idf_sklearn_tcu_jurisprudencia2.pkl\n",
            "-rw------- 1 root 84534248 Dec 14 19:10  modelo_tf-idf_sklearn_tcu_jurisprudencia3.pkl\n",
            "-rw------- 1 root  3785997 Dec  7 05:21  modelo_tf-idf_sklearn_tcu_jurisprudencia.pkl\n",
            "-rw------- 1 root  2129408 Dec  2 22:24  Pessoal_3989.xls\n",
            "-rw------- 1 root  1390080 Dec  2 22:24  Responsabilidade_2757.xls\n"
          ]
        }
      ]
    },
    {
      "cell_type": "code",
      "source": [
        "path = os.getcwd()\n",
        "files = os.listdir(path)\n",
        "files_xls = [f for f in files if f[-3:] == 'xls']\n",
        "df = pd.DataFrame()\n",
        "for f in files_xls: \n",
        "    data = pd.read_excel(f, 'Relatorio')\n",
        "    df = df.append(data) "
      ],
      "metadata": {
        "id": "lR5POi5eZnwt"
      },
      "execution_count": 7,
      "outputs": []
    },
    {
      "cell_type": "code",
      "source": [
        "df = df.reset_index(drop=True)"
      ],
      "metadata": {
        "id": "XTsp_6JZ96QR"
      },
      "execution_count": 8,
      "outputs": []
    },
    {
      "cell_type": "markdown",
      "source": [
        "### **Análise Exploratória dos Dados**"
      ],
      "metadata": {
        "id": "obLBmtSJaIIG"
      }
    },
    {
      "cell_type": "code",
      "source": [
        "# Colunas do DataFrame \n",
        "df.columns"
      ],
      "metadata": {
        "id": "It-W6HyZaSZ3",
        "colab": {
          "base_uri": "https://localhost:8080/"
        },
        "outputId": "1d9e5d38-61cf-4922-a70d-02308b55f08e"
      },
      "execution_count": 9,
      "outputs": [
        {
          "output_type": "execute_result",
          "data": {
            "text/plain": [
              "Index([' Enunciado ', ' Área ', ' Tema ', ' Subtema ', ' Data', ' Acórdão ',\n",
              "       ' Autor da tese ', ' Legislação ', ' Outros indexadores ',\n",
              "       ' Tipo do processo '],\n",
              "      dtype='object')"
            ]
          },
          "metadata": {},
          "execution_count": 9
        }
      ]
    },
    {
      "cell_type": "code",
      "source": [
        "#Dimensões do DataFrame\n",
        "df.shape\n"
      ],
      "metadata": {
        "id": "aXScqVQCaZU-",
        "colab": {
          "base_uri": "https://localhost:8080/"
        },
        "outputId": "f03a0513-ccb3-46d1-8791-2da568bbb011"
      },
      "execution_count": 10,
      "outputs": [
        {
          "output_type": "execute_result",
          "data": {
            "text/plain": [
              "(15291, 10)"
            ]
          },
          "metadata": {},
          "execution_count": 10
        }
      ]
    },
    {
      "cell_type": "code",
      "source": [
        "# Mostrar as cinco primeiras amostras\n",
        "df.head()"
      ],
      "metadata": {
        "id": "IrOTK2RoaQfv",
        "colab": {
          "base_uri": "https://localhost:8080/",
          "height": 414
        },
        "outputId": "4dc351cf-4018-44e5-fad7-f20e8ecdb25e"
      },
      "execution_count": 11,
      "outputs": [
        {
          "output_type": "execute_result",
          "data": {
            "text/html": [
              "<div>\n",
              "<style scoped>\n",
              "    .dataframe tbody tr th:only-of-type {\n",
              "        vertical-align: middle;\n",
              "    }\n",
              "\n",
              "    .dataframe tbody tr th {\n",
              "        vertical-align: top;\n",
              "    }\n",
              "\n",
              "    .dataframe thead th {\n",
              "        text-align: right;\n",
              "    }\n",
              "</style>\n",
              "<table border=\"1\" class=\"dataframe\">\n",
              "  <thead>\n",
              "    <tr style=\"text-align: right;\">\n",
              "      <th></th>\n",
              "      <th>Enunciado</th>\n",
              "      <th>Área</th>\n",
              "      <th>Tema</th>\n",
              "      <th>Subtema</th>\n",
              "      <th>Data</th>\n",
              "      <th>Acórdão</th>\n",
              "      <th>Autor da tese</th>\n",
              "      <th>Legislação</th>\n",
              "      <th>Outros indexadores</th>\n",
              "      <th>Tipo do processo</th>\n",
              "    </tr>\n",
              "  </thead>\n",
              "  <tbody>\n",
              "    <tr>\n",
              "      <th>0</th>\n",
              "      <td>&lt;b&gt;SÚMULA TCU 88 (REVOGADA) :&lt;/b&gt; &lt;s&gt;Não é da ...</td>\n",
              "      <td>Competência do TCU</td>\n",
              "      <td>Convênio</td>\n",
              "      <td>Abrangência</td>\n",
              "      <td>19/02/2020</td>\n",
              "      <td>AC-0358/20-P</td>\n",
              "      <td>RAIMUNDO CARREIRO</td>\n",
              "      <td>NaN</td>\n",
              "      <td>Súmula, Fundo de participação, Garantia, Opera...</td>\n",
              "      <td>ADMINISTRATIVO</td>\n",
              "    </tr>\n",
              "    <tr>\n",
              "      <th>1</th>\n",
              "      <td>&lt;b&gt;SÚMULA TCU 62 (REVOGADA) :&lt;/b&gt; &lt;s&gt;Ao examin...</td>\n",
              "      <td>Competência do TCU</td>\n",
              "      <td>Fundos</td>\n",
              "      <td>Transferências constitucionais e legais</td>\n",
              "      <td>19/02/2020</td>\n",
              "      <td>AC-0358/20-P</td>\n",
              "      <td>RAIMUNDO CARREIRO</td>\n",
              "      <td>NaN</td>\n",
              "      <td>Súmula, Fundo de participação, Educação, Salár...</td>\n",
              "      <td>ADMINISTRATIVO</td>\n",
              "    </tr>\n",
              "    <tr>\n",
              "      <th>2</th>\n",
              "      <td>SÚMULA TCU 8: Compete ao Tribunal de Contas o ...</td>\n",
              "      <td>Competência do TCU</td>\n",
              "      <td>Administração federal</td>\n",
              "      <td>Abrangência</td>\n",
              "      <td>04/12/1973</td>\n",
              "      <td>NaN</td>\n",
              "      <td>OCTÁVIO GALLOTTI</td>\n",
              "      <td>NaN</td>\n",
              "      <td>Prestação de contas, Fundação pública, Súmula</td>\n",
              "      <td>NaN</td>\n",
              "    </tr>\n",
              "    <tr>\n",
              "      <th>3</th>\n",
              "      <td>SÚMULA TCU 156: A Lei nº 6.525, de 11/04/78, n...</td>\n",
              "      <td>Competência do TCU</td>\n",
              "      <td>Administração federal</td>\n",
              "      <td>Abrangência</td>\n",
              "      <td>11/12/1979</td>\n",
              "      <td>NaN</td>\n",
              "      <td>OCTÁVIO GALLOTTI</td>\n",
              "      <td>Lei Ordinária 6.525/1978 Congresso Nacional, L...</td>\n",
              "      <td>Entidade de direito privado, União Federal, Ac...</td>\n",
              "      <td>NaN</td>\n",
              "    </tr>\n",
              "    <tr>\n",
              "      <th>4</th>\n",
              "      <td>SÚMULA TCU 9: Está sujeito ao Tribunal de Cont...</td>\n",
              "      <td>Competência do TCU</td>\n",
              "      <td>Administração federal</td>\n",
              "      <td>Abrangência</td>\n",
              "      <td>04/12/1973</td>\n",
              "      <td>NaN</td>\n",
              "      <td>OCTÁVIO GALLOTTI</td>\n",
              "      <td>NaN</td>\n",
              "      <td>Julgamento de contas, Súmula, Concessão de ser...</td>\n",
              "      <td>NaN</td>\n",
              "    </tr>\n",
              "  </tbody>\n",
              "</table>\n",
              "</div>"
            ],
            "text/plain": [
              "                                          Enunciado   ...  Tipo do processo \n",
              "0  <b>SÚMULA TCU 88 (REVOGADA) :</b> <s>Não é da ...  ...     ADMINISTRATIVO\n",
              "1  <b>SÚMULA TCU 62 (REVOGADA) :</b> <s>Ao examin...  ...     ADMINISTRATIVO\n",
              "2  SÚMULA TCU 8: Compete ao Tribunal de Contas o ...  ...                NaN\n",
              "3  SÚMULA TCU 156: A Lei nº 6.525, de 11/04/78, n...  ...                NaN\n",
              "4  SÚMULA TCU 9: Está sujeito ao Tribunal de Cont...  ...                NaN\n",
              "\n",
              "[5 rows x 10 columns]"
            ]
          },
          "metadata": {},
          "execution_count": 11
        }
      ]
    },
    {
      "cell_type": "code",
      "source": [
        "#\n",
        "df.describe()"
      ],
      "metadata": {
        "id": "09CU8hsDarGk",
        "colab": {
          "base_uri": "https://localhost:8080/",
          "height": 210
        },
        "outputId": "1310b275-b5a4-4e58-9486-b335c550ad05"
      },
      "execution_count": 12,
      "outputs": [
        {
          "output_type": "execute_result",
          "data": {
            "text/html": [
              "<div>\n",
              "<style scoped>\n",
              "    .dataframe tbody tr th:only-of-type {\n",
              "        vertical-align: middle;\n",
              "    }\n",
              "\n",
              "    .dataframe tbody tr th {\n",
              "        vertical-align: top;\n",
              "    }\n",
              "\n",
              "    .dataframe thead th {\n",
              "        text-align: right;\n",
              "    }\n",
              "</style>\n",
              "<table border=\"1\" class=\"dataframe\">\n",
              "  <thead>\n",
              "    <tr style=\"text-align: right;\">\n",
              "      <th></th>\n",
              "      <th>Enunciado</th>\n",
              "      <th>Área</th>\n",
              "      <th>Tema</th>\n",
              "      <th>Subtema</th>\n",
              "      <th>Data</th>\n",
              "      <th>Acórdão</th>\n",
              "      <th>Autor da tese</th>\n",
              "      <th>Legislação</th>\n",
              "      <th>Outros indexadores</th>\n",
              "      <th>Tipo do processo</th>\n",
              "    </tr>\n",
              "  </thead>\n",
              "  <tbody>\n",
              "    <tr>\n",
              "      <th>count</th>\n",
              "      <td>15291</td>\n",
              "      <td>15291</td>\n",
              "      <td>15291</td>\n",
              "      <td>15291</td>\n",
              "      <td>15291</td>\n",
              "      <td>15064</td>\n",
              "      <td>15291</td>\n",
              "      <td>5958</td>\n",
              "      <td>15095</td>\n",
              "      <td>15064</td>\n",
              "    </tr>\n",
              "    <tr>\n",
              "      <th>unique</th>\n",
              "      <td>14367</td>\n",
              "      <td>10</td>\n",
              "      <td>395</td>\n",
              "      <td>835</td>\n",
              "      <td>1568</td>\n",
              "      <td>12194</td>\n",
              "      <td>25</td>\n",
              "      <td>3373</td>\n",
              "      <td>10473</td>\n",
              "      <td>33</td>\n",
              "    </tr>\n",
              "    <tr>\n",
              "      <th>top</th>\n",
              "      <td>Permanecem válidas as regras para aposentadori...</td>\n",
              "      <td>Pessoal</td>\n",
              "      <td>Convênio</td>\n",
              "      <td>Requisito</td>\n",
              "      <td>26/10/1982</td>\n",
              "      <td>AC-0358/20-P</td>\n",
              "      <td>BENJAMIN ZYMLER</td>\n",
              "      <td>Lei Ordinária 8.443/1992 Art. 46 Congresso Nac...</td>\n",
              "      <td>Requisito</td>\n",
              "      <td>TOMADA DE CONTAS ESPECIAL</td>\n",
              "    </tr>\n",
              "    <tr>\n",
              "      <th>freq</th>\n",
              "      <td>13</td>\n",
              "      <td>3989</td>\n",
              "      <td>717</td>\n",
              "      <td>505</td>\n",
              "      <td>54</td>\n",
              "      <td>16</td>\n",
              "      <td>1840</td>\n",
              "      <td>95</td>\n",
              "      <td>165</td>\n",
              "      <td>4002</td>\n",
              "    </tr>\n",
              "  </tbody>\n",
              "</table>\n",
              "</div>"
            ],
            "text/plain": [
              "                                               Enunciado   ...          Tipo do processo \n",
              "count                                               15291  ...                      15064\n",
              "unique                                              14367  ...                         33\n",
              "top     Permanecem válidas as regras para aposentadori...  ...  TOMADA DE CONTAS ESPECIAL\n",
              "freq                                                   13  ...                       4002\n",
              "\n",
              "[4 rows x 10 columns]"
            ]
          },
          "metadata": {},
          "execution_count": 12
        }
      ]
    },
    {
      "cell_type": "code",
      "source": [
        "#Verificar se há dados nulos\n",
        "df.isnull().sum()"
      ],
      "metadata": {
        "id": "FZc4MKtnawGE",
        "colab": {
          "base_uri": "https://localhost:8080/"
        },
        "outputId": "99f1aed7-fb66-4976-9a06-43a3e71e1774"
      },
      "execution_count": 13,
      "outputs": [
        {
          "output_type": "execute_result",
          "data": {
            "text/plain": [
              " Enunciado                 0\n",
              " Área                      0\n",
              " Tema                      0\n",
              " Subtema                   0\n",
              " Data                      0\n",
              " Acórdão                 227\n",
              " Autor da tese             0\n",
              " Legislação             9333\n",
              " Outros indexadores      196\n",
              " Tipo do processo        227\n",
              "dtype: int64"
            ]
          },
          "metadata": {},
          "execution_count": 13
        }
      ]
    },
    {
      "cell_type": "code",
      "source": [
        "#Plotar matriz de dados faltantes\n",
        "import missingno as msno\n",
        "msno.matrix(df)"
      ],
      "metadata": {
        "id": "hG3nfj7ybJcu",
        "colab": {
          "base_uri": "https://localhost:8080/",
          "height": 620
        },
        "outputId": "52f0a0e7-c581-4a3e-a9e7-c98c05bc7b09"
      },
      "execution_count": 14,
      "outputs": [
        {
          "output_type": "execute_result",
          "data": {
            "text/plain": [
              "<matplotlib.axes._subplots.AxesSubplot at 0x7eff5cf8a8d0>"
            ]
          },
          "metadata": {},
          "execution_count": 14
        },
        {
          "output_type": "display_data",
          "data": {
            "image/png": "[encoded data removed]",
            "text/plain": [
              "<Figure size 1800x720 with 2 Axes>"
            ]
          },
          "metadata": {
            "needs_background": "light"
          }
        }
      ]
    },
    {
      "cell_type": "code",
      "source": [
        "# Verificar percentil de dados faltantes\n",
        "tm = len(df)\n",
        "for cl in df.columns:\n",
        "    lista = list(df[cl].unique())\n",
        "    qtnull = df[cl].isnull().sum()\n",
        "    print(cl,'%', round((qtnull / tm) * 100))\n"
      ],
      "metadata": {
        "id": "w66ZfFLhbTiu",
        "colab": {
          "base_uri": "https://localhost:8080/"
        },
        "outputId": "b99da2cc-58a9-45ee-f08e-18857c43c74a"
      },
      "execution_count": 15,
      "outputs": [
        {
          "output_type": "stream",
          "name": "stdout",
          "text": [
            " Enunciado  % 0\n",
            " Área  % 0\n",
            " Tema  % 0\n",
            " Subtema  % 0\n",
            " Data % 0\n",
            " Acórdão  % 1\n",
            " Autor da tese  % 0\n",
            " Legislação  % 61\n",
            " Outros indexadores  % 1\n",
            " Tipo do processo  % 1\n"
          ]
        }
      ]
    },
    {
      "cell_type": "code",
      "source": [
        "# Verificar as informações gerais do dataset\n",
        "df.info()"
      ],
      "metadata": {
        "id": "2LpJgq2fbZHO",
        "colab": {
          "base_uri": "https://localhost:8080/"
        },
        "outputId": "2ae10eb2-71ae-411b-dd34-f2fdcbfe5571"
      },
      "execution_count": 16,
      "outputs": [
        {
          "output_type": "stream",
          "name": "stdout",
          "text": [
            "<class 'pandas.core.frame.DataFrame'>\n",
            "RangeIndex: 15291 entries, 0 to 15290\n",
            "Data columns (total 10 columns):\n",
            " #   Column                Non-Null Count  Dtype \n",
            "---  ------                --------------  ----- \n",
            " 0    Enunciado            15291 non-null  object\n",
            " 1    Área                 15291 non-null  object\n",
            " 2    Tema                 15291 non-null  object\n",
            " 3    Subtema              15291 non-null  object\n",
            " 4    Data                 15291 non-null  object\n",
            " 5    Acórdão              15064 non-null  object\n",
            " 6    Autor da tese        15291 non-null  object\n",
            " 7    Legislação           5958 non-null   object\n",
            " 8    Outros indexadores   15095 non-null  object\n",
            " 9    Tipo do processo     15064 non-null  object\n",
            "dtypes: object(10)\n",
            "memory usage: 1.2+ MB\n"
          ]
        }
      ]
    },
    {
      "cell_type": "code",
      "source": [
        "# Valores únicos por coluna do DataFrame\n",
        "df.nunique()"
      ],
      "metadata": {
        "id": "IXtT456dbciU",
        "colab": {
          "base_uri": "https://localhost:8080/"
        },
        "outputId": "9cc0f560-6584-40cb-9672-4010c95ff63f"
      },
      "execution_count": 17,
      "outputs": [
        {
          "output_type": "execute_result",
          "data": {
            "text/plain": [
              " Enunciado              14367\n",
              " Área                      10\n",
              " Tema                     395\n",
              " Subtema                  835\n",
              " Data                    1568\n",
              " Acórdão                12194\n",
              " Autor da tese             25\n",
              " Legislação              3373\n",
              " Outros indexadores     10473\n",
              " Tipo do processo          33\n",
              "dtype: int64"
            ]
          },
          "metadata": {},
          "execution_count": 17
        }
      ]
    },
    {
      "cell_type": "code",
      "source": [
        "# Quantidade de registros (linhas) para cada 'Área'\n",
        "df[' Área '].value_counts()"
      ],
      "metadata": {
        "id": "8CGs3iQEbybl",
        "colab": {
          "base_uri": "https://localhost:8080/"
        },
        "outputId": "c23d5e88-c95c-49c5-ebed-9730047e6204"
      },
      "execution_count": 18,
      "outputs": [
        {
          "output_type": "execute_result",
          "data": {
            "text/plain": [
              "Pessoal                    3989\n",
              "Licitação                  3002\n",
              "Responsabilidade           2757\n",
              "Direito Processual         2164\n",
              "Contrato Administrativo    1026\n",
              "Convênio                    760\n",
              "Competência do TCU          657\n",
              "Finanças Públicas           418\n",
              "Gestão Administrativa       371\n",
              "Desestatização              147\n",
              "Name:  Área , dtype: int64"
            ]
          },
          "metadata": {},
          "execution_count": 18
        }
      ]
    },
    {
      "cell_type": "code",
      "source": [
        "# Verificar a quantidade de temas por área\n",
        "df.groupby([' Tema ', ' Área '])[' Área '].count()"
      ],
      "metadata": {
        "id": "nfhEzu_icH5d",
        "colab": {
          "base_uri": "https://localhost:8080/"
        },
        "outputId": "1def5331-d612-45cc-e12e-9445ff76f5e4"
      },
      "execution_count": 19,
      "outputs": [
        {
          "output_type": "execute_result",
          "data": {
            "text/plain": [
              " Tema                                                         Área                  \n",
              "AGU                                                          Gestão Administrativa        6\n",
              "ANA                                                          Gestão Administrativa        1\n",
              "ANATEL                                                       Gestão Administrativa        2\n",
              "ANEEL                                                        Gestão Administrativa        2\n",
              "ANS                                                          Gestão Administrativa        1\n",
              "Abandono de cargo                                            Pessoal                      1\n",
              "Abono de permanência em serviço                              Pessoal                      7\n",
              "Acesso à informação                                          Competência do TCU          11\n",
              "                                                             Direito Processual          31\n",
              "Acordo de cooperação                                         Convênio                    28\n",
              "Acumulação de cargo público                                  Pessoal                    150\n",
              "Acumulação de pensões                                        Pessoal                     36\n",
              "Acórdão                                                      Direito Processual          19\n",
              "Adicional de insalubridade                                   Pessoal                      7\n",
              "Adicional de periculosidade                                  Pessoal                     10\n",
              "Adicional por tempo de serviço                               Pessoal                     95\n",
              "Aditivo                                                      Contrato Administrativo    138\n",
              "Adjudicação                                                  Licitação                    5\n",
              "Administração Pública                                        Finanças Públicas            1\n",
              "Administração contratada                                     Contrato Administrativo      5\n",
              "Administração federal                                        Competência do TCU          82\n",
              "                                                             Gestão Administrativa       30\n",
              "Administração pública                                        Finanças Públicas            1\n",
              "Admissibilidade                                              Direito Processual           1\n",
              "Admissão de pessoal                                          Pessoal                     99\n",
              "Aeroporto                                                    Desestatização               1\n",
              "Afastamento de pessoal                                       Pessoal                      4\n",
              "Afastamento de responsável                                   Responsabilidade             1\n",
              "Agente político                                              Responsabilidade            21\n",
              "Agente público                                               Responsabilidade            11\n",
              "Agravo                                                       Direito Processual          35\n",
              "Agricultura familiar                                         Gestão Administrativa        2\n",
              "Agência Nacional do Petróleo, Gás Natural e Biocombustíveis  Gestão Administrativa        3\n",
              "Agência Nacional do Petróleo, Gás Natural e Biocombustíves   Gestão Administrativa        1\n",
              "Agência reguladora                                           Competência do TCU          29\n",
              "                                                             Desestatização               1\n",
              "Alienação                                                    Licitação                    2\n",
              "Alimentação escolar                                          Gestão Administrativa        4\n",
              "Antaq                                                        Gestão Administrativa        1\n",
              "Anulação                                                     Contrato Administrativo      6\n",
              "Aposentadoria                                                Pessoal                    450\n",
              "Aposentadoria compulsória                                    Pessoal                      2\n",
              "Aposentadoria especial                                       Pessoal                    135\n",
              "Aposentadoria por invalidez                                  Pessoal                     93\n",
              "Aposentadoria proporcional                                   Pessoal                     83\n",
              "Arbitragem                                                   Contrato Administrativo      1\n",
              "Arrecadação da receita                                       Competência do TCU          13\n",
              "Arrendamento mercantil                                       Finanças Públicas            2\n",
              "Arresto                                                      Direito Processual          15\n",
              "Ascensão funcional                                           Pessoal                     14\n",
              "Assistência à saúde                                          Competência do TCU           2\n",
              "                                                             Contrato Administrativo      1\n",
              "Ato administrativo                                           Direito Processual           1\n",
              "                                                             Gestão Administrativa       11\n",
              "                                                             Licitação                    6\n",
              "                                                             Responsabilidade             6\n",
              "Ato sujeito a registro                                       Pessoal                    351\n",
              "                                                             Responsabilidade             6\n",
              "Audiência                                                    Direito Processual           6\n",
              "Audiência pública                                            Licitação                    8\n",
              "Auxílio-alimentação                                          Pessoal                      7\n",
              "Auxílio-funeral                                              Pessoal                      3\n",
              "Auxílio-invalidez                                            Pessoal                      1\n",
              "Auxílio-moradia                                              Pessoal                      2\n",
              "Auxílio-reclusão                                             Pessoal                      1\n",
              "Auxílio-saúde                                                Pessoal                      4\n",
              "Avaliação de desempenho                                      Pessoal                      1\n",
              "Ação de classe especial                                      Desestatização               2\n",
              "BDI                                                          Licitação                    1\n",
              "BNDES                                                        Finanças Públicas            2\n",
              "Balanço patrimonial                                          Finanças Públicas            1\n",
              "Banco do Brasil                                              Gestão Administrativa        2\n",
              "Bens e serviços de informática                               Contrato Administrativo      3\n",
              "                                                             Licitação                   67\n",
              "Bens imóveis                                                 Convênio                    19\n",
              "                                                             Gestão Administrativa        9\n",
              "Bolsa de estudo                                              Convênio                     3\n",
              "                                                             Pessoal                      2\n",
              "                                                             Responsabilidade            40\n",
              "CGU (2003-2016)                                              Competência do TCU           1\n",
              "                                                             Gestão Administrativa        4\n",
              "CNPq                                                         Gestão Administrativa        1\n",
              "Cadastramento                                                Licitação                    9\n",
              "Caixa Econômica Federal                                      Gestão Administrativa        6\n",
              "Cargo                                                        Pessoal                      1\n",
              "Cargo em comissão                                            Pessoal                     32\n",
              "Cargo público                                                Pessoal                     50\n",
              "Cessão de pessoal                                            Pessoal                     34\n",
              "Cessão de uso                                                Contrato Administrativo      1\n",
              "Cgu (2003-2016)                                              Gestão Administrativa        1\n",
              "Chamamento público                                           Competência do TCU           1\n",
              "Citação                                                      Direito Processual         103\n",
              "Cobrança executiva                                           Direito Processual          11\n",
              "Coisa julgada                                                Direito Processual          14\n",
              "Colaborador eventual                                         Pessoal                      1\n",
              "Combustível                                                  Licitação                    3\n",
              "Comissão de licitação                                        Licitação                    7\n",
              "Competitividade                                              Licitação                   48\n",
              "Competição esportiva                                         Gestão Administrativa        2\n",
              "Compra                                                       Licitação                    1\n",
              "Comunicação processual                                       Direito Processual          64\n",
              "Concedente                                                   Convênio                    44\n",
              "Concessionária                                               Finanças Públicas            1\n",
              "Concessão (Pessoal)                                          Pessoal                      4\n",
              "Concessão (pessoal)                                          Pessoal                      1\n",
              "Concessão de serviço público                                 Convênio                     4\n",
              "Concessão pública                                            Desestatização              79\n",
              "Concurso público                                             Competência do TCU           2\n",
              "                                                             Pessoal                     62\n",
              "Conselho de alimentação escolar                              Gestão Administrativa        1\n",
              "Conselho de fiscalização profissional                        Competência do TCU          20\n",
              "                                                             Convênio                     2\n",
              "                                                             Finanças Públicas            9\n",
              "                                                             Gestão Administrativa        6\n",
              "                                                             Licitação                    8\n",
              "                                                             Pessoal                     89\n",
              "Consulta                                                     Direito Processual          21\n",
              "                                                             Responsabilidade             2\n",
              "Consultoria                                                  Contrato Administrativo      2\n",
              "Consórcio                                                    Contrato Administrativo      1\n",
              "                                                             Licitação                   25\n",
              "Conta única                                                  Finanças Públicas           28\n",
              "Contabilização                                               Responsabilidade             2\n",
              "Contestação                                                  Direito Processual           2\n",
              "Contratado                                                   Contrato Administrativo      8\n",
              "Contratação direta                                           Licitação                   30\n",
              "Contrato administrativo                                      Competência do TCU          15\n",
              "                                                             Responsabilidade            90\n",
              "Contrato de repasse                                          Convênio                     1\n",
              "Contrato de trabalho                                         Contrato Administrativo      1\n",
              "Contrato verbal                                              Contrato Administrativo      1\n",
              "Contribuição sindical                                        Competência do TCU           9\n",
              "Controle de constitucionalidade                              Competência do TCU           9\n",
              "Controle interno (Administração Pública)                     Gestão Administrativa       43\n",
              "Controle interno (administração pública)                     Gestão Administrativa        1\n",
              "Convenente                                                   Convênio                    45\n",
              "Convite (Licitação)                                          Licitação                   20\n",
              "Convênio                                                     Competência do TCU          44\n",
              "                                                             Licitação                    2\n",
              "                                                             Responsabilidade           671\n",
              "Cooperativa                                                  Licitação                   14\n",
              "Crédito de instalação                                        Finanças Públicas           11\n",
              "Crédito orçamentário                                         Responsabilidade             1\n",
              "Culpa                                                        Responsabilidade            99\n",
              "Curso de pós-graduação                                       Pessoal                      1\n",
              "DNIT                                                         Gestão Administrativa        3\n",
              "Decadência                                                   Responsabilidade             8\n",
              "Declaração de bens e rendas                                  Pessoal                      6\n",
              "Declaração de inidoneidade                                   Competência do TCU           3\n",
              "                                                             Direito Processual           1\n",
              "                                                             Responsabilidade           174\n",
              "Delegação de competência                                     Responsabilidade            34\n",
              "Delegação de serviço público                                 Desestatização               7\n",
              "Denunciante                                                  Responsabilidade             1\n",
              "Denúncia                                                     Competência do TCU           3\n",
              "                                                             Direito Processual          13\n",
              "Desapropriação                                               Gestão Administrativa        5\n",
              "Descentralização de crédito                                  Finanças Públicas            3\n",
              "Desconsideração da personalidade jurídica                    Competência do TCU           4\n",
              "Desestatização                                               Competência do TCU          19\n",
              "Desistência                                                  Licitação                    3\n",
              "Despesa pública                                              Finanças Públicas           23\n",
              "Despesa sigilosa                                             Competência do TCU           1\n",
              "                                                             Finanças Públicas            1\n",
              "Determinação                                                 Competência do TCU          22\n",
              "                                                             Responsabilidade            41\n",
              "Direito autoral                                              Competência do TCU           1\n",
              "Direito de preferência                                       Licitação                   29\n",
              "Direitos                                                     Pessoal                      1\n",
              "Dispensa de licitação                                        Licitação                  179\n",
              "Diárias                                                      Pessoal                     57\n",
              "Documentação                                                 Licitação                   10\n",
              "Débito                                                       Gestão Administrativa        1\n",
              "                                                             Responsabilidade           424\n",
              "Déficit público                                              Finanças Públicas            1\n",
              "Dívida pública                                               Finanças Públicas            6\n",
              "Edital de licitação                                          Licitação                  137\n",
              "Embargos de declaração                                       Direito Processual         284\n",
              "Emenda parlamentar                                           Convênio                     7\n",
              "                                                             Finanças Públicas            3\n",
              "Emergência                                                   Contrato Administrativo     14\n",
              "Empregado público                                            Pessoal                      1\n",
              "Emprego público                                              Pessoal                      1\n",
              "Empreitada integral                                          Contrato Administrativo      1\n",
              "Empreitada por preço global                                  Contrato Administrativo      8\n",
              "Empreitada por preço unitário                                Contrato Administrativo      3\n",
              "Empresa estatal                                              Competência do TCU           5\n",
              "                                                             Gestão Administrativa        1\n",
              "                                                             Licitação                   38\n",
              "                                                             Pessoal                     18\n",
              "Empresa privada                                              Competência do TCU           7\n",
              "Empresa pública                                              Pessoal                      2\n",
              "Empresa público-privada                                      Gestão Administrativa        1\n",
              "Empresa supranacional                                        Competência do TCU           1\n",
              "Empréstimo                                                   Pessoal                      2\n",
              "Empréstimo externo                                           Competência do TCU          27\n",
              "Ente da Federação                                            Competência do TCU          12\n",
              "Entidade de direito privado                                  Responsabilidade            32\n",
              "Entidade de direito público                                  Responsabilidade             1\n",
              "Entidade fechada de autogestão                               Convênio                     9\n",
              "Entidade sem fins lucrativos                                 Convênio                     1\n",
              "Equilíbrio econômico-financeiro                              Contrato Administrativo     63\n",
              "Erro de procedimento                                         Direito Processual          15\n",
              "Escola pública                                               Gestão Administrativa        3\n",
              "Escola técnica                                               Gestão Administrativa        1\n",
              "Estagiário                                                   Pessoal                      1\n",
              "Estudo de viabilidade                                        Licitação                    7\n",
              "Execução                                                     Contrato Administrativo      1\n",
              "Execução de contrato                                         Contrato Administrativo     31\n",
              "Execução financeira                                          Convênio                   146\n",
              "                                                             Responsabilidade             1\n",
              "Execução física                                              Convênio                    25\n",
              "Execução orçamentária                                        Competência do TCU           1\n",
              "                                                             Finanças Públicas           25\n",
              "Exportação                                                   Finanças Públicas            1\n",
              "FAT                                                          Finanças Públicas            1\n",
              "FCDF                                                         Finanças Públicas            9\n",
              "FGTS                                                         Finanças Públicas            2\n",
              "FNDE                                                         Convênio                     1\n",
              "                                                             Gestão Administrativa        1\n",
              "FNE                                                          Gestão Administrativa        1\n",
              "Financiamento público                                        Convênio                     2\n",
              "Fiscalização                                                 Contrato Administrativo     38\n",
              "Formalização                                                 Convênio                    45\n",
              "                                                             Licitação                   15\n",
              "Formalização do contrato                                     Contrato Administrativo     79\n",
              "Fraude                                                       Licitação                   14\n",
              "Funasa                                                       Gestão Administrativa        1\n",
              "Fundação de apoio                                            Competência do TCU           1\n",
              "                                                             Convênio                    11\n",
              "Fundeb                                                       Finanças Públicas           20\n",
              "Fundo Nacional de Segurança Pública                          Finanças Públicas            1\n",
              "Fundo Penitenciário Nacional                                 Finanças Públicas            1\n",
              "Fundo constitucional                                         Finanças Públicas            1\n",
              "Fundo de Fiscalização das Telecomunicações                   Finanças Públicas            3\n",
              "Fundo do Exército                                            Finanças Públicas            1\n",
              "Fundos                                                       Competência do TCU          65\n",
              "Função de confiança                                          Pessoal                      4\n",
              "Fust                                                         Finanças Públicas            1\n",
              "Férias                                                       Pessoal                     21\n",
              "Férias especiais                                             Pessoal                      2\n",
              "Garantia contratual                                          Contrato Administrativo     17\n",
              "Governança de TI                                             Gestão Administrativa      150\n",
              "Gratificação Especial de Localidade                          Pessoal                      3\n",
              "Gratificação por Encargo de Curso ou Concurso                Finanças Públicas            1\n",
              "                                                             Pessoal                      2\n",
              "Habilitação de licitante                                     Licitação                  157\n",
              "Habilitação jurídica                                         Licitação                    8\n",
              "INCRA                                                        Gestão Administrativa        3\n",
              "Inabilitação de responsável                                  Responsabilidade            70\n",
              "Incidente de uniformização de jurisprudência                 Direito Processual           3\n",
              "Indisponibilidade de bens                                    Competência do TCU           2\n",
              "                                                             Direito Processual          43\n",
              "Inexigibilidade de licitação                                 Licitação                  130\n",
              "Infração disciplinar                                         Pessoal                     10\n",
              "                                                             Responsabilidade             1\n",
              "Inimputabilidade                                             Responsabilidade             3\n",
              "Instituição federal de ensino superior                       Gestão Administrativa        1\n",
              "Instituição financeira                                       Competência do TCU           8\n",
              "                                                             Finanças Públicas            3\n",
              "Interesse público                                            Finanças Públicas            3\n",
              "Jornada de trabalho                                          Pessoal                     82\n",
              "Julgamento                                                   Direito Processual         141\n",
              "                                                             Licitação                   42\n",
              "Julgamento de contas                                         Direito Processual          38\n",
              "                                                             Responsabilidade            96\n",
              "Jurisprudência                                               Competência do TCU           1\n",
              "Legislação                                                   Convênio                     2\n",
              "Lei Agnelo/Piva                                              Convênio                     6\n",
              "Lei Rouanet                                                  Convênio                    10\n",
              "Licença para desempenho de mandato classista                 Pessoal                      1\n",
              "Licença para tratar de interesses particulares               Pessoal                      1\n",
              "Licença prêmio por assiduidade                               Pessoal                     12\n",
              "Licitação                                                    Competência do TCU          17\n",
              "                                                             Convênio                    38\n",
              "                                                             Desestatização              13\n",
              "                                                             Responsabilidade           208\n",
              "Licitação de técnica e preço                                 Licitação                   81\n",
              "Licitação internacional                                      Licitação                    4\n",
              "Liquidação da despesa                                        Contrato Administrativo     40\n",
              "Locação (Licitação)                                          Licitação                    6\n",
              "Locação de imóveis                                           Contrato Administrativo      3\n",
              "Margem de preferência                                        Licitação                    2\n",
              "Material de construção                                       Finanças Públicas            1\n",
              "Material de consumo                                          Finanças Públicas            1\n",
              "Medida cautelar                                              Direito Processual          55\n",
              "Meio ambiente                                                Gestão Administrativa       10\n",
              "Multa                                                        Direito Processual          17\n",
              "                                                             Responsabilidade           343\n",
              "Natureza jurídica                                            Responsabilidade            12\n",
              "Nepotismo                                                    Responsabilidade             3\n",
              "Nulidade                                                     Licitação                   20\n",
              "Obra pública                                                 Competência do TCU           3\n",
              "Obras e serviços de engenharia                               Contrato Administrativo    168\n",
              "                                                             Licitação                  217\n",
              "                                                             Responsabilidade            25\n",
              "Oitiva                                                       Direito Processual          13\n",
              "Operação de crédito                                          Competência do TCU          25\n",
              "                                                             Finanças Públicas            6\n",
              "                                                             Gestão Administrativa        1\n",
              "Ordenador de despesas                                        Responsabilidade            27\n",
              "Ordenação de despesa                                         Finanças Públicas           16\n",
              "Organização internacional                                    Licitação                    9\n",
              "                                                             Pessoal                      1\n",
              "Organização social                                           Convênio                    29\n",
              "                                                             Licitação                    2\n",
              "                                                             Responsabilidade             1\n",
              "Orçamento da União                                           Finanças Públicas           26\n",
              "Orçamento estimativo                                         Licitação                  188\n",
              "Oscip                                                        Convênio                    15\n",
              "                                                             Licitação                    4\n",
              "                                                             Responsabilidade             1\n",
              "PAC                                                          Gestão Administrativa        2\n",
              "PAS                                                          Gestão Administrativa        1\n",
              "Pagamento                                                    Contrato Administrativo      1\n",
              "Pagamento antecipado                                         Contrato Administrativo     30\n",
              "Pagamento indevido                                           Finanças Públicas            2\n",
              "Parcelamento do objeto                                       Licitação                   79\n",
              "Parceria público-privada                                     Desestatização               1\n",
              "Parecer                                                      Responsabilidade            27\n",
              "Parecer jurídico                                             Licitação                    6\n",
              "Parentesco                                                   Licitação                   19\n",
              "Parlamentar                                                  Contrato Administrativo      2\n",
              "                                                             Pessoal                     12\n",
              "Parte processual                                             Direito Processual          72\n",
              "Participação                                                 Licitação                   18\n",
              "Passivo trabalhista                                          Pessoal                      5\n",
              "Pena disciplinar                                             Pessoal                      1\n",
              "                                                             Responsabilidade             3\n",
              "Pensão                                                       Pessoal                     30\n",
              "Pensão civil                                                 Pessoal                    382\n",
              "Pensão especial                                              Pessoal                     22\n",
              "Pensão especial de ex-combatente                             Pessoal                     59\n",
              "Pensão militar                                               Pessoal                     51\n",
              "Pessoal                                                      Competência do TCU          58\n",
              "                                                             Responsabilidade             1\n",
              "Petrobras                                                    Desestatização               2\n",
              "Planejamento                                                 Licitação                   39\n",
              "Plano de carreira                                            Pessoal                      1\n",
              "Plano de saúde                                               Licitação                    4\n",
              "Plano de trabalho                                            Convênio                    36\n",
              "Pnae                                                         Finanças Públicas            3\n",
              "Poder discricionário                                         Gestão Administrativa        1\n",
              "Policial                                                     Pessoal                      1\n",
              "Políticas públicas                                           Competência do TCU           1\n",
              "Porto organizado                                             Desestatização              28\n",
              "                                                             Gestão Administrativa        1\n",
              "Porto seco                                                   Desestatização               1\n",
              "Prazo                                                        Direito Processual          54\n",
              "Pregão                                                       Licitação                  233\n",
              "Pregão eletrônico                                            Licitação                   21\n",
              "Prestação de contas                                          Contrato Administrativo      1\n",
              "                                                             Convênio                   152\n",
              "                                                             Direito Processual           1\n",
              "                                                             Responsabilidade            75\n",
              "Prestação de serviço                                         Contrato Administrativo      1\n",
              "                                                             Licitação                    1\n",
              "Pretensão executória                                         Competência do TCU           1\n",
              "Previdência complementar                                     Competência do TCU          15\n",
              "                                                             Finanças Públicas           13\n",
              "                                                             Gestão Administrativa        2\n",
              "                                                             Pessoal                     13\n",
              "Preço                                                        Contrato Administrativo      2\n",
              "Princípio da ampla defesa                                    Direito Processual         115\n",
              "Princípio da boa-fé                                          Responsabilidade            33\n",
              "Princípio da independência das instâncias                    Competência do TCU          44\n",
              "                                                             Direito Processual          60\n",
              "Princípio da presunção de veracidade                         Direito Processual           1\n",
              "Princípio da publicidade                                     Contrato Administrativo      9\n",
              "Princípio do formalismo moderado                             Direito Processual           1\n",
              "Procedimento de Manifestação de Interesse                    Desestatização               2\n",
              "Processo administrativo                                      Direito Processual           2\n",
              "Processo administrativo disciplinar                          Pessoal                      3\n",
              "                                                             Responsabilidade             1\n",
              "Processo de controle externo                                 Direito Processual          31\n",
              "Processo julgado por relação                                 Direito Processual           4\n",
              "Programa Bolsa Família                                       Gestão Administrativa        3\n",
              "Programa Minha Casa Minha Vida                               Gestão Administrativa        1\n",
              "Programação orçamentária                                     Finanças Públicas           11\n",
              "Progressão                                                   Pessoal                      4\n",
              "Projeto básico                                               Contrato Administrativo      9\n",
              "                                                             Licitação                   70\n",
              "Projeto de pesquisa                                          Responsabilidade            12\n",
              "Pronaf                                                       Finanças Públicas            3\n",
              "Propaganda e publicidade                                     Contrato Administrativo     21\n",
              "                                                             Licitação                    4\n",
              "Proposta                                                     Licitação                  160\n",
              "Prorrogação                                                  Contrato Administrativo      1\n",
              "Prorrogação de contrato                                      Contrato Administrativo     60\n",
              "Prova (Direito)                                              Direito Processual         201\n",
              "Provimento do cargo                                          Pessoal                     10\n",
              "Pré-qualificação                                             Licitação                    6\n",
              "Qualificação econômico-financeira                            Licitação                  102\n",
              "Qualificação técnica                                         Licitação                  338\n",
              "Quintos                                                      Pessoal                    235\n",
              "RDC                                                          Contrato Administrativo      3\n",
              "                                                             Licitação                   57\n",
              "Reajuste                                                     Contrato Administrativo     13\n",
              "Receita pública                                              Finanças Públicas           14\n",
              "Recomendação                                                 Competência do TCU           6\n",
              "                                                             Responsabilidade             2\n",
              "Recondução                                                   Pessoal                      3\n",
              "Recurso                                                      Direito Processual         201\n",
              "                                                             Licitação                    6\n",
              "Recurso de revisão                                           Direito Processual          89\n",
              "Reforma (Pessoal)                                            Pessoal                     25\n",
              "Reforma (pessoal)                                            Pessoal                      2\n",
              "Regime Próprio de Previdência Social                         Finanças Públicas           10\n",
              "Regime de dedicação exclusiva                                Pessoal                      6\n",
              "Regimento Interno                                            Direito Processual           1\n",
              "Registro de preços                                           Licitação                   95\n",
              "Regulamentação                                               Licitação                    4\n",
              "Relator                                                      Direito Processual          13\n",
              "Remoção de pessoal                                           Pessoal                     11\n",
              "Remuneração                                                  Pessoal                    358\n",
              "Renúncia de receita                                          Competência do TCU          17\n",
              "                                                             Finanças Públicas           13\n",
              "                                                             Gestão Administrativa        1\n",
              "Repactuação                                                  Contrato Administrativo     24\n",
              "Representação                                                Competência do TCU           6\n",
              "                                                             Direito Processual          44\n",
              "Rescisão amigável                                            Contrato Administrativo      6\n",
              "Rescisão unilateral                                          Contrato Administrativo      1\n",
              "Responsabilidade fiscal                                      Finanças Públicas           47\n",
              "Ressarcimento administrativo                                 Pessoal                    109\n",
              "Restos a pagar                                               Finanças Públicas           10\n",
              "Revelia                                                      Direito Processual          54\n",
              "Revisão de ofício                                            Direito Processual           2\n",
              "                                                             Pessoal                      4\n",
              "Rodovia                                                      Desestatização               9\n",
              "SUS                                                          Competência do TCU          29\n",
              "                                                             Convênio                    16\n",
              "                                                             Finanças Públicas           22\n",
              "                                                             Gestão Administrativa        7\n",
              "                                                             Responsabilidade            62\n",
              "Sanção administrativa                                        Contrato Administrativo      7\n",
              "                                                             Licitação                   31\n",
              "Secretaria do Tesouro Nacional                               Gestão Administrativa        1\n",
              "Seguro                                                       Contrato Administrativo      2\n",
              "Servidor público                                             Convênio                     1\n",
              "                                                             Pessoal                      6\n",
              "Serviço de alimentação                                       Licitação                   12\n",
              "Serviço lotérico                                             Desestatização               1\n",
              "Serviço militar obrigatório                                  Pessoal                      1\n",
              "Serviços                                                     Licitação                    1\n",
              "Serviços advocatícios                                        Contrato Administrativo      1\n",
              "                                                             Gestão Administrativa        9\n",
              "Serviços contínuos                                           Licitação                   32\n",
              "Siafi                                                        Finanças Públicas            3\n",
              "Sistema S                                                    Competência do TCU          10\n",
              "                                                             Convênio                    17\n",
              "                                                             Finanças Públicas            3\n",
              "                                                             Gestão Administrativa        8\n",
              "                                                             Licitação                   55\n",
              "                                                             Pessoal                     51\n",
              "                                                             Responsabilidade             7\n",
              "Sobrepreço                                                   Licitação                   11\n",
              "Sobrestamento de processo                                    Direito Processual          20\n",
              "Sociedade de economia mista                                  Gestão Administrativa        1\n",
              "Sociedade de propósito específico                            Competência do TCU           4\n",
              "Solicitação de informação                                    Direito Processual           2\n",
              "Solidariedade                                                Direito Processual           1\n",
              "                                                             Responsabilidade            64\n",
              "Sub-rogação                                                  Contrato Administrativo     19\n",
              "Subcontratação                                               Contrato Administrativo     27\n",
              "Subsídio                                                     Pessoal                     35\n",
              "Subvenção econômica                                          Convênio                     3\n",
              "Subvenção social                                             Convênio                     1\n",
              "Superfaturamento                                             Contrato Administrativo     75\n",
              "Suprimento de fundos                                         Finanças Públicas           30\n",
              "TCU                                                          Finanças Públicas            1\n",
              "                                                             Gestão Administrativa        2\n",
              "Taxa de administração                                        Contrato Administrativo      9\n",
              "Tecnologia da informação                                     Finanças Públicas            1\n",
              "Telebras                                                     Pessoal                      1\n",
              "Tempo de serviço                                             Pessoal                    365\n",
              "Terceirização                                                Contrato Administrativo     52\n",
              "                                                             Convênio                     5\n",
              "                                                             Gestão Administrativa        2\n",
              "                                                             Licitação                   38\n",
              "                                                             Pessoal                      8\n",
              "                                                             Responsabilidade             1\n",
              "Teto constitucional                                          Pessoal                     57\n",
              "Titulação acadêmica                                          Pessoal                      1\n",
              "Tomada de contas especial                                    Direito Processual         249\n",
              "                                                             Responsabilidade            13\n",
              "Trabalho temporário                                          Contrato Administrativo      1\n",
              "Transferência de pessoal                                     Pessoal                      1\n",
              "Transferência de recursos                                    Convênio                    35\n",
              "                                                             Finanças Públicas            4\n",
              "Transferências constitucionais e legais                      Finanças Públicas           12\n",
              "                                                             Gestão Administrativa        4\n",
              "Transporte escolar                                           Gestão Administrativa        1\n",
              "Transposição de regime jurídico                              Pessoal                     53\n",
              "Vacância do cargo                                            Pessoal                      2\n",
              "Veículo                                                      Licitação                    2\n",
              "Vigência                                                     Contrato Administrativo     15\n",
              "                                                             Convênio                     1\n",
              "Órgão de controle interno                                    Gestão Administrativa        1\n",
              "Name:  Área , dtype: int64"
            ]
          },
          "metadata": {},
          "execution_count": 19
        }
      ]
    },
    {
      "cell_type": "code",
      "source": [
        "# Verificar a quantidade de subtema por área\n",
        "\n",
        "df.groupby([' Subtema ', ' Área '])[' Área '].count()"
      ],
      "metadata": {
        "id": "-0HDY5p9cJJN",
        "colab": {
          "base_uri": "https://localhost:8080/"
        },
        "outputId": "49b8c130-eb23-42fc-cff3-8f08c513be60"
      },
      "execution_count": 20,
      "outputs": [
        {
          "output_type": "execute_result",
          "data": {
            "text/plain": [
              " Subtema          Área             \n",
              "AGU              Competência do TCU      4\n",
              "ANATEL           Pessoal                 1\n",
              "Abate-teto       Finanças Públicas       1\n",
              "Abrangência      Competência do TCU    302\n",
              "                 Direito Processual     78\n",
              "                                      ... \n",
              "Índice contábil  Licitação              27\n",
              "Órgão autônomo   Finanças Públicas       3\n",
              "Órgão público    Convênio                1\n",
              "Ônus da prova    Direito Processual     63\n",
              "                 Responsabilidade        6\n",
              "Name:  Área , Length: 1130, dtype: int64"
            ]
          },
          "metadata": {},
          "execution_count": 20
        }
      ]
    },
    {
      "cell_type": "code",
      "source": [
        "#Histograma das categorias encontradas na coluna 'área'\n",
        "#Indica a frequência (nº de registros) para cada categoria (cada valor único da coluna 'área')\n",
        "df[' Área '].value_counts().plot(kind='bar');"
      ],
      "metadata": {
        "id": "HDVSvr7DcXa9",
        "colab": {
          "base_uri": "https://localhost:8080/",
          "height": 375
        },
        "outputId": "1edff219-7a24-41fa-b698-f91dfc84b2ca"
      },
      "execution_count": 21,
      "outputs": [
        {
          "output_type": "display_data",
          "data": {
            "image/png": "[encoded data removed]",
            "text/plain": [
              "<Figure size 432x288 with 1 Axes>"
            ]
          },
          "metadata": {
            "needs_background": "light"
          }
        }
      ]
    },
    {
      "cell_type": "markdown",
      "source": [
        "# **Separação de Dados de Treino e Teste**\n",
        "\n",
        "\n",
        "\n",
        "\n"
      ],
      "metadata": {
        "id": "E7ToM7IWdm5d"
      }
    },
    {
      "cell_type": "code",
      "source": [
        "# Separa os dados de treino e teste (proporção 80/20)\n",
        "\n",
        "X_train, X_test, y_train, y_test = train_test_split(df.Enunciado, df.classe, test_size=0.2, \n",
        "                                                    stratify=df.classe,random_state=42)"
      ],
      "metadata": {
        "id": "2k1TJPW9eDJV"
      },
      "execution_count": 27,
      "outputs": []
    },
    {
      "cell_type": "code",
      "source": [
        "pd.Series(X_test.index).value_counts()"
      ],
      "metadata": {
        "id": "y7b_E2Wt9fcK",
        "colab": {
          "base_uri": "https://localhost:8080/"
        },
        "outputId": "f30b317b-0ea9-47d0-faaa-7442fa235c4b"
      },
      "execution_count": 28,
      "outputs": [
        {
          "output_type": "execute_result",
          "data": {
            "text/plain": [
              "6143     1\n",
              "2632     1\n",
              "13660    1\n",
              "7515     1\n",
              "13658    1\n",
              "        ..\n",
              "4767     1\n",
              "10910    1\n",
              "6812     1\n",
              "5797     1\n",
              "4096     1\n",
              "Length: 3059, dtype: int64"
            ]
          },
          "metadata": {},
          "execution_count": 28
        }
      ]
    },
    {
      "cell_type": "code",
      "source": [
        "pd.Series(df['Enunciado'].index).value_counts()"
      ],
      "metadata": {
        "id": "Zqf_7_lz9lEk",
        "colab": {
          "base_uri": "https://localhost:8080/"
        },
        "outputId": "f549bb9a-6065-46f3-824b-e81099717d9b"
      },
      "execution_count": 29,
      "outputs": [
        {
          "output_type": "execute_result",
          "data": {
            "text/plain": [
              "2047     1\n",
              "10864    1\n",
              "2692     1\n",
              "12931    1\n",
              "14978    1\n",
              "        ..\n",
              "9502     1\n",
              "13596    1\n",
              "3355     1\n",
              "1306     1\n",
              "0        1\n",
              "Length: 15291, dtype: int64"
            ]
          },
          "metadata": {},
          "execution_count": 29
        }
      ]
    },
    {
      "cell_type": "code",
      "source": [
        "X_train[:10], y_train[:10]"
      ],
      "metadata": {
        "id": "B5_ankJoeRFN",
        "colab": {
          "base_uri": "https://localhost:8080/"
        },
        "outputId": "4e628a7b-1171-4458-f9c4-c3f6884c7e53"
      },
      "execution_count": 30,
      "outputs": [
        {
          "output_type": "execute_result",
          "data": {
            "text/plain": [
              "(11935    A Administração deve adotar controles eficazes...\n",
              " 13936    A falta de obtenção do título de pós-graduação...\n",
              " 12124    É inconstitucional a criação de funções gratif...\n",
              " 12349    É possível a concessão simultânea de pensão à ...\n",
              " 5559     SÚMULA TCU 253: Comprovada a inviabilidade téc...\n",
              " 503      É competência constitucional do TCU aferir a i...\n",
              " 12352    Na hipótese de exíguo tempo de serviço faltant...\n",
              " 9238     A contratação de profissionais médicos ou dent...\n",
              " 13414    O município responde pela não aplicação de con...\n",
              " 2016     Os recursos provenientes das doações e patrocí...\n",
              " Name: Enunciado, dtype: object, 11935    8\n",
              " 13936    9\n",
              " 12124    8\n",
              " 12349    8\n",
              " 5559     7\n",
              " 503      0\n",
              " 12352    8\n",
              " 9238     8\n",
              " 13414    9\n",
              " 2016     2\n",
              " Name: classe, dtype: int8)"
            ]
          },
          "metadata": {},
          "execution_count": 30
        }
      ]
    },
    {
      "cell_type": "code",
      "source": [
        "# Confere a proporção das classes nos dados de treino e de teste\n",
        "print('TREINO : ',y_train.shape,'\\n', y_train.value_counts(normalize=True),'\\n')\n",
        "print('TESTE  : ',y_test.shape,'\\n', y_test.value_counts(normalize=True))"
      ],
      "metadata": {
        "id": "PWWfRJ4BeW_8",
        "colab": {
          "base_uri": "https://localhost:8080/"
        },
        "outputId": "5b4fd9fc-a54d-43a5-ce44-bc4097168b9b"
      },
      "execution_count": 31,
      "outputs": [
        {
          "output_type": "stream",
          "name": "stdout",
          "text": [
            "TREINO :  (12232,) \n",
            " 8    0.260873\n",
            "7    0.196288\n",
            "9    0.180265\n",
            "4    0.141514\n",
            "1    0.067119\n",
            "2    0.049706\n",
            "0    0.043002\n",
            "5    0.027305\n",
            "6    0.024281\n",
            "3    0.009647\n",
            "Name: classe, dtype: float64 \n",
            "\n",
            "TESTE  :  (3059,) \n",
            " 8    0.260870\n",
            "7    0.196469\n",
            "9    0.180451\n",
            "4    0.141550\n",
            "1    0.067015\n",
            "2    0.049689\n",
            "0    0.042824\n",
            "5    0.027460\n",
            "6    0.024191\n",
            "3    0.009480\n",
            "Name: classe, dtype: float64\n"
          ]
        }
      ]
    },
    {
      "cell_type": "markdown",
      "source": [
        "### Random Over Sampler (balanceamento da classe de treino)"
      ],
      "metadata": {
        "id": "0S-ndIQZAiYe"
      }
    },
    {
      "cell_type": "code",
      "source": [
        "ros = RandomOverSampler(random_state=0)\n",
        "X_train_balanced, y_train_balanced = ros.fit_resample(X_train.to_frame(), y_train)"
      ],
      "metadata": {
        "id": "qG0KWqMnAhre"
      },
      "execution_count": 32,
      "outputs": []
    },
    {
      "cell_type": "markdown",
      "source": [
        "# **Pré Processamento**"
      ],
      "metadata": {
        "id": "IFzfkgn4ce3l"
      }
    },
    {
      "cell_type": "code",
      "source": [
        "df[' Área '] = pd.Categorical(df[' Área '])\n",
        "\n",
        "df['classe'] = df[' Área '].cat.codes\n",
        "\n",
        "df.keys()"
      ],
      "metadata": {
        "id": "AbtKgEoKcrNa",
        "colab": {
          "base_uri": "https://localhost:8080/"
        },
        "outputId": "4791e988-c23b-4d69-e20b-674dc5d7f2b4"
      },
      "execution_count": 22,
      "outputs": [
        {
          "output_type": "execute_result",
          "data": {
            "text/plain": [
              "Index([' Enunciado ', ' Área ', ' Tema ', ' Subtema ', ' Data', ' Acórdão ',\n",
              "       ' Autor da tese ', ' Legislação ', ' Outros indexadores ',\n",
              "       ' Tipo do processo ', 'classe'],\n",
              "      dtype='object')"
            ]
          },
          "metadata": {},
          "execution_count": 22
        }
      ]
    },
    {
      "cell_type": "code",
      "source": [
        "#Histograma das categorias encontradas na coluna 'área'\n",
        "#Indica a frequência (nº de registros) para cada categoria (cada valor único da coluna 'área')\n",
        "df['classe'].value_counts().plot(kind='bar');"
      ],
      "metadata": {
        "id": "_EXAUsQ9c9CF",
        "colab": {
          "base_uri": "https://localhost:8080/",
          "height": 262
        },
        "outputId": "1ae11137-b0c2-40df-d896-3e0d905fb0bd"
      },
      "execution_count": 23,
      "outputs": [
        {
          "output_type": "display_data",
          "data": {
            "image/png": "[encoded data removed]",
            "text/plain": [
              "<Figure size 432x288 with 1 Axes>"
            ]
          },
          "metadata": {
            "needs_background": "light"
          }
        }
      ]
    },
    {
      "cell_type": "code",
      "source": [
        "df.columns = ['Enunciado', 'Area', 'Tema', 'Subtema', 'Data', 'Acordao',\n",
        "       'AutorTese', 'Legislacao', 'OutrosIndexadores',\n",
        "       'TipoProcesso', 'classe']"
      ],
      "metadata": {
        "id": "Gh2hR3A9_2a5"
      },
      "execution_count": 24,
      "outputs": []
    },
    {
      "cell_type": "code",
      "source": [
        "df.columns"
      ],
      "metadata": {
        "id": "kKZ7qBOQ_86i",
        "colab": {
          "base_uri": "https://localhost:8080/"
        },
        "outputId": "aff412f1-ee09-4fee-b2b7-792a4e04b129"
      },
      "execution_count": 25,
      "outputs": [
        {
          "output_type": "execute_result",
          "data": {
            "text/plain": [
              "Index(['Enunciado', 'Area', 'Tema', 'Subtema', 'Data', 'Acordao', 'AutorTese',\n",
              "       'Legislacao', 'OutrosIndexadores', 'TipoProcesso', 'classe'],\n",
              "      dtype='object')"
            ]
          },
          "metadata": {},
          "execution_count": 25
        }
      ]
    },
    {
      "cell_type": "code",
      "source": [
        "df.Enunciado"
      ],
      "metadata": {
        "id": "-oAryjWpATP4",
        "colab": {
          "base_uri": "https://localhost:8080/"
        },
        "outputId": "4af39338-aeac-4136-aac7-7a1c316cca91"
      },
      "execution_count": 26,
      "outputs": [
        {
          "output_type": "execute_result",
          "data": {
            "text/plain": [
              "0        <b>SÚMULA TCU 88 (REVOGADA) :</b> <s>Não é da ...\n",
              "1        <b>SÚMULA TCU 62 (REVOGADA) :</b> <s>Ao examin...\n",
              "2        SÚMULA TCU 8: Compete ao Tribunal de Contas o ...\n",
              "3        SÚMULA TCU 156: A Lei nº 6.525, de 11/04/78, n...\n",
              "4        SÚMULA TCU 9: Está sujeito ao Tribunal de Cont...\n",
              "                               ...                        \n",
              "15286    Não cabe a declaração de inidoneidade pelo TCU...\n",
              "15287    A emissão de parecer jurídico carente de funda...\n",
              "15288    Caso os ofícios citatórios não façam menção à ...\n",
              "15289    Não se pode atribuir responsabilidade a integr...\n",
              "15290    A sanção de declaração de inidoneidade para pa...\n",
              "Name: Enunciado, Length: 15291, dtype: object"
            ]
          },
          "metadata": {},
          "execution_count": 26
        }
      ]
    },
    {
      "cell_type": "markdown",
      "source": [
        "## Term Frequency – Inverse Document Frequency (TF-IDF)"
      ],
      "metadata": {
        "id": "qLnCWMNqe41N"
      }
    },
    {
      "cell_type": "markdown",
      "source": [
        "### Teste Retirando Stopwords e apenas 500 palavras em no máximo 70% dos documentos e mínimo de 3 documentos\n"
      ],
      "metadata": {
        "id": "8QcJMZmVBaeW"
      }
    },
    {
      "cell_type": "code",
      "source": [
        "# instancia o transform TfidfVectorizer sem stopwords\n",
        "regex =r'(?u)\\b[A-Za-z]+\\b'\n",
        "tfidf_vectorizer_no_stop_words = TfidfVectorizer(max_features=500, max_df=0.7, min_df=3, stop_words=stopwords)\n",
        "# tokeniza e cria o vocabulário\n",
        "tfidf_vectorizer_no_stop_words.fit(X_train)\n",
        "# mostra o vocabulário criado\n",
        "print('Vocabulário: ')\n",
        "print(tfidf_vectorizer_no_stop_words.vocabulary_)\n",
        "\n",
        "print('\\nPeso de cada palavra do vocabulário: ')\n",
        "print(tfidf_vectorizer_no_stop_words.idf_)"
      ],
      "metadata": {
        "id": "4xkVIIWVfCye",
        "colab": {
          "base_uri": "https://localhost:8080/"
        },
        "outputId": "2fd541fa-e133-491a-f4a5-f009bf9c6c4e"
      },
      "execution_count": 33,
      "outputs": [
        {
          "output_type": "stream",
          "name": "stdout",
          "text": [
            "Vocabulário: \n",
            "{'administração': 38, 'deve': 166, 'vistas': 495, 'evitar': 205, 'servidores': 448, 'cargo': 92, 'função': 234, 'confiança': 116, 'direta': 173, 'processo': 389, 'comissão': 102, 'autoridade': 74, 'legal': 286, 'falta': 217, 'título': 482, 'ausência': 73, 'defesa': 155, 'publicação': 404, 'dever': 169, 'erário': 199, 'valores': 488, 'recebidos': 418, 'conhecimento': 119, 'contribuição': 137, 'desenvolvimento': 162, 'funções': 235, 'meio': 304, 'ato': 70, 'administrativo': 36, 'possível': 368, 'concessão': 110, 'pensão': 354, 'ainda': 44, 'judicial': 278, 'união': 484, 'instituidor': 264, 'benefício': 82, 'situação': 454, 'ser': 445, 'outros': 343, 'elementos': 188, 'súmula': 462, 'tcu': 466, 'técnico': 480, 'econômica': 181, 'objeto': 330, 'licitação': 293, 'termos': 471, 'legislação': 288, 'itens': 276, 'natureza': 318, 'específica': 201, 'empresas': 193, 'percentual': 355, 'preço': 382, 'global': 241, 'obra': 331, 'devem': 167, 'incidência': 253, 'despesas': 163, 'relação': 430, 'demais': 157, 'competência': 105, 'constitucional': 121, 'pagamento': 344, 'hipótese': 246, 'tempo': 467, 'serviço': 449, 'aquisição': 63, 'direito': 172, 'aposentadoria': 58, 'atividade': 68, 'servidor': 447, 'período': 357, 'afronta': 42, 'apenas': 55, 'princípio': 384, 'profissional': 393, 'antes': 53, 'nova': 325, 'contratação': 132, 'profissionais': 392, 'prazo': 370, 'pode': 362, 'concurso': 111, 'público': 407, 'casos': 96, 'necessidade': 319, 'interesse': 269, 'processos': 390, 'município': 314, 'aplicação': 57, 'convênio': 141, 'recursos': 422, 'previstos': 380, 'lei': 289, 'conta': 124, 'beneficiário': 81, 'prestação': 375, 'contas': 126, 'municipal': 313, 'atos': 71, 'procedimentos': 388, 'irregulares': 273, 'sistema': 453, 'único': 499, 'saúde': 442, 'responsabilidade': 435, 'sobre': 457, 'face': 216, '1990': 5, 'critérios': 144, 'tais': 463, 'custos': 146, 'licitantes': 291, 'obrigação': 333, 'prestado': 373, 'cumprimento': 145, 'condenação': 112, 'débito': 178, 'caracteriza': 91, 'in': 252, 'todos': 472, 'mesma': 306, 'dívida': 179, 'arts': 65, 'civil': 101, 'além': 47, 'patrimônio': 352, 'empresa': 192, 'pessoa': 358, 'caso': 95, 'multa': 312, 'cabe': 87, 'sob': 456, 'pena': 353, 'vez': 492, 'outras': 341, 'licitações': 294, 'contrato': 134, 'parcela': 346, 'ano': 50, 'dessa': 164, 'cada': 89, 'conforme': 118, '12': 3, 'declaração': 151, 'inidoneidade': 263, 'art': 64, '443': 23, '1992': 7, 'finalidade': 224, 'certame': 99, 'razão': 415, 'maior': 298, 'vantagem': 489, 'irregularidade': 274, 'quais': 409, 'efeitos': 186, 'serviços': 450, 'contratada': 129, '20': 13, 'total': 474, 'técnica': 479, 'administrativa': 35, 'execução': 209, 'deliberação': 156, 'ministério': 308, '1º': 12, '3º': 21, 'propostas': 398, 'princípios': 385, 'somente': 459, 'responsável': 438, 'objetivo': 328, 'nacional': 317, 'exclusivamente': 208, 'havendo': 245, 'pagamentos': 345, 'decorrentes': 153, 'impede': 250, 'registro': 426, 'gestão': 240, 'públicos': 408, 'federais': 221, 'mediante': 301, 'prévia': 402, 'preços': 383, 'mercado': 305, 'celebração': 98, 'irregular': 272, 'exigência': 213, 'realização': 417, 'partir': 350, 'momento': 311, 'órgão': 497, 'competente': 104, 'boa': 85, 'fé': 236, 'devendo': 168, 'licitante': 290, 'possibilidade': 367, 'comprovar': 107, 'capacidade': 90, 'bem': 80, 'apresentação': 60, 'fraude': 231, 'enseja': 194, 'admite': 39, 'regime': 424, 'próprio': 403, 'previdência': 376, 'social': 458, 'ex': 206, 'empregados': 191, 'públicas': 406, 'prevista': 377, '1994': 9, 'pública': 405, 'comprovação': 108, 'documentação': 176, 'prova': 399, 'contagem': 125, 'percepção': 356, 'adicional': 34, 'jurídico': 283, 'outro': 342, 'militar': 307, 'desvio': 165, 'adoção': 40, 'atendimento': 67, 'caráter': 94, 'exemplo': 210, 'pessoal': 359, 'técnicos': 481, 'opção': 338, 'obras': 332, 'modo': 310, 'proposta': 397, 'contratações': 133, 'forma': 230, 'superior': 461, 'acordo': 31, 'trabalho': 475, 'configura': 117, 'norma': 323, 'efeito': 185, 'contra': 127, 'medidas': 303, 'pois': 366, 'medida': 302, 'apreciação': 59, 'irregularidades': 275, 'fiscal': 228, 'matéria': 300, 'tribunal': 478, 'recurso': 421, 'ente': 195, 'acórdão': 33, 'devida': 170, 'inciso': 254, 'ii': 247, '112': 2, 'proventos': 400, 'existência': 214, 'erro': 198, 'omissão': 337, 'junto': 281, 'interessado': 268, 'contudo': 139, 'alteração': 46, 'valor': 487, 'necessário': 321, 'requisitos': 433, '1993': 8, 'fundo': 233, 'revisão': 440, 'aplica': 56, 'decorrente': 152, 'acerca': 29, 'fiscalização': 229, 'atuação': 72, 'processual': 391, '58': 25, 'iv': 277, 'regimento': 425, 'interno': 270, 'constitui': 122, 'desde': 161, 'decisão': 150, 'constituição': 123, 'federal': 222, 'correspondente': 143, 'remuneração': 431, '2º': 19, 'dependência': 160, 'vigência': 493, 'edição': 184, '10': 0, '2001': 14, 'exigir': 212, 'fins': 227, 'habilitação': 244, 'transferidos': 476, 'ajuste': 45, 'ressarcimento': 439, 'sido': 452, 'documentos': 177, 'podem': 363, 'si': 451, 'uso': 485, 'repassados': 432, 'nexo': 322, 'contratos': 135, 'pregão': 371, 'bens': 84, 'oficial': 336, 'outra': 340, 'qualquer': 412, 'prejuízo': 372, 'ampla': 49, 'contraditório': 128, 'tal': 464, 'regra': 427, 'ações': 78, 'dano': 148, 'fato': 219, 'entidade': 196, 'privada': 386, '666': 27, 'observância': 334, '37': 20, 'projeto': 395, 'orçamento': 339, 'referência': 423, 'eventual': 204, 'contratual': 136, 'base': 79, 'após': 62, 'amparo': 48, 'utilização': 486, 'julgamento': 280, 'emenda': 190, '1998': 11, 'inclusão': 256, 'cálculo': 147, 'benefícios': 83, 'participação': 349, 'fundamento': 232, 'iii': 248, 'âmbito': 496, 'condição': 113, 'quanto': 413, 'demonstração': 159, 'devidamente': 171, 'atividades': 69, 'previsão': 381, 'edital': 183, 'sanção': 441, 'nº': 327, 'entidades': 197, '1997': 10, 'parágrafo': 351, 'indevida': 258, 'juízo': 284, 'exame': 207, 'mérito': 315, 'gestor': 239, 'ilegal': 249, 'recolhimento': 420, 'vedada': 491, 'fase': 218, 'invalidez': 271, 'prestar': 374, 'modalidade': 309, 'condições': 114, '1991': 6, 'suficiente': 460, 'vista': 494, 'praticados': 369, 'complementar': 106, 'jurídica': 282, 'poder': 365, 'novo': 326, '13': 4, 'embargos': 189, 'exercício': 211, 'ec': 180, 'administrativos': 37, 'mínimo': 316, 'grave': 243, 'limite': 295, 'disposto': 175, 'programa': 394, 'qualidade': 410, 'segurança': 443, 'regular': 428, 'sendo': 444, 'controle': 138, 'externo': 215, 'respectivo': 434, 'parte': 348, 'cargos': 93, 'tanto': 465, 'efetivo': 187, 'local': 297, 'fim': 223, 'conduta': 115, 'informações': 261, 'constitucionais': 120, 'tomada': 473, 'especial': 200, 'limites': 296, 'julgado': 279, 'acordao_decisao_tcu': 30, 'plenário': 361, 'órgãos': 498, 'incorporação': 257, 'parcelas': 347, 'data': 149, 'objetivos': 329, 'ter': 469, 'demonstrar': 158, 'implica': 251, 'estado': 202, 'assim': 66, 'contratado': 130, 'qualificação': 411, 'regularidade': 429, 'garantia': 237, 'previstas': 378, 'podendo': 364, 'prática': 401, '5º': 26, 'decreto': 154, '2005': 17, 'econômico': 182, 'financeira': 225, '40': 22, '6º': 28, '4º': 24, 'termo': 470, 'concedente': 109, 'convenente': 140, 'apuração': 61, 'análise': 54, 'responsabilização': 436, 'recebimento': 419, 'informação': 260, 'indevidamente': 259, 'ocorrência': 335, 'necessária': 320, 'básico': 86, 'agente': 43, 'anterior': 52, 'plano': 360, 'situações': 455, 'cabível': 88, 'causa': 97, 'instituição': 265, 'legalidade': 287, 'responsáveis': 437, 'projetos': 396, 'integral': 267, 'anos': 51, 'inicial': 262, 'contratante': 131, 'avaliação': 76, 'compete': 103, 'procedimento': 387, 'serem': 446, 'inclusive': 255, 'licitatório': 292, 'instrumento': 266, '11': 1, 'autos': 75, 'normas': 324, 'acumulação': 32, 'quintos': 414, 'dispensa': 174, 'legais': 285, 'convênios': 142, '24': 18, 'geral': 238, 'estar': 203, 'financeiro': 226, 'fatos': 220, 'citação': 100, '2003': 15, 'vantagens': 490, 'manutenção': 299, 'gratificação': 242, 'previsto': 379, '2004': 16, 'tendo': 468, 'transferência': 477, 'unitários': 483, 'realizadas': 416, 'ação': 77, 'afasta': 41}\n",
            "\n",
            "Peso de cada palavra do vocabulário: \n",
            "[4.50109585 4.97817049 4.3319593  4.66249951 5.14403434 4.28502331\n",
            " 5.7484534  4.24228176 3.63766861 5.52909057 5.4420792  4.93542895\n",
            " 4.19130233 5.0791737  5.40794619 5.47025007 5.65830231 5.52909057\n",
            " 5.47025007 4.27849445 5.12868877 4.42042795 5.21893565 4.30486961\n",
            " 5.29990471 5.39461266 5.12362547 3.72105022 5.50661772 5.43515875\n",
            " 5.96924124 5.17545053 5.18614582 4.69158072 5.34298829 4.8024207\n",
            " 5.12868877 5.49191157 3.0594514  5.2414085  5.00921512 5.45606544\n",
            " 5.44904787 4.98694248 4.0965345  5.20788581 5.32429616 5.2528372\n",
            " 5.33048813 4.92709556 5.50661772 4.91063429 5.06003436 4.74201157\n",
            " 5.15439713 4.04199151 5.26439802 3.49122099 3.72728077 5.21339547\n",
            " 4.44574576 5.47741856 4.36925966 5.11357513 2.41557527 4.91063429\n",
            " 5.06955825 5.35564669 4.46385751 4.86281641 3.94419377 4.1258944\n",
            " 5.4012572  4.35510848 5.33671868 4.85121087 5.26439802 5.41468022\n",
            " 5.54435805 4.05405023 4.48230335 5.23010895 4.71144892 5.34298829\n",
            " 4.70478223 4.89043158 5.20788581 4.46647189 5.17014548 4.8944396\n",
            " 5.22450669 5.28199378 4.10744369 4.64045137 4.48230335 3.5564837\n",
            " 4.64045137 5.43515875 5.02739743 4.46909312 5.13377784 4.45605513\n",
            " 4.85121087 5.24710652 5.47025007 4.58589239 5.06478497 5.36203649\n",
            " 4.12962575 5.21893565 3.8708625  5.32429616 5.23010895 4.7664456\n",
            " 4.61887889 5.21893565 5.49923761 4.89043158 5.18078388 5.32429616\n",
            " 5.41468022 4.67209958 4.83216267 3.95042432 5.12362547 5.0137298\n",
            " 3.32264934 5.42828588 5.11858767 4.65931986 5.01826495 5.26439802\n",
            " 3.78650013 5.02282077 3.92116896 4.42042795 5.01826495 5.61610195\n",
            " 4.44063066 5.43515875 5.15961907 4.04370531 5.21893565 5.47741856\n",
            " 5.13889294 4.87062895 4.88246341 4.91472427 4.56545372 4.29159508\n",
            " 4.00007423 4.44574576 4.78787499 5.1036248  4.44318494 4.60675753\n",
            " 5.26439802 5.28792852 5.4420792  5.47025007 5.55208009 4.14090407\n",
            " 5.49923761 4.42293108 5.23574276 5.46313261 2.77803894 3.61060946\n",
            " 4.57125084 5.06003436 5.27022894 4.94383236 3.91361035 4.98694248\n",
            " 5.20240634 4.80977368 5.49191157 4.80977368 3.88686284 5.49191157\n",
            " 5.52154337 4.94806069 5.38145458 4.69158072 5.39461266 5.14920231\n",
            " 5.08888252 4.88246341 4.96085404 5.00472073 5.64120787 5.55986223\n",
            " 4.05752246 4.42293108 5.47741856 5.02282077 4.1972844  4.45088716\n",
            " 5.4420792  4.25491351 4.18931623 5.19695674 5.47741856 5.20788581\n",
            " 4.83594339 5.48463881 5.47741856 5.3181423  5.2528372  3.75902947\n",
            " 5.35564669 3.98378722 5.23010895 4.33425025 4.63734095 5.14403434\n",
            " 5.3181423  5.28199378 5.15439713 4.58294688 5.15439713 4.43300673\n",
            " 3.41064687 5.00024645 4.86281641 4.99579209 5.34929746 4.00007423\n",
            " 5.41468022 4.56834808 3.81066238 5.48463881 4.98694248 5.34929746\n",
            " 4.4769983  5.40794619 5.00472073 5.5140527  5.08401633 4.21953001\n",
            " 4.52857011 5.4420792  5.19153667 5.4012572  4.98694248 5.15961907\n",
            " 4.6007515  4.20935698 4.78068072 4.21953001 5.47741856 5.4420792\n",
            " 5.01826495 5.47741856 3.42532604 5.11858767 5.43515875 5.21893565\n",
            " 5.12868877 5.46313261 5.31202607 5.30594702 5.46313261 5.37493989\n",
            " 5.22450669 5.21339547 5.28199378 5.49923761 5.26439802 4.69158072\n",
            " 4.78787499 5.54435805 4.34578441 5.32429616 4.45088716 4.86671505\n",
            " 5.33048813 5.45606544 4.51473863 5.36846738 4.15806369 5.34298829\n",
            " 4.26985509 4.93125357 5.41468022 5.21893565 3.96776124 5.2414085\n",
            " 5.20788581 2.29517687 4.58001002 4.7951214  4.79149163 3.42255723\n",
            " 4.53696177 5.0937725  5.54435805 5.45606544 5.05530622 5.17545053\n",
            " 5.46313261 4.39817734 4.79149163 5.29990471 4.37163779 4.61279984\n",
            " 5.27609406 5.59161093 5.27022894 5.15961907 4.92295477 5.47025007\n",
            " 4.20330247 5.40794619 5.47741856 5.00921512 5.23010895 4.68504475\n",
            " 4.1258944  5.20240634 5.29389868 5.12362547 5.32429616 5.27022894\n",
            " 5.09868652 5.30594702 5.19153667 5.02282077 5.47741856 5.4420792\n",
            " 3.52638283 4.36215904 4.54259558 5.14403434 5.15439713 4.93962182\n",
            " 5.39461266 4.81347054 5.3181423  5.16486842 5.47025007 5.05060033\n",
            " 5.33671868 4.70478223 3.82021877 5.02282077 4.71816036 5.20788581\n",
            " 4.31832273 4.70478223 4.46909312 5.36203649 5.4420792  4.98694248\n",
            " 4.16384962 5.28792852 5.0937725  4.83973846 4.96515513 4.54542444\n",
            " 5.13377784 5.66696037 3.57993893 4.65931986 5.35564669 4.63734095\n",
            " 4.15998861 4.78787499 4.10927352 5.4012572  4.13713048 5.03661409\n",
            " 4.61583475 5.29389868 5.41468022 4.17161665 5.35564669 4.1992864\n",
            " 4.94383236 4.9913575  5.17545053 5.15961907 4.73856923 4.10379406\n",
            " 4.32058261 4.49299864 5.46313261 4.85506444 5.38145458 3.54808911\n",
            " 4.66568931 5.00472073 5.53669517 4.86281641 5.57561059 5.00472073\n",
            " 5.55208009 4.92295477 5.03661409 5.23010895 4.37402158 5.29389868\n",
            " 5.29389868 5.15961907 5.06003436 3.6892627  4.98254687 3.35571721\n",
            " 3.95198804 5.14920231 5.55986223 5.19153667 4.43300673 4.83594339\n",
            " 4.85121087 4.4769983  5.41468022 4.36215904 5.28792852 5.43515875\n",
            " 5.46313261 4.71144892 3.09800567 5.49191157 4.26770686 5.05060033\n",
            " 4.52857011 4.98694248 4.86671505 5.42828588 4.32284762 4.49838949\n",
            " 5.38801198 4.60675753 5.34298829 4.21953001 5.05060033 4.55682057\n",
            " 3.68565909 5.04591648 5.32429616 5.15961907 4.90656096 5.29990471\n",
            " 4.13337107 2.45401514 4.8024207  4.01329756 4.05231863 3.66783331\n",
            " 3.34798854 5.2528372  4.77710289 4.66888931 4.7664456  5.20240634\n",
            " 4.11847322 3.93031537 4.81718112 3.82159145 4.96085404 4.99579209\n",
            " 4.48496647 4.93962182 4.64045137 5.40794619 2.66515959 3.7449357\n",
            " 5.20240634 4.88246341 5.2528372  4.34346691 4.79876439 4.72491714\n",
            " 5.29990471 4.55395934 5.14403434 5.50661772 4.06801206 4.23187584\n",
            " 4.86671505 5.54435805 5.2414085  5.42828588 3.96776124 5.26439802\n",
            " 4.51473863 4.02165183 3.98864553 4.34346691 5.4420792  5.42145991\n",
            " 4.14090407 4.88643956 4.93125357 5.46313261 4.42544049 4.1111067\n",
            " 4.70146548 4.84354799]\n"
          ]
        }
      ]
    },
    {
      "cell_type": "code",
      "source": [
        "print(tfidf_vectorizer_no_stop_words.vocabulary_)"
      ],
      "metadata": {
        "id": "Jf3aMVyyfmqm",
        "colab": {
          "base_uri": "https://localhost:8080/"
        },
        "outputId": "549f20d8-b6e6-40eb-bcda-40a800ca8a9e"
      },
      "execution_count": 34,
      "outputs": [
        {
          "output_type": "stream",
          "name": "stdout",
          "text": [
            "{'administração': 38, 'deve': 166, 'vistas': 495, 'evitar': 205, 'servidores': 448, 'cargo': 92, 'função': 234, 'confiança': 116, 'direta': 173, 'processo': 389, 'comissão': 102, 'autoridade': 74, 'legal': 286, 'falta': 217, 'título': 482, 'ausência': 73, 'defesa': 155, 'publicação': 404, 'dever': 169, 'erário': 199, 'valores': 488, 'recebidos': 418, 'conhecimento': 119, 'contribuição': 137, 'desenvolvimento': 162, 'funções': 235, 'meio': 304, 'ato': 70, 'administrativo': 36, 'possível': 368, 'concessão': 110, 'pensão': 354, 'ainda': 44, 'judicial': 278, 'união': 484, 'instituidor': 264, 'benefício': 82, 'situação': 454, 'ser': 445, 'outros': 343, 'elementos': 188, 'súmula': 462, 'tcu': 466, 'técnico': 480, 'econômica': 181, 'objeto': 330, 'licitação': 293, 'termos': 471, 'legislação': 288, 'itens': 276, 'natureza': 318, 'específica': 201, 'empresas': 193, 'percentual': 355, 'preço': 382, 'global': 241, 'obra': 331, 'devem': 167, 'incidência': 253, 'despesas': 163, 'relação': 430, 'demais': 157, 'competência': 105, 'constitucional': 121, 'pagamento': 344, 'hipótese': 246, 'tempo': 467, 'serviço': 449, 'aquisição': 63, 'direito': 172, 'aposentadoria': 58, 'atividade': 68, 'servidor': 447, 'período': 357, 'afronta': 42, 'apenas': 55, 'princípio': 384, 'profissional': 393, 'antes': 53, 'nova': 325, 'contratação': 132, 'profissionais': 392, 'prazo': 370, 'pode': 362, 'concurso': 111, 'público': 407, 'casos': 96, 'necessidade': 319, 'interesse': 269, 'processos': 390, 'município': 314, 'aplicação': 57, 'convênio': 141, 'recursos': 422, 'previstos': 380, 'lei': 289, 'conta': 124, 'beneficiário': 81, 'prestação': 375, 'contas': 126, 'municipal': 313, 'atos': 71, 'procedimentos': 388, 'irregulares': 273, 'sistema': 453, 'único': 499, 'saúde': 442, 'responsabilidade': 435, 'sobre': 457, 'face': 216, '1990': 5, 'critérios': 144, 'tais': 463, 'custos': 146, 'licitantes': 291, 'obrigação': 333, 'prestado': 373, 'cumprimento': 145, 'condenação': 112, 'débito': 178, 'caracteriza': 91, 'in': 252, 'todos': 472, 'mesma': 306, 'dívida': 179, 'arts': 65, 'civil': 101, 'além': 47, 'patrimônio': 352, 'empresa': 192, 'pessoa': 358, 'caso': 95, 'multa': 312, 'cabe': 87, 'sob': 456, 'pena': 353, 'vez': 492, 'outras': 341, 'licitações': 294, 'contrato': 134, 'parcela': 346, 'ano': 50, 'dessa': 164, 'cada': 89, 'conforme': 118, '12': 3, 'declaração': 151, 'inidoneidade': 263, 'art': 64, '443': 23, '1992': 7, 'finalidade': 224, 'certame': 99, 'razão': 415, 'maior': 298, 'vantagem': 489, 'irregularidade': 274, 'quais': 409, 'efeitos': 186, 'serviços': 450, 'contratada': 129, '20': 13, 'total': 474, 'técnica': 479, 'administrativa': 35, 'execução': 209, 'deliberação': 156, 'ministério': 308, '1º': 12, '3º': 21, 'propostas': 398, 'princípios': 385, 'somente': 459, 'responsável': 438, 'objetivo': 328, 'nacional': 317, 'exclusivamente': 208, 'havendo': 245, 'pagamentos': 345, 'decorrentes': 153, 'impede': 250, 'registro': 426, 'gestão': 240, 'públicos': 408, 'federais': 221, 'mediante': 301, 'prévia': 402, 'preços': 383, 'mercado': 305, 'celebração': 98, 'irregular': 272, 'exigência': 213, 'realização': 417, 'partir': 350, 'momento': 311, 'órgão': 497, 'competente': 104, 'boa': 85, 'fé': 236, 'devendo': 168, 'licitante': 290, 'possibilidade': 367, 'comprovar': 107, 'capacidade': 90, 'bem': 80, 'apresentação': 60, 'fraude': 231, 'enseja': 194, 'admite': 39, 'regime': 424, 'próprio': 403, 'previdência': 376, 'social': 458, 'ex': 206, 'empregados': 191, 'públicas': 406, 'prevista': 377, '1994': 9, 'pública': 405, 'comprovação': 108, 'documentação': 176, 'prova': 399, 'contagem': 125, 'percepção': 356, 'adicional': 34, 'jurídico': 283, 'outro': 342, 'militar': 307, 'desvio': 165, 'adoção': 40, 'atendimento': 67, 'caráter': 94, 'exemplo': 210, 'pessoal': 359, 'técnicos': 481, 'opção': 338, 'obras': 332, 'modo': 310, 'proposta': 397, 'contratações': 133, 'forma': 230, 'superior': 461, 'acordo': 31, 'trabalho': 475, 'configura': 117, 'norma': 323, 'efeito': 185, 'contra': 127, 'medidas': 303, 'pois': 366, 'medida': 302, 'apreciação': 59, 'irregularidades': 275, 'fiscal': 228, 'matéria': 300, 'tribunal': 478, 'recurso': 421, 'ente': 195, 'acórdão': 33, 'devida': 170, 'inciso': 254, 'ii': 247, '112': 2, 'proventos': 400, 'existência': 214, 'erro': 198, 'omissão': 337, 'junto': 281, 'interessado': 268, 'contudo': 139, 'alteração': 46, 'valor': 487, 'necessário': 321, 'requisitos': 433, '1993': 8, 'fundo': 233, 'revisão': 440, 'aplica': 56, 'decorrente': 152, 'acerca': 29, 'fiscalização': 229, 'atuação': 72, 'processual': 391, '58': 25, 'iv': 277, 'regimento': 425, 'interno': 270, 'constitui': 122, 'desde': 161, 'decisão': 150, 'constituição': 123, 'federal': 222, 'correspondente': 143, 'remuneração': 431, '2º': 19, 'dependência': 160, 'vigência': 493, 'edição': 184, '10': 0, '2001': 14, 'exigir': 212, 'fins': 227, 'habilitação': 244, 'transferidos': 476, 'ajuste': 45, 'ressarcimento': 439, 'sido': 452, 'documentos': 177, 'podem': 363, 'si': 451, 'uso': 485, 'repassados': 432, 'nexo': 322, 'contratos': 135, 'pregão': 371, 'bens': 84, 'oficial': 336, 'outra': 340, 'qualquer': 412, 'prejuízo': 372, 'ampla': 49, 'contraditório': 128, 'tal': 464, 'regra': 427, 'ações': 78, 'dano': 148, 'fato': 219, 'entidade': 196, 'privada': 386, '666': 27, 'observância': 334, '37': 20, 'projeto': 395, 'orçamento': 339, 'referência': 423, 'eventual': 204, 'contratual': 136, 'base': 79, 'após': 62, 'amparo': 48, 'utilização': 486, 'julgamento': 280, 'emenda': 190, '1998': 11, 'inclusão': 256, 'cálculo': 147, 'benefícios': 83, 'participação': 349, 'fundamento': 232, 'iii': 248, 'âmbito': 496, 'condição': 113, 'quanto': 413, 'demonstração': 159, 'devidamente': 171, 'atividades': 69, 'previsão': 381, 'edital': 183, 'sanção': 441, 'nº': 327, 'entidades': 197, '1997': 10, 'parágrafo': 351, 'indevida': 258, 'juízo': 284, 'exame': 207, 'mérito': 315, 'gestor': 239, 'ilegal': 249, 'recolhimento': 420, 'vedada': 491, 'fase': 218, 'invalidez': 271, 'prestar': 374, 'modalidade': 309, 'condições': 114, '1991': 6, 'suficiente': 460, 'vista': 494, 'praticados': 369, 'complementar': 106, 'jurídica': 282, 'poder': 365, 'novo': 326, '13': 4, 'embargos': 189, 'exercício': 211, 'ec': 180, 'administrativos': 37, 'mínimo': 316, 'grave': 243, 'limite': 295, 'disposto': 175, 'programa': 394, 'qualidade': 410, 'segurança': 443, 'regular': 428, 'sendo': 444, 'controle': 138, 'externo': 215, 'respectivo': 434, 'parte': 348, 'cargos': 93, 'tanto': 465, 'efetivo': 187, 'local': 297, 'fim': 223, 'conduta': 115, 'informações': 261, 'constitucionais': 120, 'tomada': 473, 'especial': 200, 'limites': 296, 'julgado': 279, 'acordao_decisao_tcu': 30, 'plenário': 361, 'órgãos': 498, 'incorporação': 257, 'parcelas': 347, 'data': 149, 'objetivos': 329, 'ter': 469, 'demonstrar': 158, 'implica': 251, 'estado': 202, 'assim': 66, 'contratado': 130, 'qualificação': 411, 'regularidade': 429, 'garantia': 237, 'previstas': 378, 'podendo': 364, 'prática': 401, '5º': 26, 'decreto': 154, '2005': 17, 'econômico': 182, 'financeira': 225, '40': 22, '6º': 28, '4º': 24, 'termo': 470, 'concedente': 109, 'convenente': 140, 'apuração': 61, 'análise': 54, 'responsabilização': 436, 'recebimento': 419, 'informação': 260, 'indevidamente': 259, 'ocorrência': 335, 'necessária': 320, 'básico': 86, 'agente': 43, 'anterior': 52, 'plano': 360, 'situações': 455, 'cabível': 88, 'causa': 97, 'instituição': 265, 'legalidade': 287, 'responsáveis': 437, 'projetos': 396, 'integral': 267, 'anos': 51, 'inicial': 262, 'contratante': 131, 'avaliação': 76, 'compete': 103, 'procedimento': 387, 'serem': 446, 'inclusive': 255, 'licitatório': 292, 'instrumento': 266, '11': 1, 'autos': 75, 'normas': 324, 'acumulação': 32, 'quintos': 414, 'dispensa': 174, 'legais': 285, 'convênios': 142, '24': 18, 'geral': 238, 'estar': 203, 'financeiro': 226, 'fatos': 220, 'citação': 100, '2003': 15, 'vantagens': 490, 'manutenção': 299, 'gratificação': 242, 'previsto': 379, '2004': 16, 'tendo': 468, 'transferência': 477, 'unitários': 483, 'realizadas': 416, 'ação': 77, 'afasta': 41}\n"
          ]
        }
      ]
    },
    {
      "cell_type": "code",
      "source": [
        "# encode enunciados - sem stopwords\n",
        "tfidf_vector_1 = tfidf_vectorizer_no_stop_words.transform(X_train)\n",
        "# mostra as dimensões da matrix de frequência\n",
        "print('\\nDimensões da matrix: ')\n",
        "print(tfidf_vector_1.shape)"
      ],
      "metadata": {
        "id": "LVTYGN1EgZHd",
        "colab": {
          "base_uri": "https://localhost:8080/"
        },
        "outputId": "83bd9a90-b240-4623-b788-f83629af88cd"
      },
      "execution_count": 35,
      "outputs": [
        {
          "output_type": "stream",
          "name": "stdout",
          "text": [
            "\n",
            "Dimensões da matrix: \n",
            "(12232, 500)\n"
          ]
        }
      ]
    },
    {
      "cell_type": "code",
      "source": [
        "# mostra os enunciados codificados\n",
        "val_1 = tfidf_vectorizer_no_stop_words.fit_transform(X_train)\n",
        "feature_names_1 = tfidf_vectorizer_no_stop_words.get_feature_names_out()\n",
        "dfVocab_1= pd.DataFrame(val_1.toarray(), columns = feature_names_1)\n",
        "print(dfVocab_1.shape)\n",
        "dfVocab_1"
      ],
      "metadata": {
        "id": "_oY0Lj6Ngo70",
        "colab": {
          "base_uri": "https://localhost:8080/",
          "height": 461
        },
        "outputId": "78b56a46-05dd-4daf-8a4c-a8453a7ae4c9"
      },
      "execution_count": 36,
      "outputs": [
        {
          "output_type": "stream",
          "name": "stdout",
          "text": [
            "(12232, 500)\n"
          ]
        },
        {
          "output_type": "execute_result",
          "data": {
            "text/html": [
              "<div>\n",
              "<style scoped>\n",
              "    .dataframe tbody tr th:only-of-type {\n",
              "        vertical-align: middle;\n",
              "    }\n",
              "\n",
              "    .dataframe tbody tr th {\n",
              "        vertical-align: top;\n",
              "    }\n",
              "\n",
              "    .dataframe thead th {\n",
              "        text-align: right;\n",
              "    }\n",
              "</style>\n",
              "<table border=\"1\" class=\"dataframe\">\n",
              "  <thead>\n",
              "    <tr style=\"text-align: right;\">\n",
              "      <th></th>\n",
              "      <th>10</th>\n",
              "      <th>11</th>\n",
              "      <th>112</th>\n",
              "      <th>12</th>\n",
              "      <th>13</th>\n",
              "      <th>1990</th>\n",
              "      <th>1991</th>\n",
              "      <th>1992</th>\n",
              "      <th>1993</th>\n",
              "      <th>1994</th>\n",
              "      <th>1997</th>\n",
              "      <th>1998</th>\n",
              "      <th>1º</th>\n",
              "      <th>20</th>\n",
              "      <th>2001</th>\n",
              "      <th>2003</th>\n",
              "      <th>2004</th>\n",
              "      <th>2005</th>\n",
              "      <th>24</th>\n",
              "      <th>2º</th>\n",
              "      <th>37</th>\n",
              "      <th>3º</th>\n",
              "      <th>40</th>\n",
              "      <th>443</th>\n",
              "      <th>4º</th>\n",
              "      <th>58</th>\n",
              "      <th>5º</th>\n",
              "      <th>666</th>\n",
              "      <th>6º</th>\n",
              "      <th>acerca</th>\n",
              "      <th>acordao_decisao_tcu</th>\n",
              "      <th>acordo</th>\n",
              "      <th>acumulação</th>\n",
              "      <th>acórdão</th>\n",
              "      <th>adicional</th>\n",
              "      <th>administrativa</th>\n",
              "      <th>administrativo</th>\n",
              "      <th>administrativos</th>\n",
              "      <th>administração</th>\n",
              "      <th>admite</th>\n",
              "      <th>...</th>\n",
              "      <th>suficiente</th>\n",
              "      <th>superior</th>\n",
              "      <th>súmula</th>\n",
              "      <th>tais</th>\n",
              "      <th>tal</th>\n",
              "      <th>tanto</th>\n",
              "      <th>tcu</th>\n",
              "      <th>tempo</th>\n",
              "      <th>tendo</th>\n",
              "      <th>ter</th>\n",
              "      <th>termo</th>\n",
              "      <th>termos</th>\n",
              "      <th>todos</th>\n",
              "      <th>tomada</th>\n",
              "      <th>total</th>\n",
              "      <th>trabalho</th>\n",
              "      <th>transferidos</th>\n",
              "      <th>transferência</th>\n",
              "      <th>tribunal</th>\n",
              "      <th>técnica</th>\n",
              "      <th>técnico</th>\n",
              "      <th>técnicos</th>\n",
              "      <th>título</th>\n",
              "      <th>unitários</th>\n",
              "      <th>união</th>\n",
              "      <th>uso</th>\n",
              "      <th>utilização</th>\n",
              "      <th>valor</th>\n",
              "      <th>valores</th>\n",
              "      <th>vantagem</th>\n",
              "      <th>vantagens</th>\n",
              "      <th>vedada</th>\n",
              "      <th>vez</th>\n",
              "      <th>vigência</th>\n",
              "      <th>vista</th>\n",
              "      <th>vistas</th>\n",
              "      <th>âmbito</th>\n",
              "      <th>órgão</th>\n",
              "      <th>órgãos</th>\n",
              "      <th>único</th>\n",
              "    </tr>\n",
              "  </thead>\n",
              "  <tbody>\n",
              "    <tr>\n",
              "      <th>0</th>\n",
              "      <td>0.0</td>\n",
              "      <td>0.0</td>\n",
              "      <td>0.0</td>\n",
              "      <td>0.0</td>\n",
              "      <td>0.0</td>\n",
              "      <td>0.000000</td>\n",
              "      <td>0.0</td>\n",
              "      <td>0.0</td>\n",
              "      <td>0.0</td>\n",
              "      <td>0.0</td>\n",
              "      <td>0.0</td>\n",
              "      <td>0.0</td>\n",
              "      <td>0.0</td>\n",
              "      <td>0.0</td>\n",
              "      <td>0.000000</td>\n",
              "      <td>0.0</td>\n",
              "      <td>0.0</td>\n",
              "      <td>0.0</td>\n",
              "      <td>0.0</td>\n",
              "      <td>0.000000</td>\n",
              "      <td>0.0</td>\n",
              "      <td>0.0</td>\n",
              "      <td>0.0</td>\n",
              "      <td>0.0</td>\n",
              "      <td>0.00000</td>\n",
              "      <td>0.0</td>\n",
              "      <td>0.0</td>\n",
              "      <td>0.0</td>\n",
              "      <td>0.0</td>\n",
              "      <td>0.0</td>\n",
              "      <td>0.0</td>\n",
              "      <td>0.0</td>\n",
              "      <td>0.0</td>\n",
              "      <td>0.0</td>\n",
              "      <td>0.0</td>\n",
              "      <td>0.0</td>\n",
              "      <td>0.00000</td>\n",
              "      <td>0.0</td>\n",
              "      <td>0.141534</td>\n",
              "      <td>0.0</td>\n",
              "      <td>...</td>\n",
              "      <td>0.0</td>\n",
              "      <td>0.0</td>\n",
              "      <td>0.000000</td>\n",
              "      <td>0.000000</td>\n",
              "      <td>0.0</td>\n",
              "      <td>0.0</td>\n",
              "      <td>0.000000</td>\n",
              "      <td>0.000000</td>\n",
              "      <td>0.0</td>\n",
              "      <td>0.0</td>\n",
              "      <td>0.0</td>\n",
              "      <td>0.000000</td>\n",
              "      <td>0.0</td>\n",
              "      <td>0.0</td>\n",
              "      <td>0.0</td>\n",
              "      <td>0.0</td>\n",
              "      <td>0.000000</td>\n",
              "      <td>0.0</td>\n",
              "      <td>0.0</td>\n",
              "      <td>0.000000</td>\n",
              "      <td>0.000000</td>\n",
              "      <td>0.000000</td>\n",
              "      <td>0.000000</td>\n",
              "      <td>0.0</td>\n",
              "      <td>0.000000</td>\n",
              "      <td>0.0</td>\n",
              "      <td>0.000000</td>\n",
              "      <td>0.0</td>\n",
              "      <td>0.000000</td>\n",
              "      <td>0.000000</td>\n",
              "      <td>0.0</td>\n",
              "      <td>0.0</td>\n",
              "      <td>0.0</td>\n",
              "      <td>0.0</td>\n",
              "      <td>0.0</td>\n",
              "      <td>0.252731</td>\n",
              "      <td>0.000000</td>\n",
              "      <td>0.0</td>\n",
              "      <td>0.0</td>\n",
              "      <td>0.0</td>\n",
              "    </tr>\n",
              "    <tr>\n",
              "      <th>1</th>\n",
              "      <td>0.0</td>\n",
              "      <td>0.0</td>\n",
              "      <td>0.0</td>\n",
              "      <td>0.0</td>\n",
              "      <td>0.0</td>\n",
              "      <td>0.000000</td>\n",
              "      <td>0.0</td>\n",
              "      <td>0.0</td>\n",
              "      <td>0.0</td>\n",
              "      <td>0.0</td>\n",
              "      <td>0.0</td>\n",
              "      <td>0.0</td>\n",
              "      <td>0.0</td>\n",
              "      <td>0.0</td>\n",
              "      <td>0.000000</td>\n",
              "      <td>0.0</td>\n",
              "      <td>0.0</td>\n",
              "      <td>0.0</td>\n",
              "      <td>0.0</td>\n",
              "      <td>0.000000</td>\n",
              "      <td>0.0</td>\n",
              "      <td>0.0</td>\n",
              "      <td>0.0</td>\n",
              "      <td>0.0</td>\n",
              "      <td>0.00000</td>\n",
              "      <td>0.0</td>\n",
              "      <td>0.0</td>\n",
              "      <td>0.0</td>\n",
              "      <td>0.0</td>\n",
              "      <td>0.0</td>\n",
              "      <td>0.0</td>\n",
              "      <td>0.0</td>\n",
              "      <td>0.0</td>\n",
              "      <td>0.0</td>\n",
              "      <td>0.0</td>\n",
              "      <td>0.0</td>\n",
              "      <td>0.00000</td>\n",
              "      <td>0.0</td>\n",
              "      <td>0.000000</td>\n",
              "      <td>0.0</td>\n",
              "      <td>...</td>\n",
              "      <td>0.0</td>\n",
              "      <td>0.0</td>\n",
              "      <td>0.000000</td>\n",
              "      <td>0.000000</td>\n",
              "      <td>0.0</td>\n",
              "      <td>0.0</td>\n",
              "      <td>0.000000</td>\n",
              "      <td>0.000000</td>\n",
              "      <td>0.0</td>\n",
              "      <td>0.0</td>\n",
              "      <td>0.0</td>\n",
              "      <td>0.000000</td>\n",
              "      <td>0.0</td>\n",
              "      <td>0.0</td>\n",
              "      <td>0.0</td>\n",
              "      <td>0.0</td>\n",
              "      <td>0.000000</td>\n",
              "      <td>0.0</td>\n",
              "      <td>0.0</td>\n",
              "      <td>0.000000</td>\n",
              "      <td>0.000000</td>\n",
              "      <td>0.000000</td>\n",
              "      <td>0.303182</td>\n",
              "      <td>0.0</td>\n",
              "      <td>0.000000</td>\n",
              "      <td>0.0</td>\n",
              "      <td>0.000000</td>\n",
              "      <td>0.0</td>\n",
              "      <td>0.230718</td>\n",
              "      <td>0.000000</td>\n",
              "      <td>0.0</td>\n",
              "      <td>0.0</td>\n",
              "      <td>0.0</td>\n",
              "      <td>0.0</td>\n",
              "      <td>0.0</td>\n",
              "      <td>0.000000</td>\n",
              "      <td>0.000000</td>\n",
              "      <td>0.0</td>\n",
              "      <td>0.0</td>\n",
              "      <td>0.0</td>\n",
              "    </tr>\n",
              "    <tr>\n",
              "      <th>2</th>\n",
              "      <td>0.0</td>\n",
              "      <td>0.0</td>\n",
              "      <td>0.0</td>\n",
              "      <td>0.0</td>\n",
              "      <td>0.0</td>\n",
              "      <td>0.000000</td>\n",
              "      <td>0.0</td>\n",
              "      <td>0.0</td>\n",
              "      <td>0.0</td>\n",
              "      <td>0.0</td>\n",
              "      <td>0.0</td>\n",
              "      <td>0.0</td>\n",
              "      <td>0.0</td>\n",
              "      <td>0.0</td>\n",
              "      <td>0.000000</td>\n",
              "      <td>0.0</td>\n",
              "      <td>0.0</td>\n",
              "      <td>0.0</td>\n",
              "      <td>0.0</td>\n",
              "      <td>0.000000</td>\n",
              "      <td>0.0</td>\n",
              "      <td>0.0</td>\n",
              "      <td>0.0</td>\n",
              "      <td>0.0</td>\n",
              "      <td>0.00000</td>\n",
              "      <td>0.0</td>\n",
              "      <td>0.0</td>\n",
              "      <td>0.0</td>\n",
              "      <td>0.0</td>\n",
              "      <td>0.0</td>\n",
              "      <td>0.0</td>\n",
              "      <td>0.0</td>\n",
              "      <td>0.0</td>\n",
              "      <td>0.0</td>\n",
              "      <td>0.0</td>\n",
              "      <td>0.0</td>\n",
              "      <td>0.53996</td>\n",
              "      <td>0.0</td>\n",
              "      <td>0.000000</td>\n",
              "      <td>0.0</td>\n",
              "      <td>...</td>\n",
              "      <td>0.0</td>\n",
              "      <td>0.0</td>\n",
              "      <td>0.000000</td>\n",
              "      <td>0.000000</td>\n",
              "      <td>0.0</td>\n",
              "      <td>0.0</td>\n",
              "      <td>0.000000</td>\n",
              "      <td>0.000000</td>\n",
              "      <td>0.0</td>\n",
              "      <td>0.0</td>\n",
              "      <td>0.0</td>\n",
              "      <td>0.000000</td>\n",
              "      <td>0.0</td>\n",
              "      <td>0.0</td>\n",
              "      <td>0.0</td>\n",
              "      <td>0.0</td>\n",
              "      <td>0.000000</td>\n",
              "      <td>0.0</td>\n",
              "      <td>0.0</td>\n",
              "      <td>0.000000</td>\n",
              "      <td>0.000000</td>\n",
              "      <td>0.000000</td>\n",
              "      <td>0.000000</td>\n",
              "      <td>0.0</td>\n",
              "      <td>0.000000</td>\n",
              "      <td>0.0</td>\n",
              "      <td>0.000000</td>\n",
              "      <td>0.0</td>\n",
              "      <td>0.000000</td>\n",
              "      <td>0.000000</td>\n",
              "      <td>0.0</td>\n",
              "      <td>0.0</td>\n",
              "      <td>0.0</td>\n",
              "      <td>0.0</td>\n",
              "      <td>0.0</td>\n",
              "      <td>0.000000</td>\n",
              "      <td>0.000000</td>\n",
              "      <td>0.0</td>\n",
              "      <td>0.0</td>\n",
              "      <td>0.0</td>\n",
              "    </tr>\n",
              "    <tr>\n",
              "      <th>3</th>\n",
              "      <td>0.0</td>\n",
              "      <td>0.0</td>\n",
              "      <td>0.0</td>\n",
              "      <td>0.0</td>\n",
              "      <td>0.0</td>\n",
              "      <td>0.000000</td>\n",
              "      <td>0.0</td>\n",
              "      <td>0.0</td>\n",
              "      <td>0.0</td>\n",
              "      <td>0.0</td>\n",
              "      <td>0.0</td>\n",
              "      <td>0.0</td>\n",
              "      <td>0.0</td>\n",
              "      <td>0.0</td>\n",
              "      <td>0.000000</td>\n",
              "      <td>0.0</td>\n",
              "      <td>0.0</td>\n",
              "      <td>0.0</td>\n",
              "      <td>0.0</td>\n",
              "      <td>0.000000</td>\n",
              "      <td>0.0</td>\n",
              "      <td>0.0</td>\n",
              "      <td>0.0</td>\n",
              "      <td>0.0</td>\n",
              "      <td>0.00000</td>\n",
              "      <td>0.0</td>\n",
              "      <td>0.0</td>\n",
              "      <td>0.0</td>\n",
              "      <td>0.0</td>\n",
              "      <td>0.0</td>\n",
              "      <td>0.0</td>\n",
              "      <td>0.0</td>\n",
              "      <td>0.0</td>\n",
              "      <td>0.0</td>\n",
              "      <td>0.0</td>\n",
              "      <td>0.0</td>\n",
              "      <td>0.00000</td>\n",
              "      <td>0.0</td>\n",
              "      <td>0.000000</td>\n",
              "      <td>0.0</td>\n",
              "      <td>...</td>\n",
              "      <td>0.0</td>\n",
              "      <td>0.0</td>\n",
              "      <td>0.000000</td>\n",
              "      <td>0.000000</td>\n",
              "      <td>0.0</td>\n",
              "      <td>0.0</td>\n",
              "      <td>0.000000</td>\n",
              "      <td>0.000000</td>\n",
              "      <td>0.0</td>\n",
              "      <td>0.0</td>\n",
              "      <td>0.0</td>\n",
              "      <td>0.000000</td>\n",
              "      <td>0.0</td>\n",
              "      <td>0.0</td>\n",
              "      <td>0.0</td>\n",
              "      <td>0.0</td>\n",
              "      <td>0.000000</td>\n",
              "      <td>0.0</td>\n",
              "      <td>0.0</td>\n",
              "      <td>0.000000</td>\n",
              "      <td>0.000000</td>\n",
              "      <td>0.000000</td>\n",
              "      <td>0.000000</td>\n",
              "      <td>0.0</td>\n",
              "      <td>0.263295</td>\n",
              "      <td>0.0</td>\n",
              "      <td>0.000000</td>\n",
              "      <td>0.0</td>\n",
              "      <td>0.000000</td>\n",
              "      <td>0.000000</td>\n",
              "      <td>0.0</td>\n",
              "      <td>0.0</td>\n",
              "      <td>0.0</td>\n",
              "      <td>0.0</td>\n",
              "      <td>0.0</td>\n",
              "      <td>0.000000</td>\n",
              "      <td>0.000000</td>\n",
              "      <td>0.0</td>\n",
              "      <td>0.0</td>\n",
              "      <td>0.0</td>\n",
              "    </tr>\n",
              "    <tr>\n",
              "      <th>4</th>\n",
              "      <td>0.0</td>\n",
              "      <td>0.0</td>\n",
              "      <td>0.0</td>\n",
              "      <td>0.0</td>\n",
              "      <td>0.0</td>\n",
              "      <td>0.000000</td>\n",
              "      <td>0.0</td>\n",
              "      <td>0.0</td>\n",
              "      <td>0.0</td>\n",
              "      <td>0.0</td>\n",
              "      <td>0.0</td>\n",
              "      <td>0.0</td>\n",
              "      <td>0.0</td>\n",
              "      <td>0.0</td>\n",
              "      <td>0.000000</td>\n",
              "      <td>0.0</td>\n",
              "      <td>0.0</td>\n",
              "      <td>0.0</td>\n",
              "      <td>0.0</td>\n",
              "      <td>0.000000</td>\n",
              "      <td>0.0</td>\n",
              "      <td>0.0</td>\n",
              "      <td>0.0</td>\n",
              "      <td>0.0</td>\n",
              "      <td>0.00000</td>\n",
              "      <td>0.0</td>\n",
              "      <td>0.0</td>\n",
              "      <td>0.0</td>\n",
              "      <td>0.0</td>\n",
              "      <td>0.0</td>\n",
              "      <td>0.0</td>\n",
              "      <td>0.0</td>\n",
              "      <td>0.0</td>\n",
              "      <td>0.0</td>\n",
              "      <td>0.0</td>\n",
              "      <td>0.0</td>\n",
              "      <td>0.00000</td>\n",
              "      <td>0.0</td>\n",
              "      <td>0.000000</td>\n",
              "      <td>0.0</td>\n",
              "      <td>...</td>\n",
              "      <td>0.0</td>\n",
              "      <td>0.0</td>\n",
              "      <td>0.193521</td>\n",
              "      <td>0.000000</td>\n",
              "      <td>0.0</td>\n",
              "      <td>0.0</td>\n",
              "      <td>0.114999</td>\n",
              "      <td>0.000000</td>\n",
              "      <td>0.0</td>\n",
              "      <td>0.0</td>\n",
              "      <td>0.0</td>\n",
              "      <td>0.187416</td>\n",
              "      <td>0.0</td>\n",
              "      <td>0.0</td>\n",
              "      <td>0.0</td>\n",
              "      <td>0.0</td>\n",
              "      <td>0.000000</td>\n",
              "      <td>0.0</td>\n",
              "      <td>0.0</td>\n",
              "      <td>0.000000</td>\n",
              "      <td>0.209993</td>\n",
              "      <td>0.000000</td>\n",
              "      <td>0.000000</td>\n",
              "      <td>0.0</td>\n",
              "      <td>0.000000</td>\n",
              "      <td>0.0</td>\n",
              "      <td>0.000000</td>\n",
              "      <td>0.0</td>\n",
              "      <td>0.000000</td>\n",
              "      <td>0.000000</td>\n",
              "      <td>0.0</td>\n",
              "      <td>0.0</td>\n",
              "      <td>0.0</td>\n",
              "      <td>0.0</td>\n",
              "      <td>0.0</td>\n",
              "      <td>0.000000</td>\n",
              "      <td>0.000000</td>\n",
              "      <td>0.0</td>\n",
              "      <td>0.0</td>\n",
              "      <td>0.0</td>\n",
              "    </tr>\n",
              "    <tr>\n",
              "      <th>...</th>\n",
              "      <td>...</td>\n",
              "      <td>...</td>\n",
              "      <td>...</td>\n",
              "      <td>...</td>\n",
              "      <td>...</td>\n",
              "      <td>...</td>\n",
              "      <td>...</td>\n",
              "      <td>...</td>\n",
              "      <td>...</td>\n",
              "      <td>...</td>\n",
              "      <td>...</td>\n",
              "      <td>...</td>\n",
              "      <td>...</td>\n",
              "      <td>...</td>\n",
              "      <td>...</td>\n",
              "      <td>...</td>\n",
              "      <td>...</td>\n",
              "      <td>...</td>\n",
              "      <td>...</td>\n",
              "      <td>...</td>\n",
              "      <td>...</td>\n",
              "      <td>...</td>\n",
              "      <td>...</td>\n",
              "      <td>...</td>\n",
              "      <td>...</td>\n",
              "      <td>...</td>\n",
              "      <td>...</td>\n",
              "      <td>...</td>\n",
              "      <td>...</td>\n",
              "      <td>...</td>\n",
              "      <td>...</td>\n",
              "      <td>...</td>\n",
              "      <td>...</td>\n",
              "      <td>...</td>\n",
              "      <td>...</td>\n",
              "      <td>...</td>\n",
              "      <td>...</td>\n",
              "      <td>...</td>\n",
              "      <td>...</td>\n",
              "      <td>...</td>\n",
              "      <td>...</td>\n",
              "      <td>...</td>\n",
              "      <td>...</td>\n",
              "      <td>...</td>\n",
              "      <td>...</td>\n",
              "      <td>...</td>\n",
              "      <td>...</td>\n",
              "      <td>...</td>\n",
              "      <td>...</td>\n",
              "      <td>...</td>\n",
              "      <td>...</td>\n",
              "      <td>...</td>\n",
              "      <td>...</td>\n",
              "      <td>...</td>\n",
              "      <td>...</td>\n",
              "      <td>...</td>\n",
              "      <td>...</td>\n",
              "      <td>...</td>\n",
              "      <td>...</td>\n",
              "      <td>...</td>\n",
              "      <td>...</td>\n",
              "      <td>...</td>\n",
              "      <td>...</td>\n",
              "      <td>...</td>\n",
              "      <td>...</td>\n",
              "      <td>...</td>\n",
              "      <td>...</td>\n",
              "      <td>...</td>\n",
              "      <td>...</td>\n",
              "      <td>...</td>\n",
              "      <td>...</td>\n",
              "      <td>...</td>\n",
              "      <td>...</td>\n",
              "      <td>...</td>\n",
              "      <td>...</td>\n",
              "      <td>...</td>\n",
              "      <td>...</td>\n",
              "      <td>...</td>\n",
              "      <td>...</td>\n",
              "      <td>...</td>\n",
              "      <td>...</td>\n",
              "    </tr>\n",
              "    <tr>\n",
              "      <th>12227</th>\n",
              "      <td>0.0</td>\n",
              "      <td>0.0</td>\n",
              "      <td>0.0</td>\n",
              "      <td>0.0</td>\n",
              "      <td>0.0</td>\n",
              "      <td>0.117695</td>\n",
              "      <td>0.0</td>\n",
              "      <td>0.0</td>\n",
              "      <td>0.0</td>\n",
              "      <td>0.0</td>\n",
              "      <td>0.0</td>\n",
              "      <td>0.0</td>\n",
              "      <td>0.0</td>\n",
              "      <td>0.0</td>\n",
              "      <td>0.148537</td>\n",
              "      <td>0.0</td>\n",
              "      <td>0.0</td>\n",
              "      <td>0.0</td>\n",
              "      <td>0.0</td>\n",
              "      <td>0.117515</td>\n",
              "      <td>0.0</td>\n",
              "      <td>0.0</td>\n",
              "      <td>0.0</td>\n",
              "      <td>0.0</td>\n",
              "      <td>0.14557</td>\n",
              "      <td>0.0</td>\n",
              "      <td>0.0</td>\n",
              "      <td>0.0</td>\n",
              "      <td>0.0</td>\n",
              "      <td>0.0</td>\n",
              "      <td>0.0</td>\n",
              "      <td>0.0</td>\n",
              "      <td>0.0</td>\n",
              "      <td>0.0</td>\n",
              "      <td>0.0</td>\n",
              "      <td>0.0</td>\n",
              "      <td>0.00000</td>\n",
              "      <td>0.0</td>\n",
              "      <td>0.000000</td>\n",
              "      <td>0.0</td>\n",
              "      <td>...</td>\n",
              "      <td>0.0</td>\n",
              "      <td>0.0</td>\n",
              "      <td>0.000000</td>\n",
              "      <td>0.000000</td>\n",
              "      <td>0.0</td>\n",
              "      <td>0.0</td>\n",
              "      <td>0.000000</td>\n",
              "      <td>0.000000</td>\n",
              "      <td>0.0</td>\n",
              "      <td>0.0</td>\n",
              "      <td>0.0</td>\n",
              "      <td>0.000000</td>\n",
              "      <td>0.0</td>\n",
              "      <td>0.0</td>\n",
              "      <td>0.0</td>\n",
              "      <td>0.0</td>\n",
              "      <td>0.141289</td>\n",
              "      <td>0.0</td>\n",
              "      <td>0.0</td>\n",
              "      <td>0.000000</td>\n",
              "      <td>0.000000</td>\n",
              "      <td>0.000000</td>\n",
              "      <td>0.000000</td>\n",
              "      <td>0.0</td>\n",
              "      <td>0.000000</td>\n",
              "      <td>0.0</td>\n",
              "      <td>0.124004</td>\n",
              "      <td>0.0</td>\n",
              "      <td>0.000000</td>\n",
              "      <td>0.000000</td>\n",
              "      <td>0.0</td>\n",
              "      <td>0.0</td>\n",
              "      <td>0.0</td>\n",
              "      <td>0.0</td>\n",
              "      <td>0.0</td>\n",
              "      <td>0.000000</td>\n",
              "      <td>0.000000</td>\n",
              "      <td>0.0</td>\n",
              "      <td>0.0</td>\n",
              "      <td>0.0</td>\n",
              "    </tr>\n",
              "    <tr>\n",
              "      <th>12228</th>\n",
              "      <td>0.0</td>\n",
              "      <td>0.0</td>\n",
              "      <td>0.0</td>\n",
              "      <td>0.0</td>\n",
              "      <td>0.0</td>\n",
              "      <td>0.000000</td>\n",
              "      <td>0.0</td>\n",
              "      <td>0.0</td>\n",
              "      <td>0.0</td>\n",
              "      <td>0.0</td>\n",
              "      <td>0.0</td>\n",
              "      <td>0.0</td>\n",
              "      <td>0.0</td>\n",
              "      <td>0.0</td>\n",
              "      <td>0.000000</td>\n",
              "      <td>0.0</td>\n",
              "      <td>0.0</td>\n",
              "      <td>0.0</td>\n",
              "      <td>0.0</td>\n",
              "      <td>0.000000</td>\n",
              "      <td>0.0</td>\n",
              "      <td>0.0</td>\n",
              "      <td>0.0</td>\n",
              "      <td>0.0</td>\n",
              "      <td>0.00000</td>\n",
              "      <td>0.0</td>\n",
              "      <td>0.0</td>\n",
              "      <td>0.0</td>\n",
              "      <td>0.0</td>\n",
              "      <td>0.0</td>\n",
              "      <td>0.0</td>\n",
              "      <td>0.0</td>\n",
              "      <td>0.0</td>\n",
              "      <td>0.0</td>\n",
              "      <td>0.0</td>\n",
              "      <td>0.0</td>\n",
              "      <td>0.00000</td>\n",
              "      <td>0.0</td>\n",
              "      <td>0.000000</td>\n",
              "      <td>0.0</td>\n",
              "      <td>...</td>\n",
              "      <td>0.0</td>\n",
              "      <td>0.0</td>\n",
              "      <td>0.000000</td>\n",
              "      <td>0.000000</td>\n",
              "      <td>0.0</td>\n",
              "      <td>0.0</td>\n",
              "      <td>0.000000</td>\n",
              "      <td>0.201208</td>\n",
              "      <td>0.0</td>\n",
              "      <td>0.0</td>\n",
              "      <td>0.0</td>\n",
              "      <td>0.000000</td>\n",
              "      <td>0.0</td>\n",
              "      <td>0.0</td>\n",
              "      <td>0.0</td>\n",
              "      <td>0.0</td>\n",
              "      <td>0.000000</td>\n",
              "      <td>0.0</td>\n",
              "      <td>0.0</td>\n",
              "      <td>0.000000</td>\n",
              "      <td>0.000000</td>\n",
              "      <td>0.000000</td>\n",
              "      <td>0.000000</td>\n",
              "      <td>0.0</td>\n",
              "      <td>0.000000</td>\n",
              "      <td>0.0</td>\n",
              "      <td>0.000000</td>\n",
              "      <td>0.0</td>\n",
              "      <td>0.000000</td>\n",
              "      <td>0.000000</td>\n",
              "      <td>0.0</td>\n",
              "      <td>0.0</td>\n",
              "      <td>0.0</td>\n",
              "      <td>0.0</td>\n",
              "      <td>0.0</td>\n",
              "      <td>0.000000</td>\n",
              "      <td>0.000000</td>\n",
              "      <td>0.0</td>\n",
              "      <td>0.0</td>\n",
              "      <td>0.0</td>\n",
              "    </tr>\n",
              "    <tr>\n",
              "      <th>12229</th>\n",
              "      <td>0.0</td>\n",
              "      <td>0.0</td>\n",
              "      <td>0.0</td>\n",
              "      <td>0.0</td>\n",
              "      <td>0.0</td>\n",
              "      <td>0.000000</td>\n",
              "      <td>0.0</td>\n",
              "      <td>0.0</td>\n",
              "      <td>0.0</td>\n",
              "      <td>0.0</td>\n",
              "      <td>0.0</td>\n",
              "      <td>0.0</td>\n",
              "      <td>0.0</td>\n",
              "      <td>0.0</td>\n",
              "      <td>0.000000</td>\n",
              "      <td>0.0</td>\n",
              "      <td>0.0</td>\n",
              "      <td>0.0</td>\n",
              "      <td>0.0</td>\n",
              "      <td>0.000000</td>\n",
              "      <td>0.0</td>\n",
              "      <td>0.0</td>\n",
              "      <td>0.0</td>\n",
              "      <td>0.0</td>\n",
              "      <td>0.00000</td>\n",
              "      <td>0.0</td>\n",
              "      <td>0.0</td>\n",
              "      <td>0.0</td>\n",
              "      <td>0.0</td>\n",
              "      <td>0.0</td>\n",
              "      <td>0.0</td>\n",
              "      <td>0.0</td>\n",
              "      <td>0.0</td>\n",
              "      <td>0.0</td>\n",
              "      <td>0.0</td>\n",
              "      <td>0.0</td>\n",
              "      <td>0.00000</td>\n",
              "      <td>0.0</td>\n",
              "      <td>0.133138</td>\n",
              "      <td>0.0</td>\n",
              "      <td>...</td>\n",
              "      <td>0.0</td>\n",
              "      <td>0.0</td>\n",
              "      <td>0.000000</td>\n",
              "      <td>0.000000</td>\n",
              "      <td>0.0</td>\n",
              "      <td>0.0</td>\n",
              "      <td>0.000000</td>\n",
              "      <td>0.000000</td>\n",
              "      <td>0.0</td>\n",
              "      <td>0.0</td>\n",
              "      <td>0.0</td>\n",
              "      <td>0.000000</td>\n",
              "      <td>0.0</td>\n",
              "      <td>0.0</td>\n",
              "      <td>0.0</td>\n",
              "      <td>0.0</td>\n",
              "      <td>0.000000</td>\n",
              "      <td>0.0</td>\n",
              "      <td>0.0</td>\n",
              "      <td>0.368317</td>\n",
              "      <td>0.000000</td>\n",
              "      <td>0.241274</td>\n",
              "      <td>0.000000</td>\n",
              "      <td>0.0</td>\n",
              "      <td>0.000000</td>\n",
              "      <td>0.0</td>\n",
              "      <td>0.000000</td>\n",
              "      <td>0.0</td>\n",
              "      <td>0.000000</td>\n",
              "      <td>0.000000</td>\n",
              "      <td>0.0</td>\n",
              "      <td>0.0</td>\n",
              "      <td>0.0</td>\n",
              "      <td>0.0</td>\n",
              "      <td>0.0</td>\n",
              "      <td>0.237739</td>\n",
              "      <td>0.192582</td>\n",
              "      <td>0.0</td>\n",
              "      <td>0.0</td>\n",
              "      <td>0.0</td>\n",
              "    </tr>\n",
              "    <tr>\n",
              "      <th>12230</th>\n",
              "      <td>0.0</td>\n",
              "      <td>0.0</td>\n",
              "      <td>0.0</td>\n",
              "      <td>0.0</td>\n",
              "      <td>0.0</td>\n",
              "      <td>0.000000</td>\n",
              "      <td>0.0</td>\n",
              "      <td>0.0</td>\n",
              "      <td>0.0</td>\n",
              "      <td>0.0</td>\n",
              "      <td>0.0</td>\n",
              "      <td>0.0</td>\n",
              "      <td>0.0</td>\n",
              "      <td>0.0</td>\n",
              "      <td>0.000000</td>\n",
              "      <td>0.0</td>\n",
              "      <td>0.0</td>\n",
              "      <td>0.0</td>\n",
              "      <td>0.0</td>\n",
              "      <td>0.000000</td>\n",
              "      <td>0.0</td>\n",
              "      <td>0.0</td>\n",
              "      <td>0.0</td>\n",
              "      <td>0.0</td>\n",
              "      <td>0.00000</td>\n",
              "      <td>0.0</td>\n",
              "      <td>0.0</td>\n",
              "      <td>0.0</td>\n",
              "      <td>0.0</td>\n",
              "      <td>0.0</td>\n",
              "      <td>0.0</td>\n",
              "      <td>0.0</td>\n",
              "      <td>0.0</td>\n",
              "      <td>0.0</td>\n",
              "      <td>0.0</td>\n",
              "      <td>0.0</td>\n",
              "      <td>0.00000</td>\n",
              "      <td>0.0</td>\n",
              "      <td>0.000000</td>\n",
              "      <td>0.0</td>\n",
              "      <td>...</td>\n",
              "      <td>0.0</td>\n",
              "      <td>0.0</td>\n",
              "      <td>0.000000</td>\n",
              "      <td>0.268892</td>\n",
              "      <td>0.0</td>\n",
              "      <td>0.0</td>\n",
              "      <td>0.000000</td>\n",
              "      <td>0.000000</td>\n",
              "      <td>0.0</td>\n",
              "      <td>0.0</td>\n",
              "      <td>0.0</td>\n",
              "      <td>0.000000</td>\n",
              "      <td>0.0</td>\n",
              "      <td>0.0</td>\n",
              "      <td>0.0</td>\n",
              "      <td>0.0</td>\n",
              "      <td>0.000000</td>\n",
              "      <td>0.0</td>\n",
              "      <td>0.0</td>\n",
              "      <td>0.000000</td>\n",
              "      <td>0.000000</td>\n",
              "      <td>0.000000</td>\n",
              "      <td>0.000000</td>\n",
              "      <td>0.0</td>\n",
              "      <td>0.215988</td>\n",
              "      <td>0.0</td>\n",
              "      <td>0.000000</td>\n",
              "      <td>0.0</td>\n",
              "      <td>0.000000</td>\n",
              "      <td>0.236439</td>\n",
              "      <td>0.0</td>\n",
              "      <td>0.0</td>\n",
              "      <td>0.0</td>\n",
              "      <td>0.0</td>\n",
              "      <td>0.0</td>\n",
              "      <td>0.000000</td>\n",
              "      <td>0.000000</td>\n",
              "      <td>0.0</td>\n",
              "      <td>0.0</td>\n",
              "      <td>0.0</td>\n",
              "    </tr>\n",
              "    <tr>\n",
              "      <th>12231</th>\n",
              "      <td>0.0</td>\n",
              "      <td>0.0</td>\n",
              "      <td>0.0</td>\n",
              "      <td>0.0</td>\n",
              "      <td>0.0</td>\n",
              "      <td>0.000000</td>\n",
              "      <td>0.0</td>\n",
              "      <td>0.0</td>\n",
              "      <td>0.0</td>\n",
              "      <td>0.0</td>\n",
              "      <td>0.0</td>\n",
              "      <td>0.0</td>\n",
              "      <td>0.0</td>\n",
              "      <td>0.0</td>\n",
              "      <td>0.000000</td>\n",
              "      <td>0.0</td>\n",
              "      <td>0.0</td>\n",
              "      <td>0.0</td>\n",
              "      <td>0.0</td>\n",
              "      <td>0.000000</td>\n",
              "      <td>0.0</td>\n",
              "      <td>0.0</td>\n",
              "      <td>0.0</td>\n",
              "      <td>0.0</td>\n",
              "      <td>0.00000</td>\n",
              "      <td>0.0</td>\n",
              "      <td>0.0</td>\n",
              "      <td>0.0</td>\n",
              "      <td>0.0</td>\n",
              "      <td>0.0</td>\n",
              "      <td>0.0</td>\n",
              "      <td>0.0</td>\n",
              "      <td>0.0</td>\n",
              "      <td>0.0</td>\n",
              "      <td>0.0</td>\n",
              "      <td>0.0</td>\n",
              "      <td>0.00000</td>\n",
              "      <td>0.0</td>\n",
              "      <td>0.000000</td>\n",
              "      <td>0.0</td>\n",
              "      <td>...</td>\n",
              "      <td>0.0</td>\n",
              "      <td>0.0</td>\n",
              "      <td>0.381452</td>\n",
              "      <td>0.000000</td>\n",
              "      <td>0.0</td>\n",
              "      <td>0.0</td>\n",
              "      <td>0.226675</td>\n",
              "      <td>0.000000</td>\n",
              "      <td>0.0</td>\n",
              "      <td>0.0</td>\n",
              "      <td>0.0</td>\n",
              "      <td>0.000000</td>\n",
              "      <td>0.0</td>\n",
              "      <td>0.0</td>\n",
              "      <td>0.0</td>\n",
              "      <td>0.0</td>\n",
              "      <td>0.000000</td>\n",
              "      <td>0.0</td>\n",
              "      <td>0.0</td>\n",
              "      <td>0.000000</td>\n",
              "      <td>0.000000</td>\n",
              "      <td>0.000000</td>\n",
              "      <td>0.000000</td>\n",
              "      <td>0.0</td>\n",
              "      <td>0.000000</td>\n",
              "      <td>0.0</td>\n",
              "      <td>0.000000</td>\n",
              "      <td>0.0</td>\n",
              "      <td>0.339240</td>\n",
              "      <td>0.000000</td>\n",
              "      <td>0.0</td>\n",
              "      <td>0.0</td>\n",
              "      <td>0.0</td>\n",
              "      <td>0.0</td>\n",
              "      <td>0.0</td>\n",
              "      <td>0.000000</td>\n",
              "      <td>0.000000</td>\n",
              "      <td>0.0</td>\n",
              "      <td>0.0</td>\n",
              "      <td>0.0</td>\n",
              "    </tr>\n",
              "  </tbody>\n",
              "</table>\n",
              "<p>12232 rows × 500 columns</p>\n",
              "</div>"
            ],
            "text/plain": [
              "        10   11  112   12   13  ...    vistas    âmbito  órgão  órgãos  único\n",
              "0      0.0  0.0  0.0  0.0  0.0  ...  0.252731  0.000000    0.0     0.0    0.0\n",
              "1      0.0  0.0  0.0  0.0  0.0  ...  0.000000  0.000000    0.0     0.0    0.0\n",
              "2      0.0  0.0  0.0  0.0  0.0  ...  0.000000  0.000000    0.0     0.0    0.0\n",
              "3      0.0  0.0  0.0  0.0  0.0  ...  0.000000  0.000000    0.0     0.0    0.0\n",
              "4      0.0  0.0  0.0  0.0  0.0  ...  0.000000  0.000000    0.0     0.0    0.0\n",
              "...    ...  ...  ...  ...  ...  ...       ...       ...    ...     ...    ...\n",
              "12227  0.0  0.0  0.0  0.0  0.0  ...  0.000000  0.000000    0.0     0.0    0.0\n",
              "12228  0.0  0.0  0.0  0.0  0.0  ...  0.000000  0.000000    0.0     0.0    0.0\n",
              "12229  0.0  0.0  0.0  0.0  0.0  ...  0.237739  0.192582    0.0     0.0    0.0\n",
              "12230  0.0  0.0  0.0  0.0  0.0  ...  0.000000  0.000000    0.0     0.0    0.0\n",
              "12231  0.0  0.0  0.0  0.0  0.0  ...  0.000000  0.000000    0.0     0.0    0.0\n",
              "\n",
              "[12232 rows x 500 columns]"
            ]
          },
          "metadata": {},
          "execution_count": 36
        }
      ]
    },
    {
      "cell_type": "markdown",
      "source": [
        "### Teste Retirando Stopwords e Números, limitado a apenas 500 palavras em no máximo 70% dos documentos e mínimo de 3 documentos\n",
        "\n",
        "\n"
      ],
      "metadata": {
        "id": "NhToG535ByOO"
      }
    },
    {
      "cell_type": "code",
      "source": [
        "# instancia o transform TfidfVectorizer sem números \n",
        "regex =r'(?u)\\b[A-Za-z]+\\b'\n",
        "tfidf_vectorizer_no_numbers = TfidfVectorizer(max_features=500, max_df=0.7, min_df=3, stop_words=stopwords, token_pattern=regex)\n",
        "# tokeniza e cria o vocabulário\n",
        "tfidf_vectorizer_no_numbers.fit(X_train)\n",
        "# mostra o vocabulário criado\n",
        "print('Vocabulário: ')\n",
        "print(tfidf_vectorizer_no_numbers.vocabulary_)\n",
        "\n",
        "print('\\nPeso de cada palavra do vocabulário: ')\n",
        "print(tfidf_vectorizer_no_numbers.idf_)"
      ],
      "metadata": {
        "id": "4uqaYpsBfrZW",
        "colab": {
          "base_uri": "https://localhost:8080/"
        },
        "outputId": "139375b0-6a7a-4245-aa28-f2726ae7d7f7"
      },
      "execution_count": 37,
      "outputs": [
        {
          "output_type": "stream",
          "name": "stdout",
          "text": [
            "Vocabulário: \n",
            "{'deve': 138, 'adotar': 8, 'vistas': 498, 'evitar': 194, 'servidores': 448, 'cargo': 54, 'direta': 148, 'estabelecimento': 187, 'processo': 386, 'autoridade': 38, 'observar': 330, 'legal': 283, 'falta': 207, 'defesa': 123, 'dever': 141, 'valores': 490, 'recebidos': 412, 'conhecimento': 83, 'adquirido': 9, 'desenvolvimento': 129, 'meio': 299, 'ato': 36, 'administrativo': 5, 'ainda': 14, 'judicial': 275, 'instituidor': 258, 'ser': 445, 'comprovada': 73, 'outros': 339, 'elementos': 165, 'tcu': 466, 'objeto': 327, 'termos': 473, 'itens': 272, 'fornecimento': 227, 'materiais': 294, 'equipamentos': 180, 'natureza': 313, 'empresas': 172, 'percentual': 353, 'global': 237, 'obra': 328, 'devem': 139, 'despesas': 131, 'bdi': 42, 'demais': 124, 'constitucional': 93, 'despesa': 130, 'pagamento': 340, 'tempo': 468, 'direito': 147, 'aposentadoria': 28, 'atividade': 34, 'servidor': 447, 'afronta': 11, 'apenas': 24, 'economicidade': 158, 'porquanto': 368, 'profissional': 390, 'antes': 23, 'nova': 320, 'profissionais': 389, 'prazo': 373, 'determinado': 136, 'pode': 363, 'ocorrer': 331, 'concurso': 79, 'casos': 58, 'necessidade': 314, 'excepcional': 197, 'interesse': 264, 'respectivos': 436, 'processos': 387, 'recursos': 418, 'previstos': 381, 'lei': 285, 'conta': 95, 'nome': 317, 'respectiva': 434, 'contas': 97, 'prefeito': 374, 'municipal': 311, 'atos': 37, 'procedimentos': 385, 'irregulares': 268, 'sistema': 452, 'responsabilidade': 438, 'sobre': 454, 'face': 206, 'leis': 286, 'tais': 463, 'custos': 116, 'licitantes': 289, 'prestado': 375, 'cumprimento': 114, 'caracteriza': 52, 'i': 241, 'in': 248, 'todos': 477, 'mesma': 303, 'arts': 30, 'civil': 65, 'empresa': 171, 'pessoa': 358, 'caso': 57, 'multa': 310, 'cabe': 47, 'sob': 453, 'pena': 351, 'vez': 496, 'personalidade': 356, 'outras': 337, 'estabelecer': 184, 'contrato': 103, 'parcela': 343, 'ano': 18, 'dessa': 132, 'cada': 49, 'conforme': 82, 'inidoneidade': 257, 'art': 29, 'finalidade': 217, 'certame': 63, 'maior': 293, 'vantagem': 491, 'irregularidade': 269, 'quais': 403, 'efeitos': 161, 'financeiros': 220, 'engenharia': 173, 'contratada': 99, 'total': 479, 'administrativa': 4, 'diretamente': 149, 'fundamentada': 229, 'unidade': 485, 'relator': 430, 'propostas': 397, 'somente': 458, 'objetivo': 325, 'nacional': 312, 'promover': 394, 'cujo': 112, 'exclusivamente': 199, 'havendo': 239, 'ordem': 334, 'determinar': 137, 'pagamentos': 341, 'decorrentes': 121, 'impede': 245, 'registro': 424, 'federais': 212, 'mediante': 296, 'moralidade': 308, 'mercado': 302, 'irregular': 267, 'atestados': 33, 'partir': 349, 'momento': 307, 'competente': 69, 'boa': 45, 'relativa': 429, 'devendo': 140, 'licitante': 288, 'possibilidade': 370, 'comprovar': 75, 'capacidade': 50, 'bem': 43, 'fraude': 228, 'enseja': 174, 'admite': 7, 'regime': 422, 'social': 456, 'ex': 195, 'empregados': 169, 'prevista': 378, 'celetista': 62, 'dar': 118, 'respeito': 437, 'material': 295, 'prova': 398, 'interessados': 263, 'publicidade': 401, 'contagem': 96, 'emprego': 170, 'adicional': 2, 'outro': 338, 'militar': 304, 'desvio': 135, 'instituto': 259, 'atendimento': 32, 'competitivo': 71, 'exemplo': 200, 'quadro': 402, 'pessoal': 359, 'obras': 329, 'modo': 306, 'proposta': 396, 'forma': 225, 'superior': 462, 'acordo': 1, 'trabalho': 480, 'configura': 81, 'norma': 318, 'efeito': 160, 'contra': 98, 'medidas': 298, 'pois': 367, 'medida': 297, 'irregularidades': 270, 'fiscal': 223, 'tribunal': 484, 'recurso': 417, 'ente': 176, 'nulidade': 323, 'devida': 142, 'inciso': 250, 'ii': 242, 'c': 46, 'proventos': 400, 'mera': 301, 'erro': 181, 'junto': 278, 'interessado': 262, 'contudo': 108, 'valor': 489, 'pagos': 342, 'contratados': 101, 'requisitos': 433, 'fundo': 231, 'recursal': 416, 'requisito': 432, 'aplica': 25, 'decorrente': 120, 'acerca': 0, 'cabendo': 48, 'especiais': 182, 'constar': 91, 'processual': 388, 'iv': 273, 'regimento': 423, 'interno': 265, 'constitui': 94, 'desde': 127, 'federal': 213, 'correspondente': 110, 'anteriormente': 22, 'mp': 309, 'exigir': 202, 'fins': 221, 'transferidos': 481, 'utilizados': 487, 'ajuste': 15, 'ressarcimento': 439, 'embora': 167, 'sido': 450, 'documentos': 154, 'terceiros': 471, 'podem': 364, 'si': 449, 'efetiva': 162, 'uso': 486, 'repassados': 431, 'nexo': 316, 'contratos': 104, 'permite': 355, 'economia': 157, 'bens': 44, 'oficial': 332, 'justificativa': 280, 'outra': 336, 'qualquer': 405, 'ampla': 17, 'tal': 464, 'concreto': 78, 'regra': 425, 'dano': 117, 'fato': 209, 'entidade': 178, 'privada': 382, 'estabelecidos': 186, 'caput': 51, 'projeto': 392, 'eventual': 193, 'contratual': 106, 'base': 41, 'amparo': 16, 'sujeita': 461, 'julgamento': 277, 'expressa': 203, 'emenda': 168, 'fundamento': 230, 'iii': 243, 'validade': 488, 'quanto': 407, 'devidamente': 143, 'atividades': 35, 'edital': 159, 'participar': 348, 'sociais': 455, 'entidades': 179, 'b': 40, 'lc': 281, 'referida': 420, 'indevida': 253, 'ti': 474, 'horas': 240, 'exame': 196, 'pedido': 350, 'impossibilidade': 247, 'carreira': 56, 'gestor': 235, 'fazer': 211, 'planejamento': 361, 'ilegal': 244, 'recolhimento': 415, 'todas': 476, 's': 441, 'vedada': 493, 'fase': 208, 'operacional': 333, 'invalidez': 266, 'prestar': 376, 'modalidade': 305, 'eventuais': 192, 'constantes': 90, 'suficiente': 460, 'vista': 497, 'efetivamente': 163, 'praticados': 372, 'simples': 451, 'complementar': 72, 'portanto': 369, 'colegiado': 66, 'privado': 383, 'poder': 366, 'novo': 321, 'embargos': 166, 'ec': 156, 'independentemente': 252, 'agentes': 13, 'administrativos': 6, 'grave': 238, 'desempenho': 128, 'limite': 290, 'disposto': 151, 'programa': 391, 'qualidade': 404, 'conjunto': 84, 'regular': 427, 'sendo': 444, 'fiscalizar': 224, 'controle': 107, 'externo': 205, 'respectivo': 435, 'provas': 399, 'parte': 347, 'vencimentos': 495, 'cargos': 55, 'reforma': 421, 'tanto': 465, 'efetivo': 164, 'salvo': 442, 'local': 292, 'fim': 215, 'conduta': 80, 'constitucionais': 92, 'comprovado': 74, 'tomada': 478, 'especial': 183, 'realizada': 409, 'limites': 291, 'julgado': 276, 'numero': 324, 'custo': 115, 'parcelas': 344, 'data': 119, 'expressamente': 204, 'vpni': 499, 'gerais': 233, 'item': 271, 'competitividade': 70, 'objetivos': 326, 'ter': 470, 'considerados': 89, 'demonstrar': 125, 'implica': 246, 'proporcional': 395, 'regras': 426, 'refere': 419, 'estado': 188, 'culpa': 113, 'assim': 31, 'parecer': 346, 'tipo': 475, 'contratado': 100, 'durante': 155, 'regularidade': 428, 'garantia': 232, 'previstas': 379, 'podendo': 365, 'decreto': 122, 'final': 216, 'financeira': 218, 'cautelar': 61, 'quantitativos': 406, 'termo': 472, 'concedente': 76, 'convenente': 109, 'juros': 279, 'recebimento': 413, 'cuja': 111, 'tecnologia': 467, 'realizar': 411, 'considerada': 87, 'indevidamente': 254, 'considerado': 88, 'descumprimento': 126, 'agente': 12, 'previamente': 377, 'estabelecido': 185, 'documento': 153, 'anterior': 21, 'gestores': 236, 'plano': 362, 'receita': 414, 'administradores': 3, 'causa': 59, 'devido': 144, 'trata': 482, 'legalidade': 284, 'parcial': 345, 'novos': 322, 'licitado': 287, 'original': 335, 'inexigibilidade': 255, 'ensino': 175, 'apoio': 27, 'projetos': 393, 'integral': 261, 'anos': 19, 'inicial': 256, 'estudos': 191, 'contratante': 102, 'risco': 440, 'compete': 68, 'estados': 189, 'procedimento': 384, 'serem': 446, 'inclusive': 251, 'nesse': 315, 'instrumento': 260, 'autos': 39, 'pessoas': 360, 'normas': 319, 'quintos': 408, 'tratar': 483, 'dispensa': 150, 'conselhos': 86, 'permanente': 354, 'legais': 282, 'perante': 352, 'formal': 226, 'menor': 300, 'geral': 234, 'distrito': 152, 'dias': 146, 'aplicada': 26, 'conselho': 85, 'sociedade': 457, 'judiciais': 274, 'vencimento': 494, 'cinco': 64, 'exclusiva': 198, 'sempre': 443, 'estar': 190, 'financeiro': 219, 'fatos': 210, 'comissionada': 67, 'stf': 459, 'vantagens': 492, 'pesquisa': 357, 'contratuais': 105, 'previsto': 380, 'concedida': 77, 'entes': 177, 'desse': 133, 'caracterizar': 53, 'desses': 134, 'feita': 214, 'tendo': 469, 'ante': 20, 'exige': 201, 'posterior': 371, 'causalidade': 60, 'fiscais': 222, 'realizadas': 410, 'inatividade': 249, 'diante': 145, 'afasta': 10}\n",
            "\n",
            "Peso de cada palavra do vocabulário: \n",
            "[5.43515875 5.17545053 5.34298829 5.9575452  4.8024207  5.12868877\n",
            " 5.49191157 5.2414085  5.52909057 5.75793215 5.45606544 5.44904787\n",
            " 4.98694248 5.57561059 4.0965345  5.20788581 5.33048813 4.92709556\n",
            " 5.50661772 4.91063429 5.81677265 5.06003436 5.49191157 4.74201157\n",
            " 4.04199151 5.26439802 5.55986223 5.7484534  3.72728077 2.41557527\n",
            " 4.91063429 5.06955825 5.35564669 5.82692502 4.46385751 4.86281641\n",
            " 3.94419377 4.1258944  5.33671868 4.85121087 5.21893565 4.05405023\n",
            " 5.71141213 4.48230335 4.70478223 4.89043158 5.02739743 4.46647189\n",
            " 5.49191157 4.8944396  5.22450669 5.56770541 5.28199378 5.86859771\n",
            " 4.10744369 4.64045137 5.879293   3.5564837  4.64045137 5.43515875\n",
            " 5.82692502 5.64971856 5.90103299 4.46909312 5.79677198 4.45605513\n",
            " 5.64120787 6.04244464 5.24710652 5.47025007 5.71141213 5.86859771\n",
            " 5.06478497 5.632769   5.86859771 5.36203649 5.21893565 5.78691968\n",
            " 5.79677198 5.32429616 5.21893565 4.89043158 5.18078388 5.32429616\n",
            " 5.94598438 5.68450468 5.7675016  5.77716351 5.57561059 5.53669517\n",
            " 5.71141213 5.64971856 5.41468022 4.67209958 4.83216267 5.12362547\n",
            " 5.0137298  3.32264934 5.42828588 4.65931986 5.01826495 5.7484534\n",
            " 5.26439802 3.92116896 4.42042795 5.75793215 5.01826495 4.44063066\n",
            " 5.43515875 5.15961907 5.47741856 5.69339363 5.56770541 5.7484534\n",
            " 4.87062895 5.69339363 4.88246341 4.56545372 5.82692502 4.29159508\n",
            " 4.78787499 5.1036248  4.44318494 4.60675753 5.28792852 5.4420792\n",
            " 5.81677265 4.14090407 5.55986223 5.49923761 5.59970814 4.42293108\n",
            " 5.23574276 5.67569405 5.68450468 5.46313261 5.81677265 5.78691968\n",
            " 2.77803894 3.61060946 4.57125084 5.06003436 5.27022894 4.94383236\n",
            " 5.72976127 5.50661772 5.89010392 3.91361035 4.98694248 5.62440075\n",
            " 5.20240634 4.80977368 5.80672231 5.89010392 4.80977368 5.57561059\n",
            " 5.52154337 5.60787145 5.89010392 4.69158072 5.14920231 5.08888252\n",
            " 5.55986223 5.49191157 4.88246341 4.96085404 5.00472073 5.49923761\n",
            " 5.64120787 5.55986223 5.68450468 4.05752246 4.42293108 5.78691968\n",
            " 5.47741856 5.84754431 5.02282077 5.64971856 4.1972844  4.45088716\n",
            " 5.85801561 5.4420792  5.89010392 4.18931623 5.86859771 5.71141213\n",
            " 5.64120787 5.82692502 5.47741856 5.78691968 5.20788581 5.879293\n",
            " 5.50661772 4.83594339 5.48463881 5.47741856 5.3181423  5.53669517\n",
            " 5.93455568 5.2528372  5.35564669 5.632769   5.23010895 5.52909057\n",
            " 5.5140527  5.14403434 5.3181423  5.28199378 5.15439713 4.58294688\n",
            " 5.15439713 5.86859771 4.43300673 3.41064687 5.85801561 5.00024645\n",
            " 5.879293   4.86281641 4.99579209 5.34929746 5.84754431 4.00007423\n",
            " 5.75793215 5.41468022 5.82692502 3.81066238 5.64971856 5.79677198\n",
            " 5.48463881 5.89010392 4.98694248 5.34929746 5.5140527  5.66696037\n",
            " 5.08401633 4.21953001 5.54435805 5.4420792  5.4012572  5.15961907\n",
            " 5.96924124 3.98702347 4.20935698 4.78068072 4.21953001 5.47741856\n",
            " 5.4420792  5.68450468 5.01826495 5.86859771 3.42532604 5.11858767\n",
            " 5.54435805 5.12868877 5.46313261 5.7023623  5.46313261 5.37493989\n",
            " 5.22450669 5.64971856 5.28199378 5.49923761 5.26439802 5.66696037\n",
            " 4.69158072 4.78787499 5.54435805 4.34578441 5.32429616 4.45088716\n",
            " 4.86671505 5.65830231 5.33048813 5.45606544 5.82692502 4.51473863\n",
            " 5.36846738 4.15806369 5.34298829 5.81677265 5.67569405 5.85801561\n",
            " 5.21893565 3.96776124 5.2414085  2.29517687 5.82692502 5.81677265\n",
            " 4.58001002 4.7951214  5.0937725  5.54435805 5.45606544 5.05530622\n",
            " 6.04244464 5.78691968 4.39817734 4.79149163 5.29990471 4.37163779\n",
            " 5.65830231 5.72976127 4.61279984 5.27609406 5.59161093 5.15961907\n",
            " 4.92295477 5.47025007 5.78691968 5.79677198 4.20330247 5.40794619\n",
            " 4.68504475 4.1258944  5.20240634 5.81677265 5.32429616 5.68450468\n",
            " 5.27022894 5.09868652 5.30594702 5.19153667 5.59970814 5.7484534\n",
            " 5.9575452  5.47741856 5.4420792  3.52638283 4.36215904 4.54259558\n",
            " 5.59970814 5.60787145 5.39461266 5.83718152 5.7675016  5.7675016\n",
            " 5.47025007 5.05060033 5.33671868 4.70478223 3.82021877 5.02282077\n",
            " 5.83718152 4.71816036 5.20788581 5.81677265 5.7023623  4.31832273\n",
            " 5.80672231 4.46909312 5.77716351 4.98694248 5.52154337 5.28792852\n",
            " 5.67569405 5.75793215 5.879293   5.68450468 4.96515513 4.54542444\n",
            " 5.77716351 5.9575452  5.13377784 3.57993893 4.65931986 5.35564669\n",
            " 4.63734095 4.15998861 5.69339363 5.54435805 4.78787499 5.58357876\n",
            " 5.4012572  4.13713048 5.80672231 5.29389868 5.41468022 5.7023623\n",
            " 4.1992864  4.94383236 4.9913575  5.17545053 5.46313261 5.61610195\n",
            " 4.85506444 5.38145458 3.54808911 4.66568931 5.00472073 5.53669517\n",
            " 4.86281641 5.57561059 5.00472073 5.55208009 5.84754431 5.84754431\n",
            " 4.92295477 5.03661409 5.23010895 5.72054461 4.37402158 5.7484534\n",
            " 5.92325613 5.14920231 5.55986223 4.43300673 5.59161093 4.83594339\n",
            " 4.85121087 5.58357876 5.41468022 5.64971856 5.28792852 5.43515875\n",
            " 5.93455568 5.46313261 5.92325613 4.71144892 3.09800567 5.7675016\n",
            " 5.60787145 5.83718152 4.26770686 5.05060033 4.52857011 4.98694248\n",
            " 5.79677198 4.86671505 5.42828588 5.83718152 5.81677265 5.38801198\n",
            " 5.53669517 4.60675753 5.879293   5.34298829 5.59970814 5.60787145\n",
            " 4.21953001 5.04591648 5.64120787 5.4012572  5.50661772 5.64120787\n",
            " 4.13337107 2.45401514 4.8024207  4.01329756 4.05231863 5.2528372\n",
            " 4.77710289 5.83718152 4.66888931 4.11847322 3.93031537 5.71141213\n",
            " 4.81718112 5.89010392 3.82159145 5.77716351 4.96085404 5.55986223\n",
            " 4.99579209 4.93962182 4.64045137 5.40794619 2.66515959 5.71141213\n",
            " 3.7449357  5.20240634 4.88246341 5.72976127 5.2528372  4.34346691\n",
            " 6.06808708 5.54435805 5.7484534  4.79876439 4.72491714 5.29990471\n",
            " 4.55395934 5.14403434 5.53669517 5.83718152 4.06801206 5.69339363\n",
            " 5.26439802 5.84754431 5.80672231 4.02165183 3.98864553 4.34346691\n",
            " 5.4420792  5.42145991 5.879293   5.62440075 4.14090407 4.93125357\n",
            " 5.46313261 5.78691968]\n"
          ]
        }
      ]
    },
    {
      "cell_type": "code",
      "source": [
        "print(tfidf_vectorizer_no_numbers.vocabulary_)"
      ],
      "metadata": {
        "id": "nGwvu9U9gI9N",
        "colab": {
          "base_uri": "https://localhost:8080/"
        },
        "outputId": "5ab2966d-82f3-4d39-eb25-a84530511738"
      },
      "execution_count": 38,
      "outputs": [
        {
          "output_type": "stream",
          "name": "stdout",
          "text": [
            "{'deve': 138, 'adotar': 8, 'vistas': 498, 'evitar': 194, 'servidores': 448, 'cargo': 54, 'direta': 148, 'estabelecimento': 187, 'processo': 386, 'autoridade': 38, 'observar': 330, 'legal': 283, 'falta': 207, 'defesa': 123, 'dever': 141, 'valores': 490, 'recebidos': 412, 'conhecimento': 83, 'adquirido': 9, 'desenvolvimento': 129, 'meio': 299, 'ato': 36, 'administrativo': 5, 'ainda': 14, 'judicial': 275, 'instituidor': 258, 'ser': 445, 'comprovada': 73, 'outros': 339, 'elementos': 165, 'tcu': 466, 'objeto': 327, 'termos': 473, 'itens': 272, 'fornecimento': 227, 'materiais': 294, 'equipamentos': 180, 'natureza': 313, 'empresas': 172, 'percentual': 353, 'global': 237, 'obra': 328, 'devem': 139, 'despesas': 131, 'bdi': 42, 'demais': 124, 'constitucional': 93, 'despesa': 130, 'pagamento': 340, 'tempo': 468, 'direito': 147, 'aposentadoria': 28, 'atividade': 34, 'servidor': 447, 'afronta': 11, 'apenas': 24, 'economicidade': 158, 'porquanto': 368, 'profissional': 390, 'antes': 23, 'nova': 320, 'profissionais': 389, 'prazo': 373, 'determinado': 136, 'pode': 363, 'ocorrer': 331, 'concurso': 79, 'casos': 58, 'necessidade': 314, 'excepcional': 197, 'interesse': 264, 'respectivos': 436, 'processos': 387, 'recursos': 418, 'previstos': 381, 'lei': 285, 'conta': 95, 'nome': 317, 'respectiva': 434, 'contas': 97, 'prefeito': 374, 'municipal': 311, 'atos': 37, 'procedimentos': 385, 'irregulares': 268, 'sistema': 452, 'responsabilidade': 438, 'sobre': 454, 'face': 206, 'leis': 286, 'tais': 463, 'custos': 116, 'licitantes': 289, 'prestado': 375, 'cumprimento': 114, 'caracteriza': 52, 'i': 241, 'in': 248, 'todos': 477, 'mesma': 303, 'arts': 30, 'civil': 65, 'empresa': 171, 'pessoa': 358, 'caso': 57, 'multa': 310, 'cabe': 47, 'sob': 453, 'pena': 351, 'vez': 496, 'personalidade': 356, 'outras': 337, 'estabelecer': 184, 'contrato': 103, 'parcela': 343, 'ano': 18, 'dessa': 132, 'cada': 49, 'conforme': 82, 'inidoneidade': 257, 'art': 29, 'finalidade': 217, 'certame': 63, 'maior': 293, 'vantagem': 491, 'irregularidade': 269, 'quais': 403, 'efeitos': 161, 'financeiros': 220, 'engenharia': 173, 'contratada': 99, 'total': 479, 'administrativa': 4, 'diretamente': 149, 'fundamentada': 229, 'unidade': 485, 'relator': 430, 'propostas': 397, 'somente': 458, 'objetivo': 325, 'nacional': 312, 'promover': 394, 'cujo': 112, 'exclusivamente': 199, 'havendo': 239, 'ordem': 334, 'determinar': 137, 'pagamentos': 341, 'decorrentes': 121, 'impede': 245, 'registro': 424, 'federais': 212, 'mediante': 296, 'moralidade': 308, 'mercado': 302, 'irregular': 267, 'atestados': 33, 'partir': 349, 'momento': 307, 'competente': 69, 'boa': 45, 'relativa': 429, 'devendo': 140, 'licitante': 288, 'possibilidade': 370, 'comprovar': 75, 'capacidade': 50, 'bem': 43, 'fraude': 228, 'enseja': 174, 'admite': 7, 'regime': 422, 'social': 456, 'ex': 195, 'empregados': 169, 'prevista': 378, 'celetista': 62, 'dar': 118, 'respeito': 437, 'material': 295, 'prova': 398, 'interessados': 263, 'publicidade': 401, 'contagem': 96, 'emprego': 170, 'adicional': 2, 'outro': 338, 'militar': 304, 'desvio': 135, 'instituto': 259, 'atendimento': 32, 'competitivo': 71, 'exemplo': 200, 'quadro': 402, 'pessoal': 359, 'obras': 329, 'modo': 306, 'proposta': 396, 'forma': 225, 'superior': 462, 'acordo': 1, 'trabalho': 480, 'configura': 81, 'norma': 318, 'efeito': 160, 'contra': 98, 'medidas': 298, 'pois': 367, 'medida': 297, 'irregularidades': 270, 'fiscal': 223, 'tribunal': 484, 'recurso': 417, 'ente': 176, 'nulidade': 323, 'devida': 142, 'inciso': 250, 'ii': 242, 'c': 46, 'proventos': 400, 'mera': 301, 'erro': 181, 'junto': 278, 'interessado': 262, 'contudo': 108, 'valor': 489, 'pagos': 342, 'contratados': 101, 'requisitos': 433, 'fundo': 231, 'recursal': 416, 'requisito': 432, 'aplica': 25, 'decorrente': 120, 'acerca': 0, 'cabendo': 48, 'especiais': 182, 'constar': 91, 'processual': 388, 'iv': 273, 'regimento': 423, 'interno': 265, 'constitui': 94, 'desde': 127, 'federal': 213, 'correspondente': 110, 'anteriormente': 22, 'mp': 309, 'exigir': 202, 'fins': 221, 'transferidos': 481, 'utilizados': 487, 'ajuste': 15, 'ressarcimento': 439, 'embora': 167, 'sido': 450, 'documentos': 154, 'terceiros': 471, 'podem': 364, 'si': 449, 'efetiva': 162, 'uso': 486, 'repassados': 431, 'nexo': 316, 'contratos': 104, 'permite': 355, 'economia': 157, 'bens': 44, 'oficial': 332, 'justificativa': 280, 'outra': 336, 'qualquer': 405, 'ampla': 17, 'tal': 464, 'concreto': 78, 'regra': 425, 'dano': 117, 'fato': 209, 'entidade': 178, 'privada': 382, 'estabelecidos': 186, 'caput': 51, 'projeto': 392, 'eventual': 193, 'contratual': 106, 'base': 41, 'amparo': 16, 'sujeita': 461, 'julgamento': 277, 'expressa': 203, 'emenda': 168, 'fundamento': 230, 'iii': 243, 'validade': 488, 'quanto': 407, 'devidamente': 143, 'atividades': 35, 'edital': 159, 'participar': 348, 'sociais': 455, 'entidades': 179, 'b': 40, 'lc': 281, 'referida': 420, 'indevida': 253, 'ti': 474, 'horas': 240, 'exame': 196, 'pedido': 350, 'impossibilidade': 247, 'carreira': 56, 'gestor': 235, 'fazer': 211, 'planejamento': 361, 'ilegal': 244, 'recolhimento': 415, 'todas': 476, 's': 441, 'vedada': 493, 'fase': 208, 'operacional': 333, 'invalidez': 266, 'prestar': 376, 'modalidade': 305, 'eventuais': 192, 'constantes': 90, 'suficiente': 460, 'vista': 497, 'efetivamente': 163, 'praticados': 372, 'simples': 451, 'complementar': 72, 'portanto': 369, 'colegiado': 66, 'privado': 383, 'poder': 366, 'novo': 321, 'embargos': 166, 'ec': 156, 'independentemente': 252, 'agentes': 13, 'administrativos': 6, 'grave': 238, 'desempenho': 128, 'limite': 290, 'disposto': 151, 'programa': 391, 'qualidade': 404, 'conjunto': 84, 'regular': 427, 'sendo': 444, 'fiscalizar': 224, 'controle': 107, 'externo': 205, 'respectivo': 435, 'provas': 399, 'parte': 347, 'vencimentos': 495, 'cargos': 55, 'reforma': 421, 'tanto': 465, 'efetivo': 164, 'salvo': 442, 'local': 292, 'fim': 215, 'conduta': 80, 'constitucionais': 92, 'comprovado': 74, 'tomada': 478, 'especial': 183, 'realizada': 409, 'limites': 291, 'julgado': 276, 'numero': 324, 'custo': 115, 'parcelas': 344, 'data': 119, 'expressamente': 204, 'vpni': 499, 'gerais': 233, 'item': 271, 'competitividade': 70, 'objetivos': 326, 'ter': 470, 'considerados': 89, 'demonstrar': 125, 'implica': 246, 'proporcional': 395, 'regras': 426, 'refere': 419, 'estado': 188, 'culpa': 113, 'assim': 31, 'parecer': 346, 'tipo': 475, 'contratado': 100, 'durante': 155, 'regularidade': 428, 'garantia': 232, 'previstas': 379, 'podendo': 365, 'decreto': 122, 'final': 216, 'financeira': 218, 'cautelar': 61, 'quantitativos': 406, 'termo': 472, 'concedente': 76, 'convenente': 109, 'juros': 279, 'recebimento': 413, 'cuja': 111, 'tecnologia': 467, 'realizar': 411, 'considerada': 87, 'indevidamente': 254, 'considerado': 88, 'descumprimento': 126, 'agente': 12, 'previamente': 377, 'estabelecido': 185, 'documento': 153, 'anterior': 21, 'gestores': 236, 'plano': 362, 'receita': 414, 'administradores': 3, 'causa': 59, 'devido': 144, 'trata': 482, 'legalidade': 284, 'parcial': 345, 'novos': 322, 'licitado': 287, 'original': 335, 'inexigibilidade': 255, 'ensino': 175, 'apoio': 27, 'projetos': 393, 'integral': 261, 'anos': 19, 'inicial': 256, 'estudos': 191, 'contratante': 102, 'risco': 440, 'compete': 68, 'estados': 189, 'procedimento': 384, 'serem': 446, 'inclusive': 251, 'nesse': 315, 'instrumento': 260, 'autos': 39, 'pessoas': 360, 'normas': 319, 'quintos': 408, 'tratar': 483, 'dispensa': 150, 'conselhos': 86, 'permanente': 354, 'legais': 282, 'perante': 352, 'formal': 226, 'menor': 300, 'geral': 234, 'distrito': 152, 'dias': 146, 'aplicada': 26, 'conselho': 85, 'sociedade': 457, 'judiciais': 274, 'vencimento': 494, 'cinco': 64, 'exclusiva': 198, 'sempre': 443, 'estar': 190, 'financeiro': 219, 'fatos': 210, 'comissionada': 67, 'stf': 459, 'vantagens': 492, 'pesquisa': 357, 'contratuais': 105, 'previsto': 380, 'concedida': 77, 'entes': 177, 'desse': 133, 'caracterizar': 53, 'desses': 134, 'feita': 214, 'tendo': 469, 'ante': 20, 'exige': 201, 'posterior': 371, 'causalidade': 60, 'fiscais': 222, 'realizadas': 410, 'inatividade': 249, 'diante': 145, 'afasta': 10}\n"
          ]
        }
      ]
    },
    {
      "cell_type": "code",
      "source": [
        "# encode enunciados - sem stopwords e números\n",
        "tfidf_vector_2 = tfidf_vectorizer_no_numbers.transform(X_train)\n",
        "# mostra as dimensões da matrix de frequência\n",
        "print('\\nDimensões da matrix: ')\n",
        "print(tfidf_vector_2.shape)"
      ],
      "metadata": {
        "id": "OFdcWGpDgRdk",
        "colab": {
          "base_uri": "https://localhost:8080/"
        },
        "outputId": "9c7ecde4-0bb7-42e7-a935-85dd0d49e220"
      },
      "execution_count": 39,
      "outputs": [
        {
          "output_type": "stream",
          "name": "stdout",
          "text": [
            "\n",
            "Dimensões da matrix: \n",
            "(12232, 500)\n"
          ]
        }
      ]
    },
    {
      "cell_type": "code",
      "source": [
        "print(tfidf_vector_1.toarray())"
      ],
      "metadata": {
        "id": "B5qc7xSGgjAd",
        "colab": {
          "base_uri": "https://localhost:8080/"
        },
        "outputId": "0d5cf4b7-de39-4db3-fe48-a4d667d67a7f"
      },
      "execution_count": 40,
      "outputs": [
        {
          "output_type": "stream",
          "name": "stdout",
          "text": [
            "[[0. 0. 0. ... 0. 0. 0.]\n",
            " [0. 0. 0. ... 0. 0. 0.]\n",
            " [0. 0. 0. ... 0. 0. 0.]\n",
            " ...\n",
            " [0. 0. 0. ... 0. 0. 0.]\n",
            " [0. 0. 0. ... 0. 0. 0.]\n",
            " [0. 0. 0. ... 0. 0. 0.]]\n"
          ]
        }
      ]
    },
    {
      "cell_type": "code",
      "source": [
        "print(tfidf_vector_2.toarray())"
      ],
      "metadata": {
        "id": "wn9ED6lagkNE",
        "colab": {
          "base_uri": "https://localhost:8080/"
        },
        "outputId": "1a581014-7b01-4ecd-ed54-06007df3429a"
      },
      "execution_count": 41,
      "outputs": [
        {
          "output_type": "stream",
          "name": "stdout",
          "text": [
            "[[0.         0.         0.         ... 0.         0.30114049 0.        ]\n",
            " [0.         0.         0.         ... 0.         0.         0.        ]\n",
            " [0.         0.         0.         ... 0.         0.         0.        ]\n",
            " ...\n",
            " [0.         0.         0.         ... 0.         0.31773175 0.        ]\n",
            " [0.         0.         0.         ... 0.         0.         0.36160405]\n",
            " [0.         0.         0.         ... 0.         0.         0.        ]]\n"
          ]
        }
      ]
    },
    {
      "cell_type": "code",
      "source": [
        "# mostra os enunciados codificados\n",
        "val_2 = tfidf_vectorizer_no_numbers.fit_transform(X_train)\n",
        "feature_names_2 = tfidf_vectorizer_no_numbers.get_feature_names_out()\n",
        "dfVocab_2= pd.DataFrame(val_2.toarray(), columns = feature_names_2)\n",
        "print(dfVocab_2.shape)\n",
        "dfVocab_2"
      ],
      "metadata": {
        "id": "T6aWt5bagwIs",
        "colab": {
          "base_uri": "https://localhost:8080/",
          "height": 461
        },
        "outputId": "c605a14f-2de4-405f-db2f-4c6db1e7aa0b"
      },
      "execution_count": 42,
      "outputs": [
        {
          "output_type": "stream",
          "name": "stdout",
          "text": [
            "(12232, 500)\n"
          ]
        },
        {
          "output_type": "execute_result",
          "data": {
            "text/html": [
              "<div>\n",
              "<style scoped>\n",
              "    .dataframe tbody tr th:only-of-type {\n",
              "        vertical-align: middle;\n",
              "    }\n",
              "\n",
              "    .dataframe tbody tr th {\n",
              "        vertical-align: top;\n",
              "    }\n",
              "\n",
              "    .dataframe thead th {\n",
              "        text-align: right;\n",
              "    }\n",
              "</style>\n",
              "<table border=\"1\" class=\"dataframe\">\n",
              "  <thead>\n",
              "    <tr style=\"text-align: right;\">\n",
              "      <th></th>\n",
              "      <th>acerca</th>\n",
              "      <th>acordo</th>\n",
              "      <th>adicional</th>\n",
              "      <th>administradores</th>\n",
              "      <th>administrativa</th>\n",
              "      <th>administrativo</th>\n",
              "      <th>administrativos</th>\n",
              "      <th>admite</th>\n",
              "      <th>adotar</th>\n",
              "      <th>adquirido</th>\n",
              "      <th>afasta</th>\n",
              "      <th>afronta</th>\n",
              "      <th>agente</th>\n",
              "      <th>agentes</th>\n",
              "      <th>ainda</th>\n",
              "      <th>ajuste</th>\n",
              "      <th>amparo</th>\n",
              "      <th>ampla</th>\n",
              "      <th>ano</th>\n",
              "      <th>anos</th>\n",
              "      <th>ante</th>\n",
              "      <th>anterior</th>\n",
              "      <th>anteriormente</th>\n",
              "      <th>antes</th>\n",
              "      <th>apenas</th>\n",
              "      <th>aplica</th>\n",
              "      <th>aplicada</th>\n",
              "      <th>apoio</th>\n",
              "      <th>aposentadoria</th>\n",
              "      <th>art</th>\n",
              "      <th>arts</th>\n",
              "      <th>assim</th>\n",
              "      <th>atendimento</th>\n",
              "      <th>atestados</th>\n",
              "      <th>atividade</th>\n",
              "      <th>atividades</th>\n",
              "      <th>ato</th>\n",
              "      <th>atos</th>\n",
              "      <th>autoridade</th>\n",
              "      <th>autos</th>\n",
              "      <th>...</th>\n",
              "      <th>suficiente</th>\n",
              "      <th>sujeita</th>\n",
              "      <th>superior</th>\n",
              "      <th>tais</th>\n",
              "      <th>tal</th>\n",
              "      <th>tanto</th>\n",
              "      <th>tcu</th>\n",
              "      <th>tecnologia</th>\n",
              "      <th>tempo</th>\n",
              "      <th>tendo</th>\n",
              "      <th>ter</th>\n",
              "      <th>terceiros</th>\n",
              "      <th>termo</th>\n",
              "      <th>termos</th>\n",
              "      <th>ti</th>\n",
              "      <th>tipo</th>\n",
              "      <th>todas</th>\n",
              "      <th>todos</th>\n",
              "      <th>tomada</th>\n",
              "      <th>total</th>\n",
              "      <th>trabalho</th>\n",
              "      <th>transferidos</th>\n",
              "      <th>trata</th>\n",
              "      <th>tratar</th>\n",
              "      <th>tribunal</th>\n",
              "      <th>unidade</th>\n",
              "      <th>uso</th>\n",
              "      <th>utilizados</th>\n",
              "      <th>validade</th>\n",
              "      <th>valor</th>\n",
              "      <th>valores</th>\n",
              "      <th>vantagem</th>\n",
              "      <th>vantagens</th>\n",
              "      <th>vedada</th>\n",
              "      <th>vencimento</th>\n",
              "      <th>vencimentos</th>\n",
              "      <th>vez</th>\n",
              "      <th>vista</th>\n",
              "      <th>vistas</th>\n",
              "      <th>vpni</th>\n",
              "    </tr>\n",
              "  </thead>\n",
              "  <tbody>\n",
              "    <tr>\n",
              "      <th>0</th>\n",
              "      <td>0.0</td>\n",
              "      <td>0.0</td>\n",
              "      <td>0.0</td>\n",
              "      <td>0.0</td>\n",
              "      <td>0.0</td>\n",
              "      <td>0.000000</td>\n",
              "      <td>0.0</td>\n",
              "      <td>0.0</td>\n",
              "      <td>0.304776</td>\n",
              "      <td>0.000000</td>\n",
              "      <td>0.0</td>\n",
              "      <td>0.0</td>\n",
              "      <td>0.0</td>\n",
              "      <td>0.0000</td>\n",
              "      <td>0.000000</td>\n",
              "      <td>0.0</td>\n",
              "      <td>0.0</td>\n",
              "      <td>0.0</td>\n",
              "      <td>0.0</td>\n",
              "      <td>0.0</td>\n",
              "      <td>0.0</td>\n",
              "      <td>0.0</td>\n",
              "      <td>0.0</td>\n",
              "      <td>0.0</td>\n",
              "      <td>0.0</td>\n",
              "      <td>0.0</td>\n",
              "      <td>0.0</td>\n",
              "      <td>0.0</td>\n",
              "      <td>0.0</td>\n",
              "      <td>0.000000</td>\n",
              "      <td>0.0</td>\n",
              "      <td>0.000000</td>\n",
              "      <td>0.0</td>\n",
              "      <td>0.0</td>\n",
              "      <td>0.0</td>\n",
              "      <td>0.0</td>\n",
              "      <td>0.000000</td>\n",
              "      <td>0.0</td>\n",
              "      <td>0.294172</td>\n",
              "      <td>0.0</td>\n",
              "      <td>...</td>\n",
              "      <td>0.0</td>\n",
              "      <td>0.0</td>\n",
              "      <td>0.0</td>\n",
              "      <td>0.000000</td>\n",
              "      <td>0.0</td>\n",
              "      <td>0.0</td>\n",
              "      <td>0.000000</td>\n",
              "      <td>0.0</td>\n",
              "      <td>0.000000</td>\n",
              "      <td>0.0</td>\n",
              "      <td>0.0</td>\n",
              "      <td>0.0</td>\n",
              "      <td>0.0</td>\n",
              "      <td>0.000000</td>\n",
              "      <td>0.0</td>\n",
              "      <td>0.0</td>\n",
              "      <td>0.0</td>\n",
              "      <td>0.0</td>\n",
              "      <td>0.0</td>\n",
              "      <td>0.0</td>\n",
              "      <td>0.0</td>\n",
              "      <td>0.000000</td>\n",
              "      <td>0.0</td>\n",
              "      <td>0.0</td>\n",
              "      <td>0.0</td>\n",
              "      <td>0.0</td>\n",
              "      <td>0.0</td>\n",
              "      <td>0.0</td>\n",
              "      <td>0.0</td>\n",
              "      <td>0.0</td>\n",
              "      <td>0.000000</td>\n",
              "      <td>0.000000</td>\n",
              "      <td>0.0</td>\n",
              "      <td>0.0</td>\n",
              "      <td>0.0</td>\n",
              "      <td>0.0</td>\n",
              "      <td>0.0</td>\n",
              "      <td>0.0</td>\n",
              "      <td>0.301140</td>\n",
              "      <td>0.000000</td>\n",
              "    </tr>\n",
              "    <tr>\n",
              "      <th>1</th>\n",
              "      <td>0.0</td>\n",
              "      <td>0.0</td>\n",
              "      <td>0.0</td>\n",
              "      <td>0.0</td>\n",
              "      <td>0.0</td>\n",
              "      <td>0.000000</td>\n",
              "      <td>0.0</td>\n",
              "      <td>0.0</td>\n",
              "      <td>0.000000</td>\n",
              "      <td>0.397013</td>\n",
              "      <td>0.0</td>\n",
              "      <td>0.0</td>\n",
              "      <td>0.0</td>\n",
              "      <td>0.0000</td>\n",
              "      <td>0.000000</td>\n",
              "      <td>0.0</td>\n",
              "      <td>0.0</td>\n",
              "      <td>0.0</td>\n",
              "      <td>0.0</td>\n",
              "      <td>0.0</td>\n",
              "      <td>0.0</td>\n",
              "      <td>0.0</td>\n",
              "      <td>0.0</td>\n",
              "      <td>0.0</td>\n",
              "      <td>0.0</td>\n",
              "      <td>0.0</td>\n",
              "      <td>0.0</td>\n",
              "      <td>0.0</td>\n",
              "      <td>0.0</td>\n",
              "      <td>0.000000</td>\n",
              "      <td>0.0</td>\n",
              "      <td>0.000000</td>\n",
              "      <td>0.0</td>\n",
              "      <td>0.0</td>\n",
              "      <td>0.0</td>\n",
              "      <td>0.0</td>\n",
              "      <td>0.000000</td>\n",
              "      <td>0.0</td>\n",
              "      <td>0.000000</td>\n",
              "      <td>0.0</td>\n",
              "      <td>...</td>\n",
              "      <td>0.0</td>\n",
              "      <td>0.0</td>\n",
              "      <td>0.0</td>\n",
              "      <td>0.000000</td>\n",
              "      <td>0.0</td>\n",
              "      <td>0.0</td>\n",
              "      <td>0.000000</td>\n",
              "      <td>0.0</td>\n",
              "      <td>0.000000</td>\n",
              "      <td>0.0</td>\n",
              "      <td>0.0</td>\n",
              "      <td>0.0</td>\n",
              "      <td>0.0</td>\n",
              "      <td>0.000000</td>\n",
              "      <td>0.0</td>\n",
              "      <td>0.0</td>\n",
              "      <td>0.0</td>\n",
              "      <td>0.0</td>\n",
              "      <td>0.0</td>\n",
              "      <td>0.0</td>\n",
              "      <td>0.0</td>\n",
              "      <td>0.000000</td>\n",
              "      <td>0.0</td>\n",
              "      <td>0.0</td>\n",
              "      <td>0.0</td>\n",
              "      <td>0.0</td>\n",
              "      <td>0.0</td>\n",
              "      <td>0.0</td>\n",
              "      <td>0.0</td>\n",
              "      <td>0.0</td>\n",
              "      <td>0.275020</td>\n",
              "      <td>0.000000</td>\n",
              "      <td>0.0</td>\n",
              "      <td>0.0</td>\n",
              "      <td>0.0</td>\n",
              "      <td>0.0</td>\n",
              "      <td>0.0</td>\n",
              "      <td>0.0</td>\n",
              "      <td>0.000000</td>\n",
              "      <td>0.000000</td>\n",
              "    </tr>\n",
              "    <tr>\n",
              "      <th>2</th>\n",
              "      <td>0.0</td>\n",
              "      <td>0.0</td>\n",
              "      <td>0.0</td>\n",
              "      <td>0.0</td>\n",
              "      <td>0.0</td>\n",
              "      <td>0.656816</td>\n",
              "      <td>0.0</td>\n",
              "      <td>0.0</td>\n",
              "      <td>0.000000</td>\n",
              "      <td>0.000000</td>\n",
              "      <td>0.0</td>\n",
              "      <td>0.0</td>\n",
              "      <td>0.0</td>\n",
              "      <td>0.0000</td>\n",
              "      <td>0.000000</td>\n",
              "      <td>0.0</td>\n",
              "      <td>0.0</td>\n",
              "      <td>0.0</td>\n",
              "      <td>0.0</td>\n",
              "      <td>0.0</td>\n",
              "      <td>0.0</td>\n",
              "      <td>0.0</td>\n",
              "      <td>0.0</td>\n",
              "      <td>0.0</td>\n",
              "      <td>0.0</td>\n",
              "      <td>0.0</td>\n",
              "      <td>0.0</td>\n",
              "      <td>0.0</td>\n",
              "      <td>0.0</td>\n",
              "      <td>0.000000</td>\n",
              "      <td>0.0</td>\n",
              "      <td>0.000000</td>\n",
              "      <td>0.0</td>\n",
              "      <td>0.0</td>\n",
              "      <td>0.0</td>\n",
              "      <td>0.0</td>\n",
              "      <td>0.505121</td>\n",
              "      <td>0.0</td>\n",
              "      <td>0.000000</td>\n",
              "      <td>0.0</td>\n",
              "      <td>...</td>\n",
              "      <td>0.0</td>\n",
              "      <td>0.0</td>\n",
              "      <td>0.0</td>\n",
              "      <td>0.000000</td>\n",
              "      <td>0.0</td>\n",
              "      <td>0.0</td>\n",
              "      <td>0.000000</td>\n",
              "      <td>0.0</td>\n",
              "      <td>0.000000</td>\n",
              "      <td>0.0</td>\n",
              "      <td>0.0</td>\n",
              "      <td>0.0</td>\n",
              "      <td>0.0</td>\n",
              "      <td>0.000000</td>\n",
              "      <td>0.0</td>\n",
              "      <td>0.0</td>\n",
              "      <td>0.0</td>\n",
              "      <td>0.0</td>\n",
              "      <td>0.0</td>\n",
              "      <td>0.0</td>\n",
              "      <td>0.0</td>\n",
              "      <td>0.000000</td>\n",
              "      <td>0.0</td>\n",
              "      <td>0.0</td>\n",
              "      <td>0.0</td>\n",
              "      <td>0.0</td>\n",
              "      <td>0.0</td>\n",
              "      <td>0.0</td>\n",
              "      <td>0.0</td>\n",
              "      <td>0.0</td>\n",
              "      <td>0.000000</td>\n",
              "      <td>0.000000</td>\n",
              "      <td>0.0</td>\n",
              "      <td>0.0</td>\n",
              "      <td>0.0</td>\n",
              "      <td>0.0</td>\n",
              "      <td>0.0</td>\n",
              "      <td>0.0</td>\n",
              "      <td>0.000000</td>\n",
              "      <td>0.000000</td>\n",
              "    </tr>\n",
              "    <tr>\n",
              "      <th>3</th>\n",
              "      <td>0.0</td>\n",
              "      <td>0.0</td>\n",
              "      <td>0.0</td>\n",
              "      <td>0.0</td>\n",
              "      <td>0.0</td>\n",
              "      <td>0.000000</td>\n",
              "      <td>0.0</td>\n",
              "      <td>0.0</td>\n",
              "      <td>0.000000</td>\n",
              "      <td>0.000000</td>\n",
              "      <td>0.0</td>\n",
              "      <td>0.0</td>\n",
              "      <td>0.0</td>\n",
              "      <td>0.0000</td>\n",
              "      <td>0.335652</td>\n",
              "      <td>0.0</td>\n",
              "      <td>0.0</td>\n",
              "      <td>0.0</td>\n",
              "      <td>0.0</td>\n",
              "      <td>0.0</td>\n",
              "      <td>0.0</td>\n",
              "      <td>0.0</td>\n",
              "      <td>0.0</td>\n",
              "      <td>0.0</td>\n",
              "      <td>0.0</td>\n",
              "      <td>0.0</td>\n",
              "      <td>0.0</td>\n",
              "      <td>0.0</td>\n",
              "      <td>0.0</td>\n",
              "      <td>0.000000</td>\n",
              "      <td>0.0</td>\n",
              "      <td>0.000000</td>\n",
              "      <td>0.0</td>\n",
              "      <td>0.0</td>\n",
              "      <td>0.0</td>\n",
              "      <td>0.0</td>\n",
              "      <td>0.000000</td>\n",
              "      <td>0.0</td>\n",
              "      <td>0.000000</td>\n",
              "      <td>0.0</td>\n",
              "      <td>...</td>\n",
              "      <td>0.0</td>\n",
              "      <td>0.0</td>\n",
              "      <td>0.0</td>\n",
              "      <td>0.000000</td>\n",
              "      <td>0.0</td>\n",
              "      <td>0.0</td>\n",
              "      <td>0.000000</td>\n",
              "      <td>0.0</td>\n",
              "      <td>0.000000</td>\n",
              "      <td>0.0</td>\n",
              "      <td>0.0</td>\n",
              "      <td>0.0</td>\n",
              "      <td>0.0</td>\n",
              "      <td>0.000000</td>\n",
              "      <td>0.0</td>\n",
              "      <td>0.0</td>\n",
              "      <td>0.0</td>\n",
              "      <td>0.0</td>\n",
              "      <td>0.0</td>\n",
              "      <td>0.0</td>\n",
              "      <td>0.0</td>\n",
              "      <td>0.000000</td>\n",
              "      <td>0.0</td>\n",
              "      <td>0.0</td>\n",
              "      <td>0.0</td>\n",
              "      <td>0.0</td>\n",
              "      <td>0.0</td>\n",
              "      <td>0.0</td>\n",
              "      <td>0.0</td>\n",
              "      <td>0.0</td>\n",
              "      <td>0.000000</td>\n",
              "      <td>0.000000</td>\n",
              "      <td>0.0</td>\n",
              "      <td>0.0</td>\n",
              "      <td>0.0</td>\n",
              "      <td>0.0</td>\n",
              "      <td>0.0</td>\n",
              "      <td>0.0</td>\n",
              "      <td>0.000000</td>\n",
              "      <td>0.000000</td>\n",
              "    </tr>\n",
              "    <tr>\n",
              "      <th>4</th>\n",
              "      <td>0.0</td>\n",
              "      <td>0.0</td>\n",
              "      <td>0.0</td>\n",
              "      <td>0.0</td>\n",
              "      <td>0.0</td>\n",
              "      <td>0.000000</td>\n",
              "      <td>0.0</td>\n",
              "      <td>0.0</td>\n",
              "      <td>0.000000</td>\n",
              "      <td>0.000000</td>\n",
              "      <td>0.0</td>\n",
              "      <td>0.0</td>\n",
              "      <td>0.0</td>\n",
              "      <td>0.0000</td>\n",
              "      <td>0.000000</td>\n",
              "      <td>0.0</td>\n",
              "      <td>0.0</td>\n",
              "      <td>0.0</td>\n",
              "      <td>0.0</td>\n",
              "      <td>0.0</td>\n",
              "      <td>0.0</td>\n",
              "      <td>0.0</td>\n",
              "      <td>0.0</td>\n",
              "      <td>0.0</td>\n",
              "      <td>0.0</td>\n",
              "      <td>0.0</td>\n",
              "      <td>0.0</td>\n",
              "      <td>0.0</td>\n",
              "      <td>0.0</td>\n",
              "      <td>0.000000</td>\n",
              "      <td>0.0</td>\n",
              "      <td>0.000000</td>\n",
              "      <td>0.0</td>\n",
              "      <td>0.0</td>\n",
              "      <td>0.0</td>\n",
              "      <td>0.0</td>\n",
              "      <td>0.000000</td>\n",
              "      <td>0.0</td>\n",
              "      <td>0.000000</td>\n",
              "      <td>0.0</td>\n",
              "      <td>...</td>\n",
              "      <td>0.0</td>\n",
              "      <td>0.0</td>\n",
              "      <td>0.0</td>\n",
              "      <td>0.000000</td>\n",
              "      <td>0.0</td>\n",
              "      <td>0.0</td>\n",
              "      <td>0.119116</td>\n",
              "      <td>0.0</td>\n",
              "      <td>0.000000</td>\n",
              "      <td>0.0</td>\n",
              "      <td>0.0</td>\n",
              "      <td>0.0</td>\n",
              "      <td>0.0</td>\n",
              "      <td>0.194127</td>\n",
              "      <td>0.0</td>\n",
              "      <td>0.0</td>\n",
              "      <td>0.0</td>\n",
              "      <td>0.0</td>\n",
              "      <td>0.0</td>\n",
              "      <td>0.0</td>\n",
              "      <td>0.0</td>\n",
              "      <td>0.000000</td>\n",
              "      <td>0.0</td>\n",
              "      <td>0.0</td>\n",
              "      <td>0.0</td>\n",
              "      <td>0.0</td>\n",
              "      <td>0.0</td>\n",
              "      <td>0.0</td>\n",
              "      <td>0.0</td>\n",
              "      <td>0.0</td>\n",
              "      <td>0.000000</td>\n",
              "      <td>0.000000</td>\n",
              "      <td>0.0</td>\n",
              "      <td>0.0</td>\n",
              "      <td>0.0</td>\n",
              "      <td>0.0</td>\n",
              "      <td>0.0</td>\n",
              "      <td>0.0</td>\n",
              "      <td>0.000000</td>\n",
              "      <td>0.000000</td>\n",
              "    </tr>\n",
              "    <tr>\n",
              "      <th>...</th>\n",
              "      <td>...</td>\n",
              "      <td>...</td>\n",
              "      <td>...</td>\n",
              "      <td>...</td>\n",
              "      <td>...</td>\n",
              "      <td>...</td>\n",
              "      <td>...</td>\n",
              "      <td>...</td>\n",
              "      <td>...</td>\n",
              "      <td>...</td>\n",
              "      <td>...</td>\n",
              "      <td>...</td>\n",
              "      <td>...</td>\n",
              "      <td>...</td>\n",
              "      <td>...</td>\n",
              "      <td>...</td>\n",
              "      <td>...</td>\n",
              "      <td>...</td>\n",
              "      <td>...</td>\n",
              "      <td>...</td>\n",
              "      <td>...</td>\n",
              "      <td>...</td>\n",
              "      <td>...</td>\n",
              "      <td>...</td>\n",
              "      <td>...</td>\n",
              "      <td>...</td>\n",
              "      <td>...</td>\n",
              "      <td>...</td>\n",
              "      <td>...</td>\n",
              "      <td>...</td>\n",
              "      <td>...</td>\n",
              "      <td>...</td>\n",
              "      <td>...</td>\n",
              "      <td>...</td>\n",
              "      <td>...</td>\n",
              "      <td>...</td>\n",
              "      <td>...</td>\n",
              "      <td>...</td>\n",
              "      <td>...</td>\n",
              "      <td>...</td>\n",
              "      <td>...</td>\n",
              "      <td>...</td>\n",
              "      <td>...</td>\n",
              "      <td>...</td>\n",
              "      <td>...</td>\n",
              "      <td>...</td>\n",
              "      <td>...</td>\n",
              "      <td>...</td>\n",
              "      <td>...</td>\n",
              "      <td>...</td>\n",
              "      <td>...</td>\n",
              "      <td>...</td>\n",
              "      <td>...</td>\n",
              "      <td>...</td>\n",
              "      <td>...</td>\n",
              "      <td>...</td>\n",
              "      <td>...</td>\n",
              "      <td>...</td>\n",
              "      <td>...</td>\n",
              "      <td>...</td>\n",
              "      <td>...</td>\n",
              "      <td>...</td>\n",
              "      <td>...</td>\n",
              "      <td>...</td>\n",
              "      <td>...</td>\n",
              "      <td>...</td>\n",
              "      <td>...</td>\n",
              "      <td>...</td>\n",
              "      <td>...</td>\n",
              "      <td>...</td>\n",
              "      <td>...</td>\n",
              "      <td>...</td>\n",
              "      <td>...</td>\n",
              "      <td>...</td>\n",
              "      <td>...</td>\n",
              "      <td>...</td>\n",
              "      <td>...</td>\n",
              "      <td>...</td>\n",
              "      <td>...</td>\n",
              "      <td>...</td>\n",
              "      <td>...</td>\n",
              "    </tr>\n",
              "    <tr>\n",
              "      <th>12227</th>\n",
              "      <td>0.0</td>\n",
              "      <td>0.0</td>\n",
              "      <td>0.0</td>\n",
              "      <td>0.0</td>\n",
              "      <td>0.0</td>\n",
              "      <td>0.000000</td>\n",
              "      <td>0.0</td>\n",
              "      <td>0.0</td>\n",
              "      <td>0.000000</td>\n",
              "      <td>0.000000</td>\n",
              "      <td>0.0</td>\n",
              "      <td>0.0</td>\n",
              "      <td>0.0</td>\n",
              "      <td>0.0000</td>\n",
              "      <td>0.120708</td>\n",
              "      <td>0.0</td>\n",
              "      <td>0.0</td>\n",
              "      <td>0.0</td>\n",
              "      <td>0.0</td>\n",
              "      <td>0.0</td>\n",
              "      <td>0.0</td>\n",
              "      <td>0.0</td>\n",
              "      <td>0.0</td>\n",
              "      <td>0.0</td>\n",
              "      <td>0.0</td>\n",
              "      <td>0.0</td>\n",
              "      <td>0.0</td>\n",
              "      <td>0.0</td>\n",
              "      <td>0.0</td>\n",
              "      <td>0.213531</td>\n",
              "      <td>0.0</td>\n",
              "      <td>0.000000</td>\n",
              "      <td>0.0</td>\n",
              "      <td>0.0</td>\n",
              "      <td>0.0</td>\n",
              "      <td>0.0</td>\n",
              "      <td>0.000000</td>\n",
              "      <td>0.0</td>\n",
              "      <td>0.000000</td>\n",
              "      <td>0.0</td>\n",
              "      <td>...</td>\n",
              "      <td>0.0</td>\n",
              "      <td>0.0</td>\n",
              "      <td>0.0</td>\n",
              "      <td>0.000000</td>\n",
              "      <td>0.0</td>\n",
              "      <td>0.0</td>\n",
              "      <td>0.000000</td>\n",
              "      <td>0.0</td>\n",
              "      <td>0.000000</td>\n",
              "      <td>0.0</td>\n",
              "      <td>0.0</td>\n",
              "      <td>0.0</td>\n",
              "      <td>0.0</td>\n",
              "      <td>0.000000</td>\n",
              "      <td>0.0</td>\n",
              "      <td>0.0</td>\n",
              "      <td>0.0</td>\n",
              "      <td>0.0</td>\n",
              "      <td>0.0</td>\n",
              "      <td>0.0</td>\n",
              "      <td>0.0</td>\n",
              "      <td>0.151573</td>\n",
              "      <td>0.0</td>\n",
              "      <td>0.0</td>\n",
              "      <td>0.0</td>\n",
              "      <td>0.0</td>\n",
              "      <td>0.0</td>\n",
              "      <td>0.0</td>\n",
              "      <td>0.0</td>\n",
              "      <td>0.0</td>\n",
              "      <td>0.000000</td>\n",
              "      <td>0.000000</td>\n",
              "      <td>0.0</td>\n",
              "      <td>0.0</td>\n",
              "      <td>0.0</td>\n",
              "      <td>0.0</td>\n",
              "      <td>0.0</td>\n",
              "      <td>0.0</td>\n",
              "      <td>0.000000</td>\n",
              "      <td>0.000000</td>\n",
              "    </tr>\n",
              "    <tr>\n",
              "      <th>12228</th>\n",
              "      <td>0.0</td>\n",
              "      <td>0.0</td>\n",
              "      <td>0.0</td>\n",
              "      <td>0.0</td>\n",
              "      <td>0.0</td>\n",
              "      <td>0.000000</td>\n",
              "      <td>0.0</td>\n",
              "      <td>0.0</td>\n",
              "      <td>0.000000</td>\n",
              "      <td>0.000000</td>\n",
              "      <td>0.0</td>\n",
              "      <td>0.0</td>\n",
              "      <td>0.0</td>\n",
              "      <td>0.0000</td>\n",
              "      <td>0.000000</td>\n",
              "      <td>0.0</td>\n",
              "      <td>0.0</td>\n",
              "      <td>0.0</td>\n",
              "      <td>0.0</td>\n",
              "      <td>0.0</td>\n",
              "      <td>0.0</td>\n",
              "      <td>0.0</td>\n",
              "      <td>0.0</td>\n",
              "      <td>0.0</td>\n",
              "      <td>0.0</td>\n",
              "      <td>0.0</td>\n",
              "      <td>0.0</td>\n",
              "      <td>0.0</td>\n",
              "      <td>0.0</td>\n",
              "      <td>0.000000</td>\n",
              "      <td>0.0</td>\n",
              "      <td>0.000000</td>\n",
              "      <td>0.0</td>\n",
              "      <td>0.0</td>\n",
              "      <td>0.0</td>\n",
              "      <td>0.0</td>\n",
              "      <td>0.000000</td>\n",
              "      <td>0.0</td>\n",
              "      <td>0.000000</td>\n",
              "      <td>0.0</td>\n",
              "      <td>...</td>\n",
              "      <td>0.0</td>\n",
              "      <td>0.0</td>\n",
              "      <td>0.0</td>\n",
              "      <td>0.000000</td>\n",
              "      <td>0.0</td>\n",
              "      <td>0.0</td>\n",
              "      <td>0.000000</td>\n",
              "      <td>0.0</td>\n",
              "      <td>0.407881</td>\n",
              "      <td>0.0</td>\n",
              "      <td>0.0</td>\n",
              "      <td>0.0</td>\n",
              "      <td>0.0</td>\n",
              "      <td>0.000000</td>\n",
              "      <td>0.0</td>\n",
              "      <td>0.0</td>\n",
              "      <td>0.0</td>\n",
              "      <td>0.0</td>\n",
              "      <td>0.0</td>\n",
              "      <td>0.0</td>\n",
              "      <td>0.0</td>\n",
              "      <td>0.000000</td>\n",
              "      <td>0.0</td>\n",
              "      <td>0.0</td>\n",
              "      <td>0.0</td>\n",
              "      <td>0.0</td>\n",
              "      <td>0.0</td>\n",
              "      <td>0.0</td>\n",
              "      <td>0.0</td>\n",
              "      <td>0.0</td>\n",
              "      <td>0.000000</td>\n",
              "      <td>0.000000</td>\n",
              "      <td>0.0</td>\n",
              "      <td>0.0</td>\n",
              "      <td>0.0</td>\n",
              "      <td>0.0</td>\n",
              "      <td>0.0</td>\n",
              "      <td>0.0</td>\n",
              "      <td>0.000000</td>\n",
              "      <td>0.000000</td>\n",
              "    </tr>\n",
              "    <tr>\n",
              "      <th>12229</th>\n",
              "      <td>0.0</td>\n",
              "      <td>0.0</td>\n",
              "      <td>0.0</td>\n",
              "      <td>0.0</td>\n",
              "      <td>0.0</td>\n",
              "      <td>0.000000</td>\n",
              "      <td>0.0</td>\n",
              "      <td>0.0</td>\n",
              "      <td>0.000000</td>\n",
              "      <td>0.000000</td>\n",
              "      <td>0.0</td>\n",
              "      <td>0.0</td>\n",
              "      <td>0.0</td>\n",
              "      <td>0.0000</td>\n",
              "      <td>0.238251</td>\n",
              "      <td>0.0</td>\n",
              "      <td>0.0</td>\n",
              "      <td>0.0</td>\n",
              "      <td>0.0</td>\n",
              "      <td>0.0</td>\n",
              "      <td>0.0</td>\n",
              "      <td>0.0</td>\n",
              "      <td>0.0</td>\n",
              "      <td>0.0</td>\n",
              "      <td>0.0</td>\n",
              "      <td>0.0</td>\n",
              "      <td>0.0</td>\n",
              "      <td>0.0</td>\n",
              "      <td>0.0</td>\n",
              "      <td>0.000000</td>\n",
              "      <td>0.0</td>\n",
              "      <td>0.294842</td>\n",
              "      <td>0.0</td>\n",
              "      <td>0.0</td>\n",
              "      <td>0.0</td>\n",
              "      <td>0.0</td>\n",
              "      <td>0.000000</td>\n",
              "      <td>0.0</td>\n",
              "      <td>0.000000</td>\n",
              "      <td>0.0</td>\n",
              "      <td>...</td>\n",
              "      <td>0.0</td>\n",
              "      <td>0.0</td>\n",
              "      <td>0.0</td>\n",
              "      <td>0.000000</td>\n",
              "      <td>0.0</td>\n",
              "      <td>0.0</td>\n",
              "      <td>0.000000</td>\n",
              "      <td>0.0</td>\n",
              "      <td>0.000000</td>\n",
              "      <td>0.0</td>\n",
              "      <td>0.0</td>\n",
              "      <td>0.0</td>\n",
              "      <td>0.0</td>\n",
              "      <td>0.000000</td>\n",
              "      <td>0.0</td>\n",
              "      <td>0.0</td>\n",
              "      <td>0.0</td>\n",
              "      <td>0.0</td>\n",
              "      <td>0.0</td>\n",
              "      <td>0.0</td>\n",
              "      <td>0.0</td>\n",
              "      <td>0.000000</td>\n",
              "      <td>0.0</td>\n",
              "      <td>0.0</td>\n",
              "      <td>0.0</td>\n",
              "      <td>0.0</td>\n",
              "      <td>0.0</td>\n",
              "      <td>0.0</td>\n",
              "      <td>0.0</td>\n",
              "      <td>0.0</td>\n",
              "      <td>0.000000</td>\n",
              "      <td>0.000000</td>\n",
              "      <td>0.0</td>\n",
              "      <td>0.0</td>\n",
              "      <td>0.0</td>\n",
              "      <td>0.0</td>\n",
              "      <td>0.0</td>\n",
              "      <td>0.0</td>\n",
              "      <td>0.317732</td>\n",
              "      <td>0.000000</td>\n",
              "    </tr>\n",
              "    <tr>\n",
              "      <th>12230</th>\n",
              "      <td>0.0</td>\n",
              "      <td>0.0</td>\n",
              "      <td>0.0</td>\n",
              "      <td>0.0</td>\n",
              "      <td>0.0</td>\n",
              "      <td>0.000000</td>\n",
              "      <td>0.0</td>\n",
              "      <td>0.0</td>\n",
              "      <td>0.000000</td>\n",
              "      <td>0.000000</td>\n",
              "      <td>0.0</td>\n",
              "      <td>0.0</td>\n",
              "      <td>0.0</td>\n",
              "      <td>0.3484</td>\n",
              "      <td>0.000000</td>\n",
              "      <td>0.0</td>\n",
              "      <td>0.0</td>\n",
              "      <td>0.0</td>\n",
              "      <td>0.0</td>\n",
              "      <td>0.0</td>\n",
              "      <td>0.0</td>\n",
              "      <td>0.0</td>\n",
              "      <td>0.0</td>\n",
              "      <td>0.0</td>\n",
              "      <td>0.0</td>\n",
              "      <td>0.0</td>\n",
              "      <td>0.0</td>\n",
              "      <td>0.0</td>\n",
              "      <td>0.0</td>\n",
              "      <td>0.000000</td>\n",
              "      <td>0.0</td>\n",
              "      <td>0.000000</td>\n",
              "      <td>0.0</td>\n",
              "      <td>0.0</td>\n",
              "      <td>0.0</td>\n",
              "      <td>0.0</td>\n",
              "      <td>0.000000</td>\n",
              "      <td>0.0</td>\n",
              "      <td>0.000000</td>\n",
              "      <td>0.0</td>\n",
              "      <td>...</td>\n",
              "      <td>0.0</td>\n",
              "      <td>0.0</td>\n",
              "      <td>0.0</td>\n",
              "      <td>0.308659</td>\n",
              "      <td>0.0</td>\n",
              "      <td>0.0</td>\n",
              "      <td>0.000000</td>\n",
              "      <td>0.0</td>\n",
              "      <td>0.000000</td>\n",
              "      <td>0.0</td>\n",
              "      <td>0.0</td>\n",
              "      <td>0.0</td>\n",
              "      <td>0.0</td>\n",
              "      <td>0.000000</td>\n",
              "      <td>0.0</td>\n",
              "      <td>0.0</td>\n",
              "      <td>0.0</td>\n",
              "      <td>0.0</td>\n",
              "      <td>0.0</td>\n",
              "      <td>0.0</td>\n",
              "      <td>0.0</td>\n",
              "      <td>0.000000</td>\n",
              "      <td>0.0</td>\n",
              "      <td>0.0</td>\n",
              "      <td>0.0</td>\n",
              "      <td>0.0</td>\n",
              "      <td>0.0</td>\n",
              "      <td>0.0</td>\n",
              "      <td>0.0</td>\n",
              "      <td>0.0</td>\n",
              "      <td>0.000000</td>\n",
              "      <td>0.271408</td>\n",
              "      <td>0.0</td>\n",
              "      <td>0.0</td>\n",
              "      <td>0.0</td>\n",
              "      <td>0.0</td>\n",
              "      <td>0.0</td>\n",
              "      <td>0.0</td>\n",
              "      <td>0.000000</td>\n",
              "      <td>0.361604</td>\n",
              "    </tr>\n",
              "    <tr>\n",
              "      <th>12231</th>\n",
              "      <td>0.0</td>\n",
              "      <td>0.0</td>\n",
              "      <td>0.0</td>\n",
              "      <td>0.0</td>\n",
              "      <td>0.0</td>\n",
              "      <td>0.000000</td>\n",
              "      <td>0.0</td>\n",
              "      <td>0.0</td>\n",
              "      <td>0.000000</td>\n",
              "      <td>0.000000</td>\n",
              "      <td>0.0</td>\n",
              "      <td>0.0</td>\n",
              "      <td>0.0</td>\n",
              "      <td>0.0000</td>\n",
              "      <td>0.000000</td>\n",
              "      <td>0.0</td>\n",
              "      <td>0.0</td>\n",
              "      <td>0.0</td>\n",
              "      <td>0.0</td>\n",
              "      <td>0.0</td>\n",
              "      <td>0.0</td>\n",
              "      <td>0.0</td>\n",
              "      <td>0.0</td>\n",
              "      <td>0.0</td>\n",
              "      <td>0.0</td>\n",
              "      <td>0.0</td>\n",
              "      <td>0.0</td>\n",
              "      <td>0.0</td>\n",
              "      <td>0.0</td>\n",
              "      <td>0.000000</td>\n",
              "      <td>0.0</td>\n",
              "      <td>0.000000</td>\n",
              "      <td>0.0</td>\n",
              "      <td>0.0</td>\n",
              "      <td>0.0</td>\n",
              "      <td>0.0</td>\n",
              "      <td>0.000000</td>\n",
              "      <td>0.0</td>\n",
              "      <td>0.000000</td>\n",
              "      <td>0.0</td>\n",
              "      <td>...</td>\n",
              "      <td>0.0</td>\n",
              "      <td>0.0</td>\n",
              "      <td>0.0</td>\n",
              "      <td>0.000000</td>\n",
              "      <td>0.0</td>\n",
              "      <td>0.0</td>\n",
              "      <td>0.294779</td>\n",
              "      <td>0.0</td>\n",
              "      <td>0.000000</td>\n",
              "      <td>0.0</td>\n",
              "      <td>0.0</td>\n",
              "      <td>0.0</td>\n",
              "      <td>0.0</td>\n",
              "      <td>0.000000</td>\n",
              "      <td>0.0</td>\n",
              "      <td>0.0</td>\n",
              "      <td>0.0</td>\n",
              "      <td>0.0</td>\n",
              "      <td>0.0</td>\n",
              "      <td>0.0</td>\n",
              "      <td>0.0</td>\n",
              "      <td>0.000000</td>\n",
              "      <td>0.0</td>\n",
              "      <td>0.0</td>\n",
              "      <td>0.0</td>\n",
              "      <td>0.0</td>\n",
              "      <td>0.0</td>\n",
              "      <td>0.0</td>\n",
              "      <td>0.0</td>\n",
              "      <td>0.0</td>\n",
              "      <td>0.441163</td>\n",
              "      <td>0.000000</td>\n",
              "      <td>0.0</td>\n",
              "      <td>0.0</td>\n",
              "      <td>0.0</td>\n",
              "      <td>0.0</td>\n",
              "      <td>0.0</td>\n",
              "      <td>0.0</td>\n",
              "      <td>0.000000</td>\n",
              "      <td>0.000000</td>\n",
              "    </tr>\n",
              "  </tbody>\n",
              "</table>\n",
              "<p>12232 rows × 500 columns</p>\n",
              "</div>"
            ],
            "text/plain": [
              "       acerca  acordo  adicional  ...  vista    vistas      vpni\n",
              "0         0.0     0.0        0.0  ...    0.0  0.301140  0.000000\n",
              "1         0.0     0.0        0.0  ...    0.0  0.000000  0.000000\n",
              "2         0.0     0.0        0.0  ...    0.0  0.000000  0.000000\n",
              "3         0.0     0.0        0.0  ...    0.0  0.000000  0.000000\n",
              "4         0.0     0.0        0.0  ...    0.0  0.000000  0.000000\n",
              "...       ...     ...        ...  ...    ...       ...       ...\n",
              "12227     0.0     0.0        0.0  ...    0.0  0.000000  0.000000\n",
              "12228     0.0     0.0        0.0  ...    0.0  0.000000  0.000000\n",
              "12229     0.0     0.0        0.0  ...    0.0  0.317732  0.000000\n",
              "12230     0.0     0.0        0.0  ...    0.0  0.000000  0.361604\n",
              "12231     0.0     0.0        0.0  ...    0.0  0.000000  0.000000\n",
              "\n",
              "[12232 rows x 500 columns]"
            ]
          },
          "metadata": {},
          "execution_count": 42
        }
      ]
    },
    {
      "cell_type": "markdown",
      "source": [
        "# **Modelos**"
      ],
      "metadata": {
        "id": "bCI8KleiDkIR"
      }
    },
    {
      "cell_type": "markdown",
      "source": [
        "## Modelo 1\n",
        "**SGD Classifier**\n",
        "associado ao TF-IDF sem stopwords, 5000 palavras, presentes em no máximo 70% dos enunciados e no mínimo em 3 "
      ],
      "metadata": {
        "id": "bj1s7LRkkWsU"
      }
    },
    {
      "cell_type": "code",
      "source": [
        "pipeline_1 = Pipeline([\n",
        "    ('tfidf', TfidfVectorizer(max_features=5000, max_df=0.7, min_df=3, stop_words=stopwords)),\n",
        "    ('clf', SGDClassifier(loss='log', penalty='elasticnet', alpha=1e-06)) # default hinge. to get proba=log or modified_huber\n",
        "])"
      ],
      "metadata": {
        "id": "JEgxTULnkC1s"
      },
      "execution_count": 43,
      "outputs": []
    },
    {
      "cell_type": "code",
      "source": [
        "%%time\n",
        "# Treine o modelo(fit)\n",
        "classificador_1 = pipeline_1.fit(X_train, y_train)"
      ],
      "metadata": {
        "id": "4Zmw6IFzjIt0",
        "colab": {
          "base_uri": "https://localhost:8080/"
        },
        "outputId": "e6fe08eb-cc01-491b-e1c9-a208067cab66"
      },
      "execution_count": 44,
      "outputs": [
        {
          "output_type": "stream",
          "name": "stdout",
          "text": [
            "CPU times: user 1.29 s, sys: 3.27 ms, total: 1.29 s\n",
            "Wall time: 1.31 s\n"
          ]
        }
      ]
    },
    {
      "cell_type": "code",
      "source": [
        "classificador_1.score(X_test,y_test)"
      ],
      "metadata": {
        "id": "Bjj4-nZ0kenV",
        "colab": {
          "base_uri": "https://localhost:8080/"
        },
        "outputId": "66d6ee7d-8c1b-450c-b765-4a9100706e66"
      },
      "execution_count": 45,
      "outputs": [
        {
          "output_type": "execute_result",
          "data": {
            "text/plain": [
              "0.883949002942138"
            ]
          },
          "metadata": {},
          "execution_count": 45
        }
      ]
    },
    {
      "cell_type": "code",
      "source": [
        " # Faça a predição nos dados de teste\n",
        " predicted_1 = classificador_1.predict(X_test)"
      ],
      "metadata": {
        "id": "GjVk4oCKo-v9"
      },
      "execution_count": 46,
      "outputs": []
    },
    {
      "cell_type": "code",
      "source": [
        "f1_score(y_test, predicted_1, average='weighted') "
      ],
      "metadata": {
        "id": "eyVSl2L9pDVc",
        "colab": {
          "base_uri": "https://localhost:8080/"
        },
        "outputId": "b658a090-cb64-4e19-ce10-4a5f0a3c378a"
      },
      "execution_count": 47,
      "outputs": [
        {
          "output_type": "execute_result",
          "data": {
            "text/plain": [
              "0.8822449616146191"
            ]
          },
          "metadata": {},
          "execution_count": 47
        }
      ]
    },
    {
      "cell_type": "markdown",
      "source": [
        "### Avaliação do Modelo 1"
      ],
      "metadata": {
        "id": "GHqce9Vcu1dD"
      }
    },
    {
      "cell_type": "code",
      "source": [
        "print(metrics.classification_report(y_test, predicted_1))"
      ],
      "metadata": {
        "id": "Twr8cnJbu5Sv",
        "colab": {
          "base_uri": "https://localhost:8080/"
        },
        "outputId": "08f86a18-01bb-47e4-a4cc-b3c5b2761484"
      },
      "execution_count": 48,
      "outputs": [
        {
          "output_type": "stream",
          "name": "stdout",
          "text": [
            "              precision    recall  f1-score   support\n",
            "\n",
            "           0       0.82      0.79      0.80       131\n",
            "           1       0.81      0.79      0.80       205\n",
            "           2       0.77      0.76      0.76       152\n",
            "           3       0.74      0.59      0.65        29\n",
            "           4       0.89      0.89      0.89       433\n",
            "           5       0.85      0.69      0.76        84\n",
            "           6       0.77      0.62      0.69        74\n",
            "           7       0.89      0.93      0.91       601\n",
            "           8       0.94      0.98      0.96       798\n",
            "           9       0.87      0.87      0.87       552\n",
            "\n",
            "    accuracy                           0.88      3059\n",
            "   macro avg       0.84      0.79      0.81      3059\n",
            "weighted avg       0.88      0.88      0.88      3059\n",
            "\n"
          ]
        }
      ]
    },
    {
      "cell_type": "code",
      "source": [
        "df.Area.unique()\n"
      ],
      "metadata": {
        "id": "ktk6dGHDvpbk",
        "colab": {
          "base_uri": "https://localhost:8080/"
        },
        "outputId": "91be65ed-8607-47c3-9a77-24e193fdba41"
      },
      "execution_count": 49,
      "outputs": [
        {
          "output_type": "execute_result",
          "data": {
            "text/plain": [
              "['Competência do TCU', 'Contrato Administrativo', 'Convênio', 'Desestatização', 'Direito Processual', 'Finanças Públicas', 'Gestão Administrativa', 'Licitação', 'Pessoal', 'Responsabilidade']\n",
              "Categories (10, object): ['Competência do TCU', 'Contrato Administrativo', 'Convênio', 'Desestatização',\n",
              "                          ..., 'Gestão Administrativa', 'Licitação', 'Pessoal',\n",
              "                          'Responsabilidade']"
            ]
          },
          "metadata": {},
          "execution_count": 49
        }
      ]
    },
    {
      "cell_type": "code",
      "source": [
        "fig, ax = plt.subplots(figsize=(15, 10))\n",
        "plot_confusion_matrix(classificador_1, X_test, y_test, values_format='d', ax=ax)"
      ],
      "metadata": {
        "id": "qMJzYlj6vxSc",
        "colab": {
          "base_uri": "https://localhost:8080/",
          "height": 678
        },
        "outputId": "b891646c-4bc8-4eb2-c1a0-5e5564875603"
      },
      "execution_count": 50,
      "outputs": [
        {
          "output_type": "stream",
          "name": "stderr",
          "text": [
            "/usr/local/lib/python3.7/dist-packages/sklearn/utils/deprecation.py:87: FutureWarning: Function plot_confusion_matrix is deprecated; Function `plot_confusion_matrix` is deprecated in 1.0 and will be removed in 1.2. Use one of the class methods: ConfusionMatrixDisplay.from_predictions or ConfusionMatrixDisplay.from_estimator.\n",
            "  warnings.warn(msg, category=FutureWarning)\n"
          ]
        },
        {
          "output_type": "execute_result",
          "data": {
            "text/plain": [
              "<sklearn.metrics._plot.confusion_matrix.ConfusionMatrixDisplay at 0x7eff53b4c4d0>"
            ]
          },
          "metadata": {},
          "execution_count": 50
        },
        {
          "output_type": "display_data",
          "data": {
            "image/png": "[encoded data removed]",
            "text/plain": [
              "<Figure size 1080x720 with 2 Axes>"
            ]
          },
          "metadata": {
            "needs_background": "light"
          }
        }
      ]
    },
    {
      "cell_type": "code",
      "source": [
        "# Mostra os hiperparâmetros usados para treinar o modelo\n",
        "classificador_1.get_params"
      ],
      "metadata": {
        "id": "n5JG1UYkv3z9",
        "colab": {
          "base_uri": "https://localhost:8080/"
        },
        "outputId": "ef0ffbd8-302c-4e02-e869-8b3409c8c6a0"
      },
      "execution_count": 51,
      "outputs": [
        {
          "output_type": "execute_result",
          "data": {
            "text/plain": [
              "<bound method Pipeline.get_params of Pipeline(steps=[('tfidf',\n",
              "                 TfidfVectorizer(max_df=0.7, max_features=5000, min_df=3,\n",
              "                                 stop_words=['de', 'a', 'o', 'que', 'e', 'é',\n",
              "                                             'do', 'da', 'em', 'um', 'para',\n",
              "                                             'com', 'não', 'uma', 'os', 'no',\n",
              "                                             'se', 'na', 'por', 'mais', 'as',\n",
              "                                             'dos', 'como', 'mas', 'ao', 'ele',\n",
              "                                             'das', 'à', 'seu', 'sua', ...])),\n",
              "                ('clf',\n",
              "                 SGDClassifier(alpha=1e-06, loss='log', penalty='elasticnet'))])>"
            ]
          },
          "metadata": {},
          "execution_count": 51
        }
      ]
    },
    {
      "cell_type": "markdown",
      "source": [
        "### Análise das probabilidades das predições do Modelo 1"
      ],
      "metadata": {
        "id": "Scy_jW_Cw9dE"
      }
    },
    {
      "cell_type": "code",
      "source": [
        "# text_test = X_test[0:200]\n",
        "# target_test = y_test[0:200]"
      ],
      "metadata": {
        "id": "XXnfGeFWw8n8"
      },
      "execution_count": 52,
      "outputs": []
    },
    {
      "cell_type": "code",
      "source": [
        "# # Mostra as probabilidades das classes nos dados de teste (primeiras 5 jurisprudências)\n",
        "# prob_preds_1 = classificador_1.predict_proba(text_test)\n",
        "# prob_preds_1[:5]"
      ],
      "metadata": {
        "id": "Qd6zhkiDxF0b"
      },
      "execution_count": 53,
      "outputs": []
    },
    {
      "cell_type": "markdown",
      "source": [
        "##Modelo 2\n",
        "**SGD Classifier** associado ao TF-IDF sem stopwords, 5000 palavras, presentes em no máximo 70% dos enunciados e no mínimo em 3\n",
        "Utiliza Random Over Sample (ROS) para balancear as classes no treino\n"
      ],
      "metadata": {
        "id": "cefaVN3NEqN-"
      }
    },
    {
      "cell_type": "code",
      "source": [
        "classificador_1_balanced = pipeline_1.fit(X_train_balanced['Enunciado'], y_train_balanced)"
      ],
      "metadata": {
        "id": "Rv-NDAikpkJM"
      },
      "execution_count": 54,
      "outputs": []
    },
    {
      "cell_type": "code",
      "source": [
        "classificador_1_balanced.score(X_test,y_test) "
      ],
      "metadata": {
        "id": "PNq0giVopoEk",
        "colab": {
          "base_uri": "https://localhost:8080/"
        },
        "outputId": "b485b190-fa63-414a-e442-ea4d1c17668e"
      },
      "execution_count": 55,
      "outputs": [
        {
          "output_type": "execute_result",
          "data": {
            "text/plain": [
              "0.8881987577639752"
            ]
          },
          "metadata": {},
          "execution_count": 55
        }
      ]
    },
    {
      "cell_type": "code",
      "source": [
        "predicted_1_balanced = classificador_1_balanced.predict(X_test)"
      ],
      "metadata": {
        "id": "8yCyjB7JpqJl"
      },
      "execution_count": 56,
      "outputs": []
    },
    {
      "cell_type": "code",
      "source": [
        "print(metrics.classification_report(y_test, predicted_1_balanced))"
      ],
      "metadata": {
        "id": "_nObzqphpv68",
        "colab": {
          "base_uri": "https://localhost:8080/"
        },
        "outputId": "adbf8bb3-3acc-465a-e71a-3dfd66ccce5d"
      },
      "execution_count": 57,
      "outputs": [
        {
          "output_type": "stream",
          "name": "stdout",
          "text": [
            "              precision    recall  f1-score   support\n",
            "\n",
            "           0       0.80      0.84      0.82       131\n",
            "           1       0.82      0.80      0.81       205\n",
            "           2       0.75      0.80      0.77       152\n",
            "           3       0.75      0.72      0.74        29\n",
            "           4       0.89      0.88      0.89       433\n",
            "           5       0.78      0.76      0.77        84\n",
            "           6       0.74      0.68      0.70        74\n",
            "           7       0.92      0.93      0.92       601\n",
            "           8       0.96      0.97      0.96       798\n",
            "           9       0.88      0.87      0.87       552\n",
            "\n",
            "    accuracy                           0.89      3059\n",
            "   macro avg       0.83      0.82      0.83      3059\n",
            "weighted avg       0.89      0.89      0.89      3059\n",
            "\n"
          ]
        }
      ]
    },
    {
      "cell_type": "code",
      "source": [
        "fig, ax = plt.subplots(figsize=(15, 10))\n",
        "plot_confusion_matrix(classificador_1_balanced, X_test, y_test, values_format='d', ax=ax)"
      ],
      "metadata": {
        "id": "ZAgd4-Ewv9LU",
        "colab": {
          "base_uri": "https://localhost:8080/",
          "height": 678
        },
        "outputId": "461a20d4-8d4a-49b3-e2c8-e7b5ef8c232c"
      },
      "execution_count": 58,
      "outputs": [
        {
          "output_type": "stream",
          "name": "stderr",
          "text": [
            "/usr/local/lib/python3.7/dist-packages/sklearn/utils/deprecation.py:87: FutureWarning: Function plot_confusion_matrix is deprecated; Function `plot_confusion_matrix` is deprecated in 1.0 and will be removed in 1.2. Use one of the class methods: ConfusionMatrixDisplay.from_predictions or ConfusionMatrixDisplay.from_estimator.\n",
            "  warnings.warn(msg, category=FutureWarning)\n"
          ]
        },
        {
          "output_type": "execute_result",
          "data": {
            "text/plain": [
              "<sklearn.metrics._plot.confusion_matrix.ConfusionMatrixDisplay at 0x7eff5e265d50>"
            ]
          },
          "metadata": {},
          "execution_count": 58
        },
        {
          "output_type": "display_data",
          "data": {
            "image/png": "[encoded data removed]",
            "text/plain": [
              "<Figure size 1080x720 with 2 Axes>"
            ]
          },
          "metadata": {
            "needs_background": "light"
          }
        }
      ]
    },
    {
      "cell_type": "markdown",
      "source": [
        "### Análise das probabilidades das predições do Modelo 2"
      ],
      "metadata": {
        "id": "8txgZ2gSwx5f"
      }
    },
    {
      "cell_type": "markdown",
      "source": [
        "## Modelo 3\n",
        "\n",
        "SGD Classifier associado ao TF-IDF retiranto stopwords  e números\n",
        "\n",
        "limitado a 5000 palavras, presentes em no máximo 70% dos enunciados e no mínimo em 3"
      ],
      "metadata": {
        "id": "cpTBnjXMrC5J"
      }
    },
    {
      "cell_type": "code",
      "source": [
        "pipeline_2 = Pipeline([\n",
        "    ('tfidf', TfidfVectorizer(max_features=5000, max_df=0.7, min_df=3, stop_words=stopwords, token_pattern=regex)),\n",
        "    ('clf', SGDClassifier(loss='log', penalty='elasticnet', alpha=1e-06)) # default hinge. to get proba=log or modified_huber\n",
        "])"
      ],
      "metadata": {
        "id": "oQovfdvIrH5s"
      },
      "execution_count": 59,
      "outputs": []
    },
    {
      "cell_type": "code",
      "source": [
        "%%time\n",
        "# Treine o modelo(fit)\n",
        "classificador_2 = pipeline_2.fit(X_train, y_train)"
      ],
      "metadata": {
        "id": "n2xCOj4nrpnT",
        "colab": {
          "base_uri": "https://localhost:8080/"
        },
        "outputId": "05243f9f-c3d1-4823-f1d1-0d279e9f88d7"
      },
      "execution_count": 60,
      "outputs": [
        {
          "output_type": "stream",
          "name": "stdout",
          "text": [
            "CPU times: user 1.06 s, sys: 4.66 ms, total: 1.06 s\n",
            "Wall time: 1.07 s\n"
          ]
        }
      ]
    },
    {
      "cell_type": "code",
      "source": [
        "classificador_2.score(X_test,y_test)"
      ],
      "metadata": {
        "id": "s0qemsS8rt2l",
        "colab": {
          "base_uri": "https://localhost:8080/"
        },
        "outputId": "a1bdf787-4659-4ba6-f39a-c3a14538cbf1"
      },
      "execution_count": 61,
      "outputs": [
        {
          "output_type": "execute_result",
          "data": {
            "text/plain": [
              "0.8394900294213795"
            ]
          },
          "metadata": {},
          "execution_count": 61
        }
      ]
    },
    {
      "cell_type": "code",
      "source": [
        " predicted_2 = classificador_2.predict(X_test)"
      ],
      "metadata": {
        "id": "1mCZ1uj9rxtT"
      },
      "execution_count": 62,
      "outputs": []
    },
    {
      "cell_type": "code",
      "source": [
        "from sklearn.metrics import f1_score\n",
        "f1_score(y_test, predicted_2, average='weighted') "
      ],
      "metadata": {
        "id": "0RKovo8or0e0",
        "colab": {
          "base_uri": "https://localhost:8080/"
        },
        "outputId": "9de9d154-cbe9-4a1a-f6b0-e981656e05cd"
      },
      "execution_count": 63,
      "outputs": [
        {
          "output_type": "execute_result",
          "data": {
            "text/plain": [
              "0.8361369156128019"
            ]
          },
          "metadata": {},
          "execution_count": 63
        }
      ]
    },
    {
      "cell_type": "code",
      "source": [
        "print(metrics.classification_report(y_test, predicted_2))"
      ],
      "metadata": {
        "id": "GT5V_hqzvPxs",
        "colab": {
          "base_uri": "https://localhost:8080/"
        },
        "outputId": "f1200189-1871-42bb-ce65-600120672ecc"
      },
      "execution_count": 64,
      "outputs": [
        {
          "output_type": "stream",
          "name": "stdout",
          "text": [
            "              precision    recall  f1-score   support\n",
            "\n",
            "           0       0.79      0.76      0.77       131\n",
            "           1       0.81      0.73      0.77       205\n",
            "           2       0.68      0.69      0.69       152\n",
            "           3       0.56      0.31      0.40        29\n",
            "           4       0.84      0.85      0.84       433\n",
            "           5       0.76      0.56      0.64        84\n",
            "           6       0.72      0.53      0.61        74\n",
            "           7       0.83      0.90      0.87       601\n",
            "           8       0.92      0.96      0.94       798\n",
            "           9       0.82      0.81      0.81       552\n",
            "\n",
            "    accuracy                           0.84      3059\n",
            "   macro avg       0.77      0.71      0.73      3059\n",
            "weighted avg       0.84      0.84      0.84      3059\n",
            "\n"
          ]
        }
      ]
    },
    {
      "cell_type": "code",
      "source": [
        "# Mostra os hiperparâmetros usados para treinar o modelo\n",
        "fig, ax = plt.subplots(figsize=(15, 10))\n",
        "plot_confusion_matrix(classificador_2, X_test, y_test, ax=ax, values_format='d', display_labels=['Competência do TCU', 'Contrato Administrativo', 'Convênio', 'Desestatização', 'Direito Processual', 'Finanças Públicas', 'Gestão Administrativa', 'Licitação', 'Pessoal', 'Responsabilidade'])"
      ],
      "metadata": {
        "id": "BD1oYm8UwWHE",
        "colab": {
          "base_uri": "https://localhost:8080/",
          "height": 678
        },
        "outputId": "cc40fec1-671f-4b2f-cf4e-2f8111ae49a8"
      },
      "execution_count": 65,
      "outputs": [
        {
          "output_type": "stream",
          "name": "stderr",
          "text": [
            "/usr/local/lib/python3.7/dist-packages/sklearn/utils/deprecation.py:87: FutureWarning: Function plot_confusion_matrix is deprecated; Function `plot_confusion_matrix` is deprecated in 1.0 and will be removed in 1.2. Use one of the class methods: ConfusionMatrixDisplay.from_predictions or ConfusionMatrixDisplay.from_estimator.\n",
            "  warnings.warn(msg, category=FutureWarning)\n"
          ]
        },
        {
          "output_type": "execute_result",
          "data": {
            "text/plain": [
              "<sklearn.metrics._plot.confusion_matrix.ConfusionMatrixDisplay at 0x7eff5392cc10>"
            ]
          },
          "metadata": {},
          "execution_count": 65
        },
        {
          "output_type": "display_data",
          "data": {
            "image/png": "[encoded data removed]",
            "text/plain": [
              "<Figure size 1080x720 with 2 Axes>"
            ]
          },
          "metadata": {
            "needs_background": "light"
          }
        }
      ]
    },
    {
      "cell_type": "code",
      "source": [
        "# Mostra os hiperparâmetros usados para treinar o modelo\n",
        "classificador_2.get_params"
      ],
      "metadata": {
        "id": "jelRZLocwim2",
        "colab": {
          "base_uri": "https://localhost:8080/"
        },
        "outputId": "7aa40c54-91e7-460e-99f3-8fa078c40872"
      },
      "execution_count": 66,
      "outputs": [
        {
          "output_type": "execute_result",
          "data": {
            "text/plain": [
              "<bound method Pipeline.get_params of Pipeline(steps=[('tfidf',\n",
              "                 TfidfVectorizer(max_df=0.7, max_features=5000, min_df=3,\n",
              "                                 stop_words=['de', 'a', 'o', 'que', 'e', 'é',\n",
              "                                             'do', 'da', 'em', 'um', 'para',\n",
              "                                             'com', 'não', 'uma', 'os', 'no',\n",
              "                                             'se', 'na', 'por', 'mais', 'as',\n",
              "                                             'dos', 'como', 'mas', 'ao', 'ele',\n",
              "                                             'das', 'à', 'seu', 'sua', ...],\n",
              "                                 token_pattern='(?u)\\\\b[A-Za-z]+\\\\b')),\n",
              "                ('clf',\n",
              "                 SGDClassifier(alpha=1e-06, loss='log', penalty='elasticnet'))])>"
            ]
          },
          "metadata": {},
          "execution_count": 66
        }
      ]
    },
    {
      "cell_type": "markdown",
      "source": [
        "### Análise das probabilidades das predições do modelo 3"
      ],
      "metadata": {
        "id": "Akw7hKeFxrX7"
      }
    },
    {
      "cell_type": "code",
      "source": [
        "prob_preds_2 = classificador_2.predict_proba(X_test)\n",
        "prob_preds_2[:5]"
      ],
      "metadata": {
        "id": "zY8EWRoVxvHL",
        "colab": {
          "base_uri": "https://localhost:8080/"
        },
        "outputId": "6db96e93-81f4-4c81-bae6-2e5e547c7624"
      },
      "execution_count": 67,
      "outputs": [
        {
          "output_type": "execute_result",
          "data": {
            "text/plain": [
              "array([[7.34836592e-06, 1.08600925e-04, 3.01511141e-02, 2.81224265e-05,\n",
              "        7.83086870e-05, 2.93795363e-06, 2.16430769e-05, 9.60206015e-05,\n",
              "        9.69500808e-01, 5.09596031e-06],\n",
              "       [2.64468400e-06, 2.14480419e-05, 2.57990469e-04, 6.87969913e-05,\n",
              "        2.27957058e-05, 1.42940470e-03, 8.15343416e-02, 5.87634006e-03,\n",
              "        8.08310487e-01, 1.02475751e-01],\n",
              "       [1.54723575e-02, 9.07351879e-05, 8.05771650e-01, 1.96462587e-04,\n",
              "        4.09662862e-05, 7.02365733e-02, 1.05848144e-01, 9.77708357e-05,\n",
              "        3.33120157e-04, 1.91222047e-03],\n",
              "       [1.84483122e-04, 1.04013410e-04, 4.48402527e-02, 2.08754910e-04,\n",
              "        9.47646480e-01, 2.80251103e-05, 1.71268121e-04, 6.16949329e-03,\n",
              "        6.22357281e-04, 2.48724127e-05],\n",
              "       [3.06075440e-02, 1.49563724e-08, 2.98448232e-06, 8.55532147e-08,\n",
              "        1.03353723e-02, 5.57005738e-06, 9.03821353e-05, 2.56801314e-06,\n",
              "        9.58893410e-01, 6.20685097e-05]])"
            ]
          },
          "metadata": {},
          "execution_count": 67
        }
      ]
    },
    {
      "cell_type": "markdown",
      "source": [
        "## Modelo 4\n",
        "\n",
        "**Random Forest** associado ao TF-IDF sem stopwords, 5000 palavras, presentes em no máximo 70% dos enunciados e no mínimo em 3"
      ],
      "metadata": {
        "id": "5kXaxIvgudcb"
      }
    },
    {
      "cell_type": "code",
      "source": [
        "#RandomForest\n",
        "\n",
        "# Define o pipeline incluindo o extrator de 'features do texto e um classificador\n",
        "pipeline_3 = Pipeline([\n",
        "    ('tfidf', TfidfVectorizer(max_features=5000, max_df=0.7, min_df=3, stop_words=stopwords)),\n",
        "    ('clf', RandomForestClassifier()) # default hinge. to get proba=log or modified_huber\n",
        "])"
      ],
      "metadata": {
        "id": "FSCXfwedshKw"
      },
      "execution_count": 68,
      "outputs": []
    },
    {
      "cell_type": "code",
      "source": [
        "%%time\n",
        "# Treine o modelo(fit)\n",
        "classificador_3 = pipeline_3.fit(X_train, y_train)"
      ],
      "metadata": {
        "id": "eWlkvWX5uibT",
        "colab": {
          "base_uri": "https://localhost:8080/"
        },
        "outputId": "fe4a1b63-a1ff-4153-b152-d825bb593bc4"
      },
      "execution_count": 69,
      "outputs": [
        {
          "output_type": "stream",
          "name": "stdout",
          "text": [
            "CPU times: user 13.4 s, sys: 74.5 ms, total: 13.5 s\n",
            "Wall time: 13.4 s\n"
          ]
        }
      ]
    },
    {
      "cell_type": "code",
      "source": [
        "classificador_3.score(X_test,y_test) "
      ],
      "metadata": {
        "id": "kAdGv5tsulSb",
        "colab": {
          "base_uri": "https://localhost:8080/"
        },
        "outputId": "78c34314-4a5e-4ec5-8a18-2e245068b6bc"
      },
      "execution_count": 70,
      "outputs": [
        {
          "output_type": "execute_result",
          "data": {
            "text/plain": [
              "0.84472049689441"
            ]
          },
          "metadata": {},
          "execution_count": 70
        }
      ]
    },
    {
      "cell_type": "code",
      "source": [
        "classificador_3.score(X_test,y_test)"
      ],
      "metadata": {
        "id": "iuxyMaeNuou7",
        "colab": {
          "base_uri": "https://localhost:8080/"
        },
        "outputId": "ceceb732-c8df-4b02-c5e5-595aad75e289"
      },
      "execution_count": 71,
      "outputs": [
        {
          "output_type": "execute_result",
          "data": {
            "text/plain": [
              "0.84472049689441"
            ]
          },
          "metadata": {},
          "execution_count": 71
        }
      ]
    },
    {
      "cell_type": "code",
      "source": [
        " # Faça a predição nos dados de teste\n",
        " predicted_3 = classificador_3.predict(X_test)"
      ],
      "metadata": {
        "id": "pprxIvD-usDc"
      },
      "execution_count": 72,
      "outputs": []
    },
    {
      "cell_type": "code",
      "source": [
        "# Modelo 3 - f1 score do modelo nos dados de teste (usado quando as classes estão desbalanceadas)\n",
        "from sklearn.metrics import f1_score\n",
        "f1_score(y_test, predicted_3, average='weighted') # harmonic mean of the precision and recall - F1 = 2 * (precision * recall) / (precision + recall)"
      ],
      "metadata": {
        "id": "zDDcNRTguxCc",
        "colab": {
          "base_uri": "https://localhost:8080/"
        },
        "outputId": "6bb52f47-7f87-492e-9be8-6ba33c7a6ab1"
      },
      "execution_count": 73,
      "outputs": [
        {
          "output_type": "execute_result",
          "data": {
            "text/plain": [
              "0.8349937979611942"
            ]
          },
          "metadata": {},
          "execution_count": 73
        }
      ]
    },
    {
      "cell_type": "code",
      "source": [
        "print(metrics.classification_report(y_test, predicted_3))"
      ],
      "metadata": {
        "id": "_HrvPrf5vVFe",
        "colab": {
          "base_uri": "https://localhost:8080/"
        },
        "outputId": "617a8ad2-e6ac-4955-cefb-0a8320abcae3"
      },
      "execution_count": 74,
      "outputs": [
        {
          "output_type": "stream",
          "name": "stdout",
          "text": [
            "              precision    recall  f1-score   support\n",
            "\n",
            "           0       0.83      0.73      0.78       131\n",
            "           1       0.81      0.64      0.72       205\n",
            "           2       0.75      0.66      0.70       152\n",
            "           3       1.00      0.07      0.13        29\n",
            "           4       0.88      0.85      0.87       433\n",
            "           5       0.84      0.44      0.58        84\n",
            "           6       1.00      0.41      0.58        74\n",
            "           7       0.79      0.96      0.87       601\n",
            "           8       0.90      0.97      0.93       798\n",
            "           9       0.84      0.85      0.84       552\n",
            "\n",
            "    accuracy                           0.84      3059\n",
            "   macro avg       0.86      0.66      0.70      3059\n",
            "weighted avg       0.85      0.84      0.83      3059\n",
            "\n"
          ]
        }
      ]
    },
    {
      "cell_type": "code",
      "source": [
        "fig, ax = plt.subplots(figsize=(20, 15))\n",
        "plot_confusion_matrix(classificador_3, X_test, y_test, values_format='d', ax=ax, display_labels=['Competência do TCU', 'Contrato Administrativo', 'Convênio', 'Desestatização', 'Direito Processual', 'Finanças Públicas', 'Gestão Administrativa', 'Licitação', 'Pessoal', 'Responsabilidade'])"
      ],
      "metadata": {
        "id": "F0WaC4V3woQr",
        "colab": {
          "base_uri": "https://localhost:8080/",
          "height": 950
        },
        "outputId": "1b6ebb48-56fd-4232-c86d-9d30b83ddf49"
      },
      "execution_count": 75,
      "outputs": [
        {
          "output_type": "stream",
          "name": "stderr",
          "text": [
            "/usr/local/lib/python3.7/dist-packages/sklearn/utils/deprecation.py:87: FutureWarning: Function plot_confusion_matrix is deprecated; Function `plot_confusion_matrix` is deprecated in 1.0 and will be removed in 1.2. Use one of the class methods: ConfusionMatrixDisplay.from_predictions or ConfusionMatrixDisplay.from_estimator.\n",
            "  warnings.warn(msg, category=FutureWarning)\n"
          ]
        },
        {
          "output_type": "execute_result",
          "data": {
            "text/plain": [
              "<sklearn.metrics._plot.confusion_matrix.ConfusionMatrixDisplay at 0x7eff53d24050>"
            ]
          },
          "metadata": {},
          "execution_count": 75
        },
        {
          "output_type": "display_data",
          "data": {
            "image/png": "[encoded data removed]",
            "text/plain": [
              "<Figure size 1440x1080 with 2 Axes>"
            ]
          },
          "metadata": {
            "needs_background": "light"
          }
        }
      ]
    },
    {
      "cell_type": "code",
      "source": [
        "# Mostra os hiperparâmetros usados para treinar o modelo\n",
        "classificador_3.get_params"
      ],
      "metadata": {
        "id": "AOjzLH72wsOT",
        "colab": {
          "base_uri": "https://localhost:8080/"
        },
        "outputId": "2e8374b2-a0b1-44e7-a238-604254c3678b"
      },
      "execution_count": 76,
      "outputs": [
        {
          "output_type": "execute_result",
          "data": {
            "text/plain": [
              "<bound method Pipeline.get_params of Pipeline(steps=[('tfidf',\n",
              "                 TfidfVectorizer(max_df=0.7, max_features=5000, min_df=3,\n",
              "                                 stop_words=['de', 'a', 'o', 'que', 'e', 'é',\n",
              "                                             'do', 'da', 'em', 'um', 'para',\n",
              "                                             'com', 'não', 'uma', 'os', 'no',\n",
              "                                             'se', 'na', 'por', 'mais', 'as',\n",
              "                                             'dos', 'como', 'mas', 'ao', 'ele',\n",
              "                                             'das', 'à', 'seu', 'sua', ...])),\n",
              "                ('clf', RandomForestClassifier())])>"
            ]
          },
          "metadata": {},
          "execution_count": 76
        }
      ]
    },
    {
      "cell_type": "markdown",
      "source": [
        "# Observação dos resultados"
      ],
      "metadata": {
        "id": "prvlls7ryZTE"
      }
    },
    {
      "cell_type": "code",
      "source": [
        "# text_test = X_test[0:200]\n",
        "# target_test = y_test[0:200]"
      ],
      "metadata": {
        "id": "ZVYFrwdo0BHa"
      },
      "execution_count": 77,
      "outputs": []
    },
    {
      "cell_type": "code",
      "source": [
        "len(X_test)"
      ],
      "metadata": {
        "id": "SdeZ471O1pBV",
        "colab": {
          "base_uri": "https://localhost:8080/"
        },
        "outputId": "cb0ca94a-a418-4b5b-fa5f-9178d3de263a"
      },
      "execution_count": 78,
      "outputs": [
        {
          "output_type": "execute_result",
          "data": {
            "text/plain": [
              "3059"
            ]
          },
          "metadata": {},
          "execution_count": 78
        }
      ]
    },
    {
      "cell_type": "code",
      "source": [
        "len(y_test)"
      ],
      "metadata": {
        "id": "Qu1-jlGQ1uS6",
        "colab": {
          "base_uri": "https://localhost:8080/"
        },
        "outputId": "b55fee29-79cf-4374-e325-9c2e7f9601ec"
      },
      "execution_count": 79,
      "outputs": [
        {
          "output_type": "execute_result",
          "data": {
            "text/plain": [
              "3059"
            ]
          },
          "metadata": {},
          "execution_count": 79
        }
      ]
    },
    {
      "cell_type": "code",
      "source": [
        "y_test.value_counts()"
      ],
      "metadata": {
        "id": "hZ0RoyN2ILHp",
        "colab": {
          "base_uri": "https://localhost:8080/"
        },
        "outputId": "16392924-533a-4e1b-8bd0-9b67c38016e5"
      },
      "execution_count": 80,
      "outputs": [
        {
          "output_type": "execute_result",
          "data": {
            "text/plain": [
              "8    798\n",
              "7    601\n",
              "9    552\n",
              "4    433\n",
              "1    205\n",
              "2    152\n",
              "0    131\n",
              "5     84\n",
              "6     74\n",
              "3     29\n",
              "Name: classe, dtype: int64"
            ]
          },
          "metadata": {},
          "execution_count": 80
        }
      ]
    },
    {
      "cell_type": "markdown",
      "source": [
        "## Modelo 1 "
      ],
      "metadata": {
        "id": "tMYKjthJNId8"
      }
    },
    {
      "cell_type": "code",
      "source": [
        "# Mostra as probabilidades das classes nos dados de teste (primeiras 5 jurisprudências)\n",
        "prob_preds_1 = classificador_1.predict_proba(X_test)\n",
        "prob_preds_1[:5]"
      ],
      "metadata": {
        "id": "rz5iz6o32Cb9",
        "colab": {
          "base_uri": "https://localhost:8080/"
        },
        "outputId": "64acb910-e05e-4767-cbc4-752401e3723a"
      },
      "execution_count": 81,
      "outputs": [
        {
          "output_type": "execute_result",
          "data": {
            "text/plain": [
              "array([[3.31185277e-05, 1.44402581e-04, 2.71207437e-02, 3.39026145e-05,\n",
              "        2.39453264e-04, 3.14183514e-05, 1.65829223e-04, 7.17341285e-04,\n",
              "        9.71408603e-01, 1.05187834e-04],\n",
              "       [1.07414378e-04, 3.83159137e-03, 6.96663625e-02, 2.35693123e-04,\n",
              "        3.01246657e-05, 5.41172289e-03, 2.44183600e-01, 2.45453310e-02,\n",
              "        1.87410413e-03, 6.50114056e-01],\n",
              "       [1.24116418e-02, 3.93842029e-05, 1.11235223e-01, 3.38615920e-04,\n",
              "        5.17057150e-04, 8.35997408e-01, 3.01662248e-02, 1.08533073e-04,\n",
              "        8.76533723e-03, 4.20574233e-04],\n",
              "       [8.83094193e-04, 1.59354226e-04, 3.14397240e-02, 3.49213041e-04,\n",
              "        9.51764512e-01, 1.55002742e-03, 7.00879885e-04, 4.14496733e-03,\n",
              "        8.96893079e-03, 3.92969861e-05],\n",
              "       [3.53914045e-02, 3.05672572e-06, 1.11502845e-05, 2.05781920e-05,\n",
              "        1.03354445e-01, 9.26458017e-05, 7.77186202e-05, 3.38578313e-05,\n",
              "        8.60998229e-01, 1.69137567e-05]])"
            ]
          },
          "metadata": {},
          "execution_count": 81
        }
      ]
    },
    {
      "cell_type": "code",
      "source": [
        "X_test.shape"
      ],
      "metadata": {
        "id": "T85x0KDYOnRm",
        "colab": {
          "base_uri": "https://localhost:8080/"
        },
        "outputId": "5e67d486-79d5-4c70-cb77-b077e7562a53"
      },
      "execution_count": 82,
      "outputs": [
        {
          "output_type": "execute_result",
          "data": {
            "text/plain": [
              "(3059,)"
            ]
          },
          "metadata": {},
          "execution_count": 82
        }
      ]
    },
    {
      "cell_type": "code",
      "source": [
        "# Cria dataframe para conferência da confiaça do modelo 1 em cada predição (probabilidades)\n",
        "df_prob_1 = pd.DataFrame(columns=['texto','actual','predicted', 'prob_comptTCU(0)', 'prob_contra(1)', 'prob_conven(2)','prob_desestatiz(3)','prob_dirproc(4)', 'prob_financa(5)', 'prob_gadm(6)', 'prob_licit(7)', 'prob_pessoal(8)', 'prob_resp(9)'])\n",
        "df_prob_1['texto'] = X_test\n",
        "df_prob_1['actual'] = y_test\n",
        "df_prob_1['predicted'] = classificador_1.predict(X_test)\n",
        "df_prob_1['prob_comptTCU(0)'] = np.round(prob_preds_1[0:,0],6).tolist()\n",
        "df_prob_1['prob_contra(1)'] = np.round(prob_preds_1[0:,1],6).tolist()\n",
        "df_prob_1['prob_respo(2)'] = np.round(prob_preds_1[0:,2],6).tolist()\n",
        "df_prob_1['prob_conven(3)'] = np.round(prob_preds_1[0:,3],6).tolist()\n",
        "df_prob_1['prob_dirproc(4)'] = np.round(prob_preds_1[0:,4],6).tolist()\n",
        "df_prob_1['prob_financa(5)'] = np.round(prob_preds_1[0:,5],6).tolist()\n",
        "df_prob_1['prob_gadm(6)'] = np.round(prob_preds_1[0:,6],6).tolist()\n",
        "df_prob_1['prob_licit(7)'] = np.round(prob_preds_1[0:,7],6).tolist()\n",
        "df_prob_1['prob_pessoal(8)'] = np.round(prob_preds_1[0:,8],6).tolist()\n",
        "df_prob_1['prob_resp(9)'] = np.round(prob_preds_1[0:,9],6).tolist()\n",
        "\n",
        "print(df_prob_1.shape)\n",
        "df_prob_1.head()"
      ],
      "metadata": {
        "id": "QF06XrA1ygEN",
        "colab": {
          "base_uri": "https://localhost:8080/",
          "height": 487
        },
        "outputId": "44361aaa-8366-4e9c-9505-e7c0e6adae12"
      },
      "execution_count": 83,
      "outputs": [
        {
          "output_type": "stream",
          "name": "stdout",
          "text": [
            "(3059, 15)\n"
          ]
        },
        {
          "output_type": "execute_result",
          "data": {
            "text/html": [
              "<div>\n",
              "<style scoped>\n",
              "    .dataframe tbody tr th:only-of-type {\n",
              "        vertical-align: middle;\n",
              "    }\n",
              "\n",
              "    .dataframe tbody tr th {\n",
              "        vertical-align: top;\n",
              "    }\n",
              "\n",
              "    .dataframe thead th {\n",
              "        text-align: right;\n",
              "    }\n",
              "</style>\n",
              "<table border=\"1\" class=\"dataframe\">\n",
              "  <thead>\n",
              "    <tr style=\"text-align: right;\">\n",
              "      <th></th>\n",
              "      <th>texto</th>\n",
              "      <th>actual</th>\n",
              "      <th>predicted</th>\n",
              "      <th>prob_comptTCU(0)</th>\n",
              "      <th>prob_contra(1)</th>\n",
              "      <th>prob_conven(2)</th>\n",
              "      <th>prob_desestatiz(3)</th>\n",
              "      <th>prob_dirproc(4)</th>\n",
              "      <th>prob_financa(5)</th>\n",
              "      <th>prob_gadm(6)</th>\n",
              "      <th>prob_licit(7)</th>\n",
              "      <th>prob_pessoal(8)</th>\n",
              "      <th>prob_resp(9)</th>\n",
              "      <th>prob_respo(2)</th>\n",
              "      <th>prob_conven(3)</th>\n",
              "    </tr>\n",
              "  </thead>\n",
              "  <tbody>\n",
              "    <tr>\n",
              "      <th>10639</th>\n",
              "      <td>É ilegal o cômputo de tempo das atividades de ...</td>\n",
              "      <td>8</td>\n",
              "      <td>8</td>\n",
              "      <td>0.000033</td>\n",
              "      <td>0.000144</td>\n",
              "      <td>NaN</td>\n",
              "      <td>NaN</td>\n",
              "      <td>0.000239</td>\n",
              "      <td>0.000031</td>\n",
              "      <td>0.000166</td>\n",
              "      <td>0.000717</td>\n",
              "      <td>0.971409</td>\n",
              "      <td>0.000105</td>\n",
              "      <td>0.027121</td>\n",
              "      <td>0.000034</td>\n",
              "    </tr>\n",
              "    <tr>\n",
              "      <th>14465</th>\n",
              "      <td>A ausência de rodízio de membros das comissões...</td>\n",
              "      <td>9</td>\n",
              "      <td>9</td>\n",
              "      <td>0.000107</td>\n",
              "      <td>0.003832</td>\n",
              "      <td>NaN</td>\n",
              "      <td>NaN</td>\n",
              "      <td>0.000030</td>\n",
              "      <td>0.005412</td>\n",
              "      <td>0.244184</td>\n",
              "      <td>0.024545</td>\n",
              "      <td>0.001874</td>\n",
              "      <td>0.650114</td>\n",
              "      <td>0.069666</td>\n",
              "      <td>0.000236</td>\n",
              "    </tr>\n",
              "    <tr>\n",
              "      <th>4924</th>\n",
              "      <td>Podem ser aplicados aos Fundos Constitucionais...</td>\n",
              "      <td>5</td>\n",
              "      <td>5</td>\n",
              "      <td>0.012412</td>\n",
              "      <td>0.000039</td>\n",
              "      <td>NaN</td>\n",
              "      <td>NaN</td>\n",
              "      <td>0.000517</td>\n",
              "      <td>0.835997</td>\n",
              "      <td>0.030166</td>\n",
              "      <td>0.000109</td>\n",
              "      <td>0.008765</td>\n",
              "      <td>0.000421</td>\n",
              "      <td>0.111235</td>\n",
              "      <td>0.000339</td>\n",
              "    </tr>\n",
              "    <tr>\n",
              "      <th>4493</th>\n",
              "      <td>Os relatórios de vistoria &lt;i&gt;in loco&lt;/i&gt; dos ó...</td>\n",
              "      <td>4</td>\n",
              "      <td>4</td>\n",
              "      <td>0.000883</td>\n",
              "      <td>0.000159</td>\n",
              "      <td>NaN</td>\n",
              "      <td>NaN</td>\n",
              "      <td>0.951765</td>\n",
              "      <td>0.001550</td>\n",
              "      <td>0.000701</td>\n",
              "      <td>0.004145</td>\n",
              "      <td>0.008969</td>\n",
              "      <td>0.000039</td>\n",
              "      <td>0.031440</td>\n",
              "      <td>0.000349</td>\n",
              "    </tr>\n",
              "    <tr>\n",
              "      <th>10030</th>\n",
              "      <td>O exame levado a efeito pelo TCU sobre os atos...</td>\n",
              "      <td>8</td>\n",
              "      <td>8</td>\n",
              "      <td>0.035391</td>\n",
              "      <td>0.000003</td>\n",
              "      <td>NaN</td>\n",
              "      <td>NaN</td>\n",
              "      <td>0.103354</td>\n",
              "      <td>0.000093</td>\n",
              "      <td>0.000078</td>\n",
              "      <td>0.000034</td>\n",
              "      <td>0.860998</td>\n",
              "      <td>0.000017</td>\n",
              "      <td>0.000011</td>\n",
              "      <td>0.000021</td>\n",
              "    </tr>\n",
              "  </tbody>\n",
              "</table>\n",
              "</div>"
            ],
            "text/plain": [
              "                                                   texto  ...  prob_conven(3)\n",
              "10639  É ilegal o cômputo de tempo das atividades de ...  ...        0.000034\n",
              "14465  A ausência de rodízio de membros das comissões...  ...        0.000236\n",
              "4924   Podem ser aplicados aos Fundos Constitucionais...  ...        0.000339\n",
              "4493   Os relatórios de vistoria <i>in loco</i> dos ó...  ...        0.000349\n",
              "10030  O exame levado a efeito pelo TCU sobre os atos...  ...        0.000021\n",
              "\n",
              "[5 rows x 15 columns]"
            ]
          },
          "metadata": {},
          "execution_count": 83
        }
      ]
    },
    {
      "cell_type": "code",
      "source": [
        "pd.Series(df_prob_1.index).value_counts()"
      ],
      "metadata": {
        "id": "d7li1aQl9HbD",
        "colab": {
          "base_uri": "https://localhost:8080/"
        },
        "outputId": "aa288c0d-f03f-4a0a-e01d-b144df6195e8"
      },
      "execution_count": 84,
      "outputs": [
        {
          "output_type": "execute_result",
          "data": {
            "text/plain": [
              "6143     1\n",
              "2632     1\n",
              "13660    1\n",
              "7515     1\n",
              "13658    1\n",
              "        ..\n",
              "4767     1\n",
              "10910    1\n",
              "6812     1\n",
              "5797     1\n",
              "4096     1\n",
              "Length: 3059, dtype: int64"
            ]
          },
          "metadata": {},
          "execution_count": 84
        }
      ]
    },
    {
      "cell_type": "code",
      "source": [
        "pd.Series(X_test.index).value_counts()"
      ],
      "metadata": {
        "id": "jPJDgZ1i9R_i",
        "colab": {
          "base_uri": "https://localhost:8080/"
        },
        "outputId": "6b78b276-d382-4b1c-d65a-43e92e9120fa"
      },
      "execution_count": 85,
      "outputs": [
        {
          "output_type": "execute_result",
          "data": {
            "text/plain": [
              "6143     1\n",
              "2632     1\n",
              "13660    1\n",
              "7515     1\n",
              "13658    1\n",
              "        ..\n",
              "4767     1\n",
              "10910    1\n",
              "6812     1\n",
              "5797     1\n",
              "4096     1\n",
              "Length: 3059, dtype: int64"
            ]
          },
          "metadata": {},
          "execution_count": 85
        }
      ]
    },
    {
      "cell_type": "code",
      "source": [
        "# Listar predições do modelo para classe=9 (classe minoritária) que estão erradas e suas probabilidades.\n",
        "print(df_prob_1[(df_prob_1['predicted'] == 9) & (df_prob_1['actual'] != df_prob_1['predicted']) & (df_prob_1['prob_resp(9)'] < 0.9)] [['texto']])"
      ],
      "metadata": {
        "id": "_Py2kk9pyj87",
        "colab": {
          "base_uri": "https://localhost:8080/"
        },
        "outputId": "bd2fc94a-985a-477c-96e4-5cfd4eaa66c7"
      },
      "execution_count": 86,
      "outputs": [
        {
          "output_type": "stream",
          "name": "stdout",
          "text": [
            "                                                   texto\n",
            "2428   Após executado o objeto de convênio, o cuidado...\n",
            "7882   Permite-se a correção dos preços antes da assi...\n",
            "8428   Empresa em litígio com a Fazenda Pública, em a...\n",
            "1167   É objetiva a responsabilidade do construtor no...\n",
            "861    A execução de contrato deve ser acompanhada po...\n",
            "1041   É cabível a utilização de estudos econométrico...\n",
            "159    A jurisdição do TCU alcança a aplicação de rec...\n",
            "4591   Para a instauração de tomada de contas especia...\n",
            "502    Eventuais constatações acerca da aplicação de ...\n",
            "34     As seguradoras que atuam como agentes executor...\n",
            "4906   O indicador estoque da dívida pública/estoque ...\n",
            "2785   Não cabe a instauração de incidente de uniform...\n",
            "2368   A Administração Pública é obrigada a manter a ...\n",
            "5247   É indevida a contratação institucional de serv...\n",
            "4426   É possível a aplicação da multa do art. 58 da ...\n",
            "2945   É a demonstração da boa-fé objetiva - conduta ...\n",
            "1481   A antecipação do prazo de execução e conclusão...\n",
            "11942  Os interessados beneficiados por decisão judic...\n",
            "98     Identificando qualquer irregularidade em acord...\n",
            "2339   É irregular a alteração de beneficiários de co...\n",
            "2135   É irregular a contratação, por entidade conven...\n",
            "3079   No caso de falecimento de dirigente responsáve...\n",
            "3081   No caso de falecimento de responsável por irre...\n",
            "2731   Em regra, não cabe prazo diferenciado a estado...\n",
            "3118   É regular a consolidação de débitos de respons...\n",
            "2026   Em convênio que preveja equipar unidade de saú...\n",
            "252    Medidas afetas à discricionariedade do gestor ...\n",
            "3966   A prova indiciária de fraude é admitida como f...\n",
            "1280   A formalização de contrato em momento posterio...\n",
            "3517   Quando houver dificuldade para ter acesso aos ...\n",
            "2072   O gestor público que não presta contas no mome...\n",
            "3485   O ônus de comprovar a regularidade da integral...\n",
            "1798   Os órgãos concedentes, na análise das prestaçõ...\n",
            "4702   Para que seja declarada a inidoneidade de uma ...\n",
            "4489   O falecimento do responsável após sua citação ...\n",
            "3093   No caso de omissão no dever de prestar contas,...\n",
            "1967   É configurado desvio de finalidade a utilizaçã...\n",
            "3038   Em caso de condenação de ente da Federação em ...\n",
            "5287   O órgão ou a entidade que conduzir o processo ...\n",
            "6680   O prazo decadencial a ser observado pela Admin...\n",
            "1093   Nas empreitadas por preço unitário, os pagamen...\n",
            "12239  O TCU, ao julgar as contas e efetuar a fiscali...\n",
            "2000   O convenente deve comprovar a propriedade do i...\n",
            "1955   Constitui desvio de finalidade o uso de recurs...\n",
            "1301   A não aferição do perfil dos profissionais ind...\n",
            "4076   As declarações expedidas por órgão público, as...\n",
            "6013   O dano reverso decorrente da falta de produto ...\n"
          ]
        }
      ]
    },
    {
      "cell_type": "code",
      "source": [
        "md1_9 = (df_prob_1[(df_prob_1['predicted'] == 9) & (df_prob_1['actual'] != df_prob_1['predicted']) & (df_prob_1['prob_resp(9)'] < 0.9)] [['texto']])"
      ],
      "metadata": {
        "id": "ViGXlyL8C-97"
      },
      "execution_count": 87,
      "outputs": []
    },
    {
      "cell_type": "code",
      "source": [
        "len(md1_9) # enunciados da classe 9 que o modelo previu errado"
      ],
      "metadata": {
        "id": "h4R54BlrDCTw",
        "colab": {
          "base_uri": "https://localhost:8080/"
        },
        "outputId": "454f819c-4ebc-4102-a6fa-86e19032fa52"
      },
      "execution_count": 88,
      "outputs": [
        {
          "output_type": "execute_result",
          "data": {
            "text/plain": [
              "47"
            ]
          },
          "metadata": {},
          "execution_count": 88
        }
      ]
    },
    {
      "cell_type": "code",
      "source": [
        "md1_4 = (df_prob_1[(df_prob_1['predicted'] == 4) & (df_prob_1['actual'] != df_prob_1['predicted']) & (df_prob_1['prob_dirproc(4)'] < 0.9)] [['texto']])"
      ],
      "metadata": {
        "id": "u512iOXg51bq"
      },
      "execution_count": 89,
      "outputs": []
    },
    {
      "cell_type": "code",
      "source": [
        "len(md1_4)"
      ],
      "metadata": {
        "id": "1lKmcZL56T8f",
        "colab": {
          "base_uri": "https://localhost:8080/"
        },
        "outputId": "0c5acec7-0d1c-435d-d13c-c657ece92daa"
      },
      "execution_count": 90,
      "outputs": [
        {
          "output_type": "execute_result",
          "data": {
            "text/plain": [
              "37"
            ]
          },
          "metadata": {},
          "execution_count": 90
        }
      ]
    },
    {
      "cell_type": "code",
      "source": [
        "#Enunciado da classe 9 que o modelo errou a predição\n",
        "df_prob_1['texto'][600]"
      ],
      "metadata": {
        "id": "dNzCUs6WHl8J",
        "colab": {
          "base_uri": "https://localhost:8080/",
          "height": 53
        },
        "outputId": "281b2703-e310-4395-dca0-b38719c9306a"
      },
      "execution_count": 91,
      "outputs": [
        {
          "output_type": "execute_result",
          "data": {
            "application/vnd.google.colaboratory.intrinsic+json": {
              "type": "string"
            },
            "text/plain": [
              "'Embora não seja da competência do TCU definir a estratégia de empresa estatal para a obtenção de valores pagos indevidamente, cabe ao Tribunal e ao sistema de controle interno avaliar a razoabilidade da estratégia adotada na busca do ressarcimento.'"
            ]
          },
          "metadata": {},
          "execution_count": 91
        }
      ]
    },
    {
      "cell_type": "code",
      "source": [
        "#Enunciado da classe 9 que o modelo errou a predição\n",
        "df_prob_1['texto'][159]"
      ],
      "metadata": {
        "id": "k6OkgzPYIW-3",
        "colab": {
          "base_uri": "https://localhost:8080/",
          "height": 53
        },
        "outputId": "b35728ce-96d8-49e8-f1a1-a8c47d4dd26a"
      },
      "execution_count": 92,
      "outputs": [
        {
          "output_type": "execute_result",
          "data": {
            "application/vnd.google.colaboratory.intrinsic+json": {
              "type": "string"
            },
            "text/plain": [
              "'A jurisdição do TCU alcança a aplicação de recursos financeiros oriundos de acordo de empréstimo entre a República Federativa do Brasil e organismo internacional, porquanto constitui obrigação de natureza pecuniária pela qual a União responde perante credor externo. '"
            ]
          },
          "metadata": {},
          "execution_count": 92
        }
      ]
    },
    {
      "cell_type": "code",
      "source": [
        "# Listar predições do modelo para classe=9 (classe minoritária) que estão erradas e suas probabilidades.\n",
        "print(df_prob_1[(df_prob_1['predicted'] == 4) & (df_prob_1['actual'] != df_prob_1['predicted']) & (df_prob_1['prob_dirproc(4)'] < 0.9)] [['texto']])"
      ],
      "metadata": {
        "id": "KEPrvoKIIKgH",
        "colab": {
          "base_uri": "https://localhost:8080/"
        },
        "outputId": "3701b360-51be-40a8-e0ca-c7158cba3cd3"
      },
      "execution_count": 93,
      "outputs": [
        {
          "output_type": "stream",
          "name": "stdout",
          "text": [
            "                                                   texto\n",
            "15112  Uma vez formalizado o processo de cobrança exe...\n",
            "14011  A avaliação da prescrição, embora seja matéria...\n",
            "6730   A capacidade técnico-operacional da empresa nã...\n",
            "1415   Dada a natureza genérica de tributos como Cofi...\n",
            "12812  Os sucessores somente devem ser chamados aos a...\n",
            "13917  O gestor deve provar a boa e regular aplicação...\n",
            "6010   O direito à interposição de recurso em process...\n",
            "2107   Considera-se regular a contratação temporária ...\n",
            "217    É cabível ao TCU adentrar o mérito administrat...\n",
            "315    A apuração de possível cometimento de crimes c...\n",
            "14685  No caso de indícios de fraude à licitação, dev...\n",
            "8579   SÚMULA TCU 14: Aplicam-se, no que couber, aos ...\n",
            "12840  A ocorrência de caso fortuito ou de força maio...\n",
            "14382  A ausência de regular procedimento licitatório...\n",
            "12544  SÚMULA TCU 170: Não se inclui entre os favores...\n",
            "5333   Mudanças que sugerem novo quadro populacional,...\n",
            "8388   Qualquer modificação dos critérios inicialment...\n",
            "11122  Impõe-se a revisão de ofício de deliberação qu...\n",
            "7377   É ilegal a inabilitação de empresas em razão d...\n",
            "13786  Considera-se na dosimetria da pena o depoiment...\n",
            "461    O TCU não possui competência para emitir juízo...\n",
            "13359  Embora inaplicável o exame da boa-fé para pess...\n",
            "15276  A averiguação do débito far-se-á mediante esti...\n",
            "6465   Na hipótese de suspensão cautelar, pelo TCU, d...\n",
            "13512  Para o julgamento pela irregularidade de conta...\n",
            "822    O prazo de vigência de contratos de serviços c...\n",
            "2441   O prazo para guarda e conservação de documento...\n",
            "8090   A redação dos editais deve ser clara e objetiv...\n",
            "35     O instrumento de Tomada de Contas Especial nas...\n",
            "13686  Em caso de indisponibilidade de recursos sufic...\n",
            "13724  A audiência prévia do responsável não é obriga...\n",
            "14544  A declaração de inidoneidade pelo Tribunal, co...\n",
            "13875  Enquanto não houver a partilha dos bens eventu...\n",
            "15097  A constatação de que diligência efetivada pela...\n",
            "12692  A fim de preservar a incolumidade do acordo de...\n",
            "7108   A finalidade de o pregoeiro examinar, previame...\n",
            "489    Não havendo interesse público a ser tutelado, ...\n"
          ]
        }
      ]
    },
    {
      "cell_type": "code",
      "source": [
        "#Enunciado da classe 4 que o modelo errou a predição\n",
        "df_prob_1['texto'][8090]"
      ],
      "metadata": {
        "id": "4aWmpdjnInay",
        "colab": {
          "base_uri": "https://localhost:8080/",
          "height": 53
        },
        "outputId": "354da3ec-a615-4da2-eb91-ff3efd41bb04"
      },
      "execution_count": 94,
      "outputs": [
        {
          "output_type": "execute_result",
          "data": {
            "application/vnd.google.colaboratory.intrinsic+json": {
              "type": "string"
            },
            "text/plain": [
              "'A redação dos editais deve ser clara e objetiva de forma a evitar erros ou contradições que dificultem seu entendimento ou levem a interpretações equivocadas.'"
            ]
          },
          "metadata": {},
          "execution_count": 94
        }
      ]
    },
    {
      "cell_type": "code",
      "source": [
        "df.shape"
      ],
      "metadata": {
        "id": "wJQbDgEuKL8b",
        "colab": {
          "base_uri": "https://localhost:8080/"
        },
        "outputId": "6b79e4b5-1f84-407f-8324-0520b7ee5485"
      },
      "execution_count": 95,
      "outputs": [
        {
          "output_type": "execute_result",
          "data": {
            "text/plain": [
              "(15291, 11)"
            ]
          },
          "metadata": {},
          "execution_count": 95
        }
      ]
    },
    {
      "cell_type": "code",
      "source": [
        "df_prob_1.columns"
      ],
      "metadata": {
        "id": "4kzwcxJzLgIo",
        "colab": {
          "base_uri": "https://localhost:8080/"
        },
        "outputId": "6c042060-2bc6-4638-ced1-c1a6de0b40a4"
      },
      "execution_count": 96,
      "outputs": [
        {
          "output_type": "execute_result",
          "data": {
            "text/plain": [
              "Index(['texto', 'actual', 'predicted', 'prob_comptTCU(0)', 'prob_contra(1)',\n",
              "       'prob_conven(2)', 'prob_desestatiz(3)', 'prob_dirproc(4)',\n",
              "       'prob_financa(5)', 'prob_gadm(6)', 'prob_licit(7)', 'prob_pessoal(8)',\n",
              "       'prob_resp(9)', 'prob_respo(2)', 'prob_conven(3)'],\n",
              "      dtype='object')"
            ]
          },
          "metadata": {},
          "execution_count": 96
        }
      ]
    },
    {
      "cell_type": "code",
      "source": [
        "df_prob_1.iloc[0:3063, ].sort_values(by='actual')"
      ],
      "metadata": {
        "id": "lZ6JRnl-JqPl",
        "colab": {
          "base_uri": "https://localhost:8080/",
          "height": 1000
        },
        "outputId": "d5ff481c-e75d-4deb-bf32-7eadd88f5415"
      },
      "execution_count": 97,
      "outputs": [
        {
          "output_type": "execute_result",
          "data": {
            "text/html": [
              "<div>\n",
              "<style scoped>\n",
              "    .dataframe tbody tr th:only-of-type {\n",
              "        vertical-align: middle;\n",
              "    }\n",
              "\n",
              "    .dataframe tbody tr th {\n",
              "        vertical-align: top;\n",
              "    }\n",
              "\n",
              "    .dataframe thead th {\n",
              "        text-align: right;\n",
              "    }\n",
              "</style>\n",
              "<table border=\"1\" class=\"dataframe\">\n",
              "  <thead>\n",
              "    <tr style=\"text-align: right;\">\n",
              "      <th></th>\n",
              "      <th>texto</th>\n",
              "      <th>actual</th>\n",
              "      <th>predicted</th>\n",
              "      <th>prob_comptTCU(0)</th>\n",
              "      <th>prob_contra(1)</th>\n",
              "      <th>prob_conven(2)</th>\n",
              "      <th>prob_desestatiz(3)</th>\n",
              "      <th>prob_dirproc(4)</th>\n",
              "      <th>prob_financa(5)</th>\n",
              "      <th>prob_gadm(6)</th>\n",
              "      <th>prob_licit(7)</th>\n",
              "      <th>prob_pessoal(8)</th>\n",
              "      <th>prob_resp(9)</th>\n",
              "      <th>prob_respo(2)</th>\n",
              "      <th>prob_conven(3)</th>\n",
              "    </tr>\n",
              "  </thead>\n",
              "  <tbody>\n",
              "    <tr>\n",
              "      <th>216</th>\n",
              "      <td>As Fundações de Apoio são obrigadas a fornecer...</td>\n",
              "      <td>0</td>\n",
              "      <td>2</td>\n",
              "      <td>0.028000</td>\n",
              "      <td>0.000236</td>\n",
              "      <td>NaN</td>\n",
              "      <td>NaN</td>\n",
              "      <td>0.000240</td>\n",
              "      <td>0.000721</td>\n",
              "      <td>0.000028</td>\n",
              "      <td>0.000002</td>\n",
              "      <td>0.000482</td>\n",
              "      <td>0.109203</td>\n",
              "      <td>0.860829</td>\n",
              "      <td>0.000258</td>\n",
              "    </tr>\n",
              "    <tr>\n",
              "      <th>58</th>\n",
              "      <td>Não é competência do TCU, por caracterizar a t...</td>\n",
              "      <td>0</td>\n",
              "      <td>0</td>\n",
              "      <td>0.979309</td>\n",
              "      <td>0.000031</td>\n",
              "      <td>NaN</td>\n",
              "      <td>NaN</td>\n",
              "      <td>0.015450</td>\n",
              "      <td>0.000004</td>\n",
              "      <td>0.000027</td>\n",
              "      <td>0.000629</td>\n",
              "      <td>0.000111</td>\n",
              "      <td>0.003524</td>\n",
              "      <td>0.000483</td>\n",
              "      <td>0.000432</td>\n",
              "    </tr>\n",
              "    <tr>\n",
              "      <th>87</th>\n",
              "      <td>Cabe ao TCU, respaldado em suas atribuições co...</td>\n",
              "      <td>0</td>\n",
              "      <td>0</td>\n",
              "      <td>0.941940</td>\n",
              "      <td>0.000024</td>\n",
              "      <td>NaN</td>\n",
              "      <td>NaN</td>\n",
              "      <td>0.010086</td>\n",
              "      <td>0.000003</td>\n",
              "      <td>0.045340</td>\n",
              "      <td>0.000625</td>\n",
              "      <td>0.001604</td>\n",
              "      <td>0.000175</td>\n",
              "      <td>0.000071</td>\n",
              "      <td>0.000132</td>\n",
              "    </tr>\n",
              "    <tr>\n",
              "      <th>230</th>\n",
              "      <td>O TCU é competente para fiscalizar a aplicação...</td>\n",
              "      <td>0</td>\n",
              "      <td>0</td>\n",
              "      <td>0.997195</td>\n",
              "      <td>0.000001</td>\n",
              "      <td>NaN</td>\n",
              "      <td>NaN</td>\n",
              "      <td>0.000613</td>\n",
              "      <td>0.001362</td>\n",
              "      <td>0.000001</td>\n",
              "      <td>0.000000</td>\n",
              "      <td>0.000000</td>\n",
              "      <td>0.000675</td>\n",
              "      <td>0.000152</td>\n",
              "      <td>0.000001</td>\n",
              "    </tr>\n",
              "    <tr>\n",
              "      <th>85</th>\n",
              "      <td>O acordo de leniência celebrado pela Administr...</td>\n",
              "      <td>0</td>\n",
              "      <td>0</td>\n",
              "      <td>0.932784</td>\n",
              "      <td>0.000247</td>\n",
              "      <td>NaN</td>\n",
              "      <td>NaN</td>\n",
              "      <td>0.001424</td>\n",
              "      <td>0.000082</td>\n",
              "      <td>0.000534</td>\n",
              "      <td>0.000002</td>\n",
              "      <td>0.000030</td>\n",
              "      <td>0.063670</td>\n",
              "      <td>0.000019</td>\n",
              "      <td>0.001209</td>\n",
              "    </tr>\n",
              "    <tr>\n",
              "      <th>...</th>\n",
              "      <td>...</td>\n",
              "      <td>...</td>\n",
              "      <td>...</td>\n",
              "      <td>...</td>\n",
              "      <td>...</td>\n",
              "      <td>...</td>\n",
              "      <td>...</td>\n",
              "      <td>...</td>\n",
              "      <td>...</td>\n",
              "      <td>...</td>\n",
              "      <td>...</td>\n",
              "      <td>...</td>\n",
              "      <td>...</td>\n",
              "      <td>...</td>\n",
              "      <td>...</td>\n",
              "    </tr>\n",
              "    <tr>\n",
              "      <th>13969</th>\n",
              "      <td>É caracterizada a inércia do responsável conve...</td>\n",
              "      <td>9</td>\n",
              "      <td>9</td>\n",
              "      <td>0.000123</td>\n",
              "      <td>0.000067</td>\n",
              "      <td>NaN</td>\n",
              "      <td>NaN</td>\n",
              "      <td>0.020797</td>\n",
              "      <td>0.000106</td>\n",
              "      <td>0.000552</td>\n",
              "      <td>0.004845</td>\n",
              "      <td>0.000119</td>\n",
              "      <td>0.756093</td>\n",
              "      <td>0.216938</td>\n",
              "      <td>0.000359</td>\n",
              "    </tr>\n",
              "    <tr>\n",
              "      <th>14141</th>\n",
              "      <td>Para fins do exercício do poder sancionatório ...</td>\n",
              "      <td>9</td>\n",
              "      <td>9</td>\n",
              "      <td>0.001938</td>\n",
              "      <td>0.000115</td>\n",
              "      <td>NaN</td>\n",
              "      <td>NaN</td>\n",
              "      <td>0.003475</td>\n",
              "      <td>0.000631</td>\n",
              "      <td>0.000209</td>\n",
              "      <td>0.000012</td>\n",
              "      <td>0.000043</td>\n",
              "      <td>0.993285</td>\n",
              "      <td>0.000125</td>\n",
              "      <td>0.000167</td>\n",
              "    </tr>\n",
              "    <tr>\n",
              "      <th>12740</th>\n",
              "      <td>Quando ocorre o desvio de finalidade na gestão...</td>\n",
              "      <td>9</td>\n",
              "      <td>9</td>\n",
              "      <td>0.015551</td>\n",
              "      <td>0.000059</td>\n",
              "      <td>NaN</td>\n",
              "      <td>NaN</td>\n",
              "      <td>0.001726</td>\n",
              "      <td>0.000017</td>\n",
              "      <td>0.181567</td>\n",
              "      <td>0.017828</td>\n",
              "      <td>0.000206</td>\n",
              "      <td>0.781873</td>\n",
              "      <td>0.000244</td>\n",
              "      <td>0.000930</td>\n",
              "    </tr>\n",
              "    <tr>\n",
              "      <th>14752</th>\n",
              "      <td>A ausência de motivação na análise de recursos...</td>\n",
              "      <td>9</td>\n",
              "      <td>9</td>\n",
              "      <td>0.000010</td>\n",
              "      <td>0.000003</td>\n",
              "      <td>NaN</td>\n",
              "      <td>NaN</td>\n",
              "      <td>0.000001</td>\n",
              "      <td>0.000019</td>\n",
              "      <td>0.000044</td>\n",
              "      <td>0.334304</td>\n",
              "      <td>0.000001</td>\n",
              "      <td>0.664152</td>\n",
              "      <td>0.001410</td>\n",
              "      <td>0.000056</td>\n",
              "    </tr>\n",
              "    <tr>\n",
              "      <th>14021</th>\n",
              "      <td>A inabilitação para o exercício de cargo em co...</td>\n",
              "      <td>9</td>\n",
              "      <td>9</td>\n",
              "      <td>0.000241</td>\n",
              "      <td>0.000001</td>\n",
              "      <td>NaN</td>\n",
              "      <td>NaN</td>\n",
              "      <td>0.001787</td>\n",
              "      <td>0.000057</td>\n",
              "      <td>0.000229</td>\n",
              "      <td>0.000029</td>\n",
              "      <td>0.000674</td>\n",
              "      <td>0.996955</td>\n",
              "      <td>0.000002</td>\n",
              "      <td>0.000024</td>\n",
              "    </tr>\n",
              "  </tbody>\n",
              "</table>\n",
              "<p>3059 rows × 15 columns</p>\n",
              "</div>"
            ],
            "text/plain": [
              "                                                   texto  ...  prob_conven(3)\n",
              "216    As Fundações de Apoio são obrigadas a fornecer...  ...        0.000258\n",
              "58     Não é competência do TCU, por caracterizar a t...  ...        0.000432\n",
              "87     Cabe ao TCU, respaldado em suas atribuições co...  ...        0.000132\n",
              "230    O TCU é competente para fiscalizar a aplicação...  ...        0.000001\n",
              "85     O acordo de leniência celebrado pela Administr...  ...        0.001209\n",
              "...                                                  ...  ...             ...\n",
              "13969  É caracterizada a inércia do responsável conve...  ...        0.000359\n",
              "14141  Para fins do exercício do poder sancionatório ...  ...        0.000167\n",
              "12740  Quando ocorre o desvio de finalidade na gestão...  ...        0.000930\n",
              "14752  A ausência de motivação na análise de recursos...  ...        0.000056\n",
              "14021  A inabilitação para o exercício de cargo em co...  ...        0.000024\n",
              "\n",
              "[3059 rows x 15 columns]"
            ]
          },
          "metadata": {},
          "execution_count": 97
        }
      ]
    },
    {
      "cell_type": "markdown",
      "source": [
        "## Modelo 2"
      ],
      "metadata": {
        "id": "ji1OZXeWNyiA"
      }
    },
    {
      "cell_type": "code",
      "source": [
        "# Mostra as probabilidades das classes nos dados de teste (primeiras 5 jurisprudências)\n",
        "prob_preds_1_balanced = classificador_1_balanced.predict_proba(X_test)\n",
        "prob_preds_1_balanced[:5]\n"
      ],
      "metadata": {
        "id": "Nt1vUdqm0T28",
        "colab": {
          "base_uri": "https://localhost:8080/"
        },
        "outputId": "7cc81874-a630-4e52-8bb5-bf40be15df87"
      },
      "execution_count": 98,
      "outputs": [
        {
          "output_type": "execute_result",
          "data": {
            "text/plain": [
              "array([[3.31185277e-05, 1.44402581e-04, 2.71207437e-02, 3.39026145e-05,\n",
              "        2.39453264e-04, 3.14183514e-05, 1.65829223e-04, 7.17341285e-04,\n",
              "        9.71408603e-01, 1.05187834e-04],\n",
              "       [1.07414378e-04, 3.83159137e-03, 6.96663625e-02, 2.35693123e-04,\n",
              "        3.01246657e-05, 5.41172289e-03, 2.44183600e-01, 2.45453310e-02,\n",
              "        1.87410413e-03, 6.50114056e-01],\n",
              "       [1.24116418e-02, 3.93842029e-05, 1.11235223e-01, 3.38615920e-04,\n",
              "        5.17057150e-04, 8.35997408e-01, 3.01662248e-02, 1.08533073e-04,\n",
              "        8.76533723e-03, 4.20574233e-04],\n",
              "       [8.83094193e-04, 1.59354226e-04, 3.14397240e-02, 3.49213041e-04,\n",
              "        9.51764512e-01, 1.55002742e-03, 7.00879885e-04, 4.14496733e-03,\n",
              "        8.96893079e-03, 3.92969861e-05],\n",
              "       [3.53914045e-02, 3.05672572e-06, 1.11502845e-05, 2.05781920e-05,\n",
              "        1.03354445e-01, 9.26458017e-05, 7.77186202e-05, 3.38578313e-05,\n",
              "        8.60998229e-01, 1.69137567e-05]])"
            ]
          },
          "metadata": {},
          "execution_count": 98
        }
      ]
    },
    {
      "cell_type": "code",
      "source": [
        "# Cria dataframe para conferência da confiaça do modelo 1 em cada predição (probabilidades)\n",
        "df_prob_2 = pd.DataFrame(columns=['texto','actual','predicted', 'prob_comptTCU(0)', 'prob_contra(1)', 'prob_conven(2)','prob_desestatiz(3)','prob_dirproc(4)', 'prob_financa(5)', 'prob_gadm(6)', 'prob_licit(7)', 'prob_pessoal(8)', 'prob_resp(9)'])\n",
        "df_prob_2['texto'] = X_test\n",
        "df_prob_2['actual'] = y_test\n",
        "df_prob_2['predicted'] = classificador_1_balanced.predict(X_test)\n",
        "df_prob_2['prob_comptTCU(0)'] = np.round(prob_preds_1_balanced[0:,0],6).tolist()\n",
        "df_prob_2['prob_contra(1)'] = np.round(prob_preds_1_balanced[0:,1],6).tolist()\n",
        "df_prob_2['prob_respo(2)'] = np.round(prob_preds_1_balanced[0:,2],6).tolist()\n",
        "df_prob_2['prob_conven(3)'] = np.round(prob_preds_1_balanced[0:,3],6).tolist()\n",
        "df_prob_2['prob_dirproc(4)'] = np.round(prob_preds_1_balanced[0:,4],6).tolist()\n",
        "df_prob_2['prob_financa(5)'] = np.round(prob_preds_1_balanced[0:,5],6).tolist()\n",
        "df_prob_2['prob_gadm(6)'] = np.round(prob_preds_1_balanced[0:,6],6).tolist()\n",
        "df_prob_2['prob_licit(7)'] = np.round(prob_preds_1_balanced[0:,7],6).tolist()\n",
        "df_prob_2['prob_pessoal(8)'] = np.round(prob_preds_1_balanced[0:,8],6).tolist()\n",
        "df_prob_2['prob_resp(9)'] = np.round(prob_preds_1_balanced[0:,9],6).tolist()\n",
        "\n",
        "print(df_prob_2.shape)\n",
        "df_prob_2.head()"
      ],
      "metadata": {
        "id": "AI-YNYNyN4xP",
        "colab": {
          "base_uri": "https://localhost:8080/",
          "height": 487
        },
        "outputId": "735785b8-2ff2-45f0-e2d5-b4ed5833fa71"
      },
      "execution_count": 99,
      "outputs": [
        {
          "output_type": "stream",
          "name": "stdout",
          "text": [
            "(3059, 15)\n"
          ]
        },
        {
          "output_type": "execute_result",
          "data": {
            "text/html": [
              "<div>\n",
              "<style scoped>\n",
              "    .dataframe tbody tr th:only-of-type {\n",
              "        vertical-align: middle;\n",
              "    }\n",
              "\n",
              "    .dataframe tbody tr th {\n",
              "        vertical-align: top;\n",
              "    }\n",
              "\n",
              "    .dataframe thead th {\n",
              "        text-align: right;\n",
              "    }\n",
              "</style>\n",
              "<table border=\"1\" class=\"dataframe\">\n",
              "  <thead>\n",
              "    <tr style=\"text-align: right;\">\n",
              "      <th></th>\n",
              "      <th>texto</th>\n",
              "      <th>actual</th>\n",
              "      <th>predicted</th>\n",
              "      <th>prob_comptTCU(0)</th>\n",
              "      <th>prob_contra(1)</th>\n",
              "      <th>prob_conven(2)</th>\n",
              "      <th>prob_desestatiz(3)</th>\n",
              "      <th>prob_dirproc(4)</th>\n",
              "      <th>prob_financa(5)</th>\n",
              "      <th>prob_gadm(6)</th>\n",
              "      <th>prob_licit(7)</th>\n",
              "      <th>prob_pessoal(8)</th>\n",
              "      <th>prob_resp(9)</th>\n",
              "      <th>prob_respo(2)</th>\n",
              "      <th>prob_conven(3)</th>\n",
              "    </tr>\n",
              "  </thead>\n",
              "  <tbody>\n",
              "    <tr>\n",
              "      <th>10639</th>\n",
              "      <td>É ilegal o cômputo de tempo das atividades de ...</td>\n",
              "      <td>8</td>\n",
              "      <td>8</td>\n",
              "      <td>0.000033</td>\n",
              "      <td>0.000144</td>\n",
              "      <td>NaN</td>\n",
              "      <td>NaN</td>\n",
              "      <td>0.000239</td>\n",
              "      <td>0.000031</td>\n",
              "      <td>0.000166</td>\n",
              "      <td>0.000717</td>\n",
              "      <td>0.971409</td>\n",
              "      <td>0.000105</td>\n",
              "      <td>0.027121</td>\n",
              "      <td>0.000034</td>\n",
              "    </tr>\n",
              "    <tr>\n",
              "      <th>14465</th>\n",
              "      <td>A ausência de rodízio de membros das comissões...</td>\n",
              "      <td>9</td>\n",
              "      <td>9</td>\n",
              "      <td>0.000107</td>\n",
              "      <td>0.003832</td>\n",
              "      <td>NaN</td>\n",
              "      <td>NaN</td>\n",
              "      <td>0.000030</td>\n",
              "      <td>0.005412</td>\n",
              "      <td>0.244184</td>\n",
              "      <td>0.024545</td>\n",
              "      <td>0.001874</td>\n",
              "      <td>0.650114</td>\n",
              "      <td>0.069666</td>\n",
              "      <td>0.000236</td>\n",
              "    </tr>\n",
              "    <tr>\n",
              "      <th>4924</th>\n",
              "      <td>Podem ser aplicados aos Fundos Constitucionais...</td>\n",
              "      <td>5</td>\n",
              "      <td>5</td>\n",
              "      <td>0.012412</td>\n",
              "      <td>0.000039</td>\n",
              "      <td>NaN</td>\n",
              "      <td>NaN</td>\n",
              "      <td>0.000517</td>\n",
              "      <td>0.835997</td>\n",
              "      <td>0.030166</td>\n",
              "      <td>0.000109</td>\n",
              "      <td>0.008765</td>\n",
              "      <td>0.000421</td>\n",
              "      <td>0.111235</td>\n",
              "      <td>0.000339</td>\n",
              "    </tr>\n",
              "    <tr>\n",
              "      <th>4493</th>\n",
              "      <td>Os relatórios de vistoria &lt;i&gt;in loco&lt;/i&gt; dos ó...</td>\n",
              "      <td>4</td>\n",
              "      <td>4</td>\n",
              "      <td>0.000883</td>\n",
              "      <td>0.000159</td>\n",
              "      <td>NaN</td>\n",
              "      <td>NaN</td>\n",
              "      <td>0.951765</td>\n",
              "      <td>0.001550</td>\n",
              "      <td>0.000701</td>\n",
              "      <td>0.004145</td>\n",
              "      <td>0.008969</td>\n",
              "      <td>0.000039</td>\n",
              "      <td>0.031440</td>\n",
              "      <td>0.000349</td>\n",
              "    </tr>\n",
              "    <tr>\n",
              "      <th>10030</th>\n",
              "      <td>O exame levado a efeito pelo TCU sobre os atos...</td>\n",
              "      <td>8</td>\n",
              "      <td>8</td>\n",
              "      <td>0.035391</td>\n",
              "      <td>0.000003</td>\n",
              "      <td>NaN</td>\n",
              "      <td>NaN</td>\n",
              "      <td>0.103354</td>\n",
              "      <td>0.000093</td>\n",
              "      <td>0.000078</td>\n",
              "      <td>0.000034</td>\n",
              "      <td>0.860998</td>\n",
              "      <td>0.000017</td>\n",
              "      <td>0.000011</td>\n",
              "      <td>0.000021</td>\n",
              "    </tr>\n",
              "  </tbody>\n",
              "</table>\n",
              "</div>"
            ],
            "text/plain": [
              "                                                   texto  ...  prob_conven(3)\n",
              "10639  É ilegal o cômputo de tempo das atividades de ...  ...        0.000034\n",
              "14465  A ausência de rodízio de membros das comissões...  ...        0.000236\n",
              "4924   Podem ser aplicados aos Fundos Constitucionais...  ...        0.000339\n",
              "4493   Os relatórios de vistoria <i>in loco</i> dos ó...  ...        0.000349\n",
              "10030  O exame levado a efeito pelo TCU sobre os atos...  ...        0.000021\n",
              "\n",
              "[5 rows x 15 columns]"
            ]
          },
          "metadata": {},
          "execution_count": 99
        }
      ]
    },
    {
      "cell_type": "code",
      "source": [
        "# Listar predições do modelo para classe=9 (classe minoritária) que estão erradas e suas probabilidades.\n",
        "print(df_prob_2[(df_prob_2['predicted'] == 9) & (df_prob_2['actual'] != df_prob_2['predicted']) & (df_prob_2['prob_resp(9)'] > 0.95)] [['predicted','texto', 'actual']])"
      ],
      "metadata": {
        "id": "VBqU0EW3Q0rW",
        "colab": {
          "base_uri": "https://localhost:8080/"
        },
        "outputId": "9f28d6ba-4047-434d-ef7b-f0e60c76311e"
      },
      "execution_count": 440,
      "outputs": [
        {
          "output_type": "stream",
          "name": "stdout",
          "text": [
            "      predicted                                              texto  actual\n",
            "1946          9  A ocorrência de mudanças alinhadas com à conce...       2\n",
            "3261          9  A mudança de fundamentação de multa aplicada c...       4\n",
            "3364          9  Sempre que juridicamente viável, deve ser prom...       4\n",
            "4698          9  O prazo decadencial previsto no art. 54 da Lei...       4\n",
            "3874          9  A sanção de declaração de inidoneidade (art. 4...       4\n",
            "3679          9  É cabível, em grau de recurso, modificar o fun...       4\n",
            "3363          9  Adota-se como termo inicial do prazo para reco...       4\n"
          ]
        }
      ]
    },
    {
      "cell_type": "code",
      "source": [
        "print(df_prob_2['texto'][1946])\n",
        "print(df_prob_2['texto'][3261])\n",
        "print(df_prob_2['texto'][3364])\n",
        "print(df_prob_2['texto'][4698])"
      ],
      "metadata": {
        "colab": {
          "base_uri": "https://localhost:8080/"
        },
        "id": "6U4hrSaICAIG",
        "outputId": "9b69047e-e97b-4de7-9d43-7eac30ccc0be"
      },
      "execution_count": 436,
      "outputs": [
        {
          "output_type": "stream",
          "name": "stdout",
          "text": [
            "A ocorrência de mudanças alinhadas com à concepção do objeto do convênio e de seus objetivos não caracteriza desvio de finalidade ou de objeto, mas falha de natureza formal.\n",
            "A mudança de fundamentação de multa aplicada com base no art. 57 para o art. 58 da Lei 8.443/1992, a fim de apenar responsável que conseguiu, em grau de recurso, elidir o débito, mas não outras irregularidades analisadas pelo TCU, somente é possível caso o valor da pena pecuniária seja superior ao piso definido no regimento interno, levando-se em consideração a consequente redução da multa em função do afastamento do débito.\n",
            "Sempre que juridicamente viável, deve ser promovida a citação solidária da sociedade empresária com seu dirigente, nos casos de tomada de contas especial que envolva renúncia fiscal, a exemplo das atividades desenvolvidas com recursos financeiros captados com amparo na Lei 8.313/1991 (Lei Rouanet) , mormente porque a omissão no dever de prestar contas configura infração que merece ser imputada à pessoa física do gestor, e não apenas à empresa.\n",
            "O prazo decadencial previsto no art. 54 da Lei 9.784/1999 é aplicável ao TCU apenas como meio de autotutela no desempenho de sua função administrativa, não se aplicando ao exercício de sua competência constitucional de controle externo.\n"
          ]
        }
      ]
    },
    {
      "cell_type": "code",
      "source": [
        "# Listar predições do modelo para classe=9 (classe minoritária) que estão erradas e suas probabilidades.\n",
        "print(df_prob_2[(df_prob_2['predicted'] == 4) & (df_prob_2['actual'] != df_prob_2['predicted']) & (df_prob_2['prob_dirproc(4)'] > 0.95)] [['predicted','texto', 'actual']])"
      ],
      "metadata": {
        "colab": {
          "base_uri": "https://localhost:8080/"
        },
        "id": "ZdwkDOQ4E20S",
        "outputId": "79c7261e-f680-40d9-aecc-fa05ebf0d8e5"
      },
      "execution_count": 439,
      "outputs": [
        {
          "output_type": "stream",
          "name": "stdout",
          "text": [
            "       predicted                                              texto  actual\n",
            "14869          4  As peculiaridades e circunstâncias do caso con...       9\n",
            "15172          4  No juízo de responsabilidade acerca do descump...       9\n",
            "10088          4  As declarações constantes no Sisac possuem pre...       8\n",
            "12648          4  Eventual demora na instauração da tomada de co...       9\n",
            "560            4  O acesso irrestrito às informações e documento...       0\n"
          ]
        }
      ]
    },
    {
      "cell_type": "code",
      "source": [
        "print(df_prob_2['texto'][14869])\n",
        "print(df_prob_2['texto'][15172])\n",
        "print(df_prob_2['texto'][10088])\n",
        "print(df_prob_2['texto'][12648])"
      ],
      "metadata": {
        "colab": {
          "base_uri": "https://localhost:8080/"
        },
        "id": "S_VQGfv8FJB0",
        "outputId": "264e07cc-f115-4439-f810-86e495118a63"
      },
      "execution_count": 438,
      "outputs": [
        {
          "output_type": "stream",
          "name": "stdout",
          "text": [
            "As peculiaridades e circunstâncias do caso concreto podem justificar a atuação do gestor em sentido diverso daquele indicado pelo TCU em caráter normativo (consulta) .\n",
            "No juízo de responsabilidade acerca do descumprimento de diligência ou determinação do TCU, devem ser verificadas, objetivamente, as ações adotadas pelo agente público para a efetivação do comando do Tribunal, inexistindo espaço para se reabrir o debate acerca da questão de mérito, possível apenas mediante a via recursal adequada.\n",
            "As declarações constantes no Sisac possuem presunção de veracidade. Por economia processual, eventual falta ou insuficiência de informação fica suprida pela declaração da autoridade responsável do órgão de origem, confirmada pelo órgão de controle interno. Os gestores têm que fornecer informações corretas e baseadas em provas documentais, sob pena de responsabilização nas esferas civil, penal e administrativa.\n",
            "Eventual demora na instauração da tomada de contas especial constitui falha de procedimento atribuível à autoridade que tinha o dever de adotar essa medida, a qual deve ser apurada e, se for o caso, aplicada as sanções correspondentes em cada processo.\n"
          ]
        }
      ]
    },
    {
      "cell_type": "code",
      "source": [
        "pd.Series(df_prob_2.index).value_counts()"
      ],
      "metadata": {
        "id": "IW_3ib948iJV",
        "colab": {
          "base_uri": "https://localhost:8080/"
        },
        "outputId": "d1b942c5-0a82-4a56-b080-67c887752ee7"
      },
      "execution_count": 101,
      "outputs": [
        {
          "output_type": "execute_result",
          "data": {
            "text/plain": [
              "6143     1\n",
              "2632     1\n",
              "13660    1\n",
              "7515     1\n",
              "13658    1\n",
              "        ..\n",
              "4767     1\n",
              "10910    1\n",
              "6812     1\n",
              "5797     1\n",
              "4096     1\n",
              "Length: 3059, dtype: int64"
            ]
          },
          "metadata": {},
          "execution_count": 101
        }
      ]
    },
    {
      "cell_type": "code",
      "source": [
        "df_prob_2['texto'][98]"
      ],
      "metadata": {
        "id": "Hj0UsaLERH1f",
        "colab": {
          "base_uri": "https://localhost:8080/",
          "height": 87
        },
        "outputId": "b10e1074-9454-4f11-b3ea-2b5e029ce984"
      },
      "execution_count": 102,
      "outputs": [
        {
          "output_type": "execute_result",
          "data": {
            "application/vnd.google.colaboratory.intrinsic+json": {
              "type": "string"
            },
            "text/plain": [
              "'Identificando qualquer irregularidade em acordo homologado em juízo, pode o TCU imputar responsabilidade aos agentes públicos que concorreram para a produção do ilícito, com dolo ou culpa, mas não pode expedir ordem que retire a eficácia da sentença judicial, em relação a quem dela se beneficiou, pois seria a desconstituição, por vias oblíquas, de decisão judicial.'"
            ]
          },
          "metadata": {},
          "execution_count": 102
        }
      ]
    },
    {
      "cell_type": "code",
      "source": [
        "md2_9 = (df_prob_2[(df_prob_2['predicted'] == 9) & (df_prob_2['actual'] != df_prob_2['predicted']) & (df_prob_2['prob_resp(9)'] > 0.90)] [['predicted','texto', 'actual']])"
      ],
      "metadata": {
        "id": "8Xhhwn9GQ8xV"
      },
      "execution_count": 103,
      "outputs": []
    },
    {
      "cell_type": "code",
      "source": [
        "len(md2_9)"
      ],
      "metadata": {
        "id": "xOu2pyJVQ_HA",
        "colab": {
          "base_uri": "https://localhost:8080/"
        },
        "outputId": "92d25fb9-b15d-4008-8bc5-f6b60995d7e3"
      },
      "execution_count": 104,
      "outputs": [
        {
          "output_type": "execute_result",
          "data": {
            "text/plain": [
              "16"
            ]
          },
          "metadata": {},
          "execution_count": 104
        }
      ]
    },
    {
      "cell_type": "code",
      "source": [
        "print(md2_9)"
      ],
      "metadata": {
        "id": "OWV_SRcgbHu6",
        "colab": {
          "base_uri": "https://localhost:8080/"
        },
        "outputId": "792f1faa-fd37-4299-b2c4-534857b66d40"
      },
      "execution_count": 105,
      "outputs": [
        {
          "output_type": "stream",
          "name": "stdout",
          "text": [
            "      predicted                                              texto  actual\n",
            "1946          9  A ocorrência de mudanças alinhadas com à conce...       2\n",
            "3261          9  A mudança de fundamentação de multa aplicada c...       4\n",
            "3364          9  Sempre que juridicamente viável, deve ser prom...       4\n",
            "4706          9  A responsabilidade administrativa atribuída ao...       4\n",
            "1987          9  O partido político tem de prestar contas de to...       2\n",
            "4698          9  O prazo decadencial previsto no art. 54 da Lei...       4\n",
            "3874          9  A sanção de declaração de inidoneidade (art. 4...       4\n",
            "1985          9  Constitui desvio de objeto, e não desvio de fi...       2\n",
            "1045          9  Após pronunciamento do STF na Ação Declaratóri...       1\n",
            "3679          9  É cabível, em grau de recurso, modificar o fun...       4\n",
            "2429          9  O gestor que aprova a concessão de dinheiro pú...       2\n",
            "810           9  A contratação de serviços advocatícios para de...       1\n",
            "1221          9  A degradação prematura de pavimento, resultant...       1\n",
            "9212          9  A existência de boa-fé por parte dos beneficiá...       8\n",
            "3287          9  Autorizado o parcelamento do débito, antes da ...       4\n",
            "3363          9  Adota-se como termo inicial do prazo para reco...       4\n"
          ]
        }
      ]
    },
    {
      "cell_type": "code",
      "source": [
        "df_prob_2['texto'][1946]"
      ],
      "metadata": {
        "id": "ZML0wjkxbL5F",
        "colab": {
          "base_uri": "https://localhost:8080/",
          "height": 53
        },
        "outputId": "da3ac4f0-757a-4d48-b92c-2e1ea1bd66db"
      },
      "execution_count": 106,
      "outputs": [
        {
          "output_type": "execute_result",
          "data": {
            "application/vnd.google.colaboratory.intrinsic+json": {
              "type": "string"
            },
            "text/plain": [
              "'A ocorrência de mudanças alinhadas com à concepção do objeto do convênio e de seus objetivos não caracteriza desvio de finalidade ou de objeto, mas falha de natureza formal.'"
            ]
          },
          "metadata": {},
          "execution_count": 106
        }
      ]
    },
    {
      "cell_type": "code",
      "source": [
        "md2_9.sort_index()"
      ],
      "metadata": {
        "id": "cuUo3guI_RKg",
        "colab": {
          "base_uri": "https://localhost:8080/",
          "height": 551
        },
        "outputId": "8d91e923-f47b-468c-96c9-be9aa939f4b9"
      },
      "execution_count": 107,
      "outputs": [
        {
          "output_type": "execute_result",
          "data": {
            "text/html": [
              "<div>\n",
              "<style scoped>\n",
              "    .dataframe tbody tr th:only-of-type {\n",
              "        vertical-align: middle;\n",
              "    }\n",
              "\n",
              "    .dataframe tbody tr th {\n",
              "        vertical-align: top;\n",
              "    }\n",
              "\n",
              "    .dataframe thead th {\n",
              "        text-align: right;\n",
              "    }\n",
              "</style>\n",
              "<table border=\"1\" class=\"dataframe\">\n",
              "  <thead>\n",
              "    <tr style=\"text-align: right;\">\n",
              "      <th></th>\n",
              "      <th>predicted</th>\n",
              "      <th>texto</th>\n",
              "      <th>actual</th>\n",
              "    </tr>\n",
              "  </thead>\n",
              "  <tbody>\n",
              "    <tr>\n",
              "      <th>810</th>\n",
              "      <td>9</td>\n",
              "      <td>A contratação de serviços advocatícios para de...</td>\n",
              "      <td>1</td>\n",
              "    </tr>\n",
              "    <tr>\n",
              "      <th>1045</th>\n",
              "      <td>9</td>\n",
              "      <td>Após pronunciamento do STF na Ação Declaratóri...</td>\n",
              "      <td>1</td>\n",
              "    </tr>\n",
              "    <tr>\n",
              "      <th>1221</th>\n",
              "      <td>9</td>\n",
              "      <td>A degradação prematura de pavimento, resultant...</td>\n",
              "      <td>1</td>\n",
              "    </tr>\n",
              "    <tr>\n",
              "      <th>1946</th>\n",
              "      <td>9</td>\n",
              "      <td>A ocorrência de mudanças alinhadas com à conce...</td>\n",
              "      <td>2</td>\n",
              "    </tr>\n",
              "    <tr>\n",
              "      <th>1985</th>\n",
              "      <td>9</td>\n",
              "      <td>Constitui desvio de objeto, e não desvio de fi...</td>\n",
              "      <td>2</td>\n",
              "    </tr>\n",
              "    <tr>\n",
              "      <th>1987</th>\n",
              "      <td>9</td>\n",
              "      <td>O partido político tem de prestar contas de to...</td>\n",
              "      <td>2</td>\n",
              "    </tr>\n",
              "    <tr>\n",
              "      <th>2429</th>\n",
              "      <td>9</td>\n",
              "      <td>O gestor que aprova a concessão de dinheiro pú...</td>\n",
              "      <td>2</td>\n",
              "    </tr>\n",
              "    <tr>\n",
              "      <th>3261</th>\n",
              "      <td>9</td>\n",
              "      <td>A mudança de fundamentação de multa aplicada c...</td>\n",
              "      <td>4</td>\n",
              "    </tr>\n",
              "    <tr>\n",
              "      <th>3287</th>\n",
              "      <td>9</td>\n",
              "      <td>Autorizado o parcelamento do débito, antes da ...</td>\n",
              "      <td>4</td>\n",
              "    </tr>\n",
              "    <tr>\n",
              "      <th>3363</th>\n",
              "      <td>9</td>\n",
              "      <td>Adota-se como termo inicial do prazo para reco...</td>\n",
              "      <td>4</td>\n",
              "    </tr>\n",
              "    <tr>\n",
              "      <th>3364</th>\n",
              "      <td>9</td>\n",
              "      <td>Sempre que juridicamente viável, deve ser prom...</td>\n",
              "      <td>4</td>\n",
              "    </tr>\n",
              "    <tr>\n",
              "      <th>3679</th>\n",
              "      <td>9</td>\n",
              "      <td>É cabível, em grau de recurso, modificar o fun...</td>\n",
              "      <td>4</td>\n",
              "    </tr>\n",
              "    <tr>\n",
              "      <th>3874</th>\n",
              "      <td>9</td>\n",
              "      <td>A sanção de declaração de inidoneidade (art. 4...</td>\n",
              "      <td>4</td>\n",
              "    </tr>\n",
              "    <tr>\n",
              "      <th>4698</th>\n",
              "      <td>9</td>\n",
              "      <td>O prazo decadencial previsto no art. 54 da Lei...</td>\n",
              "      <td>4</td>\n",
              "    </tr>\n",
              "    <tr>\n",
              "      <th>4706</th>\n",
              "      <td>9</td>\n",
              "      <td>A responsabilidade administrativa atribuída ao...</td>\n",
              "      <td>4</td>\n",
              "    </tr>\n",
              "    <tr>\n",
              "      <th>9212</th>\n",
              "      <td>9</td>\n",
              "      <td>A existência de boa-fé por parte dos beneficiá...</td>\n",
              "      <td>8</td>\n",
              "    </tr>\n",
              "  </tbody>\n",
              "</table>\n",
              "</div>"
            ],
            "text/plain": [
              "      predicted                                              texto  actual\n",
              "810           9  A contratação de serviços advocatícios para de...       1\n",
              "1045          9  Após pronunciamento do STF na Ação Declaratóri...       1\n",
              "1221          9  A degradação prematura de pavimento, resultant...       1\n",
              "1946          9  A ocorrência de mudanças alinhadas com à conce...       2\n",
              "1985          9  Constitui desvio de objeto, e não desvio de fi...       2\n",
              "1987          9  O partido político tem de prestar contas de to...       2\n",
              "2429          9  O gestor que aprova a concessão de dinheiro pú...       2\n",
              "3261          9  A mudança de fundamentação de multa aplicada c...       4\n",
              "3287          9  Autorizado o parcelamento do débito, antes da ...       4\n",
              "3363          9  Adota-se como termo inicial do prazo para reco...       4\n",
              "3364          9  Sempre que juridicamente viável, deve ser prom...       4\n",
              "3679          9  É cabível, em grau de recurso, modificar o fun...       4\n",
              "3874          9  A sanção de declaração de inidoneidade (art. 4...       4\n",
              "4698          9  O prazo decadencial previsto no art. 54 da Lei...       4\n",
              "4706          9  A responsabilidade administrativa atribuída ao...       4\n",
              "9212          9  A existência de boa-fé por parte dos beneficiá...       8"
            ]
          },
          "metadata": {},
          "execution_count": 107
        }
      ]
    },
    {
      "cell_type": "code",
      "source": [
        "md2_4 = (df_prob_2[(df_prob_2['predicted'] == 4) & (df_prob_2['actual'] != df_prob_2['predicted']) & (df_prob_2['prob_dirproc(4)'] < 0.9)] [['texto']])"
      ],
      "metadata": {
        "id": "Z4YeXAz24xha"
      },
      "execution_count": 108,
      "outputs": []
    },
    {
      "cell_type": "code",
      "source": [
        "len(md2_4)"
      ],
      "metadata": {
        "id": "rG4pFckP47E8",
        "colab": {
          "base_uri": "https://localhost:8080/"
        },
        "outputId": "eb4a1a1b-53cf-4836-9f42-cc71e6821633"
      },
      "execution_count": 109,
      "outputs": [
        {
          "output_type": "execute_result",
          "data": {
            "text/plain": [
              "37"
            ]
          },
          "metadata": {},
          "execution_count": 109
        }
      ]
    },
    {
      "cell_type": "markdown",
      "source": [
        "## Modelo 4"
      ],
      "metadata": {
        "id": "9iMljuSyNQz2"
      }
    },
    {
      "cell_type": "code",
      "source": [
        "prob_preds_3 = classificador_3.predict_proba(X_test)\n",
        "prob_preds_3[:5]"
      ],
      "metadata": {
        "id": "U0MPcPg2x38j",
        "colab": {
          "base_uri": "https://localhost:8080/"
        },
        "outputId": "e50f430e-8c7b-4928-bda9-4336703fd747"
      },
      "execution_count": 110,
      "outputs": [
        {
          "output_type": "execute_result",
          "data": {
            "text/plain": [
              "array([[0.  , 0.  , 0.  , 0.  , 0.  , 0.  , 0.  , 0.03, 0.97, 0.  ],\n",
              "       [0.  , 0.  , 0.  , 0.01, 0.03, 0.  , 0.07, 0.72, 0.05, 0.12],\n",
              "       [0.01, 0.  , 0.14, 0.01, 0.06, 0.27, 0.03, 0.09, 0.28, 0.11],\n",
              "       [0.  , 0.  , 0.  , 0.  , 0.81, 0.  , 0.04, 0.02, 0.03, 0.1 ],\n",
              "       [0.04, 0.  , 0.01, 0.  , 0.07, 0.  , 0.  , 0.  , 0.86, 0.02]])"
            ]
          },
          "metadata": {},
          "execution_count": 110
        }
      ]
    },
    {
      "cell_type": "markdown",
      "source": [
        ""
      ],
      "metadata": {
        "id": "Uqz1grtB29Ek"
      }
    },
    {
      "cell_type": "code",
      "source": [
        "# Cria dataframe para conferência da confiança do modelo 3 (RandomForest) em cada predição (probabilidades)\n",
        "df_prob_3 = pd.DataFrame(columns=['texto','actual','predicted', 'prob_comptTCU(0)', 'prob_contra(1)', 'prob_conven(2)','prob_desestatiz(3)','prob_dirproc(4)', 'prob_financa(5)', 'prob_gadm(6)', 'prob_licit(7)', 'prob_pessoal(8)', 'prob_resp(9)'])\n",
        "df_prob_3['texto'] = X_test\n",
        "df_prob_3['actual'] = y_test\n",
        "df_prob_3['predicted'] = classificador_3.predict(X_test)\n",
        "df_prob_3['prob_comptTCU(0)'] = np.round(prob_preds_3[0:,0],6).tolist()\n",
        "df_prob_3['prob_contra(1)'] = np.round(prob_preds_3[0:,1],6).tolist()\n",
        "df_prob_3['prob_respo(2)'] = np.round(prob_preds_3[0:,2],6).tolist()\n",
        "df_prob_3['prob_conven(3)'] = np.round(prob_preds_3[0:,3],6).tolist()\n",
        "df_prob_3['prob_dirproc(4)'] = np.round(prob_preds_3[0:,4],6).tolist()\n",
        "df_prob_3['prob_financa(5)'] = np.round(prob_preds_3[0:,5],6).tolist()\n",
        "df_prob_3['prob_gadm(6)'] = np.round(prob_preds_3[0:,6],6).tolist()\n",
        "df_prob_3['prob_licit(7)'] = np.round(prob_preds_3[0:,7],6).tolist()\n",
        "df_prob_3['prob_pessoal(8)'] = np.round(prob_preds_3[0:,8],6).tolist()\n",
        "df_prob_3['prob_resp(9)'] = np.round(prob_preds_3[0:,9],6).tolist()\n",
        "\n",
        "print(df_prob_3.shape)\n",
        "df_prob_3.head()"
      ],
      "metadata": {
        "id": "nV5R_jNKymS1",
        "colab": {
          "base_uri": "https://localhost:8080/",
          "height": 487
        },
        "outputId": "10ee5891-40e0-423f-cd96-e9e2e10092af"
      },
      "execution_count": 111,
      "outputs": [
        {
          "output_type": "stream",
          "name": "stdout",
          "text": [
            "(3059, 15)\n"
          ]
        },
        {
          "output_type": "execute_result",
          "data": {
            "text/html": [
              "<div>\n",
              "<style scoped>\n",
              "    .dataframe tbody tr th:only-of-type {\n",
              "        vertical-align: middle;\n",
              "    }\n",
              "\n",
              "    .dataframe tbody tr th {\n",
              "        vertical-align: top;\n",
              "    }\n",
              "\n",
              "    .dataframe thead th {\n",
              "        text-align: right;\n",
              "    }\n",
              "</style>\n",
              "<table border=\"1\" class=\"dataframe\">\n",
              "  <thead>\n",
              "    <tr style=\"text-align: right;\">\n",
              "      <th></th>\n",
              "      <th>texto</th>\n",
              "      <th>actual</th>\n",
              "      <th>predicted</th>\n",
              "      <th>prob_comptTCU(0)</th>\n",
              "      <th>prob_contra(1)</th>\n",
              "      <th>prob_conven(2)</th>\n",
              "      <th>prob_desestatiz(3)</th>\n",
              "      <th>prob_dirproc(4)</th>\n",
              "      <th>prob_financa(5)</th>\n",
              "      <th>prob_gadm(6)</th>\n",
              "      <th>prob_licit(7)</th>\n",
              "      <th>prob_pessoal(8)</th>\n",
              "      <th>prob_resp(9)</th>\n",
              "      <th>prob_respo(2)</th>\n",
              "      <th>prob_conven(3)</th>\n",
              "    </tr>\n",
              "  </thead>\n",
              "  <tbody>\n",
              "    <tr>\n",
              "      <th>10639</th>\n",
              "      <td>É ilegal o cômputo de tempo das atividades de ...</td>\n",
              "      <td>8</td>\n",
              "      <td>8</td>\n",
              "      <td>0.00</td>\n",
              "      <td>0.0</td>\n",
              "      <td>NaN</td>\n",
              "      <td>NaN</td>\n",
              "      <td>0.00</td>\n",
              "      <td>0.00</td>\n",
              "      <td>0.00</td>\n",
              "      <td>0.03</td>\n",
              "      <td>0.97</td>\n",
              "      <td>0.00</td>\n",
              "      <td>0.00</td>\n",
              "      <td>0.00</td>\n",
              "    </tr>\n",
              "    <tr>\n",
              "      <th>14465</th>\n",
              "      <td>A ausência de rodízio de membros das comissões...</td>\n",
              "      <td>9</td>\n",
              "      <td>7</td>\n",
              "      <td>0.00</td>\n",
              "      <td>0.0</td>\n",
              "      <td>NaN</td>\n",
              "      <td>NaN</td>\n",
              "      <td>0.03</td>\n",
              "      <td>0.00</td>\n",
              "      <td>0.07</td>\n",
              "      <td>0.72</td>\n",
              "      <td>0.05</td>\n",
              "      <td>0.12</td>\n",
              "      <td>0.00</td>\n",
              "      <td>0.01</td>\n",
              "    </tr>\n",
              "    <tr>\n",
              "      <th>4924</th>\n",
              "      <td>Podem ser aplicados aos Fundos Constitucionais...</td>\n",
              "      <td>5</td>\n",
              "      <td>8</td>\n",
              "      <td>0.01</td>\n",
              "      <td>0.0</td>\n",
              "      <td>NaN</td>\n",
              "      <td>NaN</td>\n",
              "      <td>0.06</td>\n",
              "      <td>0.27</td>\n",
              "      <td>0.03</td>\n",
              "      <td>0.09</td>\n",
              "      <td>0.28</td>\n",
              "      <td>0.11</td>\n",
              "      <td>0.14</td>\n",
              "      <td>0.01</td>\n",
              "    </tr>\n",
              "    <tr>\n",
              "      <th>4493</th>\n",
              "      <td>Os relatórios de vistoria &lt;i&gt;in loco&lt;/i&gt; dos ó...</td>\n",
              "      <td>4</td>\n",
              "      <td>4</td>\n",
              "      <td>0.00</td>\n",
              "      <td>0.0</td>\n",
              "      <td>NaN</td>\n",
              "      <td>NaN</td>\n",
              "      <td>0.81</td>\n",
              "      <td>0.00</td>\n",
              "      <td>0.04</td>\n",
              "      <td>0.02</td>\n",
              "      <td>0.03</td>\n",
              "      <td>0.10</td>\n",
              "      <td>0.00</td>\n",
              "      <td>0.00</td>\n",
              "    </tr>\n",
              "    <tr>\n",
              "      <th>10030</th>\n",
              "      <td>O exame levado a efeito pelo TCU sobre os atos...</td>\n",
              "      <td>8</td>\n",
              "      <td>8</td>\n",
              "      <td>0.04</td>\n",
              "      <td>0.0</td>\n",
              "      <td>NaN</td>\n",
              "      <td>NaN</td>\n",
              "      <td>0.07</td>\n",
              "      <td>0.00</td>\n",
              "      <td>0.00</td>\n",
              "      <td>0.00</td>\n",
              "      <td>0.86</td>\n",
              "      <td>0.02</td>\n",
              "      <td>0.01</td>\n",
              "      <td>0.00</td>\n",
              "    </tr>\n",
              "  </tbody>\n",
              "</table>\n",
              "</div>"
            ],
            "text/plain": [
              "                                                   texto  ...  prob_conven(3)\n",
              "10639  É ilegal o cômputo de tempo das atividades de ...  ...            0.00\n",
              "14465  A ausência de rodízio de membros das comissões...  ...            0.01\n",
              "4924   Podem ser aplicados aos Fundos Constitucionais...  ...            0.01\n",
              "4493   Os relatórios de vistoria <i>in loco</i> dos ó...  ...            0.00\n",
              "10030  O exame levado a efeito pelo TCU sobre os atos...  ...            0.00\n",
              "\n",
              "[5 rows x 15 columns]"
            ]
          },
          "metadata": {},
          "execution_count": 111
        }
      ]
    },
    {
      "cell_type": "code",
      "source": [
        "# Listar predições do modelo para classe=9 (classe minoritária) que estão erradas e suas probabilidades.\n",
        "print(df_prob_1[(df_prob_1['predicted'] == 9) & (df_prob_1['actual'] != df_prob_1['predicted']) & (df_prob_1['prob_resp(9)'] < 0.9)] [['texto']])"
      ],
      "metadata": {
        "id": "sEcxr6B9ysQe",
        "colab": {
          "base_uri": "https://localhost:8080/"
        },
        "outputId": "ae4ab6f9-03d8-4959-eb7c-1ecdc263cea1"
      },
      "execution_count": 112,
      "outputs": [
        {
          "output_type": "stream",
          "name": "stdout",
          "text": [
            "                                                   texto\n",
            "2428   Após executado o objeto de convênio, o cuidado...\n",
            "7882   Permite-se a correção dos preços antes da assi...\n",
            "8428   Empresa em litígio com a Fazenda Pública, em a...\n",
            "1167   É objetiva a responsabilidade do construtor no...\n",
            "861    A execução de contrato deve ser acompanhada po...\n",
            "1041   É cabível a utilização de estudos econométrico...\n",
            "159    A jurisdição do TCU alcança a aplicação de rec...\n",
            "4591   Para a instauração de tomada de contas especia...\n",
            "502    Eventuais constatações acerca da aplicação de ...\n",
            "34     As seguradoras que atuam como agentes executor...\n",
            "4906   O indicador estoque da dívida pública/estoque ...\n",
            "2785   Não cabe a instauração de incidente de uniform...\n",
            "2368   A Administração Pública é obrigada a manter a ...\n",
            "5247   É indevida a contratação institucional de serv...\n",
            "4426   É possível a aplicação da multa do art. 58 da ...\n",
            "2945   É a demonstração da boa-fé objetiva - conduta ...\n",
            "1481   A antecipação do prazo de execução e conclusão...\n",
            "11942  Os interessados beneficiados por decisão judic...\n",
            "98     Identificando qualquer irregularidade em acord...\n",
            "2339   É irregular a alteração de beneficiários de co...\n",
            "2135   É irregular a contratação, por entidade conven...\n",
            "3079   No caso de falecimento de dirigente responsáve...\n",
            "3081   No caso de falecimento de responsável por irre...\n",
            "2731   Em regra, não cabe prazo diferenciado a estado...\n",
            "3118   É regular a consolidação de débitos de respons...\n",
            "2026   Em convênio que preveja equipar unidade de saú...\n",
            "252    Medidas afetas à discricionariedade do gestor ...\n",
            "3966   A prova indiciária de fraude é admitida como f...\n",
            "1280   A formalização de contrato em momento posterio...\n",
            "3517   Quando houver dificuldade para ter acesso aos ...\n",
            "2072   O gestor público que não presta contas no mome...\n",
            "3485   O ônus de comprovar a regularidade da integral...\n",
            "1798   Os órgãos concedentes, na análise das prestaçõ...\n",
            "4702   Para que seja declarada a inidoneidade de uma ...\n",
            "4489   O falecimento do responsável após sua citação ...\n",
            "3093   No caso de omissão no dever de prestar contas,...\n",
            "1967   É configurado desvio de finalidade a utilizaçã...\n",
            "3038   Em caso de condenação de ente da Federação em ...\n",
            "5287   O órgão ou a entidade que conduzir o processo ...\n",
            "6680   O prazo decadencial a ser observado pela Admin...\n",
            "1093   Nas empreitadas por preço unitário, os pagamen...\n",
            "12239  O TCU, ao julgar as contas e efetuar a fiscali...\n",
            "2000   O convenente deve comprovar a propriedade do i...\n",
            "1955   Constitui desvio de finalidade o uso de recurs...\n",
            "1301   A não aferição do perfil dos profissionais ind...\n",
            "4076   As declarações expedidas por órgão público, as...\n",
            "6013   O dano reverso decorrente da falta de produto ...\n"
          ]
        }
      ]
    },
    {
      "cell_type": "code",
      "source": [
        "md4_9 = (df_prob_3[(df_prob_3['predicted'] == 9) & (df_prob_3['actual'] != df_prob_3['predicted']) & (df_prob_3['prob_resp(9)'] < 0.9)] [['texto']])"
      ],
      "metadata": {
        "id": "WpyFpavlQziK"
      },
      "execution_count": 113,
      "outputs": []
    },
    {
      "cell_type": "code",
      "source": [
        "len(md4_9)"
      ],
      "metadata": {
        "id": "v4J8XZHw3ekB",
        "colab": {
          "base_uri": "https://localhost:8080/"
        },
        "outputId": "44f265a6-3843-4210-95e5-a40ef86cf0a8"
      },
      "execution_count": 114,
      "outputs": [
        {
          "output_type": "execute_result",
          "data": {
            "text/plain": [
              "92"
            ]
          },
          "metadata": {},
          "execution_count": 114
        }
      ]
    },
    {
      "cell_type": "code",
      "source": [
        "md4_4 = (df_prob_3[(df_prob_3['predicted'] == 4) & (df_prob_3['actual'] != df_prob_3['predicted']) & (df_prob_3['prob_dirproc(4)'] < 0.9)] [['texto']])"
      ],
      "metadata": {
        "id": "-wmlqjf84R5L"
      },
      "execution_count": 115,
      "outputs": []
    },
    {
      "cell_type": "code",
      "source": [
        "len(md4_4)"
      ],
      "metadata": {
        "id": "AlAeZH8u4aAt",
        "colab": {
          "base_uri": "https://localhost:8080/"
        },
        "outputId": "4d5b1c39-a452-4d50-8239-51d4b3b2a681"
      },
      "execution_count": 116,
      "outputs": [
        {
          "output_type": "execute_result",
          "data": {
            "text/plain": [
              "51"
            ]
          },
          "metadata": {},
          "execution_count": 116
        }
      ]
    },
    {
      "cell_type": "markdown",
      "source": [
        "#Modelo Final - otimização de hiperparâmetros\n",
        "SGDClassifier com dados de treino balanceados\n"
      ],
      "metadata": {
        "id": "_He5lnflXRDz"
      }
    },
    {
      "cell_type": "code",
      "source": [
        "from scipy.stats import uniform, loguniform\n",
        "\n",
        "params = {\n",
        "    \"clf__l1_ratio\": [.25, .75, 1],\n",
        "    \"clf__alpha\": [1.000e-05, 1.001e-04, 1.5e-05],\n",
        "    \"clf__penalty\": [\"l2\", \"l1\", \"elasticnet\"],\n",
        "    # \"clf__learning_rate\": [\"invscaling\", \"adaptive\"],\n",
        "    \"clf__power_t\": [.25, .75, 1],\n",
        "    \"clf__average\": [True, False],\n",
        "    \"clf__loss\": ['log', 'perceptron']\n",
        "}\n",
        "\n",
        "# , or a regression loss: ‘squared_error’, ‘huber’, ‘epsilon_insensitive’, or ‘squared_epsilon_insensitive’"
      ],
      "metadata": {
        "id": "XbW8jOREXQUh"
      },
      "execution_count": 135,
      "outputs": []
    },
    {
      "cell_type": "code",
      "source": [
        "print(np.arange(1e-5, 1e-1, 0.01))"
      ],
      "metadata": {
        "colab": {
          "base_uri": "https://localhost:8080/"
        },
        "id": "vQPMXCdRYezp",
        "outputId": "fc20c2c0-cb47-4a91-b80c-82671218a674"
      },
      "execution_count": 131,
      "outputs": [
        {
          "output_type": "stream",
          "name": "stdout",
          "text": [
            "[1.000e-05 1.001e-02 2.001e-02 3.001e-02 4.001e-02 5.001e-02 6.001e-02\n",
            " 7.001e-02 8.001e-02 9.001e-02]\n"
          ]
        }
      ]
    },
    {
      "cell_type": "code",
      "source": [
        "pipeline_1 = Pipeline([\n",
        "    ('tfidf', TfidfVectorizer(max_features=5000, max_df=0.7, min_df=3, stop_words=stopwords)),\n",
        "    ('clf', SGDClassifier(loss='log', penalty='elasticnet', alpha=1e-06)) # default hinge. to get proba=log or modified_huber\n",
        "])\n",
        "\n",
        "grid = GridSearchCV(pipeline_1, params, cv=3, verbose=100, scoring='balanced_accuracy')\n",
        "grid.fit(X_train_balanced['Enunciado'], y_train_balanced)"
      ],
      "metadata": {
        "colab": {
          "base_uri": "https://localhost:8080/"
        },
        "id": "VEtU0-XzXkkC",
        "outputId": "e3d60bc8-f5f0-4a77-becc-91e6a35905c1"
      },
      "execution_count": 137,
      "outputs": [
        {
          "output_type": "stream",
          "name": "stdout",
          "text": [
            "Fitting 3 folds for each of 324 candidates, totalling 972 fits\n",
            "[CV 1/3; 1/324] START clf__alpha=1e-05, clf__average=True, clf__l1_ratio=0.25, clf__loss=log, clf__penalty=l2, clf__power_t=0.25\n",
            "[CV 1/3; 1/324] END clf__alpha=1e-05, clf__average=True, clf__l1_ratio=0.25, clf__loss=log, clf__penalty=l2, clf__power_t=0.25;, score=0.964 total time=   2.1s\n",
            "[CV 2/3; 1/324] START clf__alpha=1e-05, clf__average=True, clf__l1_ratio=0.25, clf__loss=log, clf__penalty=l2, clf__power_t=0.25\n",
            "[CV 2/3; 1/324] END clf__alpha=1e-05, clf__average=True, clf__l1_ratio=0.25, clf__loss=log, clf__penalty=l2, clf__power_t=0.25;, score=0.968 total time=   2.1s\n",
            "[CV 3/3; 1/324] START clf__alpha=1e-05, clf__average=True, clf__l1_ratio=0.25, clf__loss=log, clf__penalty=l2, clf__power_t=0.25\n",
            "[CV 3/3; 1/324] END clf__alpha=1e-05, clf__average=True, clf__l1_ratio=0.25, clf__loss=log, clf__penalty=l2, clf__power_t=0.25;, score=0.982 total time=   2.1s\n",
            "[CV 1/3; 2/324] START clf__alpha=1e-05, clf__average=True, clf__l1_ratio=0.25, clf__loss=log, clf__penalty=l2, clf__power_t=0.75\n",
            "[CV 1/3; 2/324] END clf__alpha=1e-05, clf__average=True, clf__l1_ratio=0.25, clf__loss=log, clf__penalty=l2, clf__power_t=0.75;, score=0.965 total time=   2.1s\n",
            "[CV 2/3; 2/324] START clf__alpha=1e-05, clf__average=True, clf__l1_ratio=0.25, clf__loss=log, clf__penalty=l2, clf__power_t=0.75\n",
            "[CV 2/3; 2/324] END clf__alpha=1e-05, clf__average=True, clf__l1_ratio=0.25, clf__loss=log, clf__penalty=l2, clf__power_t=0.75;, score=0.968 total time=   2.1s\n",
            "[CV 3/3; 2/324] START clf__alpha=1e-05, clf__average=True, clf__l1_ratio=0.25, clf__loss=log, clf__penalty=l2, clf__power_t=0.75\n",
            "[CV 3/3; 2/324] END clf__alpha=1e-05, clf__average=True, clf__l1_ratio=0.25, clf__loss=log, clf__penalty=l2, clf__power_t=0.75;, score=0.983 total time=   2.1s\n",
            "[CV 1/3; 3/324] START clf__alpha=1e-05, clf__average=True, clf__l1_ratio=0.25, clf__loss=log, clf__penalty=l2, clf__power_t=1\n",
            "[CV 1/3; 3/324] END clf__alpha=1e-05, clf__average=True, clf__l1_ratio=0.25, clf__loss=log, clf__penalty=l2, clf__power_t=1;, score=0.965 total time=   2.1s\n",
            "[CV 2/3; 3/324] START clf__alpha=1e-05, clf__average=True, clf__l1_ratio=0.25, clf__loss=log, clf__penalty=l2, clf__power_t=1\n",
            "[CV 2/3; 3/324] END clf__alpha=1e-05, clf__average=True, clf__l1_ratio=0.25, clf__loss=log, clf__penalty=l2, clf__power_t=1;, score=0.967 total time=   2.1s\n",
            "[CV 3/3; 3/324] START clf__alpha=1e-05, clf__average=True, clf__l1_ratio=0.25, clf__loss=log, clf__penalty=l2, clf__power_t=1\n",
            "[CV 3/3; 3/324] END clf__alpha=1e-05, clf__average=True, clf__l1_ratio=0.25, clf__loss=log, clf__penalty=l2, clf__power_t=1;, score=0.983 total time=   2.1s\n",
            "[CV 1/3; 4/324] START clf__alpha=1e-05, clf__average=True, clf__l1_ratio=0.25, clf__loss=log, clf__penalty=l1, clf__power_t=0.25\n",
            "[CV 1/3; 4/324] END clf__alpha=1e-05, clf__average=True, clf__l1_ratio=0.25, clf__loss=log, clf__penalty=l1, clf__power_t=0.25;, score=0.942 total time=   2.5s\n",
            "[CV 2/3; 4/324] START clf__alpha=1e-05, clf__average=True, clf__l1_ratio=0.25, clf__loss=log, clf__penalty=l1, clf__power_t=0.25\n",
            "[CV 2/3; 4/324] END clf__alpha=1e-05, clf__average=True, clf__l1_ratio=0.25, clf__loss=log, clf__penalty=l1, clf__power_t=0.25;, score=0.948 total time=   2.5s\n",
            "[CV 3/3; 4/324] START clf__alpha=1e-05, clf__average=True, clf__l1_ratio=0.25, clf__loss=log, clf__penalty=l1, clf__power_t=0.25\n",
            "[CV 3/3; 4/324] END clf__alpha=1e-05, clf__average=True, clf__l1_ratio=0.25, clf__loss=log, clf__penalty=l1, clf__power_t=0.25;, score=0.963 total time=   2.5s\n",
            "[CV 1/3; 5/324] START clf__alpha=1e-05, clf__average=True, clf__l1_ratio=0.25, clf__loss=log, clf__penalty=l1, clf__power_t=0.75\n",
            "[CV 1/3; 5/324] END clf__alpha=1e-05, clf__average=True, clf__l1_ratio=0.25, clf__loss=log, clf__penalty=l1, clf__power_t=0.75;, score=0.946 total time=   2.4s\n",
            "[CV 2/3; 5/324] START clf__alpha=1e-05, clf__average=True, clf__l1_ratio=0.25, clf__loss=log, clf__penalty=l1, clf__power_t=0.75\n",
            "[CV 2/3; 5/324] END clf__alpha=1e-05, clf__average=True, clf__l1_ratio=0.25, clf__loss=log, clf__penalty=l1, clf__power_t=0.75;, score=0.944 total time=   2.4s\n",
            "[CV 3/3; 5/324] START clf__alpha=1e-05, clf__average=True, clf__l1_ratio=0.25, clf__loss=log, clf__penalty=l1, clf__power_t=0.75\n",
            "[CV 3/3; 5/324] END clf__alpha=1e-05, clf__average=True, clf__l1_ratio=0.25, clf__loss=log, clf__penalty=l1, clf__power_t=0.75;, score=0.964 total time=   2.5s\n",
            "[CV 1/3; 6/324] START clf__alpha=1e-05, clf__average=True, clf__l1_ratio=0.25, clf__loss=log, clf__penalty=l1, clf__power_t=1\n",
            "[CV 1/3; 6/324] END clf__alpha=1e-05, clf__average=True, clf__l1_ratio=0.25, clf__loss=log, clf__penalty=l1, clf__power_t=1;, score=0.945 total time=   2.5s\n",
            "[CV 2/3; 6/324] START clf__alpha=1e-05, clf__average=True, clf__l1_ratio=0.25, clf__loss=log, clf__penalty=l1, clf__power_t=1\n",
            "[CV 2/3; 6/324] END clf__alpha=1e-05, clf__average=True, clf__l1_ratio=0.25, clf__loss=log, clf__penalty=l1, clf__power_t=1;, score=0.946 total time=   2.5s\n",
            "[CV 3/3; 6/324] START clf__alpha=1e-05, clf__average=True, clf__l1_ratio=0.25, clf__loss=log, clf__penalty=l1, clf__power_t=1\n",
            "[CV 3/3; 6/324] END clf__alpha=1e-05, clf__average=True, clf__l1_ratio=0.25, clf__loss=log, clf__penalty=l1, clf__power_t=1;, score=0.961 total time=   2.5s\n",
            "[CV 1/3; 7/324] START clf__alpha=1e-05, clf__average=True, clf__l1_ratio=0.25, clf__loss=log, clf__penalty=elasticnet, clf__power_t=0.25\n",
            "[CV 1/3; 7/324] END clf__alpha=1e-05, clf__average=True, clf__l1_ratio=0.25, clf__loss=log, clf__penalty=elasticnet, clf__power_t=0.25;, score=0.957 total time=   2.5s\n",
            "[CV 2/3; 7/324] START clf__alpha=1e-05, clf__average=True, clf__l1_ratio=0.25, clf__loss=log, clf__penalty=elasticnet, clf__power_t=0.25\n",
            "[CV 2/3; 7/324] END clf__alpha=1e-05, clf__average=True, clf__l1_ratio=0.25, clf__loss=log, clf__penalty=elasticnet, clf__power_t=0.25;, score=0.957 total time=   2.5s\n",
            "[CV 3/3; 7/324] START clf__alpha=1e-05, clf__average=True, clf__l1_ratio=0.25, clf__loss=log, clf__penalty=elasticnet, clf__power_t=0.25\n",
            "[CV 3/3; 7/324] END clf__alpha=1e-05, clf__average=True, clf__l1_ratio=0.25, clf__loss=log, clf__penalty=elasticnet, clf__power_t=0.25;, score=0.973 total time=   2.5s\n",
            "[CV 1/3; 8/324] START clf__alpha=1e-05, clf__average=True, clf__l1_ratio=0.25, clf__loss=log, clf__penalty=elasticnet, clf__power_t=0.75\n",
            "[CV 1/3; 8/324] END clf__alpha=1e-05, clf__average=True, clf__l1_ratio=0.25, clf__loss=log, clf__penalty=elasticnet, clf__power_t=0.75;, score=0.957 total time=   2.5s\n",
            "[CV 2/3; 8/324] START clf__alpha=1e-05, clf__average=True, clf__l1_ratio=0.25, clf__loss=log, clf__penalty=elasticnet, clf__power_t=0.75\n",
            "[CV 2/3; 8/324] END clf__alpha=1e-05, clf__average=True, clf__l1_ratio=0.25, clf__loss=log, clf__penalty=elasticnet, clf__power_t=0.75;, score=0.957 total time=   2.5s\n",
            "[CV 3/3; 8/324] START clf__alpha=1e-05, clf__average=True, clf__l1_ratio=0.25, clf__loss=log, clf__penalty=elasticnet, clf__power_t=0.75\n",
            "[CV 3/3; 8/324] END clf__alpha=1e-05, clf__average=True, clf__l1_ratio=0.25, clf__loss=log, clf__penalty=elasticnet, clf__power_t=0.75;, score=0.974 total time=   2.5s\n",
            "[CV 1/3; 9/324] START clf__alpha=1e-05, clf__average=True, clf__l1_ratio=0.25, clf__loss=log, clf__penalty=elasticnet, clf__power_t=1\n",
            "[CV 1/3; 9/324] END clf__alpha=1e-05, clf__average=True, clf__l1_ratio=0.25, clf__loss=log, clf__penalty=elasticnet, clf__power_t=1;, score=0.957 total time=   2.5s\n",
            "[CV 2/3; 9/324] START clf__alpha=1e-05, clf__average=True, clf__l1_ratio=0.25, clf__loss=log, clf__penalty=elasticnet, clf__power_t=1\n",
            "[CV 2/3; 9/324] END clf__alpha=1e-05, clf__average=True, clf__l1_ratio=0.25, clf__loss=log, clf__penalty=elasticnet, clf__power_t=1;, score=0.958 total time=   2.5s\n",
            "[CV 3/3; 9/324] START clf__alpha=1e-05, clf__average=True, clf__l1_ratio=0.25, clf__loss=log, clf__penalty=elasticnet, clf__power_t=1\n",
            "[CV 3/3; 9/324] END clf__alpha=1e-05, clf__average=True, clf__l1_ratio=0.25, clf__loss=log, clf__penalty=elasticnet, clf__power_t=1;, score=0.975 total time=   2.5s\n",
            "[CV 1/3; 10/324] START clf__alpha=1e-05, clf__average=True, clf__l1_ratio=0.25, clf__loss=perceptron, clf__penalty=l2, clf__power_t=0.25\n",
            "[CV 1/3; 10/324] END clf__alpha=1e-05, clf__average=True, clf__l1_ratio=0.25, clf__loss=perceptron, clf__penalty=l2, clf__power_t=0.25;, score=0.969 total time=   1.9s\n",
            "[CV 2/3; 10/324] START clf__alpha=1e-05, clf__average=True, clf__l1_ratio=0.25, clf__loss=perceptron, clf__penalty=l2, clf__power_t=0.25\n",
            "[CV 2/3; 10/324] END clf__alpha=1e-05, clf__average=True, clf__l1_ratio=0.25, clf__loss=perceptron, clf__penalty=l2, clf__power_t=0.25;, score=0.973 total time=   1.9s\n",
            "[CV 3/3; 10/324] START clf__alpha=1e-05, clf__average=True, clf__l1_ratio=0.25, clf__loss=perceptron, clf__penalty=l2, clf__power_t=0.25\n",
            "[CV 3/3; 10/324] END clf__alpha=1e-05, clf__average=True, clf__l1_ratio=0.25, clf__loss=perceptron, clf__penalty=l2, clf__power_t=0.25;, score=0.990 total time=   1.9s\n",
            "[CV 1/3; 11/324] START clf__alpha=1e-05, clf__average=True, clf__l1_ratio=0.25, clf__loss=perceptron, clf__penalty=l2, clf__power_t=0.75\n",
            "[CV 1/3; 11/324] END clf__alpha=1e-05, clf__average=True, clf__l1_ratio=0.25, clf__loss=perceptron, clf__penalty=l2, clf__power_t=0.75;, score=0.970 total time=   1.9s\n",
            "[CV 2/3; 11/324] START clf__alpha=1e-05, clf__average=True, clf__l1_ratio=0.25, clf__loss=perceptron, clf__penalty=l2, clf__power_t=0.75\n",
            "[CV 2/3; 11/324] END clf__alpha=1e-05, clf__average=True, clf__l1_ratio=0.25, clf__loss=perceptron, clf__penalty=l2, clf__power_t=0.75;, score=0.973 total time=   1.8s\n",
            "[CV 3/3; 11/324] START clf__alpha=1e-05, clf__average=True, clf__l1_ratio=0.25, clf__loss=perceptron, clf__penalty=l2, clf__power_t=0.75\n",
            "[CV 3/3; 11/324] END clf__alpha=1e-05, clf__average=True, clf__l1_ratio=0.25, clf__loss=perceptron, clf__penalty=l2, clf__power_t=0.75;, score=0.989 total time=   1.9s\n",
            "[CV 1/3; 12/324] START clf__alpha=1e-05, clf__average=True, clf__l1_ratio=0.25, clf__loss=perceptron, clf__penalty=l2, clf__power_t=1\n",
            "[CV 1/3; 12/324] END clf__alpha=1e-05, clf__average=True, clf__l1_ratio=0.25, clf__loss=perceptron, clf__penalty=l2, clf__power_t=1;, score=0.969 total time=   1.8s\n",
            "[CV 2/3; 12/324] START clf__alpha=1e-05, clf__average=True, clf__l1_ratio=0.25, clf__loss=perceptron, clf__penalty=l2, clf__power_t=1\n",
            "[CV 2/3; 12/324] END clf__alpha=1e-05, clf__average=True, clf__l1_ratio=0.25, clf__loss=perceptron, clf__penalty=l2, clf__power_t=1;, score=0.973 total time=   1.8s\n",
            "[CV 3/3; 12/324] START clf__alpha=1e-05, clf__average=True, clf__l1_ratio=0.25, clf__loss=perceptron, clf__penalty=l2, clf__power_t=1\n",
            "[CV 3/3; 12/324] END clf__alpha=1e-05, clf__average=True, clf__l1_ratio=0.25, clf__loss=perceptron, clf__penalty=l2, clf__power_t=1;, score=0.989 total time=   1.9s\n",
            "[CV 1/3; 13/324] START clf__alpha=1e-05, clf__average=True, clf__l1_ratio=0.25, clf__loss=perceptron, clf__penalty=l1, clf__power_t=0.25\n",
            "[CV 1/3; 13/324] END clf__alpha=1e-05, clf__average=True, clf__l1_ratio=0.25, clf__loss=perceptron, clf__penalty=l1, clf__power_t=0.25;, score=0.909 total time=   2.5s\n",
            "[CV 2/3; 13/324] START clf__alpha=1e-05, clf__average=True, clf__l1_ratio=0.25, clf__loss=perceptron, clf__penalty=l1, clf__power_t=0.25\n",
            "[CV 2/3; 13/324] END clf__alpha=1e-05, clf__average=True, clf__l1_ratio=0.25, clf__loss=perceptron, clf__penalty=l1, clf__power_t=0.25;, score=0.921 total time=   2.4s\n",
            "[CV 3/3; 13/324] START clf__alpha=1e-05, clf__average=True, clf__l1_ratio=0.25, clf__loss=perceptron, clf__penalty=l1, clf__power_t=0.25\n",
            "[CV 3/3; 13/324] END clf__alpha=1e-05, clf__average=True, clf__l1_ratio=0.25, clf__loss=perceptron, clf__penalty=l1, clf__power_t=0.25;, score=0.926 total time=   2.5s\n",
            "[CV 1/3; 14/324] START clf__alpha=1e-05, clf__average=True, clf__l1_ratio=0.25, clf__loss=perceptron, clf__penalty=l1, clf__power_t=0.75\n",
            "[CV 1/3; 14/324] END clf__alpha=1e-05, clf__average=True, clf__l1_ratio=0.25, clf__loss=perceptron, clf__penalty=l1, clf__power_t=0.75;, score=0.917 total time=   2.4s\n",
            "[CV 2/3; 14/324] START clf__alpha=1e-05, clf__average=True, clf__l1_ratio=0.25, clf__loss=perceptron, clf__penalty=l1, clf__power_t=0.75\n",
            "[CV 2/3; 14/324] END clf__alpha=1e-05, clf__average=True, clf__l1_ratio=0.25, clf__loss=perceptron, clf__penalty=l1, clf__power_t=0.75;, score=0.910 total time=   2.4s\n",
            "[CV 3/3; 14/324] START clf__alpha=1e-05, clf__average=True, clf__l1_ratio=0.25, clf__loss=perceptron, clf__penalty=l1, clf__power_t=0.75\n",
            "[CV 3/3; 14/324] END clf__alpha=1e-05, clf__average=True, clf__l1_ratio=0.25, clf__loss=perceptron, clf__penalty=l1, clf__power_t=0.75;, score=0.930 total time=   2.4s\n",
            "[CV 1/3; 15/324] START clf__alpha=1e-05, clf__average=True, clf__l1_ratio=0.25, clf__loss=perceptron, clf__penalty=l1, clf__power_t=1\n",
            "[CV 1/3; 15/324] END clf__alpha=1e-05, clf__average=True, clf__l1_ratio=0.25, clf__loss=perceptron, clf__penalty=l1, clf__power_t=1;, score=0.918 total time=   2.4s\n",
            "[CV 2/3; 15/324] START clf__alpha=1e-05, clf__average=True, clf__l1_ratio=0.25, clf__loss=perceptron, clf__penalty=l1, clf__power_t=1\n",
            "[CV 2/3; 15/324] END clf__alpha=1e-05, clf__average=True, clf__l1_ratio=0.25, clf__loss=perceptron, clf__penalty=l1, clf__power_t=1;, score=0.912 total time=   2.4s\n",
            "[CV 3/3; 15/324] START clf__alpha=1e-05, clf__average=True, clf__l1_ratio=0.25, clf__loss=perceptron, clf__penalty=l1, clf__power_t=1\n",
            "[CV 3/3; 15/324] END clf__alpha=1e-05, clf__average=True, clf__l1_ratio=0.25, clf__loss=perceptron, clf__penalty=l1, clf__power_t=1;, score=0.923 total time=   2.4s\n",
            "[CV 1/3; 16/324] START clf__alpha=1e-05, clf__average=True, clf__l1_ratio=0.25, clf__loss=perceptron, clf__penalty=elasticnet, clf__power_t=0.25\n",
            "[CV 1/3; 16/324] END clf__alpha=1e-05, clf__average=True, clf__l1_ratio=0.25, clf__loss=perceptron, clf__penalty=elasticnet, clf__power_t=0.25;, score=0.862 total time=   2.5s\n",
            "[CV 2/3; 16/324] START clf__alpha=1e-05, clf__average=True, clf__l1_ratio=0.25, clf__loss=perceptron, clf__penalty=elasticnet, clf__power_t=0.25\n",
            "[CV 2/3; 16/324] END clf__alpha=1e-05, clf__average=True, clf__l1_ratio=0.25, clf__loss=perceptron, clf__penalty=elasticnet, clf__power_t=0.25;, score=0.869 total time=   2.4s\n",
            "[CV 3/3; 16/324] START clf__alpha=1e-05, clf__average=True, clf__l1_ratio=0.25, clf__loss=perceptron, clf__penalty=elasticnet, clf__power_t=0.25\n",
            "[CV 3/3; 16/324] END clf__alpha=1e-05, clf__average=True, clf__l1_ratio=0.25, clf__loss=perceptron, clf__penalty=elasticnet, clf__power_t=0.25;, score=0.869 total time=   2.4s\n",
            "[CV 1/3; 17/324] START clf__alpha=1e-05, clf__average=True, clf__l1_ratio=0.25, clf__loss=perceptron, clf__penalty=elasticnet, clf__power_t=0.75\n",
            "[CV 1/3; 17/324] END clf__alpha=1e-05, clf__average=True, clf__l1_ratio=0.25, clf__loss=perceptron, clf__penalty=elasticnet, clf__power_t=0.75;, score=0.861 total time=   2.5s\n",
            "[CV 2/3; 17/324] START clf__alpha=1e-05, clf__average=True, clf__l1_ratio=0.25, clf__loss=perceptron, clf__penalty=elasticnet, clf__power_t=0.75\n",
            "[CV 2/3; 17/324] END clf__alpha=1e-05, clf__average=True, clf__l1_ratio=0.25, clf__loss=perceptron, clf__penalty=elasticnet, clf__power_t=0.75;, score=0.870 total time=   2.4s\n",
            "[CV 3/3; 17/324] START clf__alpha=1e-05, clf__average=True, clf__l1_ratio=0.25, clf__loss=perceptron, clf__penalty=elasticnet, clf__power_t=0.75\n",
            "[CV 3/3; 17/324] END clf__alpha=1e-05, clf__average=True, clf__l1_ratio=0.25, clf__loss=perceptron, clf__penalty=elasticnet, clf__power_t=0.75;, score=0.856 total time=   2.5s\n",
            "[CV 1/3; 18/324] START clf__alpha=1e-05, clf__average=True, clf__l1_ratio=0.25, clf__loss=perceptron, clf__penalty=elasticnet, clf__power_t=1\n",
            "[CV 1/3; 18/324] END clf__alpha=1e-05, clf__average=True, clf__l1_ratio=0.25, clf__loss=perceptron, clf__penalty=elasticnet, clf__power_t=1;, score=0.869 total time=   2.4s\n",
            "[CV 2/3; 18/324] START clf__alpha=1e-05, clf__average=True, clf__l1_ratio=0.25, clf__loss=perceptron, clf__penalty=elasticnet, clf__power_t=1\n",
            "[CV 2/3; 18/324] END clf__alpha=1e-05, clf__average=True, clf__l1_ratio=0.25, clf__loss=perceptron, clf__penalty=elasticnet, clf__power_t=1;, score=0.868 total time=   2.4s\n",
            "[CV 3/3; 18/324] START clf__alpha=1e-05, clf__average=True, clf__l1_ratio=0.25, clf__loss=perceptron, clf__penalty=elasticnet, clf__power_t=1\n",
            "[CV 3/3; 18/324] END clf__alpha=1e-05, clf__average=True, clf__l1_ratio=0.25, clf__loss=perceptron, clf__penalty=elasticnet, clf__power_t=1;, score=0.852 total time=   2.4s\n",
            "[CV 1/3; 19/324] START clf__alpha=1e-05, clf__average=True, clf__l1_ratio=0.75, clf__loss=log, clf__penalty=l2, clf__power_t=0.25\n",
            "[CV 1/3; 19/324] END clf__alpha=1e-05, clf__average=True, clf__l1_ratio=0.75, clf__loss=log, clf__penalty=l2, clf__power_t=0.25;, score=0.963 total time=   2.1s\n",
            "[CV 2/3; 19/324] START clf__alpha=1e-05, clf__average=True, clf__l1_ratio=0.75, clf__loss=log, clf__penalty=l2, clf__power_t=0.25\n",
            "[CV 2/3; 19/324] END clf__alpha=1e-05, clf__average=True, clf__l1_ratio=0.75, clf__loss=log, clf__penalty=l2, clf__power_t=0.25;, score=0.968 total time=   2.1s\n",
            "[CV 3/3; 19/324] START clf__alpha=1e-05, clf__average=True, clf__l1_ratio=0.75, clf__loss=log, clf__penalty=l2, clf__power_t=0.25\n",
            "[CV 3/3; 19/324] END clf__alpha=1e-05, clf__average=True, clf__l1_ratio=0.75, clf__loss=log, clf__penalty=l2, clf__power_t=0.25;, score=0.983 total time=   2.1s\n",
            "[CV 1/3; 20/324] START clf__alpha=1e-05, clf__average=True, clf__l1_ratio=0.75, clf__loss=log, clf__penalty=l2, clf__power_t=0.75\n",
            "[CV 1/3; 20/324] END clf__alpha=1e-05, clf__average=True, clf__l1_ratio=0.75, clf__loss=log, clf__penalty=l2, clf__power_t=0.75;, score=0.963 total time=   2.1s\n",
            "[CV 2/3; 20/324] START clf__alpha=1e-05, clf__average=True, clf__l1_ratio=0.75, clf__loss=log, clf__penalty=l2, clf__power_t=0.75\n",
            "[CV 2/3; 20/324] END clf__alpha=1e-05, clf__average=True, clf__l1_ratio=0.75, clf__loss=log, clf__penalty=l2, clf__power_t=0.75;, score=0.967 total time=   2.1s\n",
            "[CV 3/3; 20/324] START clf__alpha=1e-05, clf__average=True, clf__l1_ratio=0.75, clf__loss=log, clf__penalty=l2, clf__power_t=0.75\n",
            "[CV 3/3; 20/324] END clf__alpha=1e-05, clf__average=True, clf__l1_ratio=0.75, clf__loss=log, clf__penalty=l2, clf__power_t=0.75;, score=0.982 total time=   2.1s\n",
            "[CV 1/3; 21/324] START clf__alpha=1e-05, clf__average=True, clf__l1_ratio=0.75, clf__loss=log, clf__penalty=l2, clf__power_t=1\n",
            "[CV 1/3; 21/324] END clf__alpha=1e-05, clf__average=True, clf__l1_ratio=0.75, clf__loss=log, clf__penalty=l2, clf__power_t=1;, score=0.964 total time=   2.1s\n",
            "[CV 2/3; 21/324] START clf__alpha=1e-05, clf__average=True, clf__l1_ratio=0.75, clf__loss=log, clf__penalty=l2, clf__power_t=1\n",
            "[CV 2/3; 21/324] END clf__alpha=1e-05, clf__average=True, clf__l1_ratio=0.75, clf__loss=log, clf__penalty=l2, clf__power_t=1;, score=0.968 total time=   2.2s\n",
            "[CV 3/3; 21/324] START clf__alpha=1e-05, clf__average=True, clf__l1_ratio=0.75, clf__loss=log, clf__penalty=l2, clf__power_t=1\n",
            "[CV 3/3; 21/324] END clf__alpha=1e-05, clf__average=True, clf__l1_ratio=0.75, clf__loss=log, clf__penalty=l2, clf__power_t=1;, score=0.983 total time=   2.2s\n",
            "[CV 1/3; 22/324] START clf__alpha=1e-05, clf__average=True, clf__l1_ratio=0.75, clf__loss=log, clf__penalty=l1, clf__power_t=0.25\n",
            "[CV 1/3; 22/324] END clf__alpha=1e-05, clf__average=True, clf__l1_ratio=0.75, clf__loss=log, clf__penalty=l1, clf__power_t=0.25;, score=0.944 total time=   2.4s\n",
            "[CV 2/3; 22/324] START clf__alpha=1e-05, clf__average=True, clf__l1_ratio=0.75, clf__loss=log, clf__penalty=l1, clf__power_t=0.25\n",
            "[CV 2/3; 22/324] END clf__alpha=1e-05, clf__average=True, clf__l1_ratio=0.75, clf__loss=log, clf__penalty=l1, clf__power_t=0.25;, score=0.945 total time=   2.4s\n",
            "[CV 3/3; 22/324] START clf__alpha=1e-05, clf__average=True, clf__l1_ratio=0.75, clf__loss=log, clf__penalty=l1, clf__power_t=0.25\n",
            "[CV 3/3; 22/324] END clf__alpha=1e-05, clf__average=True, clf__l1_ratio=0.75, clf__loss=log, clf__penalty=l1, clf__power_t=0.25;, score=0.961 total time=   2.5s\n",
            "[CV 1/3; 23/324] START clf__alpha=1e-05, clf__average=True, clf__l1_ratio=0.75, clf__loss=log, clf__penalty=l1, clf__power_t=0.75\n",
            "[CV 1/3; 23/324] END clf__alpha=1e-05, clf__average=True, clf__l1_ratio=0.75, clf__loss=log, clf__penalty=l1, clf__power_t=0.75;, score=0.946 total time=   2.5s\n",
            "[CV 2/3; 23/324] START clf__alpha=1e-05, clf__average=True, clf__l1_ratio=0.75, clf__loss=log, clf__penalty=l1, clf__power_t=0.75\n",
            "[CV 2/3; 23/324] END clf__alpha=1e-05, clf__average=True, clf__l1_ratio=0.75, clf__loss=log, clf__penalty=l1, clf__power_t=0.75;, score=0.946 total time=   2.4s\n",
            "[CV 3/3; 23/324] START clf__alpha=1e-05, clf__average=True, clf__l1_ratio=0.75, clf__loss=log, clf__penalty=l1, clf__power_t=0.75\n",
            "[CV 3/3; 23/324] END clf__alpha=1e-05, clf__average=True, clf__l1_ratio=0.75, clf__loss=log, clf__penalty=l1, clf__power_t=0.75;, score=0.963 total time=   2.5s\n",
            "[CV 1/3; 24/324] START clf__alpha=1e-05, clf__average=True, clf__l1_ratio=0.75, clf__loss=log, clf__penalty=l1, clf__power_t=1\n",
            "[CV 1/3; 24/324] END clf__alpha=1e-05, clf__average=True, clf__l1_ratio=0.75, clf__loss=log, clf__penalty=l1, clf__power_t=1;, score=0.946 total time=   2.5s\n",
            "[CV 2/3; 24/324] START clf__alpha=1e-05, clf__average=True, clf__l1_ratio=0.75, clf__loss=log, clf__penalty=l1, clf__power_t=1\n",
            "[CV 2/3; 24/324] END clf__alpha=1e-05, clf__average=True, clf__l1_ratio=0.75, clf__loss=log, clf__penalty=l1, clf__power_t=1;, score=0.947 total time=   2.4s\n",
            "[CV 3/3; 24/324] START clf__alpha=1e-05, clf__average=True, clf__l1_ratio=0.75, clf__loss=log, clf__penalty=l1, clf__power_t=1\n",
            "[CV 3/3; 24/324] END clf__alpha=1e-05, clf__average=True, clf__l1_ratio=0.75, clf__loss=log, clf__penalty=l1, clf__power_t=1;, score=0.960 total time=   2.4s\n",
            "[CV 1/3; 25/324] START clf__alpha=1e-05, clf__average=True, clf__l1_ratio=0.75, clf__loss=log, clf__penalty=elasticnet, clf__power_t=0.25\n",
            "[CV 1/3; 25/324] END clf__alpha=1e-05, clf__average=True, clf__l1_ratio=0.75, clf__loss=log, clf__penalty=elasticnet, clf__power_t=0.25;, score=0.941 total time=   2.5s\n",
            "[CV 2/3; 25/324] START clf__alpha=1e-05, clf__average=True, clf__l1_ratio=0.75, clf__loss=log, clf__penalty=elasticnet, clf__power_t=0.25\n",
            "[CV 2/3; 25/324] END clf__alpha=1e-05, clf__average=True, clf__l1_ratio=0.75, clf__loss=log, clf__penalty=elasticnet, clf__power_t=0.25;, score=0.940 total time=   2.4s\n",
            "[CV 3/3; 25/324] START clf__alpha=1e-05, clf__average=True, clf__l1_ratio=0.75, clf__loss=log, clf__penalty=elasticnet, clf__power_t=0.25\n",
            "[CV 3/3; 25/324] END clf__alpha=1e-05, clf__average=True, clf__l1_ratio=0.75, clf__loss=log, clf__penalty=elasticnet, clf__power_t=0.25;, score=0.956 total time=   2.5s\n",
            "[CV 1/3; 26/324] START clf__alpha=1e-05, clf__average=True, clf__l1_ratio=0.75, clf__loss=log, clf__penalty=elasticnet, clf__power_t=0.75\n",
            "[CV 1/3; 26/324] END clf__alpha=1e-05, clf__average=True, clf__l1_ratio=0.75, clf__loss=log, clf__penalty=elasticnet, clf__power_t=0.75;, score=0.939 total time=   2.5s\n",
            "[CV 2/3; 26/324] START clf__alpha=1e-05, clf__average=True, clf__l1_ratio=0.75, clf__loss=log, clf__penalty=elasticnet, clf__power_t=0.75\n",
            "[CV 2/3; 26/324] END clf__alpha=1e-05, clf__average=True, clf__l1_ratio=0.75, clf__loss=log, clf__penalty=elasticnet, clf__power_t=0.75;, score=0.942 total time=   2.4s\n",
            "[CV 3/3; 26/324] START clf__alpha=1e-05, clf__average=True, clf__l1_ratio=0.75, clf__loss=log, clf__penalty=elasticnet, clf__power_t=0.75\n",
            "[CV 3/3; 26/324] END clf__alpha=1e-05, clf__average=True, clf__l1_ratio=0.75, clf__loss=log, clf__penalty=elasticnet, clf__power_t=0.75;, score=0.956 total time=   2.5s\n",
            "[CV 1/3; 27/324] START clf__alpha=1e-05, clf__average=True, clf__l1_ratio=0.75, clf__loss=log, clf__penalty=elasticnet, clf__power_t=1\n",
            "[CV 1/3; 27/324] END clf__alpha=1e-05, clf__average=True, clf__l1_ratio=0.75, clf__loss=log, clf__penalty=elasticnet, clf__power_t=1;, score=0.940 total time=   2.4s\n",
            "[CV 2/3; 27/324] START clf__alpha=1e-05, clf__average=True, clf__l1_ratio=0.75, clf__loss=log, clf__penalty=elasticnet, clf__power_t=1\n",
            "[CV 2/3; 27/324] END clf__alpha=1e-05, clf__average=True, clf__l1_ratio=0.75, clf__loss=log, clf__penalty=elasticnet, clf__power_t=1;, score=0.942 total time=   2.4s\n",
            "[CV 3/3; 27/324] START clf__alpha=1e-05, clf__average=True, clf__l1_ratio=0.75, clf__loss=log, clf__penalty=elasticnet, clf__power_t=1\n",
            "[CV 3/3; 27/324] END clf__alpha=1e-05, clf__average=True, clf__l1_ratio=0.75, clf__loss=log, clf__penalty=elasticnet, clf__power_t=1;, score=0.958 total time=   2.5s\n",
            "[CV 1/3; 28/324] START clf__alpha=1e-05, clf__average=True, clf__l1_ratio=0.75, clf__loss=perceptron, clf__penalty=l2, clf__power_t=0.25\n",
            "[CV 1/3; 28/324] END clf__alpha=1e-05, clf__average=True, clf__l1_ratio=0.75, clf__loss=perceptron, clf__penalty=l2, clf__power_t=0.25;, score=0.970 total time=   1.9s\n",
            "[CV 2/3; 28/324] START clf__alpha=1e-05, clf__average=True, clf__l1_ratio=0.75, clf__loss=perceptron, clf__penalty=l2, clf__power_t=0.25\n",
            "[CV 2/3; 28/324] END clf__alpha=1e-05, clf__average=True, clf__l1_ratio=0.75, clf__loss=perceptron, clf__penalty=l2, clf__power_t=0.25;, score=0.974 total time=   2.0s\n",
            "[CV 3/3; 28/324] START clf__alpha=1e-05, clf__average=True, clf__l1_ratio=0.75, clf__loss=perceptron, clf__penalty=l2, clf__power_t=0.25\n",
            "[CV 3/3; 28/324] END clf__alpha=1e-05, clf__average=True, clf__l1_ratio=0.75, clf__loss=perceptron, clf__penalty=l2, clf__power_t=0.25;, score=0.989 total time=   1.9s\n",
            "[CV 1/3; 29/324] START clf__alpha=1e-05, clf__average=True, clf__l1_ratio=0.75, clf__loss=perceptron, clf__penalty=l2, clf__power_t=0.75\n",
            "[CV 1/3; 29/324] END clf__alpha=1e-05, clf__average=True, clf__l1_ratio=0.75, clf__loss=perceptron, clf__penalty=l2, clf__power_t=0.75;, score=0.970 total time=   1.9s\n",
            "[CV 2/3; 29/324] START clf__alpha=1e-05, clf__average=True, clf__l1_ratio=0.75, clf__loss=perceptron, clf__penalty=l2, clf__power_t=0.75\n",
            "[CV 2/3; 29/324] END clf__alpha=1e-05, clf__average=True, clf__l1_ratio=0.75, clf__loss=perceptron, clf__penalty=l2, clf__power_t=0.75;, score=0.972 total time=   1.9s\n",
            "[CV 3/3; 29/324] START clf__alpha=1e-05, clf__average=True, clf__l1_ratio=0.75, clf__loss=perceptron, clf__penalty=l2, clf__power_t=0.75\n",
            "[CV 3/3; 29/324] END clf__alpha=1e-05, clf__average=True, clf__l1_ratio=0.75, clf__loss=perceptron, clf__penalty=l2, clf__power_t=0.75;, score=0.991 total time=   1.9s\n",
            "[CV 1/3; 30/324] START clf__alpha=1e-05, clf__average=True, clf__l1_ratio=0.75, clf__loss=perceptron, clf__penalty=l2, clf__power_t=1\n",
            "[CV 1/3; 30/324] END clf__alpha=1e-05, clf__average=True, clf__l1_ratio=0.75, clf__loss=perceptron, clf__penalty=l2, clf__power_t=1;, score=0.971 total time=   1.9s\n",
            "[CV 2/3; 30/324] START clf__alpha=1e-05, clf__average=True, clf__l1_ratio=0.75, clf__loss=perceptron, clf__penalty=l2, clf__power_t=1\n",
            "[CV 2/3; 30/324] END clf__alpha=1e-05, clf__average=True, clf__l1_ratio=0.75, clf__loss=perceptron, clf__penalty=l2, clf__power_t=1;, score=0.973 total time=   2.0s\n",
            "[CV 3/3; 30/324] START clf__alpha=1e-05, clf__average=True, clf__l1_ratio=0.75, clf__loss=perceptron, clf__penalty=l2, clf__power_t=1\n",
            "[CV 3/3; 30/324] END clf__alpha=1e-05, clf__average=True, clf__l1_ratio=0.75, clf__loss=perceptron, clf__penalty=l2, clf__power_t=1;, score=0.989 total time=   2.0s\n",
            "[CV 1/3; 31/324] START clf__alpha=1e-05, clf__average=True, clf__l1_ratio=0.75, clf__loss=perceptron, clf__penalty=l1, clf__power_t=0.25\n",
            "[CV 1/3; 31/324] END clf__alpha=1e-05, clf__average=True, clf__l1_ratio=0.75, clf__loss=perceptron, clf__penalty=l1, clf__power_t=0.25;, score=0.910 total time=   2.5s\n",
            "[CV 2/3; 31/324] START clf__alpha=1e-05, clf__average=True, clf__l1_ratio=0.75, clf__loss=perceptron, clf__penalty=l1, clf__power_t=0.25\n",
            "[CV 2/3; 31/324] END clf__alpha=1e-05, clf__average=True, clf__l1_ratio=0.75, clf__loss=perceptron, clf__penalty=l1, clf__power_t=0.25;, score=0.912 total time=   2.4s\n",
            "[CV 3/3; 31/324] START clf__alpha=1e-05, clf__average=True, clf__l1_ratio=0.75, clf__loss=perceptron, clf__penalty=l1, clf__power_t=0.25\n",
            "[CV 3/3; 31/324] END clf__alpha=1e-05, clf__average=True, clf__l1_ratio=0.75, clf__loss=perceptron, clf__penalty=l1, clf__power_t=0.25;, score=0.931 total time=   2.5s\n",
            "[CV 1/3; 32/324] START clf__alpha=1e-05, clf__average=True, clf__l1_ratio=0.75, clf__loss=perceptron, clf__penalty=l1, clf__power_t=0.75\n",
            "[CV 1/3; 32/324] END clf__alpha=1e-05, clf__average=True, clf__l1_ratio=0.75, clf__loss=perceptron, clf__penalty=l1, clf__power_t=0.75;, score=0.915 total time=   2.4s\n",
            "[CV 2/3; 32/324] START clf__alpha=1e-05, clf__average=True, clf__l1_ratio=0.75, clf__loss=perceptron, clf__penalty=l1, clf__power_t=0.75\n",
            "[CV 2/3; 32/324] END clf__alpha=1e-05, clf__average=True, clf__l1_ratio=0.75, clf__loss=perceptron, clf__penalty=l1, clf__power_t=0.75;, score=0.920 total time=   2.4s\n",
            "[CV 3/3; 32/324] START clf__alpha=1e-05, clf__average=True, clf__l1_ratio=0.75, clf__loss=perceptron, clf__penalty=l1, clf__power_t=0.75\n",
            "[CV 3/3; 32/324] END clf__alpha=1e-05, clf__average=True, clf__l1_ratio=0.75, clf__loss=perceptron, clf__penalty=l1, clf__power_t=0.75;, score=0.929 total time=   2.5s\n",
            "[CV 1/3; 33/324] START clf__alpha=1e-05, clf__average=True, clf__l1_ratio=0.75, clf__loss=perceptron, clf__penalty=l1, clf__power_t=1\n",
            "[CV 1/3; 33/324] END clf__alpha=1e-05, clf__average=True, clf__l1_ratio=0.75, clf__loss=perceptron, clf__penalty=l1, clf__power_t=1;, score=0.921 total time=   2.5s\n",
            "[CV 2/3; 33/324] START clf__alpha=1e-05, clf__average=True, clf__l1_ratio=0.75, clf__loss=perceptron, clf__penalty=l1, clf__power_t=1\n",
            "[CV 2/3; 33/324] END clf__alpha=1e-05, clf__average=True, clf__l1_ratio=0.75, clf__loss=perceptron, clf__penalty=l1, clf__power_t=1;, score=0.915 total time=   2.4s\n",
            "[CV 3/3; 33/324] START clf__alpha=1e-05, clf__average=True, clf__l1_ratio=0.75, clf__loss=perceptron, clf__penalty=l1, clf__power_t=1\n",
            "[CV 3/3; 33/324] END clf__alpha=1e-05, clf__average=True, clf__l1_ratio=0.75, clf__loss=perceptron, clf__penalty=l1, clf__power_t=1;, score=0.930 total time=   2.4s\n",
            "[CV 1/3; 34/324] START clf__alpha=1e-05, clf__average=True, clf__l1_ratio=0.75, clf__loss=perceptron, clf__penalty=elasticnet, clf__power_t=0.25\n",
            "[CV 1/3; 34/324] END clf__alpha=1e-05, clf__average=True, clf__l1_ratio=0.75, clf__loss=perceptron, clf__penalty=elasticnet, clf__power_t=0.25;, score=0.857 total time=   2.4s\n",
            "[CV 2/3; 34/324] START clf__alpha=1e-05, clf__average=True, clf__l1_ratio=0.75, clf__loss=perceptron, clf__penalty=elasticnet, clf__power_t=0.25\n",
            "[CV 2/3; 34/324] END clf__alpha=1e-05, clf__average=True, clf__l1_ratio=0.75, clf__loss=perceptron, clf__penalty=elasticnet, clf__power_t=0.25;, score=0.867 total time=   2.4s\n",
            "[CV 3/3; 34/324] START clf__alpha=1e-05, clf__average=True, clf__l1_ratio=0.75, clf__loss=perceptron, clf__penalty=elasticnet, clf__power_t=0.25\n",
            "[CV 3/3; 34/324] END clf__alpha=1e-05, clf__average=True, clf__l1_ratio=0.75, clf__loss=perceptron, clf__penalty=elasticnet, clf__power_t=0.25;, score=0.871 total time=   2.4s\n",
            "[CV 1/3; 35/324] START clf__alpha=1e-05, clf__average=True, clf__l1_ratio=0.75, clf__loss=perceptron, clf__penalty=elasticnet, clf__power_t=0.75\n",
            "[CV 1/3; 35/324] END clf__alpha=1e-05, clf__average=True, clf__l1_ratio=0.75, clf__loss=perceptron, clf__penalty=elasticnet, clf__power_t=0.75;, score=0.869 total time=   2.5s\n",
            "[CV 2/3; 35/324] START clf__alpha=1e-05, clf__average=True, clf__l1_ratio=0.75, clf__loss=perceptron, clf__penalty=elasticnet, clf__power_t=0.75\n",
            "[CV 2/3; 35/324] END clf__alpha=1e-05, clf__average=True, clf__l1_ratio=0.75, clf__loss=perceptron, clf__penalty=elasticnet, clf__power_t=0.75;, score=0.849 total time=   2.4s\n",
            "[CV 3/3; 35/324] START clf__alpha=1e-05, clf__average=True, clf__l1_ratio=0.75, clf__loss=perceptron, clf__penalty=elasticnet, clf__power_t=0.75\n",
            "[CV 3/3; 35/324] END clf__alpha=1e-05, clf__average=True, clf__l1_ratio=0.75, clf__loss=perceptron, clf__penalty=elasticnet, clf__power_t=0.75;, score=0.862 total time=   2.4s\n",
            "[CV 1/3; 36/324] START clf__alpha=1e-05, clf__average=True, clf__l1_ratio=0.75, clf__loss=perceptron, clf__penalty=elasticnet, clf__power_t=1\n",
            "[CV 1/3; 36/324] END clf__alpha=1e-05, clf__average=True, clf__l1_ratio=0.75, clf__loss=perceptron, clf__penalty=elasticnet, clf__power_t=1;, score=0.864 total time=   2.5s\n",
            "[CV 2/3; 36/324] START clf__alpha=1e-05, clf__average=True, clf__l1_ratio=0.75, clf__loss=perceptron, clf__penalty=elasticnet, clf__power_t=1\n",
            "[CV 2/3; 36/324] END clf__alpha=1e-05, clf__average=True, clf__l1_ratio=0.75, clf__loss=perceptron, clf__penalty=elasticnet, clf__power_t=1;, score=0.869 total time=   2.3s\n",
            "[CV 3/3; 36/324] START clf__alpha=1e-05, clf__average=True, clf__l1_ratio=0.75, clf__loss=perceptron, clf__penalty=elasticnet, clf__power_t=1\n",
            "[CV 3/3; 36/324] END clf__alpha=1e-05, clf__average=True, clf__l1_ratio=0.75, clf__loss=perceptron, clf__penalty=elasticnet, clf__power_t=1;, score=0.869 total time=   2.4s\n",
            "[CV 1/3; 37/324] START clf__alpha=1e-05, clf__average=True, clf__l1_ratio=1, clf__loss=log, clf__penalty=l2, clf__power_t=0.25\n",
            "[CV 1/3; 37/324] END clf__alpha=1e-05, clf__average=True, clf__l1_ratio=1, clf__loss=log, clf__penalty=l2, clf__power_t=0.25;, score=0.964 total time=   2.2s\n",
            "[CV 2/3; 37/324] START clf__alpha=1e-05, clf__average=True, clf__l1_ratio=1, clf__loss=log, clf__penalty=l2, clf__power_t=0.25\n",
            "[CV 2/3; 37/324] END clf__alpha=1e-05, clf__average=True, clf__l1_ratio=1, clf__loss=log, clf__penalty=l2, clf__power_t=0.25;, score=0.967 total time=   2.1s\n",
            "[CV 3/3; 37/324] START clf__alpha=1e-05, clf__average=True, clf__l1_ratio=1, clf__loss=log, clf__penalty=l2, clf__power_t=0.25\n",
            "[CV 3/3; 37/324] END clf__alpha=1e-05, clf__average=True, clf__l1_ratio=1, clf__loss=log, clf__penalty=l2, clf__power_t=0.25;, score=0.983 total time=   2.2s\n",
            "[CV 1/3; 38/324] START clf__alpha=1e-05, clf__average=True, clf__l1_ratio=1, clf__loss=log, clf__penalty=l2, clf__power_t=0.75\n",
            "[CV 1/3; 38/324] END clf__alpha=1e-05, clf__average=True, clf__l1_ratio=1, clf__loss=log, clf__penalty=l2, clf__power_t=0.75;, score=0.964 total time=   2.1s\n",
            "[CV 2/3; 38/324] START clf__alpha=1e-05, clf__average=True, clf__l1_ratio=1, clf__loss=log, clf__penalty=l2, clf__power_t=0.75\n",
            "[CV 2/3; 38/324] END clf__alpha=1e-05, clf__average=True, clf__l1_ratio=1, clf__loss=log, clf__penalty=l2, clf__power_t=0.75;, score=0.968 total time=   2.0s\n",
            "[CV 3/3; 38/324] START clf__alpha=1e-05, clf__average=True, clf__l1_ratio=1, clf__loss=log, clf__penalty=l2, clf__power_t=0.75\n",
            "[CV 3/3; 38/324] END clf__alpha=1e-05, clf__average=True, clf__l1_ratio=1, clf__loss=log, clf__penalty=l2, clf__power_t=0.75;, score=0.982 total time=   2.0s\n",
            "[CV 1/3; 39/324] START clf__alpha=1e-05, clf__average=True, clf__l1_ratio=1, clf__loss=log, clf__penalty=l2, clf__power_t=1\n",
            "[CV 1/3; 39/324] END clf__alpha=1e-05, clf__average=True, clf__l1_ratio=1, clf__loss=log, clf__penalty=l2, clf__power_t=1;, score=0.964 total time=   2.2s\n",
            "[CV 2/3; 39/324] START clf__alpha=1e-05, clf__average=True, clf__l1_ratio=1, clf__loss=log, clf__penalty=l2, clf__power_t=1\n",
            "[CV 2/3; 39/324] END clf__alpha=1e-05, clf__average=True, clf__l1_ratio=1, clf__loss=log, clf__penalty=l2, clf__power_t=1;, score=0.968 total time=   2.2s\n",
            "[CV 3/3; 39/324] START clf__alpha=1e-05, clf__average=True, clf__l1_ratio=1, clf__loss=log, clf__penalty=l2, clf__power_t=1\n",
            "[CV 3/3; 39/324] END clf__alpha=1e-05, clf__average=True, clf__l1_ratio=1, clf__loss=log, clf__penalty=l2, clf__power_t=1;, score=0.982 total time=   2.2s\n",
            "[CV 1/3; 40/324] START clf__alpha=1e-05, clf__average=True, clf__l1_ratio=1, clf__loss=log, clf__penalty=l1, clf__power_t=0.25\n",
            "[CV 1/3; 40/324] END clf__alpha=1e-05, clf__average=True, clf__l1_ratio=1, clf__loss=log, clf__penalty=l1, clf__power_t=0.25;, score=0.945 total time=   2.6s\n",
            "[CV 2/3; 40/324] START clf__alpha=1e-05, clf__average=True, clf__l1_ratio=1, clf__loss=log, clf__penalty=l1, clf__power_t=0.25\n",
            "[CV 2/3; 40/324] END clf__alpha=1e-05, clf__average=True, clf__l1_ratio=1, clf__loss=log, clf__penalty=l1, clf__power_t=0.25;, score=0.949 total time=   2.5s\n",
            "[CV 3/3; 40/324] START clf__alpha=1e-05, clf__average=True, clf__l1_ratio=1, clf__loss=log, clf__penalty=l1, clf__power_t=0.25\n",
            "[CV 3/3; 40/324] END clf__alpha=1e-05, clf__average=True, clf__l1_ratio=1, clf__loss=log, clf__penalty=l1, clf__power_t=0.25;, score=0.961 total time=   2.6s\n",
            "[CV 1/3; 41/324] START clf__alpha=1e-05, clf__average=True, clf__l1_ratio=1, clf__loss=log, clf__penalty=l1, clf__power_t=0.75\n",
            "[CV 1/3; 41/324] END clf__alpha=1e-05, clf__average=True, clf__l1_ratio=1, clf__loss=log, clf__penalty=l1, clf__power_t=0.75;, score=0.941 total time=   2.6s\n",
            "[CV 2/3; 41/324] START clf__alpha=1e-05, clf__average=True, clf__l1_ratio=1, clf__loss=log, clf__penalty=l1, clf__power_t=0.75\n",
            "[CV 2/3; 41/324] END clf__alpha=1e-05, clf__average=True, clf__l1_ratio=1, clf__loss=log, clf__penalty=l1, clf__power_t=0.75;, score=0.945 total time=   2.5s\n",
            "[CV 3/3; 41/324] START clf__alpha=1e-05, clf__average=True, clf__l1_ratio=1, clf__loss=log, clf__penalty=l1, clf__power_t=0.75\n",
            "[CV 3/3; 41/324] END clf__alpha=1e-05, clf__average=True, clf__l1_ratio=1, clf__loss=log, clf__penalty=l1, clf__power_t=0.75;, score=0.961 total time=   2.5s\n",
            "[CV 1/3; 42/324] START clf__alpha=1e-05, clf__average=True, clf__l1_ratio=1, clf__loss=log, clf__penalty=l1, clf__power_t=1\n",
            "[CV 1/3; 42/324] END clf__alpha=1e-05, clf__average=True, clf__l1_ratio=1, clf__loss=log, clf__penalty=l1, clf__power_t=1;, score=0.943 total time=   2.6s\n",
            "[CV 2/3; 42/324] START clf__alpha=1e-05, clf__average=True, clf__l1_ratio=1, clf__loss=log, clf__penalty=l1, clf__power_t=1\n",
            "[CV 2/3; 42/324] END clf__alpha=1e-05, clf__average=True, clf__l1_ratio=1, clf__loss=log, clf__penalty=l1, clf__power_t=1;, score=0.945 total time=   2.5s\n",
            "[CV 3/3; 42/324] START clf__alpha=1e-05, clf__average=True, clf__l1_ratio=1, clf__loss=log, clf__penalty=l1, clf__power_t=1\n",
            "[CV 3/3; 42/324] END clf__alpha=1e-05, clf__average=True, clf__l1_ratio=1, clf__loss=log, clf__penalty=l1, clf__power_t=1;, score=0.961 total time=   2.6s\n",
            "[CV 1/3; 43/324] START clf__alpha=1e-05, clf__average=True, clf__l1_ratio=1, clf__loss=log, clf__penalty=elasticnet, clf__power_t=0.25\n",
            "[CV 1/3; 43/324] END clf__alpha=1e-05, clf__average=True, clf__l1_ratio=1, clf__loss=log, clf__penalty=elasticnet, clf__power_t=0.25;, score=0.943 total time=   2.5s\n",
            "[CV 2/3; 43/324] START clf__alpha=1e-05, clf__average=True, clf__l1_ratio=1, clf__loss=log, clf__penalty=elasticnet, clf__power_t=0.25\n",
            "[CV 2/3; 43/324] END clf__alpha=1e-05, clf__average=True, clf__l1_ratio=1, clf__loss=log, clf__penalty=elasticnet, clf__power_t=0.25;, score=0.947 total time=   2.5s\n",
            "[CV 3/3; 43/324] START clf__alpha=1e-05, clf__average=True, clf__l1_ratio=1, clf__loss=log, clf__penalty=elasticnet, clf__power_t=0.25\n",
            "[CV 3/3; 43/324] END clf__alpha=1e-05, clf__average=True, clf__l1_ratio=1, clf__loss=log, clf__penalty=elasticnet, clf__power_t=0.25;, score=0.963 total time=   2.6s\n",
            "[CV 1/3; 44/324] START clf__alpha=1e-05, clf__average=True, clf__l1_ratio=1, clf__loss=log, clf__penalty=elasticnet, clf__power_t=0.75\n",
            "[CV 1/3; 44/324] END clf__alpha=1e-05, clf__average=True, clf__l1_ratio=1, clf__loss=log, clf__penalty=elasticnet, clf__power_t=0.75;, score=0.944 total time=   2.6s\n",
            "[CV 2/3; 44/324] START clf__alpha=1e-05, clf__average=True, clf__l1_ratio=1, clf__loss=log, clf__penalty=elasticnet, clf__power_t=0.75\n",
            "[CV 2/3; 44/324] END clf__alpha=1e-05, clf__average=True, clf__l1_ratio=1, clf__loss=log, clf__penalty=elasticnet, clf__power_t=0.75;, score=0.943 total time=   2.5s\n",
            "[CV 3/3; 44/324] START clf__alpha=1e-05, clf__average=True, clf__l1_ratio=1, clf__loss=log, clf__penalty=elasticnet, clf__power_t=0.75\n",
            "[CV 3/3; 44/324] END clf__alpha=1e-05, clf__average=True, clf__l1_ratio=1, clf__loss=log, clf__penalty=elasticnet, clf__power_t=0.75;, score=0.961 total time=   2.5s\n",
            "[CV 1/3; 45/324] START clf__alpha=1e-05, clf__average=True, clf__l1_ratio=1, clf__loss=log, clf__penalty=elasticnet, clf__power_t=1\n",
            "[CV 1/3; 45/324] END clf__alpha=1e-05, clf__average=True, clf__l1_ratio=1, clf__loss=log, clf__penalty=elasticnet, clf__power_t=1;, score=0.946 total time=   2.5s\n",
            "[CV 2/3; 45/324] START clf__alpha=1e-05, clf__average=True, clf__l1_ratio=1, clf__loss=log, clf__penalty=elasticnet, clf__power_t=1\n",
            "[CV 2/3; 45/324] END clf__alpha=1e-05, clf__average=True, clf__l1_ratio=1, clf__loss=log, clf__penalty=elasticnet, clf__power_t=1;, score=0.948 total time=   2.6s\n",
            "[CV 3/3; 45/324] START clf__alpha=1e-05, clf__average=True, clf__l1_ratio=1, clf__loss=log, clf__penalty=elasticnet, clf__power_t=1\n",
            "[CV 3/3; 45/324] END clf__alpha=1e-05, clf__average=True, clf__l1_ratio=1, clf__loss=log, clf__penalty=elasticnet, clf__power_t=1;, score=0.961 total time=   2.5s\n",
            "[CV 1/3; 46/324] START clf__alpha=1e-05, clf__average=True, clf__l1_ratio=1, clf__loss=perceptron, clf__penalty=l2, clf__power_t=0.25\n",
            "[CV 1/3; 46/324] END clf__alpha=1e-05, clf__average=True, clf__l1_ratio=1, clf__loss=perceptron, clf__penalty=l2, clf__power_t=0.25;, score=0.970 total time=   1.9s\n",
            "[CV 2/3; 46/324] START clf__alpha=1e-05, clf__average=True, clf__l1_ratio=1, clf__loss=perceptron, clf__penalty=l2, clf__power_t=0.25\n",
            "[CV 2/3; 46/324] END clf__alpha=1e-05, clf__average=True, clf__l1_ratio=1, clf__loss=perceptron, clf__penalty=l2, clf__power_t=0.25;, score=0.973 total time=   1.8s\n",
            "[CV 3/3; 46/324] START clf__alpha=1e-05, clf__average=True, clf__l1_ratio=1, clf__loss=perceptron, clf__penalty=l2, clf__power_t=0.25\n",
            "[CV 3/3; 46/324] END clf__alpha=1e-05, clf__average=True, clf__l1_ratio=1, clf__loss=perceptron, clf__penalty=l2, clf__power_t=0.25;, score=0.989 total time=   1.8s\n",
            "[CV 1/3; 47/324] START clf__alpha=1e-05, clf__average=True, clf__l1_ratio=1, clf__loss=perceptron, clf__penalty=l2, clf__power_t=0.75\n",
            "[CV 1/3; 47/324] END clf__alpha=1e-05, clf__average=True, clf__l1_ratio=1, clf__loss=perceptron, clf__penalty=l2, clf__power_t=0.75;, score=0.971 total time=   1.9s\n",
            "[CV 2/3; 47/324] START clf__alpha=1e-05, clf__average=True, clf__l1_ratio=1, clf__loss=perceptron, clf__penalty=l2, clf__power_t=0.75\n",
            "[CV 2/3; 47/324] END clf__alpha=1e-05, clf__average=True, clf__l1_ratio=1, clf__loss=perceptron, clf__penalty=l2, clf__power_t=0.75;, score=0.972 total time=   1.8s\n",
            "[CV 3/3; 47/324] START clf__alpha=1e-05, clf__average=True, clf__l1_ratio=1, clf__loss=perceptron, clf__penalty=l2, clf__power_t=0.75\n",
            "[CV 3/3; 47/324] END clf__alpha=1e-05, clf__average=True, clf__l1_ratio=1, clf__loss=perceptron, clf__penalty=l2, clf__power_t=0.75;, score=0.989 total time=   1.8s\n",
            "[CV 1/3; 48/324] START clf__alpha=1e-05, clf__average=True, clf__l1_ratio=1, clf__loss=perceptron, clf__penalty=l2, clf__power_t=1\n",
            "[CV 1/3; 48/324] END clf__alpha=1e-05, clf__average=True, clf__l1_ratio=1, clf__loss=perceptron, clf__penalty=l2, clf__power_t=1;, score=0.970 total time=   2.0s\n",
            "[CV 2/3; 48/324] START clf__alpha=1e-05, clf__average=True, clf__l1_ratio=1, clf__loss=perceptron, clf__penalty=l2, clf__power_t=1\n",
            "[CV 2/3; 48/324] END clf__alpha=1e-05, clf__average=True, clf__l1_ratio=1, clf__loss=perceptron, clf__penalty=l2, clf__power_t=1;, score=0.972 total time=   1.9s\n",
            "[CV 3/3; 48/324] START clf__alpha=1e-05, clf__average=True, clf__l1_ratio=1, clf__loss=perceptron, clf__penalty=l2, clf__power_t=1\n",
            "[CV 3/3; 48/324] END clf__alpha=1e-05, clf__average=True, clf__l1_ratio=1, clf__loss=perceptron, clf__penalty=l2, clf__power_t=1;, score=0.989 total time=   1.9s\n",
            "[CV 1/3; 49/324] START clf__alpha=1e-05, clf__average=True, clf__l1_ratio=1, clf__loss=perceptron, clf__penalty=l1, clf__power_t=0.25\n",
            "[CV 1/3; 49/324] END clf__alpha=1e-05, clf__average=True, clf__l1_ratio=1, clf__loss=perceptron, clf__penalty=l1, clf__power_t=0.25;, score=0.913 total time=   2.5s\n",
            "[CV 2/3; 49/324] START clf__alpha=1e-05, clf__average=True, clf__l1_ratio=1, clf__loss=perceptron, clf__penalty=l1, clf__power_t=0.25\n",
            "[CV 2/3; 49/324] END clf__alpha=1e-05, clf__average=True, clf__l1_ratio=1, clf__loss=perceptron, clf__penalty=l1, clf__power_t=0.25;, score=0.917 total time=   2.3s\n",
            "[CV 3/3; 49/324] START clf__alpha=1e-05, clf__average=True, clf__l1_ratio=1, clf__loss=perceptron, clf__penalty=l1, clf__power_t=0.25\n",
            "[CV 3/3; 49/324] END clf__alpha=1e-05, clf__average=True, clf__l1_ratio=1, clf__loss=perceptron, clf__penalty=l1, clf__power_t=0.25;, score=0.924 total time=   2.5s\n",
            "[CV 1/3; 50/324] START clf__alpha=1e-05, clf__average=True, clf__l1_ratio=1, clf__loss=perceptron, clf__penalty=l1, clf__power_t=0.75\n",
            "[CV 1/3; 50/324] END clf__alpha=1e-05, clf__average=True, clf__l1_ratio=1, clf__loss=perceptron, clf__penalty=l1, clf__power_t=0.75;, score=0.907 total time=   2.5s\n",
            "[CV 2/3; 50/324] START clf__alpha=1e-05, clf__average=True, clf__l1_ratio=1, clf__loss=perceptron, clf__penalty=l1, clf__power_t=0.75\n",
            "[CV 2/3; 50/324] END clf__alpha=1e-05, clf__average=True, clf__l1_ratio=1, clf__loss=perceptron, clf__penalty=l1, clf__power_t=0.75;, score=0.917 total time=   2.4s\n",
            "[CV 3/3; 50/324] START clf__alpha=1e-05, clf__average=True, clf__l1_ratio=1, clf__loss=perceptron, clf__penalty=l1, clf__power_t=0.75\n",
            "[CV 3/3; 50/324] END clf__alpha=1e-05, clf__average=True, clf__l1_ratio=1, clf__loss=perceptron, clf__penalty=l1, clf__power_t=0.75;, score=0.929 total time=   2.4s\n",
            "[CV 1/3; 51/324] START clf__alpha=1e-05, clf__average=True, clf__l1_ratio=1, clf__loss=perceptron, clf__penalty=l1, clf__power_t=1\n",
            "[CV 1/3; 51/324] END clf__alpha=1e-05, clf__average=True, clf__l1_ratio=1, clf__loss=perceptron, clf__penalty=l1, clf__power_t=1;, score=0.912 total time=   2.4s\n",
            "[CV 2/3; 51/324] START clf__alpha=1e-05, clf__average=True, clf__l1_ratio=1, clf__loss=perceptron, clf__penalty=l1, clf__power_t=1\n",
            "[CV 2/3; 51/324] END clf__alpha=1e-05, clf__average=True, clf__l1_ratio=1, clf__loss=perceptron, clf__penalty=l1, clf__power_t=1;, score=0.920 total time=   2.4s\n",
            "[CV 3/3; 51/324] START clf__alpha=1e-05, clf__average=True, clf__l1_ratio=1, clf__loss=perceptron, clf__penalty=l1, clf__power_t=1\n",
            "[CV 3/3; 51/324] END clf__alpha=1e-05, clf__average=True, clf__l1_ratio=1, clf__loss=perceptron, clf__penalty=l1, clf__power_t=1;, score=0.932 total time=   2.4s\n",
            "[CV 1/3; 52/324] START clf__alpha=1e-05, clf__average=True, clf__l1_ratio=1, clf__loss=perceptron, clf__penalty=elasticnet, clf__power_t=0.25\n",
            "[CV 1/3; 52/324] END clf__alpha=1e-05, clf__average=True, clf__l1_ratio=1, clf__loss=perceptron, clf__penalty=elasticnet, clf__power_t=0.25;, score=0.913 total time=   2.5s\n",
            "[CV 2/3; 52/324] START clf__alpha=1e-05, clf__average=True, clf__l1_ratio=1, clf__loss=perceptron, clf__penalty=elasticnet, clf__power_t=0.25\n",
            "[CV 2/3; 52/324] END clf__alpha=1e-05, clf__average=True, clf__l1_ratio=1, clf__loss=perceptron, clf__penalty=elasticnet, clf__power_t=0.25;, score=0.921 total time=   2.4s\n",
            "[CV 3/3; 52/324] START clf__alpha=1e-05, clf__average=True, clf__l1_ratio=1, clf__loss=perceptron, clf__penalty=elasticnet, clf__power_t=0.25\n",
            "[CV 3/3; 52/324] END clf__alpha=1e-05, clf__average=True, clf__l1_ratio=1, clf__loss=perceptron, clf__penalty=elasticnet, clf__power_t=0.25;, score=0.929 total time=   2.5s\n",
            "[CV 1/3; 53/324] START clf__alpha=1e-05, clf__average=True, clf__l1_ratio=1, clf__loss=perceptron, clf__penalty=elasticnet, clf__power_t=0.75\n",
            "[CV 1/3; 53/324] END clf__alpha=1e-05, clf__average=True, clf__l1_ratio=1, clf__loss=perceptron, clf__penalty=elasticnet, clf__power_t=0.75;, score=0.911 total time=   2.5s\n",
            "[CV 2/3; 53/324] START clf__alpha=1e-05, clf__average=True, clf__l1_ratio=1, clf__loss=perceptron, clf__penalty=elasticnet, clf__power_t=0.75\n",
            "[CV 2/3; 53/324] END clf__alpha=1e-05, clf__average=True, clf__l1_ratio=1, clf__loss=perceptron, clf__penalty=elasticnet, clf__power_t=0.75;, score=0.915 total time=   2.4s\n",
            "[CV 3/3; 53/324] START clf__alpha=1e-05, clf__average=True, clf__l1_ratio=1, clf__loss=perceptron, clf__penalty=elasticnet, clf__power_t=0.75\n",
            "[CV 3/3; 53/324] END clf__alpha=1e-05, clf__average=True, clf__l1_ratio=1, clf__loss=perceptron, clf__penalty=elasticnet, clf__power_t=0.75;, score=0.927 total time=   2.4s\n",
            "[CV 1/3; 54/324] START clf__alpha=1e-05, clf__average=True, clf__l1_ratio=1, clf__loss=perceptron, clf__penalty=elasticnet, clf__power_t=1\n",
            "[CV 1/3; 54/324] END clf__alpha=1e-05, clf__average=True, clf__l1_ratio=1, clf__loss=perceptron, clf__penalty=elasticnet, clf__power_t=1;, score=0.923 total time=   2.5s\n",
            "[CV 2/3; 54/324] START clf__alpha=1e-05, clf__average=True, clf__l1_ratio=1, clf__loss=perceptron, clf__penalty=elasticnet, clf__power_t=1\n",
            "[CV 2/3; 54/324] END clf__alpha=1e-05, clf__average=True, clf__l1_ratio=1, clf__loss=perceptron, clf__penalty=elasticnet, clf__power_t=1;, score=0.918 total time=   2.4s\n",
            "[CV 3/3; 54/324] START clf__alpha=1e-05, clf__average=True, clf__l1_ratio=1, clf__loss=perceptron, clf__penalty=elasticnet, clf__power_t=1\n",
            "[CV 3/3; 54/324] END clf__alpha=1e-05, clf__average=True, clf__l1_ratio=1, clf__loss=perceptron, clf__penalty=elasticnet, clf__power_t=1;, score=0.918 total time=   2.5s\n",
            "[CV 1/3; 55/324] START clf__alpha=1e-05, clf__average=False, clf__l1_ratio=0.25, clf__loss=log, clf__penalty=l2, clf__power_t=0.25\n",
            "[CV 1/3; 55/324] END clf__alpha=1e-05, clf__average=False, clf__l1_ratio=0.25, clf__loss=log, clf__penalty=l2, clf__power_t=0.25;, score=0.963 total time=   2.1s\n",
            "[CV 2/3; 55/324] START clf__alpha=1e-05, clf__average=False, clf__l1_ratio=0.25, clf__loss=log, clf__penalty=l2, clf__power_t=0.25\n",
            "[CV 2/3; 55/324] END clf__alpha=1e-05, clf__average=False, clf__l1_ratio=0.25, clf__loss=log, clf__penalty=l2, clf__power_t=0.25;, score=0.968 total time=   2.0s\n",
            "[CV 3/3; 55/324] START clf__alpha=1e-05, clf__average=False, clf__l1_ratio=0.25, clf__loss=log, clf__penalty=l2, clf__power_t=0.25\n",
            "[CV 3/3; 55/324] END clf__alpha=1e-05, clf__average=False, clf__l1_ratio=0.25, clf__loss=log, clf__penalty=l2, clf__power_t=0.25;, score=0.982 total time=   2.1s\n",
            "[CV 1/3; 56/324] START clf__alpha=1e-05, clf__average=False, clf__l1_ratio=0.25, clf__loss=log, clf__penalty=l2, clf__power_t=0.75\n",
            "[CV 1/3; 56/324] END clf__alpha=1e-05, clf__average=False, clf__l1_ratio=0.25, clf__loss=log, clf__penalty=l2, clf__power_t=0.75;, score=0.965 total time=   2.0s\n",
            "[CV 2/3; 56/324] START clf__alpha=1e-05, clf__average=False, clf__l1_ratio=0.25, clf__loss=log, clf__penalty=l2, clf__power_t=0.75\n",
            "[CV 2/3; 56/324] END clf__alpha=1e-05, clf__average=False, clf__l1_ratio=0.25, clf__loss=log, clf__penalty=l2, clf__power_t=0.75;, score=0.968 total time=   2.0s\n",
            "[CV 3/3; 56/324] START clf__alpha=1e-05, clf__average=False, clf__l1_ratio=0.25, clf__loss=log, clf__penalty=l2, clf__power_t=0.75\n",
            "[CV 3/3; 56/324] END clf__alpha=1e-05, clf__average=False, clf__l1_ratio=0.25, clf__loss=log, clf__penalty=l2, clf__power_t=0.75;, score=0.982 total time=   2.0s\n",
            "[CV 1/3; 57/324] START clf__alpha=1e-05, clf__average=False, clf__l1_ratio=0.25, clf__loss=log, clf__penalty=l2, clf__power_t=1\n",
            "[CV 1/3; 57/324] END clf__alpha=1e-05, clf__average=False, clf__l1_ratio=0.25, clf__loss=log, clf__penalty=l2, clf__power_t=1;, score=0.964 total time=   2.1s\n",
            "[CV 2/3; 57/324] START clf__alpha=1e-05, clf__average=False, clf__l1_ratio=0.25, clf__loss=log, clf__penalty=l2, clf__power_t=1\n",
            "[CV 2/3; 57/324] END clf__alpha=1e-05, clf__average=False, clf__l1_ratio=0.25, clf__loss=log, clf__penalty=l2, clf__power_t=1;, score=0.969 total time=   2.0s\n",
            "[CV 3/3; 57/324] START clf__alpha=1e-05, clf__average=False, clf__l1_ratio=0.25, clf__loss=log, clf__penalty=l2, clf__power_t=1\n",
            "[CV 3/3; 57/324] END clf__alpha=1e-05, clf__average=False, clf__l1_ratio=0.25, clf__loss=log, clf__penalty=l2, clf__power_t=1;, score=0.983 total time=   2.0s\n",
            "[CV 1/3; 58/324] START clf__alpha=1e-05, clf__average=False, clf__l1_ratio=0.25, clf__loss=log, clf__penalty=l1, clf__power_t=0.25\n",
            "[CV 1/3; 58/324] END clf__alpha=1e-05, clf__average=False, clf__l1_ratio=0.25, clf__loss=log, clf__penalty=l1, clf__power_t=0.25;, score=0.966 total time=   2.3s\n",
            "[CV 2/3; 58/324] START clf__alpha=1e-05, clf__average=False, clf__l1_ratio=0.25, clf__loss=log, clf__penalty=l1, clf__power_t=0.25\n",
            "[CV 2/3; 58/324] END clf__alpha=1e-05, clf__average=False, clf__l1_ratio=0.25, clf__loss=log, clf__penalty=l1, clf__power_t=0.25;, score=0.968 total time=   2.4s\n",
            "[CV 3/3; 58/324] START clf__alpha=1e-05, clf__average=False, clf__l1_ratio=0.25, clf__loss=log, clf__penalty=l1, clf__power_t=0.25\n",
            "[CV 3/3; 58/324] END clf__alpha=1e-05, clf__average=False, clf__l1_ratio=0.25, clf__loss=log, clf__penalty=l1, clf__power_t=0.25;, score=0.987 total time=   2.4s\n",
            "[CV 1/3; 59/324] START clf__alpha=1e-05, clf__average=False, clf__l1_ratio=0.25, clf__loss=log, clf__penalty=l1, clf__power_t=0.75\n",
            "[CV 1/3; 59/324] END clf__alpha=1e-05, clf__average=False, clf__l1_ratio=0.25, clf__loss=log, clf__penalty=l1, clf__power_t=0.75;, score=0.966 total time=   2.4s\n",
            "[CV 2/3; 59/324] START clf__alpha=1e-05, clf__average=False, clf__l1_ratio=0.25, clf__loss=log, clf__penalty=l1, clf__power_t=0.75\n",
            "[CV 2/3; 59/324] END clf__alpha=1e-05, clf__average=False, clf__l1_ratio=0.25, clf__loss=log, clf__penalty=l1, clf__power_t=0.75;, score=0.969 total time=   2.4s\n",
            "[CV 3/3; 59/324] START clf__alpha=1e-05, clf__average=False, clf__l1_ratio=0.25, clf__loss=log, clf__penalty=l1, clf__power_t=0.75\n",
            "[CV 3/3; 59/324] END clf__alpha=1e-05, clf__average=False, clf__l1_ratio=0.25, clf__loss=log, clf__penalty=l1, clf__power_t=0.75;, score=0.985 total time=   2.5s\n",
            "[CV 1/3; 60/324] START clf__alpha=1e-05, clf__average=False, clf__l1_ratio=0.25, clf__loss=log, clf__penalty=l1, clf__power_t=1\n",
            "[CV 1/3; 60/324] END clf__alpha=1e-05, clf__average=False, clf__l1_ratio=0.25, clf__loss=log, clf__penalty=l1, clf__power_t=1;, score=0.967 total time=   2.4s\n",
            "[CV 2/3; 60/324] START clf__alpha=1e-05, clf__average=False, clf__l1_ratio=0.25, clf__loss=log, clf__penalty=l1, clf__power_t=1\n",
            "[CV 2/3; 60/324] END clf__alpha=1e-05, clf__average=False, clf__l1_ratio=0.25, clf__loss=log, clf__penalty=l1, clf__power_t=1;, score=0.968 total time=   2.4s\n",
            "[CV 3/3; 60/324] START clf__alpha=1e-05, clf__average=False, clf__l1_ratio=0.25, clf__loss=log, clf__penalty=l1, clf__power_t=1\n",
            "[CV 3/3; 60/324] END clf__alpha=1e-05, clf__average=False, clf__l1_ratio=0.25, clf__loss=log, clf__penalty=l1, clf__power_t=1;, score=0.985 total time=   2.4s\n",
            "[CV 1/3; 61/324] START clf__alpha=1e-05, clf__average=False, clf__l1_ratio=0.25, clf__loss=log, clf__penalty=elasticnet, clf__power_t=0.25\n",
            "[CV 1/3; 61/324] END clf__alpha=1e-05, clf__average=False, clf__l1_ratio=0.25, clf__loss=log, clf__penalty=elasticnet, clf__power_t=0.25;, score=0.964 total time=   2.4s\n",
            "[CV 2/3; 61/324] START clf__alpha=1e-05, clf__average=False, clf__l1_ratio=0.25, clf__loss=log, clf__penalty=elasticnet, clf__power_t=0.25\n",
            "[CV 2/3; 61/324] END clf__alpha=1e-05, clf__average=False, clf__l1_ratio=0.25, clf__loss=log, clf__penalty=elasticnet, clf__power_t=0.25;, score=0.967 total time=   2.4s\n",
            "[CV 3/3; 61/324] START clf__alpha=1e-05, clf__average=False, clf__l1_ratio=0.25, clf__loss=log, clf__penalty=elasticnet, clf__power_t=0.25\n",
            "[CV 3/3; 61/324] END clf__alpha=1e-05, clf__average=False, clf__l1_ratio=0.25, clf__loss=log, clf__penalty=elasticnet, clf__power_t=0.25;, score=0.984 total time=   2.5s\n",
            "[CV 1/3; 62/324] START clf__alpha=1e-05, clf__average=False, clf__l1_ratio=0.25, clf__loss=log, clf__penalty=elasticnet, clf__power_t=0.75\n",
            "[CV 1/3; 62/324] END clf__alpha=1e-05, clf__average=False, clf__l1_ratio=0.25, clf__loss=log, clf__penalty=elasticnet, clf__power_t=0.75;, score=0.965 total time=   2.4s\n",
            "[CV 2/3; 62/324] START clf__alpha=1e-05, clf__average=False, clf__l1_ratio=0.25, clf__loss=log, clf__penalty=elasticnet, clf__power_t=0.75\n",
            "[CV 2/3; 62/324] END clf__alpha=1e-05, clf__average=False, clf__l1_ratio=0.25, clf__loss=log, clf__penalty=elasticnet, clf__power_t=0.75;, score=0.968 total time=   2.4s\n",
            "[CV 3/3; 62/324] START clf__alpha=1e-05, clf__average=False, clf__l1_ratio=0.25, clf__loss=log, clf__penalty=elasticnet, clf__power_t=0.75\n",
            "[CV 3/3; 62/324] END clf__alpha=1e-05, clf__average=False, clf__l1_ratio=0.25, clf__loss=log, clf__penalty=elasticnet, clf__power_t=0.75;, score=0.983 total time=   2.4s\n",
            "[CV 1/3; 63/324] START clf__alpha=1e-05, clf__average=False, clf__l1_ratio=0.25, clf__loss=log, clf__penalty=elasticnet, clf__power_t=1\n",
            "[CV 1/3; 63/324] END clf__alpha=1e-05, clf__average=False, clf__l1_ratio=0.25, clf__loss=log, clf__penalty=elasticnet, clf__power_t=1;, score=0.965 total time=   2.5s\n",
            "[CV 2/3; 63/324] START clf__alpha=1e-05, clf__average=False, clf__l1_ratio=0.25, clf__loss=log, clf__penalty=elasticnet, clf__power_t=1\n",
            "[CV 2/3; 63/324] END clf__alpha=1e-05, clf__average=False, clf__l1_ratio=0.25, clf__loss=log, clf__penalty=elasticnet, clf__power_t=1;, score=0.968 total time=   2.4s\n",
            "[CV 3/3; 63/324] START clf__alpha=1e-05, clf__average=False, clf__l1_ratio=0.25, clf__loss=log, clf__penalty=elasticnet, clf__power_t=1\n",
            "[CV 3/3; 63/324] END clf__alpha=1e-05, clf__average=False, clf__l1_ratio=0.25, clf__loss=log, clf__penalty=elasticnet, clf__power_t=1;, score=0.983 total time=   2.5s\n",
            "[CV 1/3; 64/324] START clf__alpha=1e-05, clf__average=False, clf__l1_ratio=0.25, clf__loss=perceptron, clf__penalty=l2, clf__power_t=0.25\n",
            "[CV 1/3; 64/324] END clf__alpha=1e-05, clf__average=False, clf__l1_ratio=0.25, clf__loss=perceptron, clf__penalty=l2, clf__power_t=0.25;, score=0.972 total time=   1.8s\n",
            "[CV 2/3; 64/324] START clf__alpha=1e-05, clf__average=False, clf__l1_ratio=0.25, clf__loss=perceptron, clf__penalty=l2, clf__power_t=0.25\n",
            "[CV 2/3; 64/324] END clf__alpha=1e-05, clf__average=False, clf__l1_ratio=0.25, clf__loss=perceptron, clf__penalty=l2, clf__power_t=0.25;, score=0.973 total time=   1.7s\n",
            "[CV 3/3; 64/324] START clf__alpha=1e-05, clf__average=False, clf__l1_ratio=0.25, clf__loss=perceptron, clf__penalty=l2, clf__power_t=0.25\n",
            "[CV 3/3; 64/324] END clf__alpha=1e-05, clf__average=False, clf__l1_ratio=0.25, clf__loss=perceptron, clf__penalty=l2, clf__power_t=0.25;, score=0.992 total time=   1.7s\n",
            "[CV 1/3; 65/324] START clf__alpha=1e-05, clf__average=False, clf__l1_ratio=0.25, clf__loss=perceptron, clf__penalty=l2, clf__power_t=0.75\n",
            "[CV 1/3; 65/324] END clf__alpha=1e-05, clf__average=False, clf__l1_ratio=0.25, clf__loss=perceptron, clf__penalty=l2, clf__power_t=0.75;, score=0.970 total time=   1.8s\n",
            "[CV 2/3; 65/324] START clf__alpha=1e-05, clf__average=False, clf__l1_ratio=0.25, clf__loss=perceptron, clf__penalty=l2, clf__power_t=0.75\n",
            "[CV 2/3; 65/324] END clf__alpha=1e-05, clf__average=False, clf__l1_ratio=0.25, clf__loss=perceptron, clf__penalty=l2, clf__power_t=0.75;, score=0.975 total time=   1.8s\n",
            "[CV 3/3; 65/324] START clf__alpha=1e-05, clf__average=False, clf__l1_ratio=0.25, clf__loss=perceptron, clf__penalty=l2, clf__power_t=0.75\n",
            "[CV 3/3; 65/324] END clf__alpha=1e-05, clf__average=False, clf__l1_ratio=0.25, clf__loss=perceptron, clf__penalty=l2, clf__power_t=0.75;, score=0.991 total time=   1.8s\n",
            "[CV 1/3; 66/324] START clf__alpha=1e-05, clf__average=False, clf__l1_ratio=0.25, clf__loss=perceptron, clf__penalty=l2, clf__power_t=1\n",
            "[CV 1/3; 66/324] END clf__alpha=1e-05, clf__average=False, clf__l1_ratio=0.25, clf__loss=perceptron, clf__penalty=l2, clf__power_t=1;, score=0.970 total time=   1.7s\n",
            "[CV 2/3; 66/324] START clf__alpha=1e-05, clf__average=False, clf__l1_ratio=0.25, clf__loss=perceptron, clf__penalty=l2, clf__power_t=1\n",
            "[CV 2/3; 66/324] END clf__alpha=1e-05, clf__average=False, clf__l1_ratio=0.25, clf__loss=perceptron, clf__penalty=l2, clf__power_t=1;, score=0.975 total time=   1.8s\n",
            "[CV 3/3; 66/324] START clf__alpha=1e-05, clf__average=False, clf__l1_ratio=0.25, clf__loss=perceptron, clf__penalty=l2, clf__power_t=1\n",
            "[CV 3/3; 66/324] END clf__alpha=1e-05, clf__average=False, clf__l1_ratio=0.25, clf__loss=perceptron, clf__penalty=l2, clf__power_t=1;, score=0.992 total time=   1.8s\n",
            "[CV 1/3; 67/324] START clf__alpha=1e-05, clf__average=False, clf__l1_ratio=0.25, clf__loss=perceptron, clf__penalty=l1, clf__power_t=0.25\n",
            "[CV 1/3; 67/324] END clf__alpha=1e-05, clf__average=False, clf__l1_ratio=0.25, clf__loss=perceptron, clf__penalty=l1, clf__power_t=0.25;, score=0.967 total time=   2.3s\n",
            "[CV 2/3; 67/324] START clf__alpha=1e-05, clf__average=False, clf__l1_ratio=0.25, clf__loss=perceptron, clf__penalty=l1, clf__power_t=0.25\n",
            "[CV 2/3; 67/324] END clf__alpha=1e-05, clf__average=False, clf__l1_ratio=0.25, clf__loss=perceptron, clf__penalty=l1, clf__power_t=0.25;, score=0.970 total time=   2.3s\n",
            "[CV 3/3; 67/324] START clf__alpha=1e-05, clf__average=False, clf__l1_ratio=0.25, clf__loss=perceptron, clf__penalty=l1, clf__power_t=0.25\n",
            "[CV 3/3; 67/324] END clf__alpha=1e-05, clf__average=False, clf__l1_ratio=0.25, clf__loss=perceptron, clf__penalty=l1, clf__power_t=0.25;, score=0.989 total time=   2.3s\n",
            "[CV 1/3; 68/324] START clf__alpha=1e-05, clf__average=False, clf__l1_ratio=0.25, clf__loss=perceptron, clf__penalty=l1, clf__power_t=0.75\n",
            "[CV 1/3; 68/324] END clf__alpha=1e-05, clf__average=False, clf__l1_ratio=0.25, clf__loss=perceptron, clf__penalty=l1, clf__power_t=0.75;, score=0.970 total time=   2.3s\n",
            "[CV 2/3; 68/324] START clf__alpha=1e-05, clf__average=False, clf__l1_ratio=0.25, clf__loss=perceptron, clf__penalty=l1, clf__power_t=0.75\n",
            "[CV 2/3; 68/324] END clf__alpha=1e-05, clf__average=False, clf__l1_ratio=0.25, clf__loss=perceptron, clf__penalty=l1, clf__power_t=0.75;, score=0.970 total time=   2.3s\n",
            "[CV 3/3; 68/324] START clf__alpha=1e-05, clf__average=False, clf__l1_ratio=0.25, clf__loss=perceptron, clf__penalty=l1, clf__power_t=0.75\n",
            "[CV 3/3; 68/324] END clf__alpha=1e-05, clf__average=False, clf__l1_ratio=0.25, clf__loss=perceptron, clf__penalty=l1, clf__power_t=0.75;, score=0.989 total time=   2.4s\n",
            "[CV 1/3; 69/324] START clf__alpha=1e-05, clf__average=False, clf__l1_ratio=0.25, clf__loss=perceptron, clf__penalty=l1, clf__power_t=1\n",
            "[CV 1/3; 69/324] END clf__alpha=1e-05, clf__average=False, clf__l1_ratio=0.25, clf__loss=perceptron, clf__penalty=l1, clf__power_t=1;, score=0.966 total time=   2.3s\n",
            "[CV 2/3; 69/324] START clf__alpha=1e-05, clf__average=False, clf__l1_ratio=0.25, clf__loss=perceptron, clf__penalty=l1, clf__power_t=1\n",
            "[CV 2/3; 69/324] END clf__alpha=1e-05, clf__average=False, clf__l1_ratio=0.25, clf__loss=perceptron, clf__penalty=l1, clf__power_t=1;, score=0.971 total time=   2.4s\n",
            "[CV 3/3; 69/324] START clf__alpha=1e-05, clf__average=False, clf__l1_ratio=0.25, clf__loss=perceptron, clf__penalty=l1, clf__power_t=1\n",
            "[CV 3/3; 69/324] END clf__alpha=1e-05, clf__average=False, clf__l1_ratio=0.25, clf__loss=perceptron, clf__penalty=l1, clf__power_t=1;, score=0.989 total time=   2.3s\n",
            "[CV 1/3; 70/324] START clf__alpha=1e-05, clf__average=False, clf__l1_ratio=0.25, clf__loss=perceptron, clf__penalty=elasticnet, clf__power_t=0.25\n",
            "[CV 1/3; 70/324] END clf__alpha=1e-05, clf__average=False, clf__l1_ratio=0.25, clf__loss=perceptron, clf__penalty=elasticnet, clf__power_t=0.25;, score=0.969 total time=   2.3s\n",
            "[CV 2/3; 70/324] START clf__alpha=1e-05, clf__average=False, clf__l1_ratio=0.25, clf__loss=perceptron, clf__penalty=elasticnet, clf__power_t=0.25\n",
            "[CV 2/3; 70/324] END clf__alpha=1e-05, clf__average=False, clf__l1_ratio=0.25, clf__loss=perceptron, clf__penalty=elasticnet, clf__power_t=0.25;, score=0.974 total time=   2.3s\n",
            "[CV 3/3; 70/324] START clf__alpha=1e-05, clf__average=False, clf__l1_ratio=0.25, clf__loss=perceptron, clf__penalty=elasticnet, clf__power_t=0.25\n",
            "[CV 3/3; 70/324] END clf__alpha=1e-05, clf__average=False, clf__l1_ratio=0.25, clf__loss=perceptron, clf__penalty=elasticnet, clf__power_t=0.25;, score=0.993 total time=   2.4s\n",
            "[CV 1/3; 71/324] START clf__alpha=1e-05, clf__average=False, clf__l1_ratio=0.25, clf__loss=perceptron, clf__penalty=elasticnet, clf__power_t=0.75\n",
            "[CV 1/3; 71/324] END clf__alpha=1e-05, clf__average=False, clf__l1_ratio=0.25, clf__loss=perceptron, clf__penalty=elasticnet, clf__power_t=0.75;, score=0.969 total time=   2.4s\n",
            "[CV 2/3; 71/324] START clf__alpha=1e-05, clf__average=False, clf__l1_ratio=0.25, clf__loss=perceptron, clf__penalty=elasticnet, clf__power_t=0.75\n",
            "[CV 2/3; 71/324] END clf__alpha=1e-05, clf__average=False, clf__l1_ratio=0.25, clf__loss=perceptron, clf__penalty=elasticnet, clf__power_t=0.75;, score=0.973 total time=   2.4s\n",
            "[CV 3/3; 71/324] START clf__alpha=1e-05, clf__average=False, clf__l1_ratio=0.25, clf__loss=perceptron, clf__penalty=elasticnet, clf__power_t=0.75\n",
            "[CV 3/3; 71/324] END clf__alpha=1e-05, clf__average=False, clf__l1_ratio=0.25, clf__loss=perceptron, clf__penalty=elasticnet, clf__power_t=0.75;, score=0.991 total time=   2.3s\n",
            "[CV 1/3; 72/324] START clf__alpha=1e-05, clf__average=False, clf__l1_ratio=0.25, clf__loss=perceptron, clf__penalty=elasticnet, clf__power_t=1\n",
            "[CV 1/3; 72/324] END clf__alpha=1e-05, clf__average=False, clf__l1_ratio=0.25, clf__loss=perceptron, clf__penalty=elasticnet, clf__power_t=1;, score=0.970 total time=   2.3s\n",
            "[CV 2/3; 72/324] START clf__alpha=1e-05, clf__average=False, clf__l1_ratio=0.25, clf__loss=perceptron, clf__penalty=elasticnet, clf__power_t=1\n",
            "[CV 2/3; 72/324] END clf__alpha=1e-05, clf__average=False, clf__l1_ratio=0.25, clf__loss=perceptron, clf__penalty=elasticnet, clf__power_t=1;, score=0.975 total time=   2.3s\n",
            "[CV 3/3; 72/324] START clf__alpha=1e-05, clf__average=False, clf__l1_ratio=0.25, clf__loss=perceptron, clf__penalty=elasticnet, clf__power_t=1\n",
            "[CV 3/3; 72/324] END clf__alpha=1e-05, clf__average=False, clf__l1_ratio=0.25, clf__loss=perceptron, clf__penalty=elasticnet, clf__power_t=1;, score=0.992 total time=   2.3s\n",
            "[CV 1/3; 73/324] START clf__alpha=1e-05, clf__average=False, clf__l1_ratio=0.75, clf__loss=log, clf__penalty=l2, clf__power_t=0.25\n",
            "[CV 1/3; 73/324] END clf__alpha=1e-05, clf__average=False, clf__l1_ratio=0.75, clf__loss=log, clf__penalty=l2, clf__power_t=0.25;, score=0.964 total time=   2.0s\n",
            "[CV 2/3; 73/324] START clf__alpha=1e-05, clf__average=False, clf__l1_ratio=0.75, clf__loss=log, clf__penalty=l2, clf__power_t=0.25\n",
            "[CV 2/3; 73/324] END clf__alpha=1e-05, clf__average=False, clf__l1_ratio=0.75, clf__loss=log, clf__penalty=l2, clf__power_t=0.25;, score=0.968 total time=   2.0s\n",
            "[CV 3/3; 73/324] START clf__alpha=1e-05, clf__average=False, clf__l1_ratio=0.75, clf__loss=log, clf__penalty=l2, clf__power_t=0.25\n",
            "[CV 3/3; 73/324] END clf__alpha=1e-05, clf__average=False, clf__l1_ratio=0.75, clf__loss=log, clf__penalty=l2, clf__power_t=0.25;, score=0.983 total time=   2.1s\n",
            "[CV 1/3; 74/324] START clf__alpha=1e-05, clf__average=False, clf__l1_ratio=0.75, clf__loss=log, clf__penalty=l2, clf__power_t=0.75\n",
            "[CV 1/3; 74/324] END clf__alpha=1e-05, clf__average=False, clf__l1_ratio=0.75, clf__loss=log, clf__penalty=l2, clf__power_t=0.75;, score=0.964 total time=   2.0s\n",
            "[CV 2/3; 74/324] START clf__alpha=1e-05, clf__average=False, clf__l1_ratio=0.75, clf__loss=log, clf__penalty=l2, clf__power_t=0.75\n",
            "[CV 2/3; 74/324] END clf__alpha=1e-05, clf__average=False, clf__l1_ratio=0.75, clf__loss=log, clf__penalty=l2, clf__power_t=0.75;, score=0.968 total time=   2.0s\n",
            "[CV 3/3; 74/324] START clf__alpha=1e-05, clf__average=False, clf__l1_ratio=0.75, clf__loss=log, clf__penalty=l2, clf__power_t=0.75\n",
            "[CV 3/3; 74/324] END clf__alpha=1e-05, clf__average=False, clf__l1_ratio=0.75, clf__loss=log, clf__penalty=l2, clf__power_t=0.75;, score=0.983 total time=   2.0s\n",
            "[CV 1/3; 75/324] START clf__alpha=1e-05, clf__average=False, clf__l1_ratio=0.75, clf__loss=log, clf__penalty=l2, clf__power_t=1\n",
            "[CV 1/3; 75/324] END clf__alpha=1e-05, clf__average=False, clf__l1_ratio=0.75, clf__loss=log, clf__penalty=l2, clf__power_t=1;, score=0.964 total time=   2.0s\n",
            "[CV 2/3; 75/324] START clf__alpha=1e-05, clf__average=False, clf__l1_ratio=0.75, clf__loss=log, clf__penalty=l2, clf__power_t=1\n",
            "[CV 2/3; 75/324] END clf__alpha=1e-05, clf__average=False, clf__l1_ratio=0.75, clf__loss=log, clf__penalty=l2, clf__power_t=1;, score=0.969 total time=   2.0s\n",
            "[CV 3/3; 75/324] START clf__alpha=1e-05, clf__average=False, clf__l1_ratio=0.75, clf__loss=log, clf__penalty=l2, clf__power_t=1\n",
            "[CV 3/3; 75/324] END clf__alpha=1e-05, clf__average=False, clf__l1_ratio=0.75, clf__loss=log, clf__penalty=l2, clf__power_t=1;, score=0.983 total time=   2.1s\n",
            "[CV 1/3; 76/324] START clf__alpha=1e-05, clf__average=False, clf__l1_ratio=0.75, clf__loss=log, clf__penalty=l1, clf__power_t=0.25\n",
            "[CV 1/3; 76/324] END clf__alpha=1e-05, clf__average=False, clf__l1_ratio=0.75, clf__loss=log, clf__penalty=l1, clf__power_t=0.25;, score=0.965 total time=   2.4s\n",
            "[CV 2/3; 76/324] START clf__alpha=1e-05, clf__average=False, clf__l1_ratio=0.75, clf__loss=log, clf__penalty=l1, clf__power_t=0.25\n",
            "[CV 2/3; 76/324] END clf__alpha=1e-05, clf__average=False, clf__l1_ratio=0.75, clf__loss=log, clf__penalty=l1, clf__power_t=0.25;, score=0.969 total time=   2.4s\n",
            "[CV 3/3; 76/324] START clf__alpha=1e-05, clf__average=False, clf__l1_ratio=0.75, clf__loss=log, clf__penalty=l1, clf__power_t=0.25\n",
            "[CV 3/3; 76/324] END clf__alpha=1e-05, clf__average=False, clf__l1_ratio=0.75, clf__loss=log, clf__penalty=l1, clf__power_t=0.25;, score=0.986 total time=   2.4s\n",
            "[CV 1/3; 77/324] START clf__alpha=1e-05, clf__average=False, clf__l1_ratio=0.75, clf__loss=log, clf__penalty=l1, clf__power_t=0.75\n",
            "[CV 1/3; 77/324] END clf__alpha=1e-05, clf__average=False, clf__l1_ratio=0.75, clf__loss=log, clf__penalty=l1, clf__power_t=0.75;, score=0.967 total time=   2.4s\n",
            "[CV 2/3; 77/324] START clf__alpha=1e-05, clf__average=False, clf__l1_ratio=0.75, clf__loss=log, clf__penalty=l1, clf__power_t=0.75\n",
            "[CV 2/3; 77/324] END clf__alpha=1e-05, clf__average=False, clf__l1_ratio=0.75, clf__loss=log, clf__penalty=l1, clf__power_t=0.75;, score=0.969 total time=   2.4s\n",
            "[CV 3/3; 77/324] START clf__alpha=1e-05, clf__average=False, clf__l1_ratio=0.75, clf__loss=log, clf__penalty=l1, clf__power_t=0.75\n",
            "[CV 3/3; 77/324] END clf__alpha=1e-05, clf__average=False, clf__l1_ratio=0.75, clf__loss=log, clf__penalty=l1, clf__power_t=0.75;, score=0.986 total time=   2.4s\n",
            "[CV 1/3; 78/324] START clf__alpha=1e-05, clf__average=False, clf__l1_ratio=0.75, clf__loss=log, clf__penalty=l1, clf__power_t=1\n",
            "[CV 1/3; 78/324] END clf__alpha=1e-05, clf__average=False, clf__l1_ratio=0.75, clf__loss=log, clf__penalty=l1, clf__power_t=1;, score=0.965 total time=   2.4s\n",
            "[CV 2/3; 78/324] START clf__alpha=1e-05, clf__average=False, clf__l1_ratio=0.75, clf__loss=log, clf__penalty=l1, clf__power_t=1\n",
            "[CV 2/3; 78/324] END clf__alpha=1e-05, clf__average=False, clf__l1_ratio=0.75, clf__loss=log, clf__penalty=l1, clf__power_t=1;, score=0.967 total time=   2.4s\n",
            "[CV 3/3; 78/324] START clf__alpha=1e-05, clf__average=False, clf__l1_ratio=0.75, clf__loss=log, clf__penalty=l1, clf__power_t=1\n",
            "[CV 3/3; 78/324] END clf__alpha=1e-05, clf__average=False, clf__l1_ratio=0.75, clf__loss=log, clf__penalty=l1, clf__power_t=1;, score=0.986 total time=   2.4s\n",
            "[CV 1/3; 79/324] START clf__alpha=1e-05, clf__average=False, clf__l1_ratio=0.75, clf__loss=log, clf__penalty=elasticnet, clf__power_t=0.25\n",
            "[CV 1/3; 79/324] END clf__alpha=1e-05, clf__average=False, clf__l1_ratio=0.75, clf__loss=log, clf__penalty=elasticnet, clf__power_t=0.25;, score=0.965 total time=   2.4s\n",
            "[CV 2/3; 79/324] START clf__alpha=1e-05, clf__average=False, clf__l1_ratio=0.75, clf__loss=log, clf__penalty=elasticnet, clf__power_t=0.25\n",
            "[CV 2/3; 79/324] END clf__alpha=1e-05, clf__average=False, clf__l1_ratio=0.75, clf__loss=log, clf__penalty=elasticnet, clf__power_t=0.25;, score=0.967 total time=   2.4s\n",
            "[CV 3/3; 79/324] START clf__alpha=1e-05, clf__average=False, clf__l1_ratio=0.75, clf__loss=log, clf__penalty=elasticnet, clf__power_t=0.25\n",
            "[CV 3/3; 79/324] END clf__alpha=1e-05, clf__average=False, clf__l1_ratio=0.75, clf__loss=log, clf__penalty=elasticnet, clf__power_t=0.25;, score=0.984 total time=   2.4s\n",
            "[CV 1/3; 80/324] START clf__alpha=1e-05, clf__average=False, clf__l1_ratio=0.75, clf__loss=log, clf__penalty=elasticnet, clf__power_t=0.75\n",
            "[CV 1/3; 80/324] END clf__alpha=1e-05, clf__average=False, clf__l1_ratio=0.75, clf__loss=log, clf__penalty=elasticnet, clf__power_t=0.75;, score=0.965 total time=   2.4s\n",
            "[CV 2/3; 80/324] START clf__alpha=1e-05, clf__average=False, clf__l1_ratio=0.75, clf__loss=log, clf__penalty=elasticnet, clf__power_t=0.75\n",
            "[CV 2/3; 80/324] END clf__alpha=1e-05, clf__average=False, clf__l1_ratio=0.75, clf__loss=log, clf__penalty=elasticnet, clf__power_t=0.75;, score=0.968 total time=   2.4s\n",
            "[CV 3/3; 80/324] START clf__alpha=1e-05, clf__average=False, clf__l1_ratio=0.75, clf__loss=log, clf__penalty=elasticnet, clf__power_t=0.75\n",
            "[CV 3/3; 80/324] END clf__alpha=1e-05, clf__average=False, clf__l1_ratio=0.75, clf__loss=log, clf__penalty=elasticnet, clf__power_t=0.75;, score=0.984 total time=   2.3s\n",
            "[CV 1/3; 81/324] START clf__alpha=1e-05, clf__average=False, clf__l1_ratio=0.75, clf__loss=log, clf__penalty=elasticnet, clf__power_t=1\n",
            "[CV 1/3; 81/324] END clf__alpha=1e-05, clf__average=False, clf__l1_ratio=0.75, clf__loss=log, clf__penalty=elasticnet, clf__power_t=1;, score=0.965 total time=   2.4s\n",
            "[CV 2/3; 81/324] START clf__alpha=1e-05, clf__average=False, clf__l1_ratio=0.75, clf__loss=log, clf__penalty=elasticnet, clf__power_t=1\n",
            "[CV 2/3; 81/324] END clf__alpha=1e-05, clf__average=False, clf__l1_ratio=0.75, clf__loss=log, clf__penalty=elasticnet, clf__power_t=1;, score=0.967 total time=   2.4s\n",
            "[CV 3/3; 81/324] START clf__alpha=1e-05, clf__average=False, clf__l1_ratio=0.75, clf__loss=log, clf__penalty=elasticnet, clf__power_t=1\n",
            "[CV 3/3; 81/324] END clf__alpha=1e-05, clf__average=False, clf__l1_ratio=0.75, clf__loss=log, clf__penalty=elasticnet, clf__power_t=1;, score=0.985 total time=   2.4s\n",
            "[CV 1/3; 82/324] START clf__alpha=1e-05, clf__average=False, clf__l1_ratio=0.75, clf__loss=perceptron, clf__penalty=l2, clf__power_t=0.25\n",
            "[CV 1/3; 82/324] END clf__alpha=1e-05, clf__average=False, clf__l1_ratio=0.75, clf__loss=perceptron, clf__penalty=l2, clf__power_t=0.25;, score=0.972 total time=   1.8s\n",
            "[CV 2/3; 82/324] START clf__alpha=1e-05, clf__average=False, clf__l1_ratio=0.75, clf__loss=perceptron, clf__penalty=l2, clf__power_t=0.25\n",
            "[CV 2/3; 82/324] END clf__alpha=1e-05, clf__average=False, clf__l1_ratio=0.75, clf__loss=perceptron, clf__penalty=l2, clf__power_t=0.25;, score=0.974 total time=   1.8s\n",
            "[CV 3/3; 82/324] START clf__alpha=1e-05, clf__average=False, clf__l1_ratio=0.75, clf__loss=perceptron, clf__penalty=l2, clf__power_t=0.25\n",
            "[CV 3/3; 82/324] END clf__alpha=1e-05, clf__average=False, clf__l1_ratio=0.75, clf__loss=perceptron, clf__penalty=l2, clf__power_t=0.25;, score=0.992 total time=   1.7s\n",
            "[CV 1/3; 83/324] START clf__alpha=1e-05, clf__average=False, clf__l1_ratio=0.75, clf__loss=perceptron, clf__penalty=l2, clf__power_t=0.75\n",
            "[CV 1/3; 83/324] END clf__alpha=1e-05, clf__average=False, clf__l1_ratio=0.75, clf__loss=perceptron, clf__penalty=l2, clf__power_t=0.75;, score=0.972 total time=   1.7s\n",
            "[CV 2/3; 83/324] START clf__alpha=1e-05, clf__average=False, clf__l1_ratio=0.75, clf__loss=perceptron, clf__penalty=l2, clf__power_t=0.75\n",
            "[CV 2/3; 83/324] END clf__alpha=1e-05, clf__average=False, clf__l1_ratio=0.75, clf__loss=perceptron, clf__penalty=l2, clf__power_t=0.75;, score=0.974 total time=   1.7s\n",
            "[CV 3/3; 83/324] START clf__alpha=1e-05, clf__average=False, clf__l1_ratio=0.75, clf__loss=perceptron, clf__penalty=l2, clf__power_t=0.75\n",
            "[CV 3/3; 83/324] END clf__alpha=1e-05, clf__average=False, clf__l1_ratio=0.75, clf__loss=perceptron, clf__penalty=l2, clf__power_t=0.75;, score=0.993 total time=   1.7s\n",
            "[CV 1/3; 84/324] START clf__alpha=1e-05, clf__average=False, clf__l1_ratio=0.75, clf__loss=perceptron, clf__penalty=l2, clf__power_t=1\n",
            "[CV 1/3; 84/324] END clf__alpha=1e-05, clf__average=False, clf__l1_ratio=0.75, clf__loss=perceptron, clf__penalty=l2, clf__power_t=1;, score=0.972 total time=   1.7s\n",
            "[CV 2/3; 84/324] START clf__alpha=1e-05, clf__average=False, clf__l1_ratio=0.75, clf__loss=perceptron, clf__penalty=l2, clf__power_t=1\n",
            "[CV 2/3; 84/324] END clf__alpha=1e-05, clf__average=False, clf__l1_ratio=0.75, clf__loss=perceptron, clf__penalty=l2, clf__power_t=1;, score=0.974 total time=   1.7s\n",
            "[CV 3/3; 84/324] START clf__alpha=1e-05, clf__average=False, clf__l1_ratio=0.75, clf__loss=perceptron, clf__penalty=l2, clf__power_t=1\n",
            "[CV 3/3; 84/324] END clf__alpha=1e-05, clf__average=False, clf__l1_ratio=0.75, clf__loss=perceptron, clf__penalty=l2, clf__power_t=1;, score=0.992 total time=   1.7s\n",
            "[CV 1/3; 85/324] START clf__alpha=1e-05, clf__average=False, clf__l1_ratio=0.75, clf__loss=perceptron, clf__penalty=l1, clf__power_t=0.25\n",
            "[CV 1/3; 85/324] END clf__alpha=1e-05, clf__average=False, clf__l1_ratio=0.75, clf__loss=perceptron, clf__penalty=l1, clf__power_t=0.25;, score=0.967 total time=   2.3s\n",
            "[CV 2/3; 85/324] START clf__alpha=1e-05, clf__average=False, clf__l1_ratio=0.75, clf__loss=perceptron, clf__penalty=l1, clf__power_t=0.25\n",
            "[CV 2/3; 85/324] END clf__alpha=1e-05, clf__average=False, clf__l1_ratio=0.75, clf__loss=perceptron, clf__penalty=l1, clf__power_t=0.25;, score=0.969 total time=   2.4s\n",
            "[CV 3/3; 85/324] START clf__alpha=1e-05, clf__average=False, clf__l1_ratio=0.75, clf__loss=perceptron, clf__penalty=l1, clf__power_t=0.25\n",
            "[CV 3/3; 85/324] END clf__alpha=1e-05, clf__average=False, clf__l1_ratio=0.75, clf__loss=perceptron, clf__penalty=l1, clf__power_t=0.25;, score=0.990 total time=   2.3s\n",
            "[CV 1/3; 86/324] START clf__alpha=1e-05, clf__average=False, clf__l1_ratio=0.75, clf__loss=perceptron, clf__penalty=l1, clf__power_t=0.75\n",
            "[CV 1/3; 86/324] END clf__alpha=1e-05, clf__average=False, clf__l1_ratio=0.75, clf__loss=perceptron, clf__penalty=l1, clf__power_t=0.75;, score=0.966 total time=   2.3s\n",
            "[CV 2/3; 86/324] START clf__alpha=1e-05, clf__average=False, clf__l1_ratio=0.75, clf__loss=perceptron, clf__penalty=l1, clf__power_t=0.75\n",
            "[CV 2/3; 86/324] END clf__alpha=1e-05, clf__average=False, clf__l1_ratio=0.75, clf__loss=perceptron, clf__penalty=l1, clf__power_t=0.75;, score=0.970 total time=   2.3s\n",
            "[CV 3/3; 86/324] START clf__alpha=1e-05, clf__average=False, clf__l1_ratio=0.75, clf__loss=perceptron, clf__penalty=l1, clf__power_t=0.75\n",
            "[CV 3/3; 86/324] END clf__alpha=1e-05, clf__average=False, clf__l1_ratio=0.75, clf__loss=perceptron, clf__penalty=l1, clf__power_t=0.75;, score=0.989 total time=   2.3s\n",
            "[CV 1/3; 87/324] START clf__alpha=1e-05, clf__average=False, clf__l1_ratio=0.75, clf__loss=perceptron, clf__penalty=l1, clf__power_t=1\n",
            "[CV 1/3; 87/324] END clf__alpha=1e-05, clf__average=False, clf__l1_ratio=0.75, clf__loss=perceptron, clf__penalty=l1, clf__power_t=1;, score=0.968 total time=   2.3s\n",
            "[CV 2/3; 87/324] START clf__alpha=1e-05, clf__average=False, clf__l1_ratio=0.75, clf__loss=perceptron, clf__penalty=l1, clf__power_t=1\n",
            "[CV 2/3; 87/324] END clf__alpha=1e-05, clf__average=False, clf__l1_ratio=0.75, clf__loss=perceptron, clf__penalty=l1, clf__power_t=1;, score=0.970 total time=   2.3s\n",
            "[CV 3/3; 87/324] START clf__alpha=1e-05, clf__average=False, clf__l1_ratio=0.75, clf__loss=perceptron, clf__penalty=l1, clf__power_t=1\n",
            "[CV 3/3; 87/324] END clf__alpha=1e-05, clf__average=False, clf__l1_ratio=0.75, clf__loss=perceptron, clf__penalty=l1, clf__power_t=1;, score=0.990 total time=   2.3s\n",
            "[CV 1/3; 88/324] START clf__alpha=1e-05, clf__average=False, clf__l1_ratio=0.75, clf__loss=perceptron, clf__penalty=elasticnet, clf__power_t=0.25\n",
            "[CV 1/3; 88/324] END clf__alpha=1e-05, clf__average=False, clf__l1_ratio=0.75, clf__loss=perceptron, clf__penalty=elasticnet, clf__power_t=0.25;, score=0.970 total time=   2.3s\n",
            "[CV 2/3; 88/324] START clf__alpha=1e-05, clf__average=False, clf__l1_ratio=0.75, clf__loss=perceptron, clf__penalty=elasticnet, clf__power_t=0.25\n",
            "[CV 2/3; 88/324] END clf__alpha=1e-05, clf__average=False, clf__l1_ratio=0.75, clf__loss=perceptron, clf__penalty=elasticnet, clf__power_t=0.25;, score=0.971 total time=   2.3s\n",
            "[CV 3/3; 88/324] START clf__alpha=1e-05, clf__average=False, clf__l1_ratio=0.75, clf__loss=perceptron, clf__penalty=elasticnet, clf__power_t=0.25\n",
            "[CV 3/3; 88/324] END clf__alpha=1e-05, clf__average=False, clf__l1_ratio=0.75, clf__loss=perceptron, clf__penalty=elasticnet, clf__power_t=0.25;, score=0.992 total time=   2.3s\n",
            "[CV 1/3; 89/324] START clf__alpha=1e-05, clf__average=False, clf__l1_ratio=0.75, clf__loss=perceptron, clf__penalty=elasticnet, clf__power_t=0.75\n",
            "[CV 1/3; 89/324] END clf__alpha=1e-05, clf__average=False, clf__l1_ratio=0.75, clf__loss=perceptron, clf__penalty=elasticnet, clf__power_t=0.75;, score=0.969 total time=   2.3s\n",
            "[CV 2/3; 89/324] START clf__alpha=1e-05, clf__average=False, clf__l1_ratio=0.75, clf__loss=perceptron, clf__penalty=elasticnet, clf__power_t=0.75\n",
            "[CV 2/3; 89/324] END clf__alpha=1e-05, clf__average=False, clf__l1_ratio=0.75, clf__loss=perceptron, clf__penalty=elasticnet, clf__power_t=0.75;, score=0.971 total time=   2.4s\n",
            "[CV 3/3; 89/324] START clf__alpha=1e-05, clf__average=False, clf__l1_ratio=0.75, clf__loss=perceptron, clf__penalty=elasticnet, clf__power_t=0.75\n",
            "[CV 3/3; 89/324] END clf__alpha=1e-05, clf__average=False, clf__l1_ratio=0.75, clf__loss=perceptron, clf__penalty=elasticnet, clf__power_t=0.75;, score=0.991 total time=   2.3s\n",
            "[CV 1/3; 90/324] START clf__alpha=1e-05, clf__average=False, clf__l1_ratio=0.75, clf__loss=perceptron, clf__penalty=elasticnet, clf__power_t=1\n",
            "[CV 1/3; 90/324] END clf__alpha=1e-05, clf__average=False, clf__l1_ratio=0.75, clf__loss=perceptron, clf__penalty=elasticnet, clf__power_t=1;, score=0.969 total time=   2.3s\n",
            "[CV 2/3; 90/324] START clf__alpha=1e-05, clf__average=False, clf__l1_ratio=0.75, clf__loss=perceptron, clf__penalty=elasticnet, clf__power_t=1\n",
            "[CV 2/3; 90/324] END clf__alpha=1e-05, clf__average=False, clf__l1_ratio=0.75, clf__loss=perceptron, clf__penalty=elasticnet, clf__power_t=1;, score=0.973 total time=   2.3s\n",
            "[CV 3/3; 90/324] START clf__alpha=1e-05, clf__average=False, clf__l1_ratio=0.75, clf__loss=perceptron, clf__penalty=elasticnet, clf__power_t=1\n",
            "[CV 3/3; 90/324] END clf__alpha=1e-05, clf__average=False, clf__l1_ratio=0.75, clf__loss=perceptron, clf__penalty=elasticnet, clf__power_t=1;, score=0.992 total time=   2.3s\n",
            "[CV 1/3; 91/324] START clf__alpha=1e-05, clf__average=False, clf__l1_ratio=1, clf__loss=log, clf__penalty=l2, clf__power_t=0.25\n",
            "[CV 1/3; 91/324] END clf__alpha=1e-05, clf__average=False, clf__l1_ratio=1, clf__loss=log, clf__penalty=l2, clf__power_t=0.25;, score=0.964 total time=   2.0s\n",
            "[CV 2/3; 91/324] START clf__alpha=1e-05, clf__average=False, clf__l1_ratio=1, clf__loss=log, clf__penalty=l2, clf__power_t=0.25\n",
            "[CV 2/3; 91/324] END clf__alpha=1e-05, clf__average=False, clf__l1_ratio=1, clf__loss=log, clf__penalty=l2, clf__power_t=0.25;, score=0.969 total time=   2.1s\n",
            "[CV 3/3; 91/324] START clf__alpha=1e-05, clf__average=False, clf__l1_ratio=1, clf__loss=log, clf__penalty=l2, clf__power_t=0.25\n",
            "[CV 3/3; 91/324] END clf__alpha=1e-05, clf__average=False, clf__l1_ratio=1, clf__loss=log, clf__penalty=l2, clf__power_t=0.25;, score=0.983 total time=   2.1s\n",
            "[CV 1/3; 92/324] START clf__alpha=1e-05, clf__average=False, clf__l1_ratio=1, clf__loss=log, clf__penalty=l2, clf__power_t=0.75\n",
            "[CV 1/3; 92/324] END clf__alpha=1e-05, clf__average=False, clf__l1_ratio=1, clf__loss=log, clf__penalty=l2, clf__power_t=0.75;, score=0.964 total time=   2.1s\n",
            "[CV 2/3; 92/324] START clf__alpha=1e-05, clf__average=False, clf__l1_ratio=1, clf__loss=log, clf__penalty=l2, clf__power_t=0.75\n",
            "[CV 2/3; 92/324] END clf__alpha=1e-05, clf__average=False, clf__l1_ratio=1, clf__loss=log, clf__penalty=l2, clf__power_t=0.75;, score=0.968 total time=   2.1s\n",
            "[CV 3/3; 92/324] START clf__alpha=1e-05, clf__average=False, clf__l1_ratio=1, clf__loss=log, clf__penalty=l2, clf__power_t=0.75\n",
            "[CV 3/3; 92/324] END clf__alpha=1e-05, clf__average=False, clf__l1_ratio=1, clf__loss=log, clf__penalty=l2, clf__power_t=0.75;, score=0.983 total time=   2.0s\n",
            "[CV 1/3; 93/324] START clf__alpha=1e-05, clf__average=False, clf__l1_ratio=1, clf__loss=log, clf__penalty=l2, clf__power_t=1\n",
            "[CV 1/3; 93/324] END clf__alpha=1e-05, clf__average=False, clf__l1_ratio=1, clf__loss=log, clf__penalty=l2, clf__power_t=1;, score=0.964 total time=   2.1s\n",
            "[CV 2/3; 93/324] START clf__alpha=1e-05, clf__average=False, clf__l1_ratio=1, clf__loss=log, clf__penalty=l2, clf__power_t=1\n",
            "[CV 2/3; 93/324] END clf__alpha=1e-05, clf__average=False, clf__l1_ratio=1, clf__loss=log, clf__penalty=l2, clf__power_t=1;, score=0.969 total time=   2.0s\n",
            "[CV 3/3; 93/324] START clf__alpha=1e-05, clf__average=False, clf__l1_ratio=1, clf__loss=log, clf__penalty=l2, clf__power_t=1\n",
            "[CV 3/3; 93/324] END clf__alpha=1e-05, clf__average=False, clf__l1_ratio=1, clf__loss=log, clf__penalty=l2, clf__power_t=1;, score=0.983 total time=   2.0s\n",
            "[CV 1/3; 94/324] START clf__alpha=1e-05, clf__average=False, clf__l1_ratio=1, clf__loss=log, clf__penalty=l1, clf__power_t=0.25\n",
            "[CV 1/3; 94/324] END clf__alpha=1e-05, clf__average=False, clf__l1_ratio=1, clf__loss=log, clf__penalty=l1, clf__power_t=0.25;, score=0.966 total time=   2.3s\n",
            "[CV 2/3; 94/324] START clf__alpha=1e-05, clf__average=False, clf__l1_ratio=1, clf__loss=log, clf__penalty=l1, clf__power_t=0.25\n",
            "[CV 2/3; 94/324] END clf__alpha=1e-05, clf__average=False, clf__l1_ratio=1, clf__loss=log, clf__penalty=l1, clf__power_t=0.25;, score=0.968 total time=   2.4s\n",
            "[CV 3/3; 94/324] START clf__alpha=1e-05, clf__average=False, clf__l1_ratio=1, clf__loss=log, clf__penalty=l1, clf__power_t=0.25\n",
            "[CV 3/3; 94/324] END clf__alpha=1e-05, clf__average=False, clf__l1_ratio=1, clf__loss=log, clf__penalty=l1, clf__power_t=0.25;, score=0.985 total time=   2.5s\n",
            "[CV 1/3; 95/324] START clf__alpha=1e-05, clf__average=False, clf__l1_ratio=1, clf__loss=log, clf__penalty=l1, clf__power_t=0.75\n",
            "[CV 1/3; 95/324] END clf__alpha=1e-05, clf__average=False, clf__l1_ratio=1, clf__loss=log, clf__penalty=l1, clf__power_t=0.75;, score=0.965 total time=   2.4s\n",
            "[CV 2/3; 95/324] START clf__alpha=1e-05, clf__average=False, clf__l1_ratio=1, clf__loss=log, clf__penalty=l1, clf__power_t=0.75\n",
            "[CV 2/3; 95/324] END clf__alpha=1e-05, clf__average=False, clf__l1_ratio=1, clf__loss=log, clf__penalty=l1, clf__power_t=0.75;, score=0.968 total time=   2.4s\n",
            "[CV 3/3; 95/324] START clf__alpha=1e-05, clf__average=False, clf__l1_ratio=1, clf__loss=log, clf__penalty=l1, clf__power_t=0.75\n",
            "[CV 3/3; 95/324] END clf__alpha=1e-05, clf__average=False, clf__l1_ratio=1, clf__loss=log, clf__penalty=l1, clf__power_t=0.75;, score=0.986 total time=   2.5s\n",
            "[CV 1/3; 96/324] START clf__alpha=1e-05, clf__average=False, clf__l1_ratio=1, clf__loss=log, clf__penalty=l1, clf__power_t=1\n",
            "[CV 1/3; 96/324] END clf__alpha=1e-05, clf__average=False, clf__l1_ratio=1, clf__loss=log, clf__penalty=l1, clf__power_t=1;, score=0.965 total time=   2.5s\n",
            "[CV 2/3; 96/324] START clf__alpha=1e-05, clf__average=False, clf__l1_ratio=1, clf__loss=log, clf__penalty=l1, clf__power_t=1\n",
            "[CV 2/3; 96/324] END clf__alpha=1e-05, clf__average=False, clf__l1_ratio=1, clf__loss=log, clf__penalty=l1, clf__power_t=1;, score=0.968 total time=   2.4s\n",
            "[CV 3/3; 96/324] START clf__alpha=1e-05, clf__average=False, clf__l1_ratio=1, clf__loss=log, clf__penalty=l1, clf__power_t=1\n",
            "[CV 3/3; 96/324] END clf__alpha=1e-05, clf__average=False, clf__l1_ratio=1, clf__loss=log, clf__penalty=l1, clf__power_t=1;, score=0.986 total time=   2.5s\n",
            "[CV 1/3; 97/324] START clf__alpha=1e-05, clf__average=False, clf__l1_ratio=1, clf__loss=log, clf__penalty=elasticnet, clf__power_t=0.25\n",
            "[CV 1/3; 97/324] END clf__alpha=1e-05, clf__average=False, clf__l1_ratio=1, clf__loss=log, clf__penalty=elasticnet, clf__power_t=0.25;, score=0.966 total time=   2.4s\n",
            "[CV 2/3; 97/324] START clf__alpha=1e-05, clf__average=False, clf__l1_ratio=1, clf__loss=log, clf__penalty=elasticnet, clf__power_t=0.25\n",
            "[CV 2/3; 97/324] END clf__alpha=1e-05, clf__average=False, clf__l1_ratio=1, clf__loss=log, clf__penalty=elasticnet, clf__power_t=0.25;, score=0.968 total time=   2.4s\n",
            "[CV 3/3; 97/324] START clf__alpha=1e-05, clf__average=False, clf__l1_ratio=1, clf__loss=log, clf__penalty=elasticnet, clf__power_t=0.25\n",
            "[CV 3/3; 97/324] END clf__alpha=1e-05, clf__average=False, clf__l1_ratio=1, clf__loss=log, clf__penalty=elasticnet, clf__power_t=0.25;, score=0.986 total time=   2.4s\n",
            "[CV 1/3; 98/324] START clf__alpha=1e-05, clf__average=False, clf__l1_ratio=1, clf__loss=log, clf__penalty=elasticnet, clf__power_t=0.75\n",
            "[CV 1/3; 98/324] END clf__alpha=1e-05, clf__average=False, clf__l1_ratio=1, clf__loss=log, clf__penalty=elasticnet, clf__power_t=0.75;, score=0.965 total time=   2.4s\n",
            "[CV 2/3; 98/324] START clf__alpha=1e-05, clf__average=False, clf__l1_ratio=1, clf__loss=log, clf__penalty=elasticnet, clf__power_t=0.75\n",
            "[CV 2/3; 98/324] END clf__alpha=1e-05, clf__average=False, clf__l1_ratio=1, clf__loss=log, clf__penalty=elasticnet, clf__power_t=0.75;, score=0.969 total time=   2.4s\n",
            "[CV 3/3; 98/324] START clf__alpha=1e-05, clf__average=False, clf__l1_ratio=1, clf__loss=log, clf__penalty=elasticnet, clf__power_t=0.75\n",
            "[CV 3/3; 98/324] END clf__alpha=1e-05, clf__average=False, clf__l1_ratio=1, clf__loss=log, clf__penalty=elasticnet, clf__power_t=0.75;, score=0.986 total time=   2.4s\n",
            "[CV 1/3; 99/324] START clf__alpha=1e-05, clf__average=False, clf__l1_ratio=1, clf__loss=log, clf__penalty=elasticnet, clf__power_t=1\n",
            "[CV 1/3; 99/324] END clf__alpha=1e-05, clf__average=False, clf__l1_ratio=1, clf__loss=log, clf__penalty=elasticnet, clf__power_t=1;, score=0.965 total time=   2.5s\n",
            "[CV 2/3; 99/324] START clf__alpha=1e-05, clf__average=False, clf__l1_ratio=1, clf__loss=log, clf__penalty=elasticnet, clf__power_t=1\n",
            "[CV 2/3; 99/324] END clf__alpha=1e-05, clf__average=False, clf__l1_ratio=1, clf__loss=log, clf__penalty=elasticnet, clf__power_t=1;, score=0.969 total time=   2.4s\n",
            "[CV 3/3; 99/324] START clf__alpha=1e-05, clf__average=False, clf__l1_ratio=1, clf__loss=log, clf__penalty=elasticnet, clf__power_t=1\n",
            "[CV 3/3; 99/324] END clf__alpha=1e-05, clf__average=False, clf__l1_ratio=1, clf__loss=log, clf__penalty=elasticnet, clf__power_t=1;, score=0.985 total time=   2.4s\n",
            "[CV 1/3; 100/324] START clf__alpha=1e-05, clf__average=False, clf__l1_ratio=1, clf__loss=perceptron, clf__penalty=l2, clf__power_t=0.25\n",
            "[CV 1/3; 100/324] END clf__alpha=1e-05, clf__average=False, clf__l1_ratio=1, clf__loss=perceptron, clf__penalty=l2, clf__power_t=0.25;, score=0.971 total time=   1.7s\n",
            "[CV 2/3; 100/324] START clf__alpha=1e-05, clf__average=False, clf__l1_ratio=1, clf__loss=perceptron, clf__penalty=l2, clf__power_t=0.25\n",
            "[CV 2/3; 100/324] END clf__alpha=1e-05, clf__average=False, clf__l1_ratio=1, clf__loss=perceptron, clf__penalty=l2, clf__power_t=0.25;, score=0.974 total time=   1.7s\n",
            "[CV 3/3; 100/324] START clf__alpha=1e-05, clf__average=False, clf__l1_ratio=1, clf__loss=perceptron, clf__penalty=l2, clf__power_t=0.25\n",
            "[CV 3/3; 100/324] END clf__alpha=1e-05, clf__average=False, clf__l1_ratio=1, clf__loss=perceptron, clf__penalty=l2, clf__power_t=0.25;, score=0.993 total time=   1.8s\n",
            "[CV 1/3; 101/324] START clf__alpha=1e-05, clf__average=False, clf__l1_ratio=1, clf__loss=perceptron, clf__penalty=l2, clf__power_t=0.75\n",
            "[CV 1/3; 101/324] END clf__alpha=1e-05, clf__average=False, clf__l1_ratio=1, clf__loss=perceptron, clf__penalty=l2, clf__power_t=0.75;, score=0.970 total time=   1.8s\n",
            "[CV 2/3; 101/324] START clf__alpha=1e-05, clf__average=False, clf__l1_ratio=1, clf__loss=perceptron, clf__penalty=l2, clf__power_t=0.75\n",
            "[CV 2/3; 101/324] END clf__alpha=1e-05, clf__average=False, clf__l1_ratio=1, clf__loss=perceptron, clf__penalty=l2, clf__power_t=0.75;, score=0.976 total time=   1.8s\n",
            "[CV 3/3; 101/324] START clf__alpha=1e-05, clf__average=False, clf__l1_ratio=1, clf__loss=perceptron, clf__penalty=l2, clf__power_t=0.75\n",
            "[CV 3/3; 101/324] END clf__alpha=1e-05, clf__average=False, clf__l1_ratio=1, clf__loss=perceptron, clf__penalty=l2, clf__power_t=0.75;, score=0.994 total time=   1.8s\n",
            "[CV 1/3; 102/324] START clf__alpha=1e-05, clf__average=False, clf__l1_ratio=1, clf__loss=perceptron, clf__penalty=l2, clf__power_t=1\n",
            "[CV 1/3; 102/324] END clf__alpha=1e-05, clf__average=False, clf__l1_ratio=1, clf__loss=perceptron, clf__penalty=l2, clf__power_t=1;, score=0.971 total time=   1.7s\n",
            "[CV 2/3; 102/324] START clf__alpha=1e-05, clf__average=False, clf__l1_ratio=1, clf__loss=perceptron, clf__penalty=l2, clf__power_t=1\n",
            "[CV 2/3; 102/324] END clf__alpha=1e-05, clf__average=False, clf__l1_ratio=1, clf__loss=perceptron, clf__penalty=l2, clf__power_t=1;, score=0.974 total time=   1.7s\n",
            "[CV 3/3; 102/324] START clf__alpha=1e-05, clf__average=False, clf__l1_ratio=1, clf__loss=perceptron, clf__penalty=l2, clf__power_t=1\n",
            "[CV 3/3; 102/324] END clf__alpha=1e-05, clf__average=False, clf__l1_ratio=1, clf__loss=perceptron, clf__penalty=l2, clf__power_t=1;, score=0.992 total time=   1.7s\n",
            "[CV 1/3; 103/324] START clf__alpha=1e-05, clf__average=False, clf__l1_ratio=1, clf__loss=perceptron, clf__penalty=l1, clf__power_t=0.25\n",
            "[CV 1/3; 103/324] END clf__alpha=1e-05, clf__average=False, clf__l1_ratio=1, clf__loss=perceptron, clf__penalty=l1, clf__power_t=0.25;, score=0.967 total time=   2.3s\n",
            "[CV 2/3; 103/324] START clf__alpha=1e-05, clf__average=False, clf__l1_ratio=1, clf__loss=perceptron, clf__penalty=l1, clf__power_t=0.25\n",
            "[CV 2/3; 103/324] END clf__alpha=1e-05, clf__average=False, clf__l1_ratio=1, clf__loss=perceptron, clf__penalty=l1, clf__power_t=0.25;, score=0.970 total time=   2.3s\n",
            "[CV 3/3; 103/324] START clf__alpha=1e-05, clf__average=False, clf__l1_ratio=1, clf__loss=perceptron, clf__penalty=l1, clf__power_t=0.25\n",
            "[CV 3/3; 103/324] END clf__alpha=1e-05, clf__average=False, clf__l1_ratio=1, clf__loss=perceptron, clf__penalty=l1, clf__power_t=0.25;, score=0.991 total time=   2.3s\n",
            "[CV 1/3; 104/324] START clf__alpha=1e-05, clf__average=False, clf__l1_ratio=1, clf__loss=perceptron, clf__penalty=l1, clf__power_t=0.75\n",
            "[CV 1/3; 104/324] END clf__alpha=1e-05, clf__average=False, clf__l1_ratio=1, clf__loss=perceptron, clf__penalty=l1, clf__power_t=0.75;, score=0.966 total time=   2.4s\n",
            "[CV 2/3; 104/324] START clf__alpha=1e-05, clf__average=False, clf__l1_ratio=1, clf__loss=perceptron, clf__penalty=l1, clf__power_t=0.75\n",
            "[CV 2/3; 104/324] END clf__alpha=1e-05, clf__average=False, clf__l1_ratio=1, clf__loss=perceptron, clf__penalty=l1, clf__power_t=0.75;, score=0.968 total time=   2.3s\n",
            "[CV 3/3; 104/324] START clf__alpha=1e-05, clf__average=False, clf__l1_ratio=1, clf__loss=perceptron, clf__penalty=l1, clf__power_t=0.75\n",
            "[CV 3/3; 104/324] END clf__alpha=1e-05, clf__average=False, clf__l1_ratio=1, clf__loss=perceptron, clf__penalty=l1, clf__power_t=0.75;, score=0.990 total time=   2.3s\n",
            "[CV 1/3; 105/324] START clf__alpha=1e-05, clf__average=False, clf__l1_ratio=1, clf__loss=perceptron, clf__penalty=l1, clf__power_t=1\n",
            "[CV 1/3; 105/324] END clf__alpha=1e-05, clf__average=False, clf__l1_ratio=1, clf__loss=perceptron, clf__penalty=l1, clf__power_t=1;, score=0.966 total time=   2.3s\n",
            "[CV 2/3; 105/324] START clf__alpha=1e-05, clf__average=False, clf__l1_ratio=1, clf__loss=perceptron, clf__penalty=l1, clf__power_t=1\n",
            "[CV 2/3; 105/324] END clf__alpha=1e-05, clf__average=False, clf__l1_ratio=1, clf__loss=perceptron, clf__penalty=l1, clf__power_t=1;, score=0.971 total time=   2.3s\n",
            "[CV 3/3; 105/324] START clf__alpha=1e-05, clf__average=False, clf__l1_ratio=1, clf__loss=perceptron, clf__penalty=l1, clf__power_t=1\n",
            "[CV 3/3; 105/324] END clf__alpha=1e-05, clf__average=False, clf__l1_ratio=1, clf__loss=perceptron, clf__penalty=l1, clf__power_t=1;, score=0.991 total time=   2.3s\n",
            "[CV 1/3; 106/324] START clf__alpha=1e-05, clf__average=False, clf__l1_ratio=1, clf__loss=perceptron, clf__penalty=elasticnet, clf__power_t=0.25\n",
            "[CV 1/3; 106/324] END clf__alpha=1e-05, clf__average=False, clf__l1_ratio=1, clf__loss=perceptron, clf__penalty=elasticnet, clf__power_t=0.25;, score=0.966 total time=   2.4s\n",
            "[CV 2/3; 106/324] START clf__alpha=1e-05, clf__average=False, clf__l1_ratio=1, clf__loss=perceptron, clf__penalty=elasticnet, clf__power_t=0.25\n",
            "[CV 2/3; 106/324] END clf__alpha=1e-05, clf__average=False, clf__l1_ratio=1, clf__loss=perceptron, clf__penalty=elasticnet, clf__power_t=0.25;, score=0.969 total time=   2.4s\n",
            "[CV 3/3; 106/324] START clf__alpha=1e-05, clf__average=False, clf__l1_ratio=1, clf__loss=perceptron, clf__penalty=elasticnet, clf__power_t=0.25\n",
            "[CV 3/3; 106/324] END clf__alpha=1e-05, clf__average=False, clf__l1_ratio=1, clf__loss=perceptron, clf__penalty=elasticnet, clf__power_t=0.25;, score=0.990 total time=   2.3s\n",
            "[CV 1/3; 107/324] START clf__alpha=1e-05, clf__average=False, clf__l1_ratio=1, clf__loss=perceptron, clf__penalty=elasticnet, clf__power_t=0.75\n",
            "[CV 1/3; 107/324] END clf__alpha=1e-05, clf__average=False, clf__l1_ratio=1, clf__loss=perceptron, clf__penalty=elasticnet, clf__power_t=0.75;, score=0.968 total time=   2.3s\n",
            "[CV 2/3; 107/324] START clf__alpha=1e-05, clf__average=False, clf__l1_ratio=1, clf__loss=perceptron, clf__penalty=elasticnet, clf__power_t=0.75\n",
            "[CV 2/3; 107/324] END clf__alpha=1e-05, clf__average=False, clf__l1_ratio=1, clf__loss=perceptron, clf__penalty=elasticnet, clf__power_t=0.75;, score=0.968 total time=   2.3s\n",
            "[CV 3/3; 107/324] START clf__alpha=1e-05, clf__average=False, clf__l1_ratio=1, clf__loss=perceptron, clf__penalty=elasticnet, clf__power_t=0.75\n",
            "[CV 3/3; 107/324] END clf__alpha=1e-05, clf__average=False, clf__l1_ratio=1, clf__loss=perceptron, clf__penalty=elasticnet, clf__power_t=0.75;, score=0.990 total time=   2.3s\n",
            "[CV 1/3; 108/324] START clf__alpha=1e-05, clf__average=False, clf__l1_ratio=1, clf__loss=perceptron, clf__penalty=elasticnet, clf__power_t=1\n",
            "[CV 1/3; 108/324] END clf__alpha=1e-05, clf__average=False, clf__l1_ratio=1, clf__loss=perceptron, clf__penalty=elasticnet, clf__power_t=1;, score=0.966 total time=   2.3s\n",
            "[CV 2/3; 108/324] START clf__alpha=1e-05, clf__average=False, clf__l1_ratio=1, clf__loss=perceptron, clf__penalty=elasticnet, clf__power_t=1\n",
            "[CV 2/3; 108/324] END clf__alpha=1e-05, clf__average=False, clf__l1_ratio=1, clf__loss=perceptron, clf__penalty=elasticnet, clf__power_t=1;, score=0.971 total time=   2.3s\n",
            "[CV 3/3; 108/324] START clf__alpha=1e-05, clf__average=False, clf__l1_ratio=1, clf__loss=perceptron, clf__penalty=elasticnet, clf__power_t=1\n",
            "[CV 3/3; 108/324] END clf__alpha=1e-05, clf__average=False, clf__l1_ratio=1, clf__loss=perceptron, clf__penalty=elasticnet, clf__power_t=1;, score=0.990 total time=   2.4s\n",
            "[CV 1/3; 109/324] START clf__alpha=0.0001001, clf__average=True, clf__l1_ratio=0.25, clf__loss=log, clf__penalty=l2, clf__power_t=0.25\n",
            "[CV 1/3; 109/324] END clf__alpha=0.0001001, clf__average=True, clf__l1_ratio=0.25, clf__loss=log, clf__penalty=l2, clf__power_t=0.25;, score=0.921 total time=   2.1s\n",
            "[CV 2/3; 109/324] START clf__alpha=0.0001001, clf__average=True, clf__l1_ratio=0.25, clf__loss=log, clf__penalty=l2, clf__power_t=0.25\n",
            "[CV 2/3; 109/324] END clf__alpha=0.0001001, clf__average=True, clf__l1_ratio=0.25, clf__loss=log, clf__penalty=l2, clf__power_t=0.25;, score=0.930 total time=   2.1s\n",
            "[CV 3/3; 109/324] START clf__alpha=0.0001001, clf__average=True, clf__l1_ratio=0.25, clf__loss=log, clf__penalty=l2, clf__power_t=0.25\n",
            "[CV 3/3; 109/324] END clf__alpha=0.0001001, clf__average=True, clf__l1_ratio=0.25, clf__loss=log, clf__penalty=l2, clf__power_t=0.25;, score=0.936 total time=   2.1s\n",
            "[CV 1/3; 110/324] START clf__alpha=0.0001001, clf__average=True, clf__l1_ratio=0.25, clf__loss=log, clf__penalty=l2, clf__power_t=0.75\n",
            "[CV 1/3; 110/324] END clf__alpha=0.0001001, clf__average=True, clf__l1_ratio=0.25, clf__loss=log, clf__penalty=l2, clf__power_t=0.75;, score=0.921 total time=   2.0s\n",
            "[CV 2/3; 110/324] START clf__alpha=0.0001001, clf__average=True, clf__l1_ratio=0.25, clf__loss=log, clf__penalty=l2, clf__power_t=0.75\n",
            "[CV 2/3; 110/324] END clf__alpha=0.0001001, clf__average=True, clf__l1_ratio=0.25, clf__loss=log, clf__penalty=l2, clf__power_t=0.75;, score=0.929 total time=   2.1s\n",
            "[CV 3/3; 110/324] START clf__alpha=0.0001001, clf__average=True, clf__l1_ratio=0.25, clf__loss=log, clf__penalty=l2, clf__power_t=0.75\n",
            "[CV 3/3; 110/324] END clf__alpha=0.0001001, clf__average=True, clf__l1_ratio=0.25, clf__loss=log, clf__penalty=l2, clf__power_t=0.75;, score=0.936 total time=   2.2s\n",
            "[CV 1/3; 111/324] START clf__alpha=0.0001001, clf__average=True, clf__l1_ratio=0.25, clf__loss=log, clf__penalty=l2, clf__power_t=1\n",
            "[CV 1/3; 111/324] END clf__alpha=0.0001001, clf__average=True, clf__l1_ratio=0.25, clf__loss=log, clf__penalty=l2, clf__power_t=1;, score=0.920 total time=   2.1s\n",
            "[CV 2/3; 111/324] START clf__alpha=0.0001001, clf__average=True, clf__l1_ratio=0.25, clf__loss=log, clf__penalty=l2, clf__power_t=1\n",
            "[CV 2/3; 111/324] END clf__alpha=0.0001001, clf__average=True, clf__l1_ratio=0.25, clf__loss=log, clf__penalty=l2, clf__power_t=1;, score=0.930 total time=   2.1s\n",
            "[CV 3/3; 111/324] START clf__alpha=0.0001001, clf__average=True, clf__l1_ratio=0.25, clf__loss=log, clf__penalty=l2, clf__power_t=1\n",
            "[CV 3/3; 111/324] END clf__alpha=0.0001001, clf__average=True, clf__l1_ratio=0.25, clf__loss=log, clf__penalty=l2, clf__power_t=1;, score=0.936 total time=   2.1s\n",
            "[CV 1/3; 112/324] START clf__alpha=0.0001001, clf__average=True, clf__l1_ratio=0.25, clf__loss=log, clf__penalty=l1, clf__power_t=0.25\n",
            "[CV 1/3; 112/324] END clf__alpha=0.0001001, clf__average=True, clf__l1_ratio=0.25, clf__loss=log, clf__penalty=l1, clf__power_t=0.25;, score=0.653 total time=   2.4s\n",
            "[CV 2/3; 112/324] START clf__alpha=0.0001001, clf__average=True, clf__l1_ratio=0.25, clf__loss=log, clf__penalty=l1, clf__power_t=0.25\n",
            "[CV 2/3; 112/324] END clf__alpha=0.0001001, clf__average=True, clf__l1_ratio=0.25, clf__loss=log, clf__penalty=l1, clf__power_t=0.25;, score=0.656 total time=   2.4s\n",
            "[CV 3/3; 112/324] START clf__alpha=0.0001001, clf__average=True, clf__l1_ratio=0.25, clf__loss=log, clf__penalty=l1, clf__power_t=0.25\n",
            "[CV 3/3; 112/324] END clf__alpha=0.0001001, clf__average=True, clf__l1_ratio=0.25, clf__loss=log, clf__penalty=l1, clf__power_t=0.25;, score=0.660 total time=   2.4s\n",
            "[CV 1/3; 113/324] START clf__alpha=0.0001001, clf__average=True, clf__l1_ratio=0.25, clf__loss=log, clf__penalty=l1, clf__power_t=0.75\n",
            "[CV 1/3; 113/324] END clf__alpha=0.0001001, clf__average=True, clf__l1_ratio=0.25, clf__loss=log, clf__penalty=l1, clf__power_t=0.75;, score=0.649 total time=   2.5s\n",
            "[CV 2/3; 113/324] START clf__alpha=0.0001001, clf__average=True, clf__l1_ratio=0.25, clf__loss=log, clf__penalty=l1, clf__power_t=0.75\n",
            "[CV 2/3; 113/324] END clf__alpha=0.0001001, clf__average=True, clf__l1_ratio=0.25, clf__loss=log, clf__penalty=l1, clf__power_t=0.75;, score=0.655 total time=   2.5s\n",
            "[CV 3/3; 113/324] START clf__alpha=0.0001001, clf__average=True, clf__l1_ratio=0.25, clf__loss=log, clf__penalty=l1, clf__power_t=0.75\n",
            "[CV 3/3; 113/324] END clf__alpha=0.0001001, clf__average=True, clf__l1_ratio=0.25, clf__loss=log, clf__penalty=l1, clf__power_t=0.75;, score=0.657 total time=   2.4s\n",
            "[CV 1/3; 114/324] START clf__alpha=0.0001001, clf__average=True, clf__l1_ratio=0.25, clf__loss=log, clf__penalty=l1, clf__power_t=1\n",
            "[CV 1/3; 114/324] END clf__alpha=0.0001001, clf__average=True, clf__l1_ratio=0.25, clf__loss=log, clf__penalty=l1, clf__power_t=1;, score=0.647 total time=   2.4s\n",
            "[CV 2/3; 114/324] START clf__alpha=0.0001001, clf__average=True, clf__l1_ratio=0.25, clf__loss=log, clf__penalty=l1, clf__power_t=1\n",
            "[CV 2/3; 114/324] END clf__alpha=0.0001001, clf__average=True, clf__l1_ratio=0.25, clf__loss=log, clf__penalty=l1, clf__power_t=1;, score=0.658 total time=   2.4s\n",
            "[CV 3/3; 114/324] START clf__alpha=0.0001001, clf__average=True, clf__l1_ratio=0.25, clf__loss=log, clf__penalty=l1, clf__power_t=1\n",
            "[CV 3/3; 114/324] END clf__alpha=0.0001001, clf__average=True, clf__l1_ratio=0.25, clf__loss=log, clf__penalty=l1, clf__power_t=1;, score=0.652 total time=   2.4s\n",
            "[CV 1/3; 115/324] START clf__alpha=0.0001001, clf__average=True, clf__l1_ratio=0.25, clf__loss=log, clf__penalty=elasticnet, clf__power_t=0.25\n",
            "[CV 1/3; 115/324] END clf__alpha=0.0001001, clf__average=True, clf__l1_ratio=0.25, clf__loss=log, clf__penalty=elasticnet, clf__power_t=0.25;, score=0.610 total time=   2.5s\n",
            "[CV 2/3; 115/324] START clf__alpha=0.0001001, clf__average=True, clf__l1_ratio=0.25, clf__loss=log, clf__penalty=elasticnet, clf__power_t=0.25\n",
            "[CV 2/3; 115/324] END clf__alpha=0.0001001, clf__average=True, clf__l1_ratio=0.25, clf__loss=log, clf__penalty=elasticnet, clf__power_t=0.25;, score=0.613 total time=   2.5s\n",
            "[CV 3/3; 115/324] START clf__alpha=0.0001001, clf__average=True, clf__l1_ratio=0.25, clf__loss=log, clf__penalty=elasticnet, clf__power_t=0.25\n",
            "[CV 3/3; 115/324] END clf__alpha=0.0001001, clf__average=True, clf__l1_ratio=0.25, clf__loss=log, clf__penalty=elasticnet, clf__power_t=0.25;, score=0.603 total time=   2.5s\n",
            "[CV 1/3; 116/324] START clf__alpha=0.0001001, clf__average=True, clf__l1_ratio=0.25, clf__loss=log, clf__penalty=elasticnet, clf__power_t=0.75\n",
            "[CV 1/3; 116/324] END clf__alpha=0.0001001, clf__average=True, clf__l1_ratio=0.25, clf__loss=log, clf__penalty=elasticnet, clf__power_t=0.75;, score=0.613 total time=   2.4s\n",
            "[CV 2/3; 116/324] START clf__alpha=0.0001001, clf__average=True, clf__l1_ratio=0.25, clf__loss=log, clf__penalty=elasticnet, clf__power_t=0.75\n",
            "[CV 2/3; 116/324] END clf__alpha=0.0001001, clf__average=True, clf__l1_ratio=0.25, clf__loss=log, clf__penalty=elasticnet, clf__power_t=0.75;, score=0.609 total time=   2.5s\n",
            "[CV 3/3; 116/324] START clf__alpha=0.0001001, clf__average=True, clf__l1_ratio=0.25, clf__loss=log, clf__penalty=elasticnet, clf__power_t=0.75\n",
            "[CV 3/3; 116/324] END clf__alpha=0.0001001, clf__average=True, clf__l1_ratio=0.25, clf__loss=log, clf__penalty=elasticnet, clf__power_t=0.75;, score=0.605 total time=   2.4s\n",
            "[CV 1/3; 117/324] START clf__alpha=0.0001001, clf__average=True, clf__l1_ratio=0.25, clf__loss=log, clf__penalty=elasticnet, clf__power_t=1\n",
            "[CV 1/3; 117/324] END clf__alpha=0.0001001, clf__average=True, clf__l1_ratio=0.25, clf__loss=log, clf__penalty=elasticnet, clf__power_t=1;, score=0.609 total time=   2.5s\n",
            "[CV 2/3; 117/324] START clf__alpha=0.0001001, clf__average=True, clf__l1_ratio=0.25, clf__loss=log, clf__penalty=elasticnet, clf__power_t=1\n",
            "[CV 2/3; 117/324] END clf__alpha=0.0001001, clf__average=True, clf__l1_ratio=0.25, clf__loss=log, clf__penalty=elasticnet, clf__power_t=1;, score=0.613 total time=   2.4s\n",
            "[CV 3/3; 117/324] START clf__alpha=0.0001001, clf__average=True, clf__l1_ratio=0.25, clf__loss=log, clf__penalty=elasticnet, clf__power_t=1\n",
            "[CV 3/3; 117/324] END clf__alpha=0.0001001, clf__average=True, clf__l1_ratio=0.25, clf__loss=log, clf__penalty=elasticnet, clf__power_t=1;, score=0.605 total time=   2.4s\n",
            "[CV 1/3; 118/324] START clf__alpha=0.0001001, clf__average=True, clf__l1_ratio=0.25, clf__loss=perceptron, clf__penalty=l2, clf__power_t=0.25\n",
            "[CV 1/3; 118/324] END clf__alpha=0.0001001, clf__average=True, clf__l1_ratio=0.25, clf__loss=perceptron, clf__penalty=l2, clf__power_t=0.25;, score=0.967 total time=   1.8s\n",
            "[CV 2/3; 118/324] START clf__alpha=0.0001001, clf__average=True, clf__l1_ratio=0.25, clf__loss=perceptron, clf__penalty=l2, clf__power_t=0.25\n",
            "[CV 2/3; 118/324] END clf__alpha=0.0001001, clf__average=True, clf__l1_ratio=0.25, clf__loss=perceptron, clf__penalty=l2, clf__power_t=0.25;, score=0.970 total time=   1.8s\n",
            "[CV 3/3; 118/324] START clf__alpha=0.0001001, clf__average=True, clf__l1_ratio=0.25, clf__loss=perceptron, clf__penalty=l2, clf__power_t=0.25\n",
            "[CV 3/3; 118/324] END clf__alpha=0.0001001, clf__average=True, clf__l1_ratio=0.25, clf__loss=perceptron, clf__penalty=l2, clf__power_t=0.25;, score=0.987 total time=   1.8s\n",
            "[CV 1/3; 119/324] START clf__alpha=0.0001001, clf__average=True, clf__l1_ratio=0.25, clf__loss=perceptron, clf__penalty=l2, clf__power_t=0.75\n",
            "[CV 1/3; 119/324] END clf__alpha=0.0001001, clf__average=True, clf__l1_ratio=0.25, clf__loss=perceptron, clf__penalty=l2, clf__power_t=0.75;, score=0.967 total time=   1.8s\n",
            "[CV 2/3; 119/324] START clf__alpha=0.0001001, clf__average=True, clf__l1_ratio=0.25, clf__loss=perceptron, clf__penalty=l2, clf__power_t=0.75\n",
            "[CV 2/3; 119/324] END clf__alpha=0.0001001, clf__average=True, clf__l1_ratio=0.25, clf__loss=perceptron, clf__penalty=l2, clf__power_t=0.75;, score=0.972 total time=   1.8s\n",
            "[CV 3/3; 119/324] START clf__alpha=0.0001001, clf__average=True, clf__l1_ratio=0.25, clf__loss=perceptron, clf__penalty=l2, clf__power_t=0.75\n",
            "[CV 3/3; 119/324] END clf__alpha=0.0001001, clf__average=True, clf__l1_ratio=0.25, clf__loss=perceptron, clf__penalty=l2, clf__power_t=0.75;, score=0.985 total time=   1.8s\n",
            "[CV 1/3; 120/324] START clf__alpha=0.0001001, clf__average=True, clf__l1_ratio=0.25, clf__loss=perceptron, clf__penalty=l2, clf__power_t=1\n",
            "[CV 1/3; 120/324] END clf__alpha=0.0001001, clf__average=True, clf__l1_ratio=0.25, clf__loss=perceptron, clf__penalty=l2, clf__power_t=1;, score=0.968 total time=   1.8s\n",
            "[CV 2/3; 120/324] START clf__alpha=0.0001001, clf__average=True, clf__l1_ratio=0.25, clf__loss=perceptron, clf__penalty=l2, clf__power_t=1\n",
            "[CV 2/3; 120/324] END clf__alpha=0.0001001, clf__average=True, clf__l1_ratio=0.25, clf__loss=perceptron, clf__penalty=l2, clf__power_t=1;, score=0.970 total time=   1.8s\n",
            "[CV 3/3; 120/324] START clf__alpha=0.0001001, clf__average=True, clf__l1_ratio=0.25, clf__loss=perceptron, clf__penalty=l2, clf__power_t=1\n",
            "[CV 3/3; 120/324] END clf__alpha=0.0001001, clf__average=True, clf__l1_ratio=0.25, clf__loss=perceptron, clf__penalty=l2, clf__power_t=1;, score=0.987 total time=   1.8s\n",
            "[CV 1/3; 121/324] START clf__alpha=0.0001001, clf__average=True, clf__l1_ratio=0.25, clf__loss=perceptron, clf__penalty=l1, clf__power_t=0.25\n",
            "[CV 1/3; 121/324] END clf__alpha=0.0001001, clf__average=True, clf__l1_ratio=0.25, clf__loss=perceptron, clf__penalty=l1, clf__power_t=0.25;, score=0.001 total time=   2.0s\n",
            "[CV 2/3; 121/324] START clf__alpha=0.0001001, clf__average=True, clf__l1_ratio=0.25, clf__loss=perceptron, clf__penalty=l1, clf__power_t=0.25\n",
            "[CV 2/3; 121/324] END clf__alpha=0.0001001, clf__average=True, clf__l1_ratio=0.25, clf__loss=perceptron, clf__penalty=l1, clf__power_t=0.25;, score=0.001 total time=   2.0s\n",
            "[CV 3/3; 121/324] START clf__alpha=0.0001001, clf__average=True, clf__l1_ratio=0.25, clf__loss=perceptron, clf__penalty=l1, clf__power_t=0.25\n",
            "[CV 3/3; 121/324] END clf__alpha=0.0001001, clf__average=True, clf__l1_ratio=0.25, clf__loss=perceptron, clf__penalty=l1, clf__power_t=0.25;, score=0.001 total time=   1.9s\n",
            "[CV 1/3; 122/324] START clf__alpha=0.0001001, clf__average=True, clf__l1_ratio=0.25, clf__loss=perceptron, clf__penalty=l1, clf__power_t=0.75\n",
            "[CV 1/3; 122/324] END clf__alpha=0.0001001, clf__average=True, clf__l1_ratio=0.25, clf__loss=perceptron, clf__penalty=l1, clf__power_t=0.75;, score=0.001 total time=   2.0s\n",
            "[CV 2/3; 122/324] START clf__alpha=0.0001001, clf__average=True, clf__l1_ratio=0.25, clf__loss=perceptron, clf__penalty=l1, clf__power_t=0.75\n",
            "[CV 2/3; 122/324] END clf__alpha=0.0001001, clf__average=True, clf__l1_ratio=0.25, clf__loss=perceptron, clf__penalty=l1, clf__power_t=0.75;, score=0.001 total time=   2.1s\n",
            "[CV 3/3; 122/324] START clf__alpha=0.0001001, clf__average=True, clf__l1_ratio=0.25, clf__loss=perceptron, clf__penalty=l1, clf__power_t=0.75\n",
            "[CV 3/3; 122/324] END clf__alpha=0.0001001, clf__average=True, clf__l1_ratio=0.25, clf__loss=perceptron, clf__penalty=l1, clf__power_t=0.75;, score=0.000 total time=   2.0s\n",
            "[CV 1/3; 123/324] START clf__alpha=0.0001001, clf__average=True, clf__l1_ratio=0.25, clf__loss=perceptron, clf__penalty=l1, clf__power_t=1\n",
            "[CV 1/3; 123/324] END clf__alpha=0.0001001, clf__average=True, clf__l1_ratio=0.25, clf__loss=perceptron, clf__penalty=l1, clf__power_t=1;, score=0.001 total time=   2.0s\n",
            "[CV 2/3; 123/324] START clf__alpha=0.0001001, clf__average=True, clf__l1_ratio=0.25, clf__loss=perceptron, clf__penalty=l1, clf__power_t=1\n",
            "[CV 2/3; 123/324] END clf__alpha=0.0001001, clf__average=True, clf__l1_ratio=0.25, clf__loss=perceptron, clf__penalty=l1, clf__power_t=1;, score=0.001 total time=   1.9s\n",
            "[CV 3/3; 123/324] START clf__alpha=0.0001001, clf__average=True, clf__l1_ratio=0.25, clf__loss=perceptron, clf__penalty=l1, clf__power_t=1\n",
            "[CV 3/3; 123/324] END clf__alpha=0.0001001, clf__average=True, clf__l1_ratio=0.25, clf__loss=perceptron, clf__penalty=l1, clf__power_t=1;, score=0.000 total time=   2.0s\n",
            "[CV 1/3; 124/324] START clf__alpha=0.0001001, clf__average=True, clf__l1_ratio=0.25, clf__loss=perceptron, clf__penalty=elasticnet, clf__power_t=0.25\n",
            "[CV 1/3; 124/324] END clf__alpha=0.0001001, clf__average=True, clf__l1_ratio=0.25, clf__loss=perceptron, clf__penalty=elasticnet, clf__power_t=0.25;, score=0.002 total time=   2.0s\n",
            "[CV 2/3; 124/324] START clf__alpha=0.0001001, clf__average=True, clf__l1_ratio=0.25, clf__loss=perceptron, clf__penalty=elasticnet, clf__power_t=0.25\n",
            "[CV 2/3; 124/324] END clf__alpha=0.0001001, clf__average=True, clf__l1_ratio=0.25, clf__loss=perceptron, clf__penalty=elasticnet, clf__power_t=0.25;, score=0.002 total time=   2.0s\n",
            "[CV 3/3; 124/324] START clf__alpha=0.0001001, clf__average=True, clf__l1_ratio=0.25, clf__loss=perceptron, clf__penalty=elasticnet, clf__power_t=0.25\n",
            "[CV 3/3; 124/324] END clf__alpha=0.0001001, clf__average=True, clf__l1_ratio=0.25, clf__loss=perceptron, clf__penalty=elasticnet, clf__power_t=0.25;, score=0.001 total time=   2.1s\n",
            "[CV 1/3; 125/324] START clf__alpha=0.0001001, clf__average=True, clf__l1_ratio=0.25, clf__loss=perceptron, clf__penalty=elasticnet, clf__power_t=0.75\n",
            "[CV 1/3; 125/324] END clf__alpha=0.0001001, clf__average=True, clf__l1_ratio=0.25, clf__loss=perceptron, clf__penalty=elasticnet, clf__power_t=0.75;, score=0.001 total time=   2.1s\n",
            "[CV 2/3; 125/324] START clf__alpha=0.0001001, clf__average=True, clf__l1_ratio=0.25, clf__loss=perceptron, clf__penalty=elasticnet, clf__power_t=0.75\n",
            "[CV 2/3; 125/324] END clf__alpha=0.0001001, clf__average=True, clf__l1_ratio=0.25, clf__loss=perceptron, clf__penalty=elasticnet, clf__power_t=0.75;, score=0.002 total time=   2.1s\n",
            "[CV 3/3; 125/324] START clf__alpha=0.0001001, clf__average=True, clf__l1_ratio=0.25, clf__loss=perceptron, clf__penalty=elasticnet, clf__power_t=0.75\n",
            "[CV 3/3; 125/324] END clf__alpha=0.0001001, clf__average=True, clf__l1_ratio=0.25, clf__loss=perceptron, clf__penalty=elasticnet, clf__power_t=0.75;, score=0.001 total time=   2.1s\n",
            "[CV 1/3; 126/324] START clf__alpha=0.0001001, clf__average=True, clf__l1_ratio=0.25, clf__loss=perceptron, clf__penalty=elasticnet, clf__power_t=1\n",
            "[CV 1/3; 126/324] END clf__alpha=0.0001001, clf__average=True, clf__l1_ratio=0.25, clf__loss=perceptron, clf__penalty=elasticnet, clf__power_t=1;, score=0.001 total time=   2.1s\n",
            "[CV 2/3; 126/324] START clf__alpha=0.0001001, clf__average=True, clf__l1_ratio=0.25, clf__loss=perceptron, clf__penalty=elasticnet, clf__power_t=1\n",
            "[CV 2/3; 126/324] END clf__alpha=0.0001001, clf__average=True, clf__l1_ratio=0.25, clf__loss=perceptron, clf__penalty=elasticnet, clf__power_t=1;, score=0.002 total time=   2.1s\n",
            "[CV 3/3; 126/324] START clf__alpha=0.0001001, clf__average=True, clf__l1_ratio=0.25, clf__loss=perceptron, clf__penalty=elasticnet, clf__power_t=1\n",
            "[CV 3/3; 126/324] END clf__alpha=0.0001001, clf__average=True, clf__l1_ratio=0.25, clf__loss=perceptron, clf__penalty=elasticnet, clf__power_t=1;, score=0.001 total time=   2.1s\n",
            "[CV 1/3; 127/324] START clf__alpha=0.0001001, clf__average=True, clf__l1_ratio=0.75, clf__loss=log, clf__penalty=l2, clf__power_t=0.25\n",
            "[CV 1/3; 127/324] END clf__alpha=0.0001001, clf__average=True, clf__l1_ratio=0.75, clf__loss=log, clf__penalty=l2, clf__power_t=0.25;, score=0.920 total time=   2.1s\n",
            "[CV 2/3; 127/324] START clf__alpha=0.0001001, clf__average=True, clf__l1_ratio=0.75, clf__loss=log, clf__penalty=l2, clf__power_t=0.25\n",
            "[CV 2/3; 127/324] END clf__alpha=0.0001001, clf__average=True, clf__l1_ratio=0.75, clf__loss=log, clf__penalty=l2, clf__power_t=0.25;, score=0.930 total time=   2.2s\n",
            "[CV 3/3; 127/324] START clf__alpha=0.0001001, clf__average=True, clf__l1_ratio=0.75, clf__loss=log, clf__penalty=l2, clf__power_t=0.25\n",
            "[CV 3/3; 127/324] END clf__alpha=0.0001001, clf__average=True, clf__l1_ratio=0.75, clf__loss=log, clf__penalty=l2, clf__power_t=0.25;, score=0.936 total time=   2.2s\n",
            "[CV 1/3; 128/324] START clf__alpha=0.0001001, clf__average=True, clf__l1_ratio=0.75, clf__loss=log, clf__penalty=l2, clf__power_t=0.75\n",
            "[CV 1/3; 128/324] END clf__alpha=0.0001001, clf__average=True, clf__l1_ratio=0.75, clf__loss=log, clf__penalty=l2, clf__power_t=0.75;, score=0.921 total time=   2.2s\n",
            "[CV 2/3; 128/324] START clf__alpha=0.0001001, clf__average=True, clf__l1_ratio=0.75, clf__loss=log, clf__penalty=l2, clf__power_t=0.75\n",
            "[CV 2/3; 128/324] END clf__alpha=0.0001001, clf__average=True, clf__l1_ratio=0.75, clf__loss=log, clf__penalty=l2, clf__power_t=0.75;, score=0.930 total time=   2.1s\n",
            "[CV 3/3; 128/324] START clf__alpha=0.0001001, clf__average=True, clf__l1_ratio=0.75, clf__loss=log, clf__penalty=l2, clf__power_t=0.75\n",
            "[CV 3/3; 128/324] END clf__alpha=0.0001001, clf__average=True, clf__l1_ratio=0.75, clf__loss=log, clf__penalty=l2, clf__power_t=0.75;, score=0.936 total time=   2.1s\n",
            "[CV 1/3; 129/324] START clf__alpha=0.0001001, clf__average=True, clf__l1_ratio=0.75, clf__loss=log, clf__penalty=l2, clf__power_t=1\n",
            "[CV 1/3; 129/324] END clf__alpha=0.0001001, clf__average=True, clf__l1_ratio=0.75, clf__loss=log, clf__penalty=l2, clf__power_t=1;, score=0.921 total time=   2.1s\n",
            "[CV 2/3; 129/324] START clf__alpha=0.0001001, clf__average=True, clf__l1_ratio=0.75, clf__loss=log, clf__penalty=l2, clf__power_t=1\n",
            "[CV 2/3; 129/324] END clf__alpha=0.0001001, clf__average=True, clf__l1_ratio=0.75, clf__loss=log, clf__penalty=l2, clf__power_t=1;, score=0.930 total time=   2.2s\n",
            "[CV 3/3; 129/324] START clf__alpha=0.0001001, clf__average=True, clf__l1_ratio=0.75, clf__loss=log, clf__penalty=l2, clf__power_t=1\n",
            "[CV 3/3; 129/324] END clf__alpha=0.0001001, clf__average=True, clf__l1_ratio=0.75, clf__loss=log, clf__penalty=l2, clf__power_t=1;, score=0.936 total time=   2.2s\n",
            "[CV 1/3; 130/324] START clf__alpha=0.0001001, clf__average=True, clf__l1_ratio=0.75, clf__loss=log, clf__penalty=l1, clf__power_t=0.25\n",
            "[CV 1/3; 130/324] END clf__alpha=0.0001001, clf__average=True, clf__l1_ratio=0.75, clf__loss=log, clf__penalty=l1, clf__power_t=0.25;, score=0.653 total time=   2.5s\n",
            "[CV 2/3; 130/324] START clf__alpha=0.0001001, clf__average=True, clf__l1_ratio=0.75, clf__loss=log, clf__penalty=l1, clf__power_t=0.25\n",
            "[CV 2/3; 130/324] END clf__alpha=0.0001001, clf__average=True, clf__l1_ratio=0.75, clf__loss=log, clf__penalty=l1, clf__power_t=0.25;, score=0.661 total time=   2.5s\n",
            "[CV 3/3; 130/324] START clf__alpha=0.0001001, clf__average=True, clf__l1_ratio=0.75, clf__loss=log, clf__penalty=l1, clf__power_t=0.25\n",
            "[CV 3/3; 130/324] END clf__alpha=0.0001001, clf__average=True, clf__l1_ratio=0.75, clf__loss=log, clf__penalty=l1, clf__power_t=0.25;, score=0.652 total time=   2.4s\n",
            "[CV 1/3; 131/324] START clf__alpha=0.0001001, clf__average=True, clf__l1_ratio=0.75, clf__loss=log, clf__penalty=l1, clf__power_t=0.75\n",
            "[CV 1/3; 131/324] END clf__alpha=0.0001001, clf__average=True, clf__l1_ratio=0.75, clf__loss=log, clf__penalty=l1, clf__power_t=0.75;, score=0.654 total time=   2.5s\n",
            "[CV 2/3; 131/324] START clf__alpha=0.0001001, clf__average=True, clf__l1_ratio=0.75, clf__loss=log, clf__penalty=l1, clf__power_t=0.75\n",
            "[CV 2/3; 131/324] END clf__alpha=0.0001001, clf__average=True, clf__l1_ratio=0.75, clf__loss=log, clf__penalty=l1, clf__power_t=0.75;, score=0.658 total time=   2.5s\n",
            "[CV 3/3; 131/324] START clf__alpha=0.0001001, clf__average=True, clf__l1_ratio=0.75, clf__loss=log, clf__penalty=l1, clf__power_t=0.75\n",
            "[CV 3/3; 131/324] END clf__alpha=0.0001001, clf__average=True, clf__l1_ratio=0.75, clf__loss=log, clf__penalty=l1, clf__power_t=0.75;, score=0.659 total time=   2.5s\n",
            "[CV 1/3; 132/324] START clf__alpha=0.0001001, clf__average=True, clf__l1_ratio=0.75, clf__loss=log, clf__penalty=l1, clf__power_t=1\n",
            "[CV 1/3; 132/324] END clf__alpha=0.0001001, clf__average=True, clf__l1_ratio=0.75, clf__loss=log, clf__penalty=l1, clf__power_t=1;, score=0.654 total time=   2.6s\n",
            "[CV 2/3; 132/324] START clf__alpha=0.0001001, clf__average=True, clf__l1_ratio=0.75, clf__loss=log, clf__penalty=l1, clf__power_t=1\n",
            "[CV 2/3; 132/324] END clf__alpha=0.0001001, clf__average=True, clf__l1_ratio=0.75, clf__loss=log, clf__penalty=l1, clf__power_t=1;, score=0.658 total time=   2.5s\n",
            "[CV 3/3; 132/324] START clf__alpha=0.0001001, clf__average=True, clf__l1_ratio=0.75, clf__loss=log, clf__penalty=l1, clf__power_t=1\n",
            "[CV 3/3; 132/324] END clf__alpha=0.0001001, clf__average=True, clf__l1_ratio=0.75, clf__loss=log, clf__penalty=l1, clf__power_t=1;, score=0.661 total time=   2.4s\n",
            "[CV 1/3; 133/324] START clf__alpha=0.0001001, clf__average=True, clf__l1_ratio=0.75, clf__loss=log, clf__penalty=elasticnet, clf__power_t=0.25\n",
            "[CV 1/3; 133/324] END clf__alpha=0.0001001, clf__average=True, clf__l1_ratio=0.75, clf__loss=log, clf__penalty=elasticnet, clf__power_t=0.25;, score=0.549 total time=   2.4s\n",
            "[CV 2/3; 133/324] START clf__alpha=0.0001001, clf__average=True, clf__l1_ratio=0.75, clf__loss=log, clf__penalty=elasticnet, clf__power_t=0.25\n",
            "[CV 2/3; 133/324] END clf__alpha=0.0001001, clf__average=True, clf__l1_ratio=0.75, clf__loss=log, clf__penalty=elasticnet, clf__power_t=0.25;, score=0.560 total time=   2.5s\n",
            "[CV 3/3; 133/324] START clf__alpha=0.0001001, clf__average=True, clf__l1_ratio=0.75, clf__loss=log, clf__penalty=elasticnet, clf__power_t=0.25\n",
            "[CV 3/3; 133/324] END clf__alpha=0.0001001, clf__average=True, clf__l1_ratio=0.75, clf__loss=log, clf__penalty=elasticnet, clf__power_t=0.25;, score=0.550 total time=   2.3s\n",
            "[CV 1/3; 134/324] START clf__alpha=0.0001001, clf__average=True, clf__l1_ratio=0.75, clf__loss=log, clf__penalty=elasticnet, clf__power_t=0.75\n",
            "[CV 1/3; 134/324] END clf__alpha=0.0001001, clf__average=True, clf__l1_ratio=0.75, clf__loss=log, clf__penalty=elasticnet, clf__power_t=0.75;, score=0.550 total time=   2.5s\n",
            "[CV 2/3; 134/324] START clf__alpha=0.0001001, clf__average=True, clf__l1_ratio=0.75, clf__loss=log, clf__penalty=elasticnet, clf__power_t=0.75\n",
            "[CV 2/3; 134/324] END clf__alpha=0.0001001, clf__average=True, clf__l1_ratio=0.75, clf__loss=log, clf__penalty=elasticnet, clf__power_t=0.75;, score=0.559 total time=   2.5s\n",
            "[CV 3/3; 134/324] START clf__alpha=0.0001001, clf__average=True, clf__l1_ratio=0.75, clf__loss=log, clf__penalty=elasticnet, clf__power_t=0.75\n",
            "[CV 3/3; 134/324] END clf__alpha=0.0001001, clf__average=True, clf__l1_ratio=0.75, clf__loss=log, clf__penalty=elasticnet, clf__power_t=0.75;, score=0.549 total time=   2.4s\n",
            "[CV 1/3; 135/324] START clf__alpha=0.0001001, clf__average=True, clf__l1_ratio=0.75, clf__loss=log, clf__penalty=elasticnet, clf__power_t=1\n",
            "[CV 1/3; 135/324] END clf__alpha=0.0001001, clf__average=True, clf__l1_ratio=0.75, clf__loss=log, clf__penalty=elasticnet, clf__power_t=1;, score=0.551 total time=   2.4s\n",
            "[CV 2/3; 135/324] START clf__alpha=0.0001001, clf__average=True, clf__l1_ratio=0.75, clf__loss=log, clf__penalty=elasticnet, clf__power_t=1\n",
            "[CV 2/3; 135/324] END clf__alpha=0.0001001, clf__average=True, clf__l1_ratio=0.75, clf__loss=log, clf__penalty=elasticnet, clf__power_t=1;, score=0.554 total time=   2.5s\n",
            "[CV 3/3; 135/324] START clf__alpha=0.0001001, clf__average=True, clf__l1_ratio=0.75, clf__loss=log, clf__penalty=elasticnet, clf__power_t=1\n",
            "[CV 3/3; 135/324] END clf__alpha=0.0001001, clf__average=True, clf__l1_ratio=0.75, clf__loss=log, clf__penalty=elasticnet, clf__power_t=1;, score=0.548 total time=   2.4s\n",
            "[CV 1/3; 136/324] START clf__alpha=0.0001001, clf__average=True, clf__l1_ratio=0.75, clf__loss=perceptron, clf__penalty=l2, clf__power_t=0.25\n",
            "[CV 1/3; 136/324] END clf__alpha=0.0001001, clf__average=True, clf__l1_ratio=0.75, clf__loss=perceptron, clf__penalty=l2, clf__power_t=0.25;, score=0.968 total time=   1.9s\n",
            "[CV 2/3; 136/324] START clf__alpha=0.0001001, clf__average=True, clf__l1_ratio=0.75, clf__loss=perceptron, clf__penalty=l2, clf__power_t=0.25\n",
            "[CV 2/3; 136/324] END clf__alpha=0.0001001, clf__average=True, clf__l1_ratio=0.75, clf__loss=perceptron, clf__penalty=l2, clf__power_t=0.25;, score=0.970 total time=   1.8s\n",
            "[CV 3/3; 136/324] START clf__alpha=0.0001001, clf__average=True, clf__l1_ratio=0.75, clf__loss=perceptron, clf__penalty=l2, clf__power_t=0.25\n",
            "[CV 3/3; 136/324] END clf__alpha=0.0001001, clf__average=True, clf__l1_ratio=0.75, clf__loss=perceptron, clf__penalty=l2, clf__power_t=0.25;, score=0.986 total time=   1.8s\n",
            "[CV 1/3; 137/324] START clf__alpha=0.0001001, clf__average=True, clf__l1_ratio=0.75, clf__loss=perceptron, clf__penalty=l2, clf__power_t=0.75\n",
            "[CV 1/3; 137/324] END clf__alpha=0.0001001, clf__average=True, clf__l1_ratio=0.75, clf__loss=perceptron, clf__penalty=l2, clf__power_t=0.75;, score=0.967 total time=   1.7s\n",
            "[CV 2/3; 137/324] START clf__alpha=0.0001001, clf__average=True, clf__l1_ratio=0.75, clf__loss=perceptron, clf__penalty=l2, clf__power_t=0.75\n",
            "[CV 2/3; 137/324] END clf__alpha=0.0001001, clf__average=True, clf__l1_ratio=0.75, clf__loss=perceptron, clf__penalty=l2, clf__power_t=0.75;, score=0.970 total time=   1.8s\n",
            "[CV 3/3; 137/324] START clf__alpha=0.0001001, clf__average=True, clf__l1_ratio=0.75, clf__loss=perceptron, clf__penalty=l2, clf__power_t=0.75\n",
            "[CV 3/3; 137/324] END clf__alpha=0.0001001, clf__average=True, clf__l1_ratio=0.75, clf__loss=perceptron, clf__penalty=l2, clf__power_t=0.75;, score=0.986 total time=   1.8s\n",
            "[CV 1/3; 138/324] START clf__alpha=0.0001001, clf__average=True, clf__l1_ratio=0.75, clf__loss=perceptron, clf__penalty=l2, clf__power_t=1\n",
            "[CV 1/3; 138/324] END clf__alpha=0.0001001, clf__average=True, clf__l1_ratio=0.75, clf__loss=perceptron, clf__penalty=l2, clf__power_t=1;, score=0.967 total time=   1.9s\n",
            "[CV 2/3; 138/324] START clf__alpha=0.0001001, clf__average=True, clf__l1_ratio=0.75, clf__loss=perceptron, clf__penalty=l2, clf__power_t=1\n",
            "[CV 2/3; 138/324] END clf__alpha=0.0001001, clf__average=True, clf__l1_ratio=0.75, clf__loss=perceptron, clf__penalty=l2, clf__power_t=1;, score=0.968 total time=   1.9s\n",
            "[CV 3/3; 138/324] START clf__alpha=0.0001001, clf__average=True, clf__l1_ratio=0.75, clf__loss=perceptron, clf__penalty=l2, clf__power_t=1\n",
            "[CV 3/3; 138/324] END clf__alpha=0.0001001, clf__average=True, clf__l1_ratio=0.75, clf__loss=perceptron, clf__penalty=l2, clf__power_t=1;, score=0.986 total time=   1.8s\n",
            "[CV 1/3; 139/324] START clf__alpha=0.0001001, clf__average=True, clf__l1_ratio=0.75, clf__loss=perceptron, clf__penalty=l1, clf__power_t=0.25\n",
            "[CV 1/3; 139/324] END clf__alpha=0.0001001, clf__average=True, clf__l1_ratio=0.75, clf__loss=perceptron, clf__penalty=l1, clf__power_t=0.25;, score=0.001 total time=   2.1s\n",
            "[CV 2/3; 139/324] START clf__alpha=0.0001001, clf__average=True, clf__l1_ratio=0.75, clf__loss=perceptron, clf__penalty=l1, clf__power_t=0.25\n",
            "[CV 2/3; 139/324] END clf__alpha=0.0001001, clf__average=True, clf__l1_ratio=0.75, clf__loss=perceptron, clf__penalty=l1, clf__power_t=0.25;, score=0.001 total time=   2.1s\n",
            "[CV 3/3; 139/324] START clf__alpha=0.0001001, clf__average=True, clf__l1_ratio=0.75, clf__loss=perceptron, clf__penalty=l1, clf__power_t=0.25\n",
            "[CV 3/3; 139/324] END clf__alpha=0.0001001, clf__average=True, clf__l1_ratio=0.75, clf__loss=perceptron, clf__penalty=l1, clf__power_t=0.25;, score=0.000 total time=   2.0s\n",
            "[CV 1/3; 140/324] START clf__alpha=0.0001001, clf__average=True, clf__l1_ratio=0.75, clf__loss=perceptron, clf__penalty=l1, clf__power_t=0.75\n",
            "[CV 1/3; 140/324] END clf__alpha=0.0001001, clf__average=True, clf__l1_ratio=0.75, clf__loss=perceptron, clf__penalty=l1, clf__power_t=0.75;, score=0.001 total time=   2.0s\n",
            "[CV 2/3; 140/324] START clf__alpha=0.0001001, clf__average=True, clf__l1_ratio=0.75, clf__loss=perceptron, clf__penalty=l1, clf__power_t=0.75\n",
            "[CV 2/3; 140/324] END clf__alpha=0.0001001, clf__average=True, clf__l1_ratio=0.75, clf__loss=perceptron, clf__penalty=l1, clf__power_t=0.75;, score=0.000 total time=   2.0s\n",
            "[CV 3/3; 140/324] START clf__alpha=0.0001001, clf__average=True, clf__l1_ratio=0.75, clf__loss=perceptron, clf__penalty=l1, clf__power_t=0.75\n",
            "[CV 3/3; 140/324] END clf__alpha=0.0001001, clf__average=True, clf__l1_ratio=0.75, clf__loss=perceptron, clf__penalty=l1, clf__power_t=0.75;, score=0.000 total time=   2.0s\n",
            "[CV 1/3; 141/324] START clf__alpha=0.0001001, clf__average=True, clf__l1_ratio=0.75, clf__loss=perceptron, clf__penalty=l1, clf__power_t=1\n",
            "[CV 1/3; 141/324] END clf__alpha=0.0001001, clf__average=True, clf__l1_ratio=0.75, clf__loss=perceptron, clf__penalty=l1, clf__power_t=1;, score=0.001 total time=   2.0s\n",
            "[CV 2/3; 141/324] START clf__alpha=0.0001001, clf__average=True, clf__l1_ratio=0.75, clf__loss=perceptron, clf__penalty=l1, clf__power_t=1\n",
            "[CV 2/3; 141/324] END clf__alpha=0.0001001, clf__average=True, clf__l1_ratio=0.75, clf__loss=perceptron, clf__penalty=l1, clf__power_t=1;, score=0.001 total time=   2.0s\n",
            "[CV 3/3; 141/324] START clf__alpha=0.0001001, clf__average=True, clf__l1_ratio=0.75, clf__loss=perceptron, clf__penalty=l1, clf__power_t=1\n",
            "[CV 3/3; 141/324] END clf__alpha=0.0001001, clf__average=True, clf__l1_ratio=0.75, clf__loss=perceptron, clf__penalty=l1, clf__power_t=1;, score=0.000 total time=   2.0s\n",
            "[CV 1/3; 142/324] START clf__alpha=0.0001001, clf__average=True, clf__l1_ratio=0.75, clf__loss=perceptron, clf__penalty=elasticnet, clf__power_t=0.25\n",
            "[CV 1/3; 142/324] END clf__alpha=0.0001001, clf__average=True, clf__l1_ratio=0.75, clf__loss=perceptron, clf__penalty=elasticnet, clf__power_t=0.25;, score=0.001 total time=   2.0s\n",
            "[CV 2/3; 142/324] START clf__alpha=0.0001001, clf__average=True, clf__l1_ratio=0.75, clf__loss=perceptron, clf__penalty=elasticnet, clf__power_t=0.25\n",
            "[CV 2/3; 142/324] END clf__alpha=0.0001001, clf__average=True, clf__l1_ratio=0.75, clf__loss=perceptron, clf__penalty=elasticnet, clf__power_t=0.25;, score=0.001 total time=   2.0s\n",
            "[CV 3/3; 142/324] START clf__alpha=0.0001001, clf__average=True, clf__l1_ratio=0.75, clf__loss=perceptron, clf__penalty=elasticnet, clf__power_t=0.25\n",
            "[CV 3/3; 142/324] END clf__alpha=0.0001001, clf__average=True, clf__l1_ratio=0.75, clf__loss=perceptron, clf__penalty=elasticnet, clf__power_t=0.25;, score=0.000 total time=   2.0s\n",
            "[CV 1/3; 143/324] START clf__alpha=0.0001001, clf__average=True, clf__l1_ratio=0.75, clf__loss=perceptron, clf__penalty=elasticnet, clf__power_t=0.75\n",
            "[CV 1/3; 143/324] END clf__alpha=0.0001001, clf__average=True, clf__l1_ratio=0.75, clf__loss=perceptron, clf__penalty=elasticnet, clf__power_t=0.75;, score=0.001 total time=   2.0s\n",
            "[CV 2/3; 143/324] START clf__alpha=0.0001001, clf__average=True, clf__l1_ratio=0.75, clf__loss=perceptron, clf__penalty=elasticnet, clf__power_t=0.75\n",
            "[CV 2/3; 143/324] END clf__alpha=0.0001001, clf__average=True, clf__l1_ratio=0.75, clf__loss=perceptron, clf__penalty=elasticnet, clf__power_t=0.75;, score=0.001 total time=   2.0s\n",
            "[CV 3/3; 143/324] START clf__alpha=0.0001001, clf__average=True, clf__l1_ratio=0.75, clf__loss=perceptron, clf__penalty=elasticnet, clf__power_t=0.75\n",
            "[CV 3/3; 143/324] END clf__alpha=0.0001001, clf__average=True, clf__l1_ratio=0.75, clf__loss=perceptron, clf__penalty=elasticnet, clf__power_t=0.75;, score=0.000 total time=   2.0s\n",
            "[CV 1/3; 144/324] START clf__alpha=0.0001001, clf__average=True, clf__l1_ratio=0.75, clf__loss=perceptron, clf__penalty=elasticnet, clf__power_t=1\n",
            "[CV 1/3; 144/324] END clf__alpha=0.0001001, clf__average=True, clf__l1_ratio=0.75, clf__loss=perceptron, clf__penalty=elasticnet, clf__power_t=1;, score=0.001 total time=   2.1s\n",
            "[CV 2/3; 144/324] START clf__alpha=0.0001001, clf__average=True, clf__l1_ratio=0.75, clf__loss=perceptron, clf__penalty=elasticnet, clf__power_t=1\n",
            "[CV 2/3; 144/324] END clf__alpha=0.0001001, clf__average=True, clf__l1_ratio=0.75, clf__loss=perceptron, clf__penalty=elasticnet, clf__power_t=1;, score=0.001 total time=   2.1s\n",
            "[CV 3/3; 144/324] START clf__alpha=0.0001001, clf__average=True, clf__l1_ratio=0.75, clf__loss=perceptron, clf__penalty=elasticnet, clf__power_t=1\n",
            "[CV 3/3; 144/324] END clf__alpha=0.0001001, clf__average=True, clf__l1_ratio=0.75, clf__loss=perceptron, clf__penalty=elasticnet, clf__power_t=1;, score=0.000 total time=   2.1s\n",
            "[CV 1/3; 145/324] START clf__alpha=0.0001001, clf__average=True, clf__l1_ratio=1, clf__loss=log, clf__penalty=l2, clf__power_t=0.25\n",
            "[CV 1/3; 145/324] END clf__alpha=0.0001001, clf__average=True, clf__l1_ratio=1, clf__loss=log, clf__penalty=l2, clf__power_t=0.25;, score=0.920 total time=   2.2s\n",
            "[CV 2/3; 145/324] START clf__alpha=0.0001001, clf__average=True, clf__l1_ratio=1, clf__loss=log, clf__penalty=l2, clf__power_t=0.25\n",
            "[CV 2/3; 145/324] END clf__alpha=0.0001001, clf__average=True, clf__l1_ratio=1, clf__loss=log, clf__penalty=l2, clf__power_t=0.25;, score=0.930 total time=   2.2s\n",
            "[CV 3/3; 145/324] START clf__alpha=0.0001001, clf__average=True, clf__l1_ratio=1, clf__loss=log, clf__penalty=l2, clf__power_t=0.25\n",
            "[CV 3/3; 145/324] END clf__alpha=0.0001001, clf__average=True, clf__l1_ratio=1, clf__loss=log, clf__penalty=l2, clf__power_t=0.25;, score=0.936 total time=   2.2s\n",
            "[CV 1/3; 146/324] START clf__alpha=0.0001001, clf__average=True, clf__l1_ratio=1, clf__loss=log, clf__penalty=l2, clf__power_t=0.75\n",
            "[CV 1/3; 146/324] END clf__alpha=0.0001001, clf__average=True, clf__l1_ratio=1, clf__loss=log, clf__penalty=l2, clf__power_t=0.75;, score=0.921 total time=   2.1s\n",
            "[CV 2/3; 146/324] START clf__alpha=0.0001001, clf__average=True, clf__l1_ratio=1, clf__loss=log, clf__penalty=l2, clf__power_t=0.75\n",
            "[CV 2/3; 146/324] END clf__alpha=0.0001001, clf__average=True, clf__l1_ratio=1, clf__loss=log, clf__penalty=l2, clf__power_t=0.75;, score=0.930 total time=   2.2s\n",
            "[CV 3/3; 146/324] START clf__alpha=0.0001001, clf__average=True, clf__l1_ratio=1, clf__loss=log, clf__penalty=l2, clf__power_t=0.75\n",
            "[CV 3/3; 146/324] END clf__alpha=0.0001001, clf__average=True, clf__l1_ratio=1, clf__loss=log, clf__penalty=l2, clf__power_t=0.75;, score=0.936 total time=   2.2s\n",
            "[CV 1/3; 147/324] START clf__alpha=0.0001001, clf__average=True, clf__l1_ratio=1, clf__loss=log, clf__penalty=l2, clf__power_t=1\n",
            "[CV 1/3; 147/324] END clf__alpha=0.0001001, clf__average=True, clf__l1_ratio=1, clf__loss=log, clf__penalty=l2, clf__power_t=1;, score=0.921 total time=   2.2s\n",
            "[CV 2/3; 147/324] START clf__alpha=0.0001001, clf__average=True, clf__l1_ratio=1, clf__loss=log, clf__penalty=l2, clf__power_t=1\n",
            "[CV 2/3; 147/324] END clf__alpha=0.0001001, clf__average=True, clf__l1_ratio=1, clf__loss=log, clf__penalty=l2, clf__power_t=1;, score=0.930 total time=   2.1s\n",
            "[CV 3/3; 147/324] START clf__alpha=0.0001001, clf__average=True, clf__l1_ratio=1, clf__loss=log, clf__penalty=l2, clf__power_t=1\n",
            "[CV 3/3; 147/324] END clf__alpha=0.0001001, clf__average=True, clf__l1_ratio=1, clf__loss=log, clf__penalty=l2, clf__power_t=1;, score=0.936 total time=   2.1s\n",
            "[CV 1/3; 148/324] START clf__alpha=0.0001001, clf__average=True, clf__l1_ratio=1, clf__loss=log, clf__penalty=l1, clf__power_t=0.25\n",
            "[CV 1/3; 148/324] END clf__alpha=0.0001001, clf__average=True, clf__l1_ratio=1, clf__loss=log, clf__penalty=l1, clf__power_t=0.25;, score=0.651 total time=   2.4s\n",
            "[CV 2/3; 148/324] START clf__alpha=0.0001001, clf__average=True, clf__l1_ratio=1, clf__loss=log, clf__penalty=l1, clf__power_t=0.25\n",
            "[CV 2/3; 148/324] END clf__alpha=0.0001001, clf__average=True, clf__l1_ratio=1, clf__loss=log, clf__penalty=l1, clf__power_t=0.25;, score=0.654 total time=   2.5s\n",
            "[CV 3/3; 148/324] START clf__alpha=0.0001001, clf__average=True, clf__l1_ratio=1, clf__loss=log, clf__penalty=l1, clf__power_t=0.25\n",
            "[CV 3/3; 148/324] END clf__alpha=0.0001001, clf__average=True, clf__l1_ratio=1, clf__loss=log, clf__penalty=l1, clf__power_t=0.25;, score=0.657 total time=   2.5s\n",
            "[CV 1/3; 149/324] START clf__alpha=0.0001001, clf__average=True, clf__l1_ratio=1, clf__loss=log, clf__penalty=l1, clf__power_t=0.75\n",
            "[CV 1/3; 149/324] END clf__alpha=0.0001001, clf__average=True, clf__l1_ratio=1, clf__loss=log, clf__penalty=l1, clf__power_t=0.75;, score=0.646 total time=   2.4s\n",
            "[CV 2/3; 149/324] START clf__alpha=0.0001001, clf__average=True, clf__l1_ratio=1, clf__loss=log, clf__penalty=l1, clf__power_t=0.75\n",
            "[CV 2/3; 149/324] END clf__alpha=0.0001001, clf__average=True, clf__l1_ratio=1, clf__loss=log, clf__penalty=l1, clf__power_t=0.75;, score=0.659 total time=   2.4s\n",
            "[CV 3/3; 149/324] START clf__alpha=0.0001001, clf__average=True, clf__l1_ratio=1, clf__loss=log, clf__penalty=l1, clf__power_t=0.75\n",
            "[CV 3/3; 149/324] END clf__alpha=0.0001001, clf__average=True, clf__l1_ratio=1, clf__loss=log, clf__penalty=l1, clf__power_t=0.75;, score=0.661 total time=   2.4s\n",
            "[CV 1/3; 150/324] START clf__alpha=0.0001001, clf__average=True, clf__l1_ratio=1, clf__loss=log, clf__penalty=l1, clf__power_t=1\n",
            "[CV 1/3; 150/324] END clf__alpha=0.0001001, clf__average=True, clf__l1_ratio=1, clf__loss=log, clf__penalty=l1, clf__power_t=1;, score=0.647 total time=   2.5s\n",
            "[CV 2/3; 150/324] START clf__alpha=0.0001001, clf__average=True, clf__l1_ratio=1, clf__loss=log, clf__penalty=l1, clf__power_t=1\n",
            "[CV 2/3; 150/324] END clf__alpha=0.0001001, clf__average=True, clf__l1_ratio=1, clf__loss=log, clf__penalty=l1, clf__power_t=1;, score=0.659 total time=   2.4s\n",
            "[CV 3/3; 150/324] START clf__alpha=0.0001001, clf__average=True, clf__l1_ratio=1, clf__loss=log, clf__penalty=l1, clf__power_t=1\n",
            "[CV 3/3; 150/324] END clf__alpha=0.0001001, clf__average=True, clf__l1_ratio=1, clf__loss=log, clf__penalty=l1, clf__power_t=1;, score=0.659 total time=   2.5s\n",
            "[CV 1/3; 151/324] START clf__alpha=0.0001001, clf__average=True, clf__l1_ratio=1, clf__loss=log, clf__penalty=elasticnet, clf__power_t=0.25\n",
            "[CV 1/3; 151/324] END clf__alpha=0.0001001, clf__average=True, clf__l1_ratio=1, clf__loss=log, clf__penalty=elasticnet, clf__power_t=0.25;, score=0.652 total time=   2.5s\n",
            "[CV 2/3; 151/324] START clf__alpha=0.0001001, clf__average=True, clf__l1_ratio=1, clf__loss=log, clf__penalty=elasticnet, clf__power_t=0.25\n",
            "[CV 2/3; 151/324] END clf__alpha=0.0001001, clf__average=True, clf__l1_ratio=1, clf__loss=log, clf__penalty=elasticnet, clf__power_t=0.25;, score=0.656 total time=   2.5s\n",
            "[CV 3/3; 151/324] START clf__alpha=0.0001001, clf__average=True, clf__l1_ratio=1, clf__loss=log, clf__penalty=elasticnet, clf__power_t=0.25\n",
            "[CV 3/3; 151/324] END clf__alpha=0.0001001, clf__average=True, clf__l1_ratio=1, clf__loss=log, clf__penalty=elasticnet, clf__power_t=0.25;, score=0.653 total time=   2.5s\n",
            "[CV 1/3; 152/324] START clf__alpha=0.0001001, clf__average=True, clf__l1_ratio=1, clf__loss=log, clf__penalty=elasticnet, clf__power_t=0.75\n",
            "[CV 1/3; 152/324] END clf__alpha=0.0001001, clf__average=True, clf__l1_ratio=1, clf__loss=log, clf__penalty=elasticnet, clf__power_t=0.75;, score=0.649 total time=   2.4s\n",
            "[CV 2/3; 152/324] START clf__alpha=0.0001001, clf__average=True, clf__l1_ratio=1, clf__loss=log, clf__penalty=elasticnet, clf__power_t=0.75\n",
            "[CV 2/3; 152/324] END clf__alpha=0.0001001, clf__average=True, clf__l1_ratio=1, clf__loss=log, clf__penalty=elasticnet, clf__power_t=0.75;, score=0.658 total time=   2.4s\n",
            "[CV 3/3; 152/324] START clf__alpha=0.0001001, clf__average=True, clf__l1_ratio=1, clf__loss=log, clf__penalty=elasticnet, clf__power_t=0.75\n",
            "[CV 3/3; 152/324] END clf__alpha=0.0001001, clf__average=True, clf__l1_ratio=1, clf__loss=log, clf__penalty=elasticnet, clf__power_t=0.75;, score=0.658 total time=   2.5s\n",
            "[CV 1/3; 153/324] START clf__alpha=0.0001001, clf__average=True, clf__l1_ratio=1, clf__loss=log, clf__penalty=elasticnet, clf__power_t=1\n",
            "[CV 1/3; 153/324] END clf__alpha=0.0001001, clf__average=True, clf__l1_ratio=1, clf__loss=log, clf__penalty=elasticnet, clf__power_t=1;, score=0.647 total time=   2.5s\n",
            "[CV 2/3; 153/324] START clf__alpha=0.0001001, clf__average=True, clf__l1_ratio=1, clf__loss=log, clf__penalty=elasticnet, clf__power_t=1\n",
            "[CV 2/3; 153/324] END clf__alpha=0.0001001, clf__average=True, clf__l1_ratio=1, clf__loss=log, clf__penalty=elasticnet, clf__power_t=1;, score=0.659 total time=   2.5s\n",
            "[CV 3/3; 153/324] START clf__alpha=0.0001001, clf__average=True, clf__l1_ratio=1, clf__loss=log, clf__penalty=elasticnet, clf__power_t=1\n",
            "[CV 3/3; 153/324] END clf__alpha=0.0001001, clf__average=True, clf__l1_ratio=1, clf__loss=log, clf__penalty=elasticnet, clf__power_t=1;, score=0.655 total time=   2.4s\n",
            "[CV 1/3; 154/324] START clf__alpha=0.0001001, clf__average=True, clf__l1_ratio=1, clf__loss=perceptron, clf__penalty=l2, clf__power_t=0.25\n",
            "[CV 1/3; 154/324] END clf__alpha=0.0001001, clf__average=True, clf__l1_ratio=1, clf__loss=perceptron, clf__penalty=l2, clf__power_t=0.25;, score=0.966 total time=   1.8s\n",
            "[CV 2/3; 154/324] START clf__alpha=0.0001001, clf__average=True, clf__l1_ratio=1, clf__loss=perceptron, clf__penalty=l2, clf__power_t=0.25\n",
            "[CV 2/3; 154/324] END clf__alpha=0.0001001, clf__average=True, clf__l1_ratio=1, clf__loss=perceptron, clf__penalty=l2, clf__power_t=0.25;, score=0.972 total time=   1.8s\n",
            "[CV 3/3; 154/324] START clf__alpha=0.0001001, clf__average=True, clf__l1_ratio=1, clf__loss=perceptron, clf__penalty=l2, clf__power_t=0.25\n",
            "[CV 3/3; 154/324] END clf__alpha=0.0001001, clf__average=True, clf__l1_ratio=1, clf__loss=perceptron, clf__penalty=l2, clf__power_t=0.25;, score=0.986 total time=   1.8s\n",
            "[CV 1/3; 155/324] START clf__alpha=0.0001001, clf__average=True, clf__l1_ratio=1, clf__loss=perceptron, clf__penalty=l2, clf__power_t=0.75\n",
            "[CV 1/3; 155/324] END clf__alpha=0.0001001, clf__average=True, clf__l1_ratio=1, clf__loss=perceptron, clf__penalty=l2, clf__power_t=0.75;, score=0.967 total time=   1.8s\n",
            "[CV 2/3; 155/324] START clf__alpha=0.0001001, clf__average=True, clf__l1_ratio=1, clf__loss=perceptron, clf__penalty=l2, clf__power_t=0.75\n",
            "[CV 2/3; 155/324] END clf__alpha=0.0001001, clf__average=True, clf__l1_ratio=1, clf__loss=perceptron, clf__penalty=l2, clf__power_t=0.75;, score=0.971 total time=   1.8s\n",
            "[CV 3/3; 155/324] START clf__alpha=0.0001001, clf__average=True, clf__l1_ratio=1, clf__loss=perceptron, clf__penalty=l2, clf__power_t=0.75\n",
            "[CV 3/3; 155/324] END clf__alpha=0.0001001, clf__average=True, clf__l1_ratio=1, clf__loss=perceptron, clf__penalty=l2, clf__power_t=0.75;, score=0.989 total time=   1.8s\n",
            "[CV 1/3; 156/324] START clf__alpha=0.0001001, clf__average=True, clf__l1_ratio=1, clf__loss=perceptron, clf__penalty=l2, clf__power_t=1\n",
            "[CV 1/3; 156/324] END clf__alpha=0.0001001, clf__average=True, clf__l1_ratio=1, clf__loss=perceptron, clf__penalty=l2, clf__power_t=1;, score=0.968 total time=   1.8s\n",
            "[CV 2/3; 156/324] START clf__alpha=0.0001001, clf__average=True, clf__l1_ratio=1, clf__loss=perceptron, clf__penalty=l2, clf__power_t=1\n",
            "[CV 2/3; 156/324] END clf__alpha=0.0001001, clf__average=True, clf__l1_ratio=1, clf__loss=perceptron, clf__penalty=l2, clf__power_t=1;, score=0.969 total time=   1.8s\n",
            "[CV 3/3; 156/324] START clf__alpha=0.0001001, clf__average=True, clf__l1_ratio=1, clf__loss=perceptron, clf__penalty=l2, clf__power_t=1\n",
            "[CV 3/3; 156/324] END clf__alpha=0.0001001, clf__average=True, clf__l1_ratio=1, clf__loss=perceptron, clf__penalty=l2, clf__power_t=1;, score=0.985 total time=   1.9s\n",
            "[CV 1/3; 157/324] START clf__alpha=0.0001001, clf__average=True, clf__l1_ratio=1, clf__loss=perceptron, clf__penalty=l1, clf__power_t=0.25\n",
            "[CV 1/3; 157/324] END clf__alpha=0.0001001, clf__average=True, clf__l1_ratio=1, clf__loss=perceptron, clf__penalty=l1, clf__power_t=0.25;, score=0.001 total time=   2.0s\n",
            "[CV 2/3; 157/324] START clf__alpha=0.0001001, clf__average=True, clf__l1_ratio=1, clf__loss=perceptron, clf__penalty=l1, clf__power_t=0.25\n",
            "[CV 2/3; 157/324] END clf__alpha=0.0001001, clf__average=True, clf__l1_ratio=1, clf__loss=perceptron, clf__penalty=l1, clf__power_t=0.25;, score=0.001 total time=   2.0s\n",
            "[CV 3/3; 157/324] START clf__alpha=0.0001001, clf__average=True, clf__l1_ratio=1, clf__loss=perceptron, clf__penalty=l1, clf__power_t=0.25\n",
            "[CV 3/3; 157/324] END clf__alpha=0.0001001, clf__average=True, clf__l1_ratio=1, clf__loss=perceptron, clf__penalty=l1, clf__power_t=0.25;, score=0.000 total time=   1.9s\n",
            "[CV 1/3; 158/324] START clf__alpha=0.0001001, clf__average=True, clf__l1_ratio=1, clf__loss=perceptron, clf__penalty=l1, clf__power_t=0.75\n",
            "[CV 1/3; 158/324] END clf__alpha=0.0001001, clf__average=True, clf__l1_ratio=1, clf__loss=perceptron, clf__penalty=l1, clf__power_t=0.75;, score=0.001 total time=   2.0s\n",
            "[CV 2/3; 158/324] START clf__alpha=0.0001001, clf__average=True, clf__l1_ratio=1, clf__loss=perceptron, clf__penalty=l1, clf__power_t=0.75\n",
            "[CV 2/3; 158/324] END clf__alpha=0.0001001, clf__average=True, clf__l1_ratio=1, clf__loss=perceptron, clf__penalty=l1, clf__power_t=0.75;, score=0.001 total time=   2.0s\n",
            "[CV 3/3; 158/324] START clf__alpha=0.0001001, clf__average=True, clf__l1_ratio=1, clf__loss=perceptron, clf__penalty=l1, clf__power_t=0.75\n",
            "[CV 3/3; 158/324] END clf__alpha=0.0001001, clf__average=True, clf__l1_ratio=1, clf__loss=perceptron, clf__penalty=l1, clf__power_t=0.75;, score=0.000 total time=   2.0s\n",
            "[CV 1/3; 159/324] START clf__alpha=0.0001001, clf__average=True, clf__l1_ratio=1, clf__loss=perceptron, clf__penalty=l1, clf__power_t=1\n",
            "[CV 1/3; 159/324] END clf__alpha=0.0001001, clf__average=True, clf__l1_ratio=1, clf__loss=perceptron, clf__penalty=l1, clf__power_t=1;, score=0.001 total time=   2.0s\n",
            "[CV 2/3; 159/324] START clf__alpha=0.0001001, clf__average=True, clf__l1_ratio=1, clf__loss=perceptron, clf__penalty=l1, clf__power_t=1\n",
            "[CV 2/3; 159/324] END clf__alpha=0.0001001, clf__average=True, clf__l1_ratio=1, clf__loss=perceptron, clf__penalty=l1, clf__power_t=1;, score=0.001 total time=   2.0s\n",
            "[CV 3/3; 159/324] START clf__alpha=0.0001001, clf__average=True, clf__l1_ratio=1, clf__loss=perceptron, clf__penalty=l1, clf__power_t=1\n",
            "[CV 3/3; 159/324] END clf__alpha=0.0001001, clf__average=True, clf__l1_ratio=1, clf__loss=perceptron, clf__penalty=l1, clf__power_t=1;, score=0.000 total time=   1.9s\n",
            "[CV 1/3; 160/324] START clf__alpha=0.0001001, clf__average=True, clf__l1_ratio=1, clf__loss=perceptron, clf__penalty=elasticnet, clf__power_t=0.25\n",
            "[CV 1/3; 160/324] END clf__alpha=0.0001001, clf__average=True, clf__l1_ratio=1, clf__loss=perceptron, clf__penalty=elasticnet, clf__power_t=0.25;, score=0.001 total time=   2.0s\n",
            "[CV 2/3; 160/324] START clf__alpha=0.0001001, clf__average=True, clf__l1_ratio=1, clf__loss=perceptron, clf__penalty=elasticnet, clf__power_t=0.25\n",
            "[CV 2/3; 160/324] END clf__alpha=0.0001001, clf__average=True, clf__l1_ratio=1, clf__loss=perceptron, clf__penalty=elasticnet, clf__power_t=0.25;, score=0.000 total time=   2.0s\n",
            "[CV 3/3; 160/324] START clf__alpha=0.0001001, clf__average=True, clf__l1_ratio=1, clf__loss=perceptron, clf__penalty=elasticnet, clf__power_t=0.25\n",
            "[CV 3/3; 160/324] END clf__alpha=0.0001001, clf__average=True, clf__l1_ratio=1, clf__loss=perceptron, clf__penalty=elasticnet, clf__power_t=0.25;, score=0.000 total time=   2.0s\n",
            "[CV 1/3; 161/324] START clf__alpha=0.0001001, clf__average=True, clf__l1_ratio=1, clf__loss=perceptron, clf__penalty=elasticnet, clf__power_t=0.75\n",
            "[CV 1/3; 161/324] END clf__alpha=0.0001001, clf__average=True, clf__l1_ratio=1, clf__loss=perceptron, clf__penalty=elasticnet, clf__power_t=0.75;, score=0.001 total time=   2.0s\n",
            "[CV 2/3; 161/324] START clf__alpha=0.0001001, clf__average=True, clf__l1_ratio=1, clf__loss=perceptron, clf__penalty=elasticnet, clf__power_t=0.75\n",
            "[CV 2/3; 161/324] END clf__alpha=0.0001001, clf__average=True, clf__l1_ratio=1, clf__loss=perceptron, clf__penalty=elasticnet, clf__power_t=0.75;, score=0.001 total time=   1.9s\n",
            "[CV 3/3; 161/324] START clf__alpha=0.0001001, clf__average=True, clf__l1_ratio=1, clf__loss=perceptron, clf__penalty=elasticnet, clf__power_t=0.75\n",
            "[CV 3/3; 161/324] END clf__alpha=0.0001001, clf__average=True, clf__l1_ratio=1, clf__loss=perceptron, clf__penalty=elasticnet, clf__power_t=0.75;, score=0.000 total time=   2.0s\n",
            "[CV 1/3; 162/324] START clf__alpha=0.0001001, clf__average=True, clf__l1_ratio=1, clf__loss=perceptron, clf__penalty=elasticnet, clf__power_t=1\n",
            "[CV 1/3; 162/324] END clf__alpha=0.0001001, clf__average=True, clf__l1_ratio=1, clf__loss=perceptron, clf__penalty=elasticnet, clf__power_t=1;, score=0.001 total time=   2.0s\n",
            "[CV 2/3; 162/324] START clf__alpha=0.0001001, clf__average=True, clf__l1_ratio=1, clf__loss=perceptron, clf__penalty=elasticnet, clf__power_t=1\n",
            "[CV 2/3; 162/324] END clf__alpha=0.0001001, clf__average=True, clf__l1_ratio=1, clf__loss=perceptron, clf__penalty=elasticnet, clf__power_t=1;, score=0.001 total time=   2.0s\n",
            "[CV 3/3; 162/324] START clf__alpha=0.0001001, clf__average=True, clf__l1_ratio=1, clf__loss=perceptron, clf__penalty=elasticnet, clf__power_t=1\n",
            "[CV 3/3; 162/324] END clf__alpha=0.0001001, clf__average=True, clf__l1_ratio=1, clf__loss=perceptron, clf__penalty=elasticnet, clf__power_t=1;, score=0.000 total time=   2.0s\n",
            "[CV 1/3; 163/324] START clf__alpha=0.0001001, clf__average=False, clf__l1_ratio=0.25, clf__loss=log, clf__penalty=l2, clf__power_t=0.25\n",
            "[CV 1/3; 163/324] END clf__alpha=0.0001001, clf__average=False, clf__l1_ratio=0.25, clf__loss=log, clf__penalty=l2, clf__power_t=0.25;, score=0.922 total time=   2.1s\n",
            "[CV 2/3; 163/324] START clf__alpha=0.0001001, clf__average=False, clf__l1_ratio=0.25, clf__loss=log, clf__penalty=l2, clf__power_t=0.25\n",
            "[CV 2/3; 163/324] END clf__alpha=0.0001001, clf__average=False, clf__l1_ratio=0.25, clf__loss=log, clf__penalty=l2, clf__power_t=0.25;, score=0.930 total time=   2.1s\n",
            "[CV 3/3; 163/324] START clf__alpha=0.0001001, clf__average=False, clf__l1_ratio=0.25, clf__loss=log, clf__penalty=l2, clf__power_t=0.25\n",
            "[CV 3/3; 163/324] END clf__alpha=0.0001001, clf__average=False, clf__l1_ratio=0.25, clf__loss=log, clf__penalty=l2, clf__power_t=0.25;, score=0.937 total time=   2.1s\n",
            "[CV 1/3; 164/324] START clf__alpha=0.0001001, clf__average=False, clf__l1_ratio=0.25, clf__loss=log, clf__penalty=l2, clf__power_t=0.75\n",
            "[CV 1/3; 164/324] END clf__alpha=0.0001001, clf__average=False, clf__l1_ratio=0.25, clf__loss=log, clf__penalty=l2, clf__power_t=0.75;, score=0.921 total time=   2.1s\n",
            "[CV 2/3; 164/324] START clf__alpha=0.0001001, clf__average=False, clf__l1_ratio=0.25, clf__loss=log, clf__penalty=l2, clf__power_t=0.75\n",
            "[CV 2/3; 164/324] END clf__alpha=0.0001001, clf__average=False, clf__l1_ratio=0.25, clf__loss=log, clf__penalty=l2, clf__power_t=0.75;, score=0.929 total time=   2.0s\n",
            "[CV 3/3; 164/324] START clf__alpha=0.0001001, clf__average=False, clf__l1_ratio=0.25, clf__loss=log, clf__penalty=l2, clf__power_t=0.75\n",
            "[CV 3/3; 164/324] END clf__alpha=0.0001001, clf__average=False, clf__l1_ratio=0.25, clf__loss=log, clf__penalty=l2, clf__power_t=0.75;, score=0.936 total time=   2.0s\n",
            "[CV 1/3; 165/324] START clf__alpha=0.0001001, clf__average=False, clf__l1_ratio=0.25, clf__loss=log, clf__penalty=l2, clf__power_t=1\n",
            "[CV 1/3; 165/324] END clf__alpha=0.0001001, clf__average=False, clf__l1_ratio=0.25, clf__loss=log, clf__penalty=l2, clf__power_t=1;, score=0.921 total time=   2.0s\n",
            "[CV 2/3; 165/324] START clf__alpha=0.0001001, clf__average=False, clf__l1_ratio=0.25, clf__loss=log, clf__penalty=l2, clf__power_t=1\n",
            "[CV 2/3; 165/324] END clf__alpha=0.0001001, clf__average=False, clf__l1_ratio=0.25, clf__loss=log, clf__penalty=l2, clf__power_t=1;, score=0.930 total time=   2.0s\n",
            "[CV 3/3; 165/324] START clf__alpha=0.0001001, clf__average=False, clf__l1_ratio=0.25, clf__loss=log, clf__penalty=l2, clf__power_t=1\n",
            "[CV 3/3; 165/324] END clf__alpha=0.0001001, clf__average=False, clf__l1_ratio=0.25, clf__loss=log, clf__penalty=l2, clf__power_t=1;, score=0.936 total time=   2.0s\n",
            "[CV 1/3; 166/324] START clf__alpha=0.0001001, clf__average=False, clf__l1_ratio=0.25, clf__loss=log, clf__penalty=l1, clf__power_t=0.25\n",
            "[CV 1/3; 166/324] END clf__alpha=0.0001001, clf__average=False, clf__l1_ratio=0.25, clf__loss=log, clf__penalty=l1, clf__power_t=0.25;, score=0.879 total time=   2.4s\n",
            "[CV 2/3; 166/324] START clf__alpha=0.0001001, clf__average=False, clf__l1_ratio=0.25, clf__loss=log, clf__penalty=l1, clf__power_t=0.25\n",
            "[CV 2/3; 166/324] END clf__alpha=0.0001001, clf__average=False, clf__l1_ratio=0.25, clf__loss=log, clf__penalty=l1, clf__power_t=0.25;, score=0.883 total time=   2.4s\n",
            "[CV 3/3; 166/324] START clf__alpha=0.0001001, clf__average=False, clf__l1_ratio=0.25, clf__loss=log, clf__penalty=l1, clf__power_t=0.25\n",
            "[CV 3/3; 166/324] END clf__alpha=0.0001001, clf__average=False, clf__l1_ratio=0.25, clf__loss=log, clf__penalty=l1, clf__power_t=0.25;, score=0.887 total time=   2.4s\n",
            "[CV 1/3; 167/324] START clf__alpha=0.0001001, clf__average=False, clf__l1_ratio=0.25, clf__loss=log, clf__penalty=l1, clf__power_t=0.75\n",
            "[CV 1/3; 167/324] END clf__alpha=0.0001001, clf__average=False, clf__l1_ratio=0.25, clf__loss=log, clf__penalty=l1, clf__power_t=0.75;, score=0.878 total time=   2.4s\n",
            "[CV 2/3; 167/324] START clf__alpha=0.0001001, clf__average=False, clf__l1_ratio=0.25, clf__loss=log, clf__penalty=l1, clf__power_t=0.75\n",
            "[CV 2/3; 167/324] END clf__alpha=0.0001001, clf__average=False, clf__l1_ratio=0.25, clf__loss=log, clf__penalty=l1, clf__power_t=0.75;, score=0.882 total time=   2.4s\n",
            "[CV 3/3; 167/324] START clf__alpha=0.0001001, clf__average=False, clf__l1_ratio=0.25, clf__loss=log, clf__penalty=l1, clf__power_t=0.75\n",
            "[CV 3/3; 167/324] END clf__alpha=0.0001001, clf__average=False, clf__l1_ratio=0.25, clf__loss=log, clf__penalty=l1, clf__power_t=0.75;, score=0.886 total time=   2.3s\n",
            "[CV 1/3; 168/324] START clf__alpha=0.0001001, clf__average=False, clf__l1_ratio=0.25, clf__loss=log, clf__penalty=l1, clf__power_t=1\n",
            "[CV 1/3; 168/324] END clf__alpha=0.0001001, clf__average=False, clf__l1_ratio=0.25, clf__loss=log, clf__penalty=l1, clf__power_t=1;, score=0.876 total time=   2.4s\n",
            "[CV 2/3; 168/324] START clf__alpha=0.0001001, clf__average=False, clf__l1_ratio=0.25, clf__loss=log, clf__penalty=l1, clf__power_t=1\n",
            "[CV 2/3; 168/324] END clf__alpha=0.0001001, clf__average=False, clf__l1_ratio=0.25, clf__loss=log, clf__penalty=l1, clf__power_t=1;, score=0.883 total time=   2.4s\n",
            "[CV 3/3; 168/324] START clf__alpha=0.0001001, clf__average=False, clf__l1_ratio=0.25, clf__loss=log, clf__penalty=l1, clf__power_t=1\n",
            "[CV 3/3; 168/324] END clf__alpha=0.0001001, clf__average=False, clf__l1_ratio=0.25, clf__loss=log, clf__penalty=l1, clf__power_t=1;, score=0.889 total time=   2.4s\n",
            "[CV 1/3; 169/324] START clf__alpha=0.0001001, clf__average=False, clf__l1_ratio=0.25, clf__loss=log, clf__penalty=elasticnet, clf__power_t=0.25\n",
            "[CV 1/3; 169/324] END clf__alpha=0.0001001, clf__average=False, clf__l1_ratio=0.25, clf__loss=log, clf__penalty=elasticnet, clf__power_t=0.25;, score=0.908 total time=   2.4s\n",
            "[CV 2/3; 169/324] START clf__alpha=0.0001001, clf__average=False, clf__l1_ratio=0.25, clf__loss=log, clf__penalty=elasticnet, clf__power_t=0.25\n",
            "[CV 2/3; 169/324] END clf__alpha=0.0001001, clf__average=False, clf__l1_ratio=0.25, clf__loss=log, clf__penalty=elasticnet, clf__power_t=0.25;, score=0.914 total time=   2.4s\n",
            "[CV 3/3; 169/324] START clf__alpha=0.0001001, clf__average=False, clf__l1_ratio=0.25, clf__loss=log, clf__penalty=elasticnet, clf__power_t=0.25\n",
            "[CV 3/3; 169/324] END clf__alpha=0.0001001, clf__average=False, clf__l1_ratio=0.25, clf__loss=log, clf__penalty=elasticnet, clf__power_t=0.25;, score=0.921 total time=   2.3s\n",
            "[CV 1/3; 170/324] START clf__alpha=0.0001001, clf__average=False, clf__l1_ratio=0.25, clf__loss=log, clf__penalty=elasticnet, clf__power_t=0.75\n",
            "[CV 1/3; 170/324] END clf__alpha=0.0001001, clf__average=False, clf__l1_ratio=0.25, clf__loss=log, clf__penalty=elasticnet, clf__power_t=0.75;, score=0.908 total time=   2.4s\n",
            "[CV 2/3; 170/324] START clf__alpha=0.0001001, clf__average=False, clf__l1_ratio=0.25, clf__loss=log, clf__penalty=elasticnet, clf__power_t=0.75\n",
            "[CV 2/3; 170/324] END clf__alpha=0.0001001, clf__average=False, clf__l1_ratio=0.25, clf__loss=log, clf__penalty=elasticnet, clf__power_t=0.75;, score=0.914 total time=   2.4s\n",
            "[CV 3/3; 170/324] START clf__alpha=0.0001001, clf__average=False, clf__l1_ratio=0.25, clf__loss=log, clf__penalty=elasticnet, clf__power_t=0.75\n",
            "[CV 3/3; 170/324] END clf__alpha=0.0001001, clf__average=False, clf__l1_ratio=0.25, clf__loss=log, clf__penalty=elasticnet, clf__power_t=0.75;, score=0.920 total time=   2.4s\n",
            "[CV 1/3; 171/324] START clf__alpha=0.0001001, clf__average=False, clf__l1_ratio=0.25, clf__loss=log, clf__penalty=elasticnet, clf__power_t=1\n",
            "[CV 1/3; 171/324] END clf__alpha=0.0001001, clf__average=False, clf__l1_ratio=0.25, clf__loss=log, clf__penalty=elasticnet, clf__power_t=1;, score=0.908 total time=   2.5s\n",
            "[CV 2/3; 171/324] START clf__alpha=0.0001001, clf__average=False, clf__l1_ratio=0.25, clf__loss=log, clf__penalty=elasticnet, clf__power_t=1\n",
            "[CV 2/3; 171/324] END clf__alpha=0.0001001, clf__average=False, clf__l1_ratio=0.25, clf__loss=log, clf__penalty=elasticnet, clf__power_t=1;, score=0.913 total time=   2.3s\n",
            "[CV 3/3; 171/324] START clf__alpha=0.0001001, clf__average=False, clf__l1_ratio=0.25, clf__loss=log, clf__penalty=elasticnet, clf__power_t=1\n",
            "[CV 3/3; 171/324] END clf__alpha=0.0001001, clf__average=False, clf__l1_ratio=0.25, clf__loss=log, clf__penalty=elasticnet, clf__power_t=1;, score=0.920 total time=   2.4s\n",
            "[CV 1/3; 172/324] START clf__alpha=0.0001001, clf__average=False, clf__l1_ratio=0.25, clf__loss=perceptron, clf__penalty=l2, clf__power_t=0.25\n",
            "[CV 1/3; 172/324] END clf__alpha=0.0001001, clf__average=False, clf__l1_ratio=0.25, clf__loss=perceptron, clf__penalty=l2, clf__power_t=0.25;, score=0.971 total time=   1.7s\n",
            "[CV 2/3; 172/324] START clf__alpha=0.0001001, clf__average=False, clf__l1_ratio=0.25, clf__loss=perceptron, clf__penalty=l2, clf__power_t=0.25\n",
            "[CV 2/3; 172/324] END clf__alpha=0.0001001, clf__average=False, clf__l1_ratio=0.25, clf__loss=perceptron, clf__penalty=l2, clf__power_t=0.25;, score=0.975 total time=   1.7s\n",
            "[CV 3/3; 172/324] START clf__alpha=0.0001001, clf__average=False, clf__l1_ratio=0.25, clf__loss=perceptron, clf__penalty=l2, clf__power_t=0.25\n",
            "[CV 3/3; 172/324] END clf__alpha=0.0001001, clf__average=False, clf__l1_ratio=0.25, clf__loss=perceptron, clf__penalty=l2, clf__power_t=0.25;, score=0.992 total time=   1.7s\n",
            "[CV 1/3; 173/324] START clf__alpha=0.0001001, clf__average=False, clf__l1_ratio=0.25, clf__loss=perceptron, clf__penalty=l2, clf__power_t=0.75\n",
            "[CV 1/3; 173/324] END clf__alpha=0.0001001, clf__average=False, clf__l1_ratio=0.25, clf__loss=perceptron, clf__penalty=l2, clf__power_t=0.75;, score=0.971 total time=   1.8s\n",
            "[CV 2/3; 173/324] START clf__alpha=0.0001001, clf__average=False, clf__l1_ratio=0.25, clf__loss=perceptron, clf__penalty=l2, clf__power_t=0.75\n",
            "[CV 2/3; 173/324] END clf__alpha=0.0001001, clf__average=False, clf__l1_ratio=0.25, clf__loss=perceptron, clf__penalty=l2, clf__power_t=0.75;, score=0.975 total time=   1.7s\n",
            "[CV 3/3; 173/324] START clf__alpha=0.0001001, clf__average=False, clf__l1_ratio=0.25, clf__loss=perceptron, clf__penalty=l2, clf__power_t=0.75\n",
            "[CV 3/3; 173/324] END clf__alpha=0.0001001, clf__average=False, clf__l1_ratio=0.25, clf__loss=perceptron, clf__penalty=l2, clf__power_t=0.75;, score=0.992 total time=   1.7s\n",
            "[CV 1/3; 174/324] START clf__alpha=0.0001001, clf__average=False, clf__l1_ratio=0.25, clf__loss=perceptron, clf__penalty=l2, clf__power_t=1\n",
            "[CV 1/3; 174/324] END clf__alpha=0.0001001, clf__average=False, clf__l1_ratio=0.25, clf__loss=perceptron, clf__penalty=l2, clf__power_t=1;, score=0.971 total time=   1.7s\n",
            "[CV 2/3; 174/324] START clf__alpha=0.0001001, clf__average=False, clf__l1_ratio=0.25, clf__loss=perceptron, clf__penalty=l2, clf__power_t=1\n",
            "[CV 2/3; 174/324] END clf__alpha=0.0001001, clf__average=False, clf__l1_ratio=0.25, clf__loss=perceptron, clf__penalty=l2, clf__power_t=1;, score=0.976 total time=   1.7s\n",
            "[CV 3/3; 174/324] START clf__alpha=0.0001001, clf__average=False, clf__l1_ratio=0.25, clf__loss=perceptron, clf__penalty=l2, clf__power_t=1\n",
            "[CV 3/3; 174/324] END clf__alpha=0.0001001, clf__average=False, clf__l1_ratio=0.25, clf__loss=perceptron, clf__penalty=l2, clf__power_t=1;, score=0.991 total time=   1.7s\n",
            "[CV 1/3; 175/324] START clf__alpha=0.0001001, clf__average=False, clf__l1_ratio=0.25, clf__loss=perceptron, clf__penalty=l1, clf__power_t=0.25\n",
            "[CV 1/3; 175/324] END clf__alpha=0.0001001, clf__average=False, clf__l1_ratio=0.25, clf__loss=perceptron, clf__penalty=l1, clf__power_t=0.25;, score=0.682 total time=   1.9s\n",
            "[CV 2/3; 175/324] START clf__alpha=0.0001001, clf__average=False, clf__l1_ratio=0.25, clf__loss=perceptron, clf__penalty=l1, clf__power_t=0.25\n",
            "[CV 2/3; 175/324] END clf__alpha=0.0001001, clf__average=False, clf__l1_ratio=0.25, clf__loss=perceptron, clf__penalty=l1, clf__power_t=0.25;, score=0.726 total time=   2.0s\n",
            "[CV 3/3; 175/324] START clf__alpha=0.0001001, clf__average=False, clf__l1_ratio=0.25, clf__loss=perceptron, clf__penalty=l1, clf__power_t=0.25\n",
            "[CV 3/3; 175/324] END clf__alpha=0.0001001, clf__average=False, clf__l1_ratio=0.25, clf__loss=perceptron, clf__penalty=l1, clf__power_t=0.25;, score=0.717 total time=   2.0s\n",
            "[CV 1/3; 176/324] START clf__alpha=0.0001001, clf__average=False, clf__l1_ratio=0.25, clf__loss=perceptron, clf__penalty=l1, clf__power_t=0.75\n",
            "[CV 1/3; 176/324] END clf__alpha=0.0001001, clf__average=False, clf__l1_ratio=0.25, clf__loss=perceptron, clf__penalty=l1, clf__power_t=0.75;, score=0.696 total time=   1.9s\n",
            "[CV 2/3; 176/324] START clf__alpha=0.0001001, clf__average=False, clf__l1_ratio=0.25, clf__loss=perceptron, clf__penalty=l1, clf__power_t=0.75\n",
            "[CV 2/3; 176/324] END clf__alpha=0.0001001, clf__average=False, clf__l1_ratio=0.25, clf__loss=perceptron, clf__penalty=l1, clf__power_t=0.75;, score=0.686 total time=   1.9s\n",
            "[CV 3/3; 176/324] START clf__alpha=0.0001001, clf__average=False, clf__l1_ratio=0.25, clf__loss=perceptron, clf__penalty=l1, clf__power_t=0.75\n",
            "[CV 3/3; 176/324] END clf__alpha=0.0001001, clf__average=False, clf__l1_ratio=0.25, clf__loss=perceptron, clf__penalty=l1, clf__power_t=0.75;, score=0.711 total time=   1.9s\n",
            "[CV 1/3; 177/324] START clf__alpha=0.0001001, clf__average=False, clf__l1_ratio=0.25, clf__loss=perceptron, clf__penalty=l1, clf__power_t=1\n",
            "[CV 1/3; 177/324] END clf__alpha=0.0001001, clf__average=False, clf__l1_ratio=0.25, clf__loss=perceptron, clf__penalty=l1, clf__power_t=1;, score=0.735 total time=   1.9s\n",
            "[CV 2/3; 177/324] START clf__alpha=0.0001001, clf__average=False, clf__l1_ratio=0.25, clf__loss=perceptron, clf__penalty=l1, clf__power_t=1\n",
            "[CV 2/3; 177/324] END clf__alpha=0.0001001, clf__average=False, clf__l1_ratio=0.25, clf__loss=perceptron, clf__penalty=l1, clf__power_t=1;, score=0.730 total time=   1.9s\n",
            "[CV 3/3; 177/324] START clf__alpha=0.0001001, clf__average=False, clf__l1_ratio=0.25, clf__loss=perceptron, clf__penalty=l1, clf__power_t=1\n",
            "[CV 3/3; 177/324] END clf__alpha=0.0001001, clf__average=False, clf__l1_ratio=0.25, clf__loss=perceptron, clf__penalty=l1, clf__power_t=1;, score=0.725 total time=   1.9s\n",
            "[CV 1/3; 178/324] START clf__alpha=0.0001001, clf__average=False, clf__l1_ratio=0.25, clf__loss=perceptron, clf__penalty=elasticnet, clf__power_t=0.25\n",
            "[CV 1/3; 178/324] END clf__alpha=0.0001001, clf__average=False, clf__l1_ratio=0.25, clf__loss=perceptron, clf__penalty=elasticnet, clf__power_t=0.25;, score=0.883 total time=   2.1s\n",
            "[CV 2/3; 178/324] START clf__alpha=0.0001001, clf__average=False, clf__l1_ratio=0.25, clf__loss=perceptron, clf__penalty=elasticnet, clf__power_t=0.25\n",
            "[CV 2/3; 178/324] END clf__alpha=0.0001001, clf__average=False, clf__l1_ratio=0.25, clf__loss=perceptron, clf__penalty=elasticnet, clf__power_t=0.25;, score=0.888 total time=   2.1s\n",
            "[CV 3/3; 178/324] START clf__alpha=0.0001001, clf__average=False, clf__l1_ratio=0.25, clf__loss=perceptron, clf__penalty=elasticnet, clf__power_t=0.25\n",
            "[CV 3/3; 178/324] END clf__alpha=0.0001001, clf__average=False, clf__l1_ratio=0.25, clf__loss=perceptron, clf__penalty=elasticnet, clf__power_t=0.25;, score=0.909 total time=   2.1s\n",
            "[CV 1/3; 179/324] START clf__alpha=0.0001001, clf__average=False, clf__l1_ratio=0.25, clf__loss=perceptron, clf__penalty=elasticnet, clf__power_t=0.75\n",
            "[CV 1/3; 179/324] END clf__alpha=0.0001001, clf__average=False, clf__l1_ratio=0.25, clf__loss=perceptron, clf__penalty=elasticnet, clf__power_t=0.75;, score=0.892 total time=   2.0s\n",
            "[CV 2/3; 179/324] START clf__alpha=0.0001001, clf__average=False, clf__l1_ratio=0.25, clf__loss=perceptron, clf__penalty=elasticnet, clf__power_t=0.75\n",
            "[CV 2/3; 179/324] END clf__alpha=0.0001001, clf__average=False, clf__l1_ratio=0.25, clf__loss=perceptron, clf__penalty=elasticnet, clf__power_t=0.75;, score=0.891 total time=   2.0s\n",
            "[CV 3/3; 179/324] START clf__alpha=0.0001001, clf__average=False, clf__l1_ratio=0.25, clf__loss=perceptron, clf__penalty=elasticnet, clf__power_t=0.75\n",
            "[CV 3/3; 179/324] END clf__alpha=0.0001001, clf__average=False, clf__l1_ratio=0.25, clf__loss=perceptron, clf__penalty=elasticnet, clf__power_t=0.75;, score=0.900 total time=   2.0s\n",
            "[CV 1/3; 180/324] START clf__alpha=0.0001001, clf__average=False, clf__l1_ratio=0.25, clf__loss=perceptron, clf__penalty=elasticnet, clf__power_t=1\n",
            "[CV 1/3; 180/324] END clf__alpha=0.0001001, clf__average=False, clf__l1_ratio=0.25, clf__loss=perceptron, clf__penalty=elasticnet, clf__power_t=1;, score=0.891 total time=   2.0s\n",
            "[CV 2/3; 180/324] START clf__alpha=0.0001001, clf__average=False, clf__l1_ratio=0.25, clf__loss=perceptron, clf__penalty=elasticnet, clf__power_t=1\n",
            "[CV 2/3; 180/324] END clf__alpha=0.0001001, clf__average=False, clf__l1_ratio=0.25, clf__loss=perceptron, clf__penalty=elasticnet, clf__power_t=1;, score=0.900 total time=   2.0s\n",
            "[CV 3/3; 180/324] START clf__alpha=0.0001001, clf__average=False, clf__l1_ratio=0.25, clf__loss=perceptron, clf__penalty=elasticnet, clf__power_t=1\n",
            "[CV 3/3; 180/324] END clf__alpha=0.0001001, clf__average=False, clf__l1_ratio=0.25, clf__loss=perceptron, clf__penalty=elasticnet, clf__power_t=1;, score=0.901 total time=   2.0s\n",
            "[CV 1/3; 181/324] START clf__alpha=0.0001001, clf__average=False, clf__l1_ratio=0.75, clf__loss=log, clf__penalty=l2, clf__power_t=0.25\n",
            "[CV 1/3; 181/324] END clf__alpha=0.0001001, clf__average=False, clf__l1_ratio=0.75, clf__loss=log, clf__penalty=l2, clf__power_t=0.25;, score=0.921 total time=   2.1s\n",
            "[CV 2/3; 181/324] START clf__alpha=0.0001001, clf__average=False, clf__l1_ratio=0.75, clf__loss=log, clf__penalty=l2, clf__power_t=0.25\n",
            "[CV 2/3; 181/324] END clf__alpha=0.0001001, clf__average=False, clf__l1_ratio=0.75, clf__loss=log, clf__penalty=l2, clf__power_t=0.25;, score=0.930 total time=   2.0s\n",
            "[CV 3/3; 181/324] START clf__alpha=0.0001001, clf__average=False, clf__l1_ratio=0.75, clf__loss=log, clf__penalty=l2, clf__power_t=0.25\n",
            "[CV 3/3; 181/324] END clf__alpha=0.0001001, clf__average=False, clf__l1_ratio=0.75, clf__loss=log, clf__penalty=l2, clf__power_t=0.25;, score=0.937 total time=   2.0s\n",
            "[CV 1/3; 182/324] START clf__alpha=0.0001001, clf__average=False, clf__l1_ratio=0.75, clf__loss=log, clf__penalty=l2, clf__power_t=0.75\n",
            "[CV 1/3; 182/324] END clf__alpha=0.0001001, clf__average=False, clf__l1_ratio=0.75, clf__loss=log, clf__penalty=l2, clf__power_t=0.75;, score=0.921 total time=   2.0s\n",
            "[CV 2/3; 182/324] START clf__alpha=0.0001001, clf__average=False, clf__l1_ratio=0.75, clf__loss=log, clf__penalty=l2, clf__power_t=0.75\n",
            "[CV 2/3; 182/324] END clf__alpha=0.0001001, clf__average=False, clf__l1_ratio=0.75, clf__loss=log, clf__penalty=l2, clf__power_t=0.75;, score=0.930 total time=   2.0s\n",
            "[CV 3/3; 182/324] START clf__alpha=0.0001001, clf__average=False, clf__l1_ratio=0.75, clf__loss=log, clf__penalty=l2, clf__power_t=0.75\n",
            "[CV 3/3; 182/324] END clf__alpha=0.0001001, clf__average=False, clf__l1_ratio=0.75, clf__loss=log, clf__penalty=l2, clf__power_t=0.75;, score=0.937 total time=   2.0s\n",
            "[CV 1/3; 183/324] START clf__alpha=0.0001001, clf__average=False, clf__l1_ratio=0.75, clf__loss=log, clf__penalty=l2, clf__power_t=1\n",
            "[CV 1/3; 183/324] END clf__alpha=0.0001001, clf__average=False, clf__l1_ratio=0.75, clf__loss=log, clf__penalty=l2, clf__power_t=1;, score=0.921 total time=   2.0s\n",
            "[CV 2/3; 183/324] START clf__alpha=0.0001001, clf__average=False, clf__l1_ratio=0.75, clf__loss=log, clf__penalty=l2, clf__power_t=1\n",
            "[CV 2/3; 183/324] END clf__alpha=0.0001001, clf__average=False, clf__l1_ratio=0.75, clf__loss=log, clf__penalty=l2, clf__power_t=1;, score=0.929 total time=   2.1s\n",
            "[CV 3/3; 183/324] START clf__alpha=0.0001001, clf__average=False, clf__l1_ratio=0.75, clf__loss=log, clf__penalty=l2, clf__power_t=1\n",
            "[CV 3/3; 183/324] END clf__alpha=0.0001001, clf__average=False, clf__l1_ratio=0.75, clf__loss=log, clf__penalty=l2, clf__power_t=1;, score=0.936 total time=   2.1s\n",
            "[CV 1/3; 184/324] START clf__alpha=0.0001001, clf__average=False, clf__l1_ratio=0.75, clf__loss=log, clf__penalty=l1, clf__power_t=0.25\n",
            "[CV 1/3; 184/324] END clf__alpha=0.0001001, clf__average=False, clf__l1_ratio=0.75, clf__loss=log, clf__penalty=l1, clf__power_t=0.25;, score=0.876 total time=   2.3s\n",
            "[CV 2/3; 184/324] START clf__alpha=0.0001001, clf__average=False, clf__l1_ratio=0.75, clf__loss=log, clf__penalty=l1, clf__power_t=0.25\n",
            "[CV 2/3; 184/324] END clf__alpha=0.0001001, clf__average=False, clf__l1_ratio=0.75, clf__loss=log, clf__penalty=l1, clf__power_t=0.25;, score=0.882 total time=   2.4s\n",
            "[CV 3/3; 184/324] START clf__alpha=0.0001001, clf__average=False, clf__l1_ratio=0.75, clf__loss=log, clf__penalty=l1, clf__power_t=0.25\n",
            "[CV 3/3; 184/324] END clf__alpha=0.0001001, clf__average=False, clf__l1_ratio=0.75, clf__loss=log, clf__penalty=l1, clf__power_t=0.25;, score=0.886 total time=   2.3s\n",
            "[CV 1/3; 185/324] START clf__alpha=0.0001001, clf__average=False, clf__l1_ratio=0.75, clf__loss=log, clf__penalty=l1, clf__power_t=0.75\n",
            "[CV 1/3; 185/324] END clf__alpha=0.0001001, clf__average=False, clf__l1_ratio=0.75, clf__loss=log, clf__penalty=l1, clf__power_t=0.75;, score=0.877 total time=   2.3s\n",
            "[CV 2/3; 185/324] START clf__alpha=0.0001001, clf__average=False, clf__l1_ratio=0.75, clf__loss=log, clf__penalty=l1, clf__power_t=0.75\n",
            "[CV 2/3; 185/324] END clf__alpha=0.0001001, clf__average=False, clf__l1_ratio=0.75, clf__loss=log, clf__penalty=l1, clf__power_t=0.75;, score=0.882 total time=   2.4s\n",
            "[CV 3/3; 185/324] START clf__alpha=0.0001001, clf__average=False, clf__l1_ratio=0.75, clf__loss=log, clf__penalty=l1, clf__power_t=0.75\n",
            "[CV 3/3; 185/324] END clf__alpha=0.0001001, clf__average=False, clf__l1_ratio=0.75, clf__loss=log, clf__penalty=l1, clf__power_t=0.75;, score=0.887 total time=   2.4s\n",
            "[CV 1/3; 186/324] START clf__alpha=0.0001001, clf__average=False, clf__l1_ratio=0.75, clf__loss=log, clf__penalty=l1, clf__power_t=1\n",
            "[CV 1/3; 186/324] END clf__alpha=0.0001001, clf__average=False, clf__l1_ratio=0.75, clf__loss=log, clf__penalty=l1, clf__power_t=1;, score=0.875 total time=   2.3s\n",
            "[CV 2/3; 186/324] START clf__alpha=0.0001001, clf__average=False, clf__l1_ratio=0.75, clf__loss=log, clf__penalty=l1, clf__power_t=1\n",
            "[CV 2/3; 186/324] END clf__alpha=0.0001001, clf__average=False, clf__l1_ratio=0.75, clf__loss=log, clf__penalty=l1, clf__power_t=1;, score=0.880 total time=   2.3s\n",
            "[CV 3/3; 186/324] START clf__alpha=0.0001001, clf__average=False, clf__l1_ratio=0.75, clf__loss=log, clf__penalty=l1, clf__power_t=1\n",
            "[CV 3/3; 186/324] END clf__alpha=0.0001001, clf__average=False, clf__l1_ratio=0.75, clf__loss=log, clf__penalty=l1, clf__power_t=1;, score=0.886 total time=   2.3s\n",
            "[CV 1/3; 187/324] START clf__alpha=0.0001001, clf__average=False, clf__l1_ratio=0.75, clf__loss=log, clf__penalty=elasticnet, clf__power_t=0.25\n",
            "[CV 1/3; 187/324] END clf__alpha=0.0001001, clf__average=False, clf__l1_ratio=0.75, clf__loss=log, clf__penalty=elasticnet, clf__power_t=0.25;, score=0.885 total time=   2.4s\n",
            "[CV 2/3; 187/324] START clf__alpha=0.0001001, clf__average=False, clf__l1_ratio=0.75, clf__loss=log, clf__penalty=elasticnet, clf__power_t=0.25\n",
            "[CV 2/3; 187/324] END clf__alpha=0.0001001, clf__average=False, clf__l1_ratio=0.75, clf__loss=log, clf__penalty=elasticnet, clf__power_t=0.25;, score=0.891 total time=   2.3s\n",
            "[CV 3/3; 187/324] START clf__alpha=0.0001001, clf__average=False, clf__l1_ratio=0.75, clf__loss=log, clf__penalty=elasticnet, clf__power_t=0.25\n",
            "[CV 3/3; 187/324] END clf__alpha=0.0001001, clf__average=False, clf__l1_ratio=0.75, clf__loss=log, clf__penalty=elasticnet, clf__power_t=0.25;, score=0.896 total time=   2.4s\n",
            "[CV 1/3; 188/324] START clf__alpha=0.0001001, clf__average=False, clf__l1_ratio=0.75, clf__loss=log, clf__penalty=elasticnet, clf__power_t=0.75\n",
            "[CV 1/3; 188/324] END clf__alpha=0.0001001, clf__average=False, clf__l1_ratio=0.75, clf__loss=log, clf__penalty=elasticnet, clf__power_t=0.75;, score=0.886 total time=   2.4s\n",
            "[CV 2/3; 188/324] START clf__alpha=0.0001001, clf__average=False, clf__l1_ratio=0.75, clf__loss=log, clf__penalty=elasticnet, clf__power_t=0.75\n",
            "[CV 2/3; 188/324] END clf__alpha=0.0001001, clf__average=False, clf__l1_ratio=0.75, clf__loss=log, clf__penalty=elasticnet, clf__power_t=0.75;, score=0.890 total time=   2.3s\n",
            "[CV 3/3; 188/324] START clf__alpha=0.0001001, clf__average=False, clf__l1_ratio=0.75, clf__loss=log, clf__penalty=elasticnet, clf__power_t=0.75\n",
            "[CV 3/3; 188/324] END clf__alpha=0.0001001, clf__average=False, clf__l1_ratio=0.75, clf__loss=log, clf__penalty=elasticnet, clf__power_t=0.75;, score=0.896 total time=   2.4s\n",
            "[CV 1/3; 189/324] START clf__alpha=0.0001001, clf__average=False, clf__l1_ratio=0.75, clf__loss=log, clf__penalty=elasticnet, clf__power_t=1\n",
            "[CV 1/3; 189/324] END clf__alpha=0.0001001, clf__average=False, clf__l1_ratio=0.75, clf__loss=log, clf__penalty=elasticnet, clf__power_t=1;, score=0.885 total time=   2.4s\n",
            "[CV 2/3; 189/324] START clf__alpha=0.0001001, clf__average=False, clf__l1_ratio=0.75, clf__loss=log, clf__penalty=elasticnet, clf__power_t=1\n",
            "[CV 2/3; 189/324] END clf__alpha=0.0001001, clf__average=False, clf__l1_ratio=0.75, clf__loss=log, clf__penalty=elasticnet, clf__power_t=1;, score=0.892 total time=   2.3s\n",
            "[CV 3/3; 189/324] START clf__alpha=0.0001001, clf__average=False, clf__l1_ratio=0.75, clf__loss=log, clf__penalty=elasticnet, clf__power_t=1\n",
            "[CV 3/3; 189/324] END clf__alpha=0.0001001, clf__average=False, clf__l1_ratio=0.75, clf__loss=log, clf__penalty=elasticnet, clf__power_t=1;, score=0.897 total time=   2.4s\n",
            "[CV 1/3; 190/324] START clf__alpha=0.0001001, clf__average=False, clf__l1_ratio=0.75, clf__loss=perceptron, clf__penalty=l2, clf__power_t=0.25\n",
            "[CV 1/3; 190/324] END clf__alpha=0.0001001, clf__average=False, clf__l1_ratio=0.75, clf__loss=perceptron, clf__penalty=l2, clf__power_t=0.25;, score=0.971 total time=   1.8s\n",
            "[CV 2/3; 190/324] START clf__alpha=0.0001001, clf__average=False, clf__l1_ratio=0.75, clf__loss=perceptron, clf__penalty=l2, clf__power_t=0.25\n",
            "[CV 2/3; 190/324] END clf__alpha=0.0001001, clf__average=False, clf__l1_ratio=0.75, clf__loss=perceptron, clf__penalty=l2, clf__power_t=0.25;, score=0.975 total time=   1.7s\n",
            "[CV 3/3; 190/324] START clf__alpha=0.0001001, clf__average=False, clf__l1_ratio=0.75, clf__loss=perceptron, clf__penalty=l2, clf__power_t=0.25\n",
            "[CV 3/3; 190/324] END clf__alpha=0.0001001, clf__average=False, clf__l1_ratio=0.75, clf__loss=perceptron, clf__penalty=l2, clf__power_t=0.25;, score=0.989 total time=   1.7s\n",
            "[CV 1/3; 191/324] START clf__alpha=0.0001001, clf__average=False, clf__l1_ratio=0.75, clf__loss=perceptron, clf__penalty=l2, clf__power_t=0.75\n",
            "[CV 1/3; 191/324] END clf__alpha=0.0001001, clf__average=False, clf__l1_ratio=0.75, clf__loss=perceptron, clf__penalty=l2, clf__power_t=0.75;, score=0.972 total time=   1.7s\n",
            "[CV 2/3; 191/324] START clf__alpha=0.0001001, clf__average=False, clf__l1_ratio=0.75, clf__loss=perceptron, clf__penalty=l2, clf__power_t=0.75\n",
            "[CV 2/3; 191/324] END clf__alpha=0.0001001, clf__average=False, clf__l1_ratio=0.75, clf__loss=perceptron, clf__penalty=l2, clf__power_t=0.75;, score=0.976 total time=   1.7s\n",
            "[CV 3/3; 191/324] START clf__alpha=0.0001001, clf__average=False, clf__l1_ratio=0.75, clf__loss=perceptron, clf__penalty=l2, clf__power_t=0.75\n",
            "[CV 3/3; 191/324] END clf__alpha=0.0001001, clf__average=False, clf__l1_ratio=0.75, clf__loss=perceptron, clf__penalty=l2, clf__power_t=0.75;, score=0.992 total time=   1.7s\n",
            "[CV 1/3; 192/324] START clf__alpha=0.0001001, clf__average=False, clf__l1_ratio=0.75, clf__loss=perceptron, clf__penalty=l2, clf__power_t=1\n",
            "[CV 1/3; 192/324] END clf__alpha=0.0001001, clf__average=False, clf__l1_ratio=0.75, clf__loss=perceptron, clf__penalty=l2, clf__power_t=1;, score=0.971 total time=   1.7s\n",
            "[CV 2/3; 192/324] START clf__alpha=0.0001001, clf__average=False, clf__l1_ratio=0.75, clf__loss=perceptron, clf__penalty=l2, clf__power_t=1\n",
            "[CV 2/3; 192/324] END clf__alpha=0.0001001, clf__average=False, clf__l1_ratio=0.75, clf__loss=perceptron, clf__penalty=l2, clf__power_t=1;, score=0.973 total time=   1.7s\n",
            "[CV 3/3; 192/324] START clf__alpha=0.0001001, clf__average=False, clf__l1_ratio=0.75, clf__loss=perceptron, clf__penalty=l2, clf__power_t=1\n",
            "[CV 3/3; 192/324] END clf__alpha=0.0001001, clf__average=False, clf__l1_ratio=0.75, clf__loss=perceptron, clf__penalty=l2, clf__power_t=1;, score=0.991 total time=   1.8s\n",
            "[CV 1/3; 193/324] START clf__alpha=0.0001001, clf__average=False, clf__l1_ratio=0.75, clf__loss=perceptron, clf__penalty=l1, clf__power_t=0.25\n",
            "[CV 1/3; 193/324] END clf__alpha=0.0001001, clf__average=False, clf__l1_ratio=0.75, clf__loss=perceptron, clf__penalty=l1, clf__power_t=0.25;, score=0.675 total time=   2.0s\n",
            "[CV 2/3; 193/324] START clf__alpha=0.0001001, clf__average=False, clf__l1_ratio=0.75, clf__loss=perceptron, clf__penalty=l1, clf__power_t=0.25\n",
            "[CV 2/3; 193/324] END clf__alpha=0.0001001, clf__average=False, clf__l1_ratio=0.75, clf__loss=perceptron, clf__penalty=l1, clf__power_t=0.25;, score=0.681 total time=   1.9s\n",
            "[CV 3/3; 193/324] START clf__alpha=0.0001001, clf__average=False, clf__l1_ratio=0.75, clf__loss=perceptron, clf__penalty=l1, clf__power_t=0.25\n",
            "[CV 3/3; 193/324] END clf__alpha=0.0001001, clf__average=False, clf__l1_ratio=0.75, clf__loss=perceptron, clf__penalty=l1, clf__power_t=0.25;, score=0.715 total time=   2.0s\n",
            "[CV 1/3; 194/324] START clf__alpha=0.0001001, clf__average=False, clf__l1_ratio=0.75, clf__loss=perceptron, clf__penalty=l1, clf__power_t=0.75\n",
            "[CV 1/3; 194/324] END clf__alpha=0.0001001, clf__average=False, clf__l1_ratio=0.75, clf__loss=perceptron, clf__penalty=l1, clf__power_t=0.75;, score=0.715 total time=   1.9s\n",
            "[CV 2/3; 194/324] START clf__alpha=0.0001001, clf__average=False, clf__l1_ratio=0.75, clf__loss=perceptron, clf__penalty=l1, clf__power_t=0.75\n",
            "[CV 2/3; 194/324] END clf__alpha=0.0001001, clf__average=False, clf__l1_ratio=0.75, clf__loss=perceptron, clf__penalty=l1, clf__power_t=0.75;, score=0.660 total time=   1.9s\n",
            "[CV 3/3; 194/324] START clf__alpha=0.0001001, clf__average=False, clf__l1_ratio=0.75, clf__loss=perceptron, clf__penalty=l1, clf__power_t=0.75\n",
            "[CV 3/3; 194/324] END clf__alpha=0.0001001, clf__average=False, clf__l1_ratio=0.75, clf__loss=perceptron, clf__penalty=l1, clf__power_t=0.75;, score=0.755 total time=   1.9s\n",
            "[CV 1/3; 195/324] START clf__alpha=0.0001001, clf__average=False, clf__l1_ratio=0.75, clf__loss=perceptron, clf__penalty=l1, clf__power_t=1\n",
            "[CV 1/3; 195/324] END clf__alpha=0.0001001, clf__average=False, clf__l1_ratio=0.75, clf__loss=perceptron, clf__penalty=l1, clf__power_t=1;, score=0.715 total time=   1.9s\n",
            "[CV 2/3; 195/324] START clf__alpha=0.0001001, clf__average=False, clf__l1_ratio=0.75, clf__loss=perceptron, clf__penalty=l1, clf__power_t=1\n",
            "[CV 2/3; 195/324] END clf__alpha=0.0001001, clf__average=False, clf__l1_ratio=0.75, clf__loss=perceptron, clf__penalty=l1, clf__power_t=1;, score=0.695 total time=   2.0s\n",
            "[CV 3/3; 195/324] START clf__alpha=0.0001001, clf__average=False, clf__l1_ratio=0.75, clf__loss=perceptron, clf__penalty=l1, clf__power_t=1\n",
            "[CV 3/3; 195/324] END clf__alpha=0.0001001, clf__average=False, clf__l1_ratio=0.75, clf__loss=perceptron, clf__penalty=l1, clf__power_t=1;, score=0.714 total time=   2.0s\n",
            "[CV 1/3; 196/324] START clf__alpha=0.0001001, clf__average=False, clf__l1_ratio=0.75, clf__loss=perceptron, clf__penalty=elasticnet, clf__power_t=0.25\n",
            "[CV 1/3; 196/324] END clf__alpha=0.0001001, clf__average=False, clf__l1_ratio=0.75, clf__loss=perceptron, clf__penalty=elasticnet, clf__power_t=0.25;, score=0.767 total time=   2.0s\n",
            "[CV 2/3; 196/324] START clf__alpha=0.0001001, clf__average=False, clf__l1_ratio=0.75, clf__loss=perceptron, clf__penalty=elasticnet, clf__power_t=0.25\n",
            "[CV 2/3; 196/324] END clf__alpha=0.0001001, clf__average=False, clf__l1_ratio=0.75, clf__loss=perceptron, clf__penalty=elasticnet, clf__power_t=0.25;, score=0.778 total time=   1.9s\n",
            "[CV 3/3; 196/324] START clf__alpha=0.0001001, clf__average=False, clf__l1_ratio=0.75, clf__loss=perceptron, clf__penalty=elasticnet, clf__power_t=0.25\n",
            "[CV 3/3; 196/324] END clf__alpha=0.0001001, clf__average=False, clf__l1_ratio=0.75, clf__loss=perceptron, clf__penalty=elasticnet, clf__power_t=0.25;, score=0.780 total time=   1.9s\n",
            "[CV 1/3; 197/324] START clf__alpha=0.0001001, clf__average=False, clf__l1_ratio=0.75, clf__loss=perceptron, clf__penalty=elasticnet, clf__power_t=0.75\n",
            "[CV 1/3; 197/324] END clf__alpha=0.0001001, clf__average=False, clf__l1_ratio=0.75, clf__loss=perceptron, clf__penalty=elasticnet, clf__power_t=0.75;, score=0.767 total time=   1.9s\n",
            "[CV 2/3; 197/324] START clf__alpha=0.0001001, clf__average=False, clf__l1_ratio=0.75, clf__loss=perceptron, clf__penalty=elasticnet, clf__power_t=0.75\n",
            "[CV 2/3; 197/324] END clf__alpha=0.0001001, clf__average=False, clf__l1_ratio=0.75, clf__loss=perceptron, clf__penalty=elasticnet, clf__power_t=0.75;, score=0.744 total time=   2.0s\n",
            "[CV 3/3; 197/324] START clf__alpha=0.0001001, clf__average=False, clf__l1_ratio=0.75, clf__loss=perceptron, clf__penalty=elasticnet, clf__power_t=0.75\n",
            "[CV 3/3; 197/324] END clf__alpha=0.0001001, clf__average=False, clf__l1_ratio=0.75, clf__loss=perceptron, clf__penalty=elasticnet, clf__power_t=0.75;, score=0.739 total time=   2.0s\n",
            "[CV 1/3; 198/324] START clf__alpha=0.0001001, clf__average=False, clf__l1_ratio=0.75, clf__loss=perceptron, clf__penalty=elasticnet, clf__power_t=1\n",
            "[CV 1/3; 198/324] END clf__alpha=0.0001001, clf__average=False, clf__l1_ratio=0.75, clf__loss=perceptron, clf__penalty=elasticnet, clf__power_t=1;, score=0.747 total time=   2.0s\n",
            "[CV 2/3; 198/324] START clf__alpha=0.0001001, clf__average=False, clf__l1_ratio=0.75, clf__loss=perceptron, clf__penalty=elasticnet, clf__power_t=1\n",
            "[CV 2/3; 198/324] END clf__alpha=0.0001001, clf__average=False, clf__l1_ratio=0.75, clf__loss=perceptron, clf__penalty=elasticnet, clf__power_t=1;, score=0.777 total time=   2.0s\n",
            "[CV 3/3; 198/324] START clf__alpha=0.0001001, clf__average=False, clf__l1_ratio=0.75, clf__loss=perceptron, clf__penalty=elasticnet, clf__power_t=1\n",
            "[CV 3/3; 198/324] END clf__alpha=0.0001001, clf__average=False, clf__l1_ratio=0.75, clf__loss=perceptron, clf__penalty=elasticnet, clf__power_t=1;, score=0.779 total time=   1.9s\n",
            "[CV 1/3; 199/324] START clf__alpha=0.0001001, clf__average=False, clf__l1_ratio=1, clf__loss=log, clf__penalty=l2, clf__power_t=0.25\n",
            "[CV 1/3; 199/324] END clf__alpha=0.0001001, clf__average=False, clf__l1_ratio=1, clf__loss=log, clf__penalty=l2, clf__power_t=0.25;, score=0.922 total time=   2.0s\n",
            "[CV 2/3; 199/324] START clf__alpha=0.0001001, clf__average=False, clf__l1_ratio=1, clf__loss=log, clf__penalty=l2, clf__power_t=0.25\n",
            "[CV 2/3; 199/324] END clf__alpha=0.0001001, clf__average=False, clf__l1_ratio=1, clf__loss=log, clf__penalty=l2, clf__power_t=0.25;, score=0.930 total time=   2.0s\n",
            "[CV 3/3; 199/324] START clf__alpha=0.0001001, clf__average=False, clf__l1_ratio=1, clf__loss=log, clf__penalty=l2, clf__power_t=0.25\n",
            "[CV 3/3; 199/324] END clf__alpha=0.0001001, clf__average=False, clf__l1_ratio=1, clf__loss=log, clf__penalty=l2, clf__power_t=0.25;, score=0.937 total time=   2.0s\n",
            "[CV 1/3; 200/324] START clf__alpha=0.0001001, clf__average=False, clf__l1_ratio=1, clf__loss=log, clf__penalty=l2, clf__power_t=0.75\n",
            "[CV 1/3; 200/324] END clf__alpha=0.0001001, clf__average=False, clf__l1_ratio=1, clf__loss=log, clf__penalty=l2, clf__power_t=0.75;, score=0.921 total time=   2.0s\n",
            "[CV 2/3; 200/324] START clf__alpha=0.0001001, clf__average=False, clf__l1_ratio=1, clf__loss=log, clf__penalty=l2, clf__power_t=0.75\n",
            "[CV 2/3; 200/324] END clf__alpha=0.0001001, clf__average=False, clf__l1_ratio=1, clf__loss=log, clf__penalty=l2, clf__power_t=0.75;, score=0.929 total time=   2.0s\n",
            "[CV 3/3; 200/324] START clf__alpha=0.0001001, clf__average=False, clf__l1_ratio=1, clf__loss=log, clf__penalty=l2, clf__power_t=0.75\n",
            "[CV 3/3; 200/324] END clf__alpha=0.0001001, clf__average=False, clf__l1_ratio=1, clf__loss=log, clf__penalty=l2, clf__power_t=0.75;, score=0.937 total time=   2.1s\n",
            "[CV 1/3; 201/324] START clf__alpha=0.0001001, clf__average=False, clf__l1_ratio=1, clf__loss=log, clf__penalty=l2, clf__power_t=1\n",
            "[CV 1/3; 201/324] END clf__alpha=0.0001001, clf__average=False, clf__l1_ratio=1, clf__loss=log, clf__penalty=l2, clf__power_t=1;, score=0.921 total time=   2.1s\n",
            "[CV 2/3; 201/324] START clf__alpha=0.0001001, clf__average=False, clf__l1_ratio=1, clf__loss=log, clf__penalty=l2, clf__power_t=1\n",
            "[CV 2/3; 201/324] END clf__alpha=0.0001001, clf__average=False, clf__l1_ratio=1, clf__loss=log, clf__penalty=l2, clf__power_t=1;, score=0.930 total time=   2.0s\n",
            "[CV 3/3; 201/324] START clf__alpha=0.0001001, clf__average=False, clf__l1_ratio=1, clf__loss=log, clf__penalty=l2, clf__power_t=1\n",
            "[CV 3/3; 201/324] END clf__alpha=0.0001001, clf__average=False, clf__l1_ratio=1, clf__loss=log, clf__penalty=l2, clf__power_t=1;, score=0.937 total time=   2.0s\n",
            "[CV 1/3; 202/324] START clf__alpha=0.0001001, clf__average=False, clf__l1_ratio=1, clf__loss=log, clf__penalty=l1, clf__power_t=0.25\n",
            "[CV 1/3; 202/324] END clf__alpha=0.0001001, clf__average=False, clf__l1_ratio=1, clf__loss=log, clf__penalty=l1, clf__power_t=0.25;, score=0.876 total time=   2.3s\n",
            "[CV 2/3; 202/324] START clf__alpha=0.0001001, clf__average=False, clf__l1_ratio=1, clf__loss=log, clf__penalty=l1, clf__power_t=0.25\n",
            "[CV 2/3; 202/324] END clf__alpha=0.0001001, clf__average=False, clf__l1_ratio=1, clf__loss=log, clf__penalty=l1, clf__power_t=0.25;, score=0.886 total time=   2.3s\n",
            "[CV 3/3; 202/324] START clf__alpha=0.0001001, clf__average=False, clf__l1_ratio=1, clf__loss=log, clf__penalty=l1, clf__power_t=0.25\n",
            "[CV 3/3; 202/324] END clf__alpha=0.0001001, clf__average=False, clf__l1_ratio=1, clf__loss=log, clf__penalty=l1, clf__power_t=0.25;, score=0.887 total time=   2.4s\n",
            "[CV 1/3; 203/324] START clf__alpha=0.0001001, clf__average=False, clf__l1_ratio=1, clf__loss=log, clf__penalty=l1, clf__power_t=0.75\n",
            "[CV 1/3; 203/324] END clf__alpha=0.0001001, clf__average=False, clf__l1_ratio=1, clf__loss=log, clf__penalty=l1, clf__power_t=0.75;, score=0.877 total time=   2.5s\n",
            "[CV 2/3; 203/324] START clf__alpha=0.0001001, clf__average=False, clf__l1_ratio=1, clf__loss=log, clf__penalty=l1, clf__power_t=0.75\n",
            "[CV 2/3; 203/324] END clf__alpha=0.0001001, clf__average=False, clf__l1_ratio=1, clf__loss=log, clf__penalty=l1, clf__power_t=0.75;, score=0.883 total time=   2.4s\n",
            "[CV 3/3; 203/324] START clf__alpha=0.0001001, clf__average=False, clf__l1_ratio=1, clf__loss=log, clf__penalty=l1, clf__power_t=0.75\n",
            "[CV 3/3; 203/324] END clf__alpha=0.0001001, clf__average=False, clf__l1_ratio=1, clf__loss=log, clf__penalty=l1, clf__power_t=0.75;, score=0.888 total time=   2.3s\n",
            "[CV 1/3; 204/324] START clf__alpha=0.0001001, clf__average=False, clf__l1_ratio=1, clf__loss=log, clf__penalty=l1, clf__power_t=1\n",
            "[CV 1/3; 204/324] END clf__alpha=0.0001001, clf__average=False, clf__l1_ratio=1, clf__loss=log, clf__penalty=l1, clf__power_t=1;, score=0.877 total time=   2.4s\n",
            "[CV 2/3; 204/324] START clf__alpha=0.0001001, clf__average=False, clf__l1_ratio=1, clf__loss=log, clf__penalty=l1, clf__power_t=1\n",
            "[CV 2/3; 204/324] END clf__alpha=0.0001001, clf__average=False, clf__l1_ratio=1, clf__loss=log, clf__penalty=l1, clf__power_t=1;, score=0.884 total time=   2.4s\n",
            "[CV 3/3; 204/324] START clf__alpha=0.0001001, clf__average=False, clf__l1_ratio=1, clf__loss=log, clf__penalty=l1, clf__power_t=1\n",
            "[CV 3/3; 204/324] END clf__alpha=0.0001001, clf__average=False, clf__l1_ratio=1, clf__loss=log, clf__penalty=l1, clf__power_t=1;, score=0.887 total time=   2.3s\n",
            "[CV 1/3; 205/324] START clf__alpha=0.0001001, clf__average=False, clf__l1_ratio=1, clf__loss=log, clf__penalty=elasticnet, clf__power_t=0.25\n",
            "[CV 1/3; 205/324] END clf__alpha=0.0001001, clf__average=False, clf__l1_ratio=1, clf__loss=log, clf__penalty=elasticnet, clf__power_t=0.25;, score=0.875 total time=   2.5s\n",
            "[CV 2/3; 205/324] START clf__alpha=0.0001001, clf__average=False, clf__l1_ratio=1, clf__loss=log, clf__penalty=elasticnet, clf__power_t=0.25\n",
            "[CV 2/3; 205/324] END clf__alpha=0.0001001, clf__average=False, clf__l1_ratio=1, clf__loss=log, clf__penalty=elasticnet, clf__power_t=0.25;, score=0.881 total time=   2.4s\n",
            "[CV 3/3; 205/324] START clf__alpha=0.0001001, clf__average=False, clf__l1_ratio=1, clf__loss=log, clf__penalty=elasticnet, clf__power_t=0.25\n",
            "[CV 3/3; 205/324] END clf__alpha=0.0001001, clf__average=False, clf__l1_ratio=1, clf__loss=log, clf__penalty=elasticnet, clf__power_t=0.25;, score=0.887 total time=   2.4s\n",
            "[CV 1/3; 206/324] START clf__alpha=0.0001001, clf__average=False, clf__l1_ratio=1, clf__loss=log, clf__penalty=elasticnet, clf__power_t=0.75\n",
            "[CV 1/3; 206/324] END clf__alpha=0.0001001, clf__average=False, clf__l1_ratio=1, clf__loss=log, clf__penalty=elasticnet, clf__power_t=0.75;, score=0.877 total time=   2.3s\n",
            "[CV 2/3; 206/324] START clf__alpha=0.0001001, clf__average=False, clf__l1_ratio=1, clf__loss=log, clf__penalty=elasticnet, clf__power_t=0.75\n",
            "[CV 2/3; 206/324] END clf__alpha=0.0001001, clf__average=False, clf__l1_ratio=1, clf__loss=log, clf__penalty=elasticnet, clf__power_t=0.75;, score=0.882 total time=   2.4s\n",
            "[CV 3/3; 206/324] START clf__alpha=0.0001001, clf__average=False, clf__l1_ratio=1, clf__loss=log, clf__penalty=elasticnet, clf__power_t=0.75\n",
            "[CV 3/3; 206/324] END clf__alpha=0.0001001, clf__average=False, clf__l1_ratio=1, clf__loss=log, clf__penalty=elasticnet, clf__power_t=0.75;, score=0.889 total time=   2.4s\n",
            "[CV 1/3; 207/324] START clf__alpha=0.0001001, clf__average=False, clf__l1_ratio=1, clf__loss=log, clf__penalty=elasticnet, clf__power_t=1\n",
            "[CV 1/3; 207/324] END clf__alpha=0.0001001, clf__average=False, clf__l1_ratio=1, clf__loss=log, clf__penalty=elasticnet, clf__power_t=1;, score=0.878 total time=   2.4s\n",
            "[CV 2/3; 207/324] START clf__alpha=0.0001001, clf__average=False, clf__l1_ratio=1, clf__loss=log, clf__penalty=elasticnet, clf__power_t=1\n",
            "[CV 2/3; 207/324] END clf__alpha=0.0001001, clf__average=False, clf__l1_ratio=1, clf__loss=log, clf__penalty=elasticnet, clf__power_t=1;, score=0.881 total time=   2.4s\n",
            "[CV 3/3; 207/324] START clf__alpha=0.0001001, clf__average=False, clf__l1_ratio=1, clf__loss=log, clf__penalty=elasticnet, clf__power_t=1\n",
            "[CV 3/3; 207/324] END clf__alpha=0.0001001, clf__average=False, clf__l1_ratio=1, clf__loss=log, clf__penalty=elasticnet, clf__power_t=1;, score=0.886 total time=   2.5s\n",
            "[CV 1/3; 208/324] START clf__alpha=0.0001001, clf__average=False, clf__l1_ratio=1, clf__loss=perceptron, clf__penalty=l2, clf__power_t=0.25\n",
            "[CV 1/3; 208/324] END clf__alpha=0.0001001, clf__average=False, clf__l1_ratio=1, clf__loss=perceptron, clf__penalty=l2, clf__power_t=0.25;, score=0.972 total time=   1.7s\n",
            "[CV 2/3; 208/324] START clf__alpha=0.0001001, clf__average=False, clf__l1_ratio=1, clf__loss=perceptron, clf__penalty=l2, clf__power_t=0.25\n",
            "[CV 2/3; 208/324] END clf__alpha=0.0001001, clf__average=False, clf__l1_ratio=1, clf__loss=perceptron, clf__penalty=l2, clf__power_t=0.25;, score=0.974 total time=   1.7s\n",
            "[CV 3/3; 208/324] START clf__alpha=0.0001001, clf__average=False, clf__l1_ratio=1, clf__loss=perceptron, clf__penalty=l2, clf__power_t=0.25\n",
            "[CV 3/3; 208/324] END clf__alpha=0.0001001, clf__average=False, clf__l1_ratio=1, clf__loss=perceptron, clf__penalty=l2, clf__power_t=0.25;, score=0.992 total time=   1.7s\n",
            "[CV 1/3; 209/324] START clf__alpha=0.0001001, clf__average=False, clf__l1_ratio=1, clf__loss=perceptron, clf__penalty=l2, clf__power_t=0.75\n",
            "[CV 1/3; 209/324] END clf__alpha=0.0001001, clf__average=False, clf__l1_ratio=1, clf__loss=perceptron, clf__penalty=l2, clf__power_t=0.75;, score=0.972 total time=   1.7s\n",
            "[CV 2/3; 209/324] START clf__alpha=0.0001001, clf__average=False, clf__l1_ratio=1, clf__loss=perceptron, clf__penalty=l2, clf__power_t=0.75\n",
            "[CV 2/3; 209/324] END clf__alpha=0.0001001, clf__average=False, clf__l1_ratio=1, clf__loss=perceptron, clf__penalty=l2, clf__power_t=0.75;, score=0.974 total time=   1.8s\n",
            "[CV 3/3; 209/324] START clf__alpha=0.0001001, clf__average=False, clf__l1_ratio=1, clf__loss=perceptron, clf__penalty=l2, clf__power_t=0.75\n",
            "[CV 3/3; 209/324] END clf__alpha=0.0001001, clf__average=False, clf__l1_ratio=1, clf__loss=perceptron, clf__penalty=l2, clf__power_t=0.75;, score=0.992 total time=   1.8s\n",
            "[CV 1/3; 210/324] START clf__alpha=0.0001001, clf__average=False, clf__l1_ratio=1, clf__loss=perceptron, clf__penalty=l2, clf__power_t=1\n",
            "[CV 1/3; 210/324] END clf__alpha=0.0001001, clf__average=False, clf__l1_ratio=1, clf__loss=perceptron, clf__penalty=l2, clf__power_t=1;, score=0.971 total time=   1.7s\n",
            "[CV 2/3; 210/324] START clf__alpha=0.0001001, clf__average=False, clf__l1_ratio=1, clf__loss=perceptron, clf__penalty=l2, clf__power_t=1\n",
            "[CV 2/3; 210/324] END clf__alpha=0.0001001, clf__average=False, clf__l1_ratio=1, clf__loss=perceptron, clf__penalty=l2, clf__power_t=1;, score=0.975 total time=   1.7s\n",
            "[CV 3/3; 210/324] START clf__alpha=0.0001001, clf__average=False, clf__l1_ratio=1, clf__loss=perceptron, clf__penalty=l2, clf__power_t=1\n",
            "[CV 3/3; 210/324] END clf__alpha=0.0001001, clf__average=False, clf__l1_ratio=1, clf__loss=perceptron, clf__penalty=l2, clf__power_t=1;, score=0.992 total time=   1.7s\n",
            "[CV 1/3; 211/324] START clf__alpha=0.0001001, clf__average=False, clf__l1_ratio=1, clf__loss=perceptron, clf__penalty=l1, clf__power_t=0.25\n",
            "[CV 1/3; 211/324] END clf__alpha=0.0001001, clf__average=False, clf__l1_ratio=1, clf__loss=perceptron, clf__penalty=l1, clf__power_t=0.25;, score=0.728 total time=   1.9s\n",
            "[CV 2/3; 211/324] START clf__alpha=0.0001001, clf__average=False, clf__l1_ratio=1, clf__loss=perceptron, clf__penalty=l1, clf__power_t=0.25\n",
            "[CV 2/3; 211/324] END clf__alpha=0.0001001, clf__average=False, clf__l1_ratio=1, clf__loss=perceptron, clf__penalty=l1, clf__power_t=0.25;, score=0.704 total time=   1.9s\n",
            "[CV 3/3; 211/324] START clf__alpha=0.0001001, clf__average=False, clf__l1_ratio=1, clf__loss=perceptron, clf__penalty=l1, clf__power_t=0.25\n",
            "[CV 3/3; 211/324] END clf__alpha=0.0001001, clf__average=False, clf__l1_ratio=1, clf__loss=perceptron, clf__penalty=l1, clf__power_t=0.25;, score=0.695 total time=   1.9s\n",
            "[CV 1/3; 212/324] START clf__alpha=0.0001001, clf__average=False, clf__l1_ratio=1, clf__loss=perceptron, clf__penalty=l1, clf__power_t=0.75\n",
            "[CV 1/3; 212/324] END clf__alpha=0.0001001, clf__average=False, clf__l1_ratio=1, clf__loss=perceptron, clf__penalty=l1, clf__power_t=0.75;, score=0.721 total time=   1.9s\n",
            "[CV 2/3; 212/324] START clf__alpha=0.0001001, clf__average=False, clf__l1_ratio=1, clf__loss=perceptron, clf__penalty=l1, clf__power_t=0.75\n",
            "[CV 2/3; 212/324] END clf__alpha=0.0001001, clf__average=False, clf__l1_ratio=1, clf__loss=perceptron, clf__penalty=l1, clf__power_t=0.75;, score=0.690 total time=   2.0s\n",
            "[CV 3/3; 212/324] START clf__alpha=0.0001001, clf__average=False, clf__l1_ratio=1, clf__loss=perceptron, clf__penalty=l1, clf__power_t=0.75\n",
            "[CV 3/3; 212/324] END clf__alpha=0.0001001, clf__average=False, clf__l1_ratio=1, clf__loss=perceptron, clf__penalty=l1, clf__power_t=0.75;, score=0.710 total time=   1.9s\n",
            "[CV 1/3; 213/324] START clf__alpha=0.0001001, clf__average=False, clf__l1_ratio=1, clf__loss=perceptron, clf__penalty=l1, clf__power_t=1\n",
            "[CV 1/3; 213/324] END clf__alpha=0.0001001, clf__average=False, clf__l1_ratio=1, clf__loss=perceptron, clf__penalty=l1, clf__power_t=1;, score=0.705 total time=   1.9s\n",
            "[CV 2/3; 213/324] START clf__alpha=0.0001001, clf__average=False, clf__l1_ratio=1, clf__loss=perceptron, clf__penalty=l1, clf__power_t=1\n",
            "[CV 2/3; 213/324] END clf__alpha=0.0001001, clf__average=False, clf__l1_ratio=1, clf__loss=perceptron, clf__penalty=l1, clf__power_t=1;, score=0.720 total time=   2.0s\n",
            "[CV 3/3; 213/324] START clf__alpha=0.0001001, clf__average=False, clf__l1_ratio=1, clf__loss=perceptron, clf__penalty=l1, clf__power_t=1\n",
            "[CV 3/3; 213/324] END clf__alpha=0.0001001, clf__average=False, clf__l1_ratio=1, clf__loss=perceptron, clf__penalty=l1, clf__power_t=1;, score=0.703 total time=   1.9s\n",
            "[CV 1/3; 214/324] START clf__alpha=0.0001001, clf__average=False, clf__l1_ratio=1, clf__loss=perceptron, clf__penalty=elasticnet, clf__power_t=0.25\n",
            "[CV 1/3; 214/324] END clf__alpha=0.0001001, clf__average=False, clf__l1_ratio=1, clf__loss=perceptron, clf__penalty=elasticnet, clf__power_t=0.25;, score=0.727 total time=   1.9s\n",
            "[CV 2/3; 214/324] START clf__alpha=0.0001001, clf__average=False, clf__l1_ratio=1, clf__loss=perceptron, clf__penalty=elasticnet, clf__power_t=0.25\n",
            "[CV 2/3; 214/324] END clf__alpha=0.0001001, clf__average=False, clf__l1_ratio=1, clf__loss=perceptron, clf__penalty=elasticnet, clf__power_t=0.25;, score=0.688 total time=   1.9s\n",
            "[CV 3/3; 214/324] START clf__alpha=0.0001001, clf__average=False, clf__l1_ratio=1, clf__loss=perceptron, clf__penalty=elasticnet, clf__power_t=0.25\n",
            "[CV 3/3; 214/324] END clf__alpha=0.0001001, clf__average=False, clf__l1_ratio=1, clf__loss=perceptron, clf__penalty=elasticnet, clf__power_t=0.25;, score=0.726 total time=   2.0s\n",
            "[CV 1/3; 215/324] START clf__alpha=0.0001001, clf__average=False, clf__l1_ratio=1, clf__loss=perceptron, clf__penalty=elasticnet, clf__power_t=0.75\n",
            "[CV 1/3; 215/324] END clf__alpha=0.0001001, clf__average=False, clf__l1_ratio=1, clf__loss=perceptron, clf__penalty=elasticnet, clf__power_t=0.75;, score=0.738 total time=   1.9s\n",
            "[CV 2/3; 215/324] START clf__alpha=0.0001001, clf__average=False, clf__l1_ratio=1, clf__loss=perceptron, clf__penalty=elasticnet, clf__power_t=0.75\n",
            "[CV 2/3; 215/324] END clf__alpha=0.0001001, clf__average=False, clf__l1_ratio=1, clf__loss=perceptron, clf__penalty=elasticnet, clf__power_t=0.75;, score=0.695 total time=   2.0s\n",
            "[CV 3/3; 215/324] START clf__alpha=0.0001001, clf__average=False, clf__l1_ratio=1, clf__loss=perceptron, clf__penalty=elasticnet, clf__power_t=0.75\n",
            "[CV 3/3; 215/324] END clf__alpha=0.0001001, clf__average=False, clf__l1_ratio=1, clf__loss=perceptron, clf__penalty=elasticnet, clf__power_t=0.75;, score=0.740 total time=   2.0s\n",
            "[CV 1/3; 216/324] START clf__alpha=0.0001001, clf__average=False, clf__l1_ratio=1, clf__loss=perceptron, clf__penalty=elasticnet, clf__power_t=1\n",
            "[CV 1/3; 216/324] END clf__alpha=0.0001001, clf__average=False, clf__l1_ratio=1, clf__loss=perceptron, clf__penalty=elasticnet, clf__power_t=1;, score=0.696 total time=   2.0s\n",
            "[CV 2/3; 216/324] START clf__alpha=0.0001001, clf__average=False, clf__l1_ratio=1, clf__loss=perceptron, clf__penalty=elasticnet, clf__power_t=1\n",
            "[CV 2/3; 216/324] END clf__alpha=0.0001001, clf__average=False, clf__l1_ratio=1, clf__loss=perceptron, clf__penalty=elasticnet, clf__power_t=1;, score=0.681 total time=   1.9s\n",
            "[CV 3/3; 216/324] START clf__alpha=0.0001001, clf__average=False, clf__l1_ratio=1, clf__loss=perceptron, clf__penalty=elasticnet, clf__power_t=1\n",
            "[CV 3/3; 216/324] END clf__alpha=0.0001001, clf__average=False, clf__l1_ratio=1, clf__loss=perceptron, clf__penalty=elasticnet, clf__power_t=1;, score=0.735 total time=   1.9s\n",
            "[CV 1/3; 217/324] START clf__alpha=1.5e-05, clf__average=True, clf__l1_ratio=0.25, clf__loss=log, clf__penalty=l2, clf__power_t=0.25\n",
            "[CV 1/3; 217/324] END clf__alpha=1.5e-05, clf__average=True, clf__l1_ratio=0.25, clf__loss=log, clf__penalty=l2, clf__power_t=0.25;, score=0.959 total time=   2.1s\n",
            "[CV 2/3; 217/324] START clf__alpha=1.5e-05, clf__average=True, clf__l1_ratio=0.25, clf__loss=log, clf__penalty=l2, clf__power_t=0.25\n",
            "[CV 2/3; 217/324] END clf__alpha=1.5e-05, clf__average=True, clf__l1_ratio=0.25, clf__loss=log, clf__penalty=l2, clf__power_t=0.25;, score=0.964 total time=   2.1s\n",
            "[CV 3/3; 217/324] START clf__alpha=1.5e-05, clf__average=True, clf__l1_ratio=0.25, clf__loss=log, clf__penalty=l2, clf__power_t=0.25\n",
            "[CV 3/3; 217/324] END clf__alpha=1.5e-05, clf__average=True, clf__l1_ratio=0.25, clf__loss=log, clf__penalty=l2, clf__power_t=0.25;, score=0.978 total time=   2.1s\n",
            "[CV 1/3; 218/324] START clf__alpha=1.5e-05, clf__average=True, clf__l1_ratio=0.25, clf__loss=log, clf__penalty=l2, clf__power_t=0.75\n",
            "[CV 1/3; 218/324] END clf__alpha=1.5e-05, clf__average=True, clf__l1_ratio=0.25, clf__loss=log, clf__penalty=l2, clf__power_t=0.75;, score=0.960 total time=   2.1s\n",
            "[CV 2/3; 218/324] START clf__alpha=1.5e-05, clf__average=True, clf__l1_ratio=0.25, clf__loss=log, clf__penalty=l2, clf__power_t=0.75\n",
            "[CV 2/3; 218/324] END clf__alpha=1.5e-05, clf__average=True, clf__l1_ratio=0.25, clf__loss=log, clf__penalty=l2, clf__power_t=0.75;, score=0.964 total time=   2.2s\n",
            "[CV 3/3; 218/324] START clf__alpha=1.5e-05, clf__average=True, clf__l1_ratio=0.25, clf__loss=log, clf__penalty=l2, clf__power_t=0.75\n",
            "[CV 3/3; 218/324] END clf__alpha=1.5e-05, clf__average=True, clf__l1_ratio=0.25, clf__loss=log, clf__penalty=l2, clf__power_t=0.75;, score=0.978 total time=   2.0s\n",
            "[CV 1/3; 219/324] START clf__alpha=1.5e-05, clf__average=True, clf__l1_ratio=0.25, clf__loss=log, clf__penalty=l2, clf__power_t=1\n",
            "[CV 1/3; 219/324] END clf__alpha=1.5e-05, clf__average=True, clf__l1_ratio=0.25, clf__loss=log, clf__penalty=l2, clf__power_t=1;, score=0.959 total time=   2.1s\n",
            "[CV 2/3; 219/324] START clf__alpha=1.5e-05, clf__average=True, clf__l1_ratio=0.25, clf__loss=log, clf__penalty=l2, clf__power_t=1\n",
            "[CV 2/3; 219/324] END clf__alpha=1.5e-05, clf__average=True, clf__l1_ratio=0.25, clf__loss=log, clf__penalty=l2, clf__power_t=1;, score=0.965 total time=   2.0s\n",
            "[CV 3/3; 219/324] START clf__alpha=1.5e-05, clf__average=True, clf__l1_ratio=0.25, clf__loss=log, clf__penalty=l2, clf__power_t=1\n",
            "[CV 3/3; 219/324] END clf__alpha=1.5e-05, clf__average=True, clf__l1_ratio=0.25, clf__loss=log, clf__penalty=l2, clf__power_t=1;, score=0.978 total time=   2.1s\n",
            "[CV 1/3; 220/324] START clf__alpha=1.5e-05, clf__average=True, clf__l1_ratio=0.25, clf__loss=log, clf__penalty=l1, clf__power_t=0.25\n",
            "[CV 1/3; 220/324] END clf__alpha=1.5e-05, clf__average=True, clf__l1_ratio=0.25, clf__loss=log, clf__penalty=l1, clf__power_t=0.25;, score=0.920 total time=   2.5s\n",
            "[CV 2/3; 220/324] START clf__alpha=1.5e-05, clf__average=True, clf__l1_ratio=0.25, clf__loss=log, clf__penalty=l1, clf__power_t=0.25\n",
            "[CV 2/3; 220/324] END clf__alpha=1.5e-05, clf__average=True, clf__l1_ratio=0.25, clf__loss=log, clf__penalty=l1, clf__power_t=0.25;, score=0.922 total time=   2.5s\n",
            "[CV 3/3; 220/324] START clf__alpha=1.5e-05, clf__average=True, clf__l1_ratio=0.25, clf__loss=log, clf__penalty=l1, clf__power_t=0.25\n",
            "[CV 3/3; 220/324] END clf__alpha=1.5e-05, clf__average=True, clf__l1_ratio=0.25, clf__loss=log, clf__penalty=l1, clf__power_t=0.25;, score=0.932 total time=   2.5s\n",
            "[CV 1/3; 221/324] START clf__alpha=1.5e-05, clf__average=True, clf__l1_ratio=0.25, clf__loss=log, clf__penalty=l1, clf__power_t=0.75\n",
            "[CV 1/3; 221/324] END clf__alpha=1.5e-05, clf__average=True, clf__l1_ratio=0.25, clf__loss=log, clf__penalty=l1, clf__power_t=0.75;, score=0.922 total time=   2.4s\n",
            "[CV 2/3; 221/324] START clf__alpha=1.5e-05, clf__average=True, clf__l1_ratio=0.25, clf__loss=log, clf__penalty=l1, clf__power_t=0.75\n",
            "[CV 2/3; 221/324] END clf__alpha=1.5e-05, clf__average=True, clf__l1_ratio=0.25, clf__loss=log, clf__penalty=l1, clf__power_t=0.75;, score=0.923 total time=   2.5s\n",
            "[CV 3/3; 221/324] START clf__alpha=1.5e-05, clf__average=True, clf__l1_ratio=0.25, clf__loss=log, clf__penalty=l1, clf__power_t=0.75\n",
            "[CV 3/3; 221/324] END clf__alpha=1.5e-05, clf__average=True, clf__l1_ratio=0.25, clf__loss=log, clf__penalty=l1, clf__power_t=0.75;, score=0.936 total time=   2.5s\n",
            "[CV 1/3; 222/324] START clf__alpha=1.5e-05, clf__average=True, clf__l1_ratio=0.25, clf__loss=log, clf__penalty=l1, clf__power_t=1\n",
            "[CV 1/3; 222/324] END clf__alpha=1.5e-05, clf__average=True, clf__l1_ratio=0.25, clf__loss=log, clf__penalty=l1, clf__power_t=1;, score=0.918 total time=   2.5s\n",
            "[CV 2/3; 222/324] START clf__alpha=1.5e-05, clf__average=True, clf__l1_ratio=0.25, clf__loss=log, clf__penalty=l1, clf__power_t=1\n",
            "[CV 2/3; 222/324] END clf__alpha=1.5e-05, clf__average=True, clf__l1_ratio=0.25, clf__loss=log, clf__penalty=l1, clf__power_t=1;, score=0.921 total time=   2.5s\n",
            "[CV 3/3; 222/324] START clf__alpha=1.5e-05, clf__average=True, clf__l1_ratio=0.25, clf__loss=log, clf__penalty=l1, clf__power_t=1\n",
            "[CV 3/3; 222/324] END clf__alpha=1.5e-05, clf__average=True, clf__l1_ratio=0.25, clf__loss=log, clf__penalty=l1, clf__power_t=1;, score=0.936 total time=   2.5s\n",
            "[CV 1/3; 223/324] START clf__alpha=1.5e-05, clf__average=True, clf__l1_ratio=0.25, clf__loss=log, clf__penalty=elasticnet, clf__power_t=0.25\n",
            "[CV 1/3; 223/324] END clf__alpha=1.5e-05, clf__average=True, clf__l1_ratio=0.25, clf__loss=log, clf__penalty=elasticnet, clf__power_t=0.25;, score=0.943 total time=   2.5s\n",
            "[CV 2/3; 223/324] START clf__alpha=1.5e-05, clf__average=True, clf__l1_ratio=0.25, clf__loss=log, clf__penalty=elasticnet, clf__power_t=0.25\n",
            "[CV 2/3; 223/324] END clf__alpha=1.5e-05, clf__average=True, clf__l1_ratio=0.25, clf__loss=log, clf__penalty=elasticnet, clf__power_t=0.25;, score=0.946 total time=   2.6s\n",
            "[CV 3/3; 223/324] START clf__alpha=1.5e-05, clf__average=True, clf__l1_ratio=0.25, clf__loss=log, clf__penalty=elasticnet, clf__power_t=0.25\n",
            "[CV 3/3; 223/324] END clf__alpha=1.5e-05, clf__average=True, clf__l1_ratio=0.25, clf__loss=log, clf__penalty=elasticnet, clf__power_t=0.25;, score=0.961 total time=   2.5s\n",
            "[CV 1/3; 224/324] START clf__alpha=1.5e-05, clf__average=True, clf__l1_ratio=0.25, clf__loss=log, clf__penalty=elasticnet, clf__power_t=0.75\n",
            "[CV 1/3; 224/324] END clf__alpha=1.5e-05, clf__average=True, clf__l1_ratio=0.25, clf__loss=log, clf__penalty=elasticnet, clf__power_t=0.75;, score=0.942 total time=   2.5s\n",
            "[CV 2/3; 224/324] START clf__alpha=1.5e-05, clf__average=True, clf__l1_ratio=0.25, clf__loss=log, clf__penalty=elasticnet, clf__power_t=0.75\n",
            "[CV 2/3; 224/324] END clf__alpha=1.5e-05, clf__average=True, clf__l1_ratio=0.25, clf__loss=log, clf__penalty=elasticnet, clf__power_t=0.75;, score=0.947 total time=   2.6s\n",
            "[CV 3/3; 224/324] START clf__alpha=1.5e-05, clf__average=True, clf__l1_ratio=0.25, clf__loss=log, clf__penalty=elasticnet, clf__power_t=0.75\n",
            "[CV 3/3; 224/324] END clf__alpha=1.5e-05, clf__average=True, clf__l1_ratio=0.25, clf__loss=log, clf__penalty=elasticnet, clf__power_t=0.75;, score=0.962 total time=   2.6s\n",
            "[CV 1/3; 225/324] START clf__alpha=1.5e-05, clf__average=True, clf__l1_ratio=0.25, clf__loss=log, clf__penalty=elasticnet, clf__power_t=1\n",
            "[CV 1/3; 225/324] END clf__alpha=1.5e-05, clf__average=True, clf__l1_ratio=0.25, clf__loss=log, clf__penalty=elasticnet, clf__power_t=1;, score=0.944 total time=   2.5s\n",
            "[CV 2/3; 225/324] START clf__alpha=1.5e-05, clf__average=True, clf__l1_ratio=0.25, clf__loss=log, clf__penalty=elasticnet, clf__power_t=1\n",
            "[CV 2/3; 225/324] END clf__alpha=1.5e-05, clf__average=True, clf__l1_ratio=0.25, clf__loss=log, clf__penalty=elasticnet, clf__power_t=1;, score=0.944 total time=   2.6s\n",
            "[CV 3/3; 225/324] START clf__alpha=1.5e-05, clf__average=True, clf__l1_ratio=0.25, clf__loss=log, clf__penalty=elasticnet, clf__power_t=1\n",
            "[CV 3/3; 225/324] END clf__alpha=1.5e-05, clf__average=True, clf__l1_ratio=0.25, clf__loss=log, clf__penalty=elasticnet, clf__power_t=1;, score=0.960 total time=   2.5s\n",
            "[CV 1/3; 226/324] START clf__alpha=1.5e-05, clf__average=True, clf__l1_ratio=0.25, clf__loss=perceptron, clf__penalty=l2, clf__power_t=0.25\n",
            "[CV 1/3; 226/324] END clf__alpha=1.5e-05, clf__average=True, clf__l1_ratio=0.25, clf__loss=perceptron, clf__penalty=l2, clf__power_t=0.25;, score=0.969 total time=   1.8s\n",
            "[CV 2/3; 226/324] START clf__alpha=1.5e-05, clf__average=True, clf__l1_ratio=0.25, clf__loss=perceptron, clf__penalty=l2, clf__power_t=0.25\n",
            "[CV 2/3; 226/324] END clf__alpha=1.5e-05, clf__average=True, clf__l1_ratio=0.25, clf__loss=perceptron, clf__penalty=l2, clf__power_t=0.25;, score=0.973 total time=   1.8s\n",
            "[CV 3/3; 226/324] START clf__alpha=1.5e-05, clf__average=True, clf__l1_ratio=0.25, clf__loss=perceptron, clf__penalty=l2, clf__power_t=0.25\n",
            "[CV 3/3; 226/324] END clf__alpha=1.5e-05, clf__average=True, clf__l1_ratio=0.25, clf__loss=perceptron, clf__penalty=l2, clf__power_t=0.25;, score=0.990 total time=   2.0s\n",
            "[CV 1/3; 227/324] START clf__alpha=1.5e-05, clf__average=True, clf__l1_ratio=0.25, clf__loss=perceptron, clf__penalty=l2, clf__power_t=0.75\n",
            "[CV 1/3; 227/324] END clf__alpha=1.5e-05, clf__average=True, clf__l1_ratio=0.25, clf__loss=perceptron, clf__penalty=l2, clf__power_t=0.75;, score=0.969 total time=   1.9s\n",
            "[CV 2/3; 227/324] START clf__alpha=1.5e-05, clf__average=True, clf__l1_ratio=0.25, clf__loss=perceptron, clf__penalty=l2, clf__power_t=0.75\n",
            "[CV 2/3; 227/324] END clf__alpha=1.5e-05, clf__average=True, clf__l1_ratio=0.25, clf__loss=perceptron, clf__penalty=l2, clf__power_t=0.75;, score=0.972 total time=   1.9s\n",
            "[CV 3/3; 227/324] START clf__alpha=1.5e-05, clf__average=True, clf__l1_ratio=0.25, clf__loss=perceptron, clf__penalty=l2, clf__power_t=0.75\n",
            "[CV 3/3; 227/324] END clf__alpha=1.5e-05, clf__average=True, clf__l1_ratio=0.25, clf__loss=perceptron, clf__penalty=l2, clf__power_t=0.75;, score=0.989 total time=   1.9s\n",
            "[CV 1/3; 228/324] START clf__alpha=1.5e-05, clf__average=True, clf__l1_ratio=0.25, clf__loss=perceptron, clf__penalty=l2, clf__power_t=1\n",
            "[CV 1/3; 228/324] END clf__alpha=1.5e-05, clf__average=True, clf__l1_ratio=0.25, clf__loss=perceptron, clf__penalty=l2, clf__power_t=1;, score=0.970 total time=   1.9s\n",
            "[CV 2/3; 228/324] START clf__alpha=1.5e-05, clf__average=True, clf__l1_ratio=0.25, clf__loss=perceptron, clf__penalty=l2, clf__power_t=1\n",
            "[CV 2/3; 228/324] END clf__alpha=1.5e-05, clf__average=True, clf__l1_ratio=0.25, clf__loss=perceptron, clf__penalty=l2, clf__power_t=1;, score=0.972 total time=   1.9s\n",
            "[CV 3/3; 228/324] START clf__alpha=1.5e-05, clf__average=True, clf__l1_ratio=0.25, clf__loss=perceptron, clf__penalty=l2, clf__power_t=1\n",
            "[CV 3/3; 228/324] END clf__alpha=1.5e-05, clf__average=True, clf__l1_ratio=0.25, clf__loss=perceptron, clf__penalty=l2, clf__power_t=1;, score=0.989 total time=   1.9s\n",
            "[CV 1/3; 229/324] START clf__alpha=1.5e-05, clf__average=True, clf__l1_ratio=0.25, clf__loss=perceptron, clf__penalty=l1, clf__power_t=0.25\n",
            "[CV 1/3; 229/324] END clf__alpha=1.5e-05, clf__average=True, clf__l1_ratio=0.25, clf__loss=perceptron, clf__penalty=l1, clf__power_t=0.25;, score=0.835 total time=   2.4s\n",
            "[CV 2/3; 229/324] START clf__alpha=1.5e-05, clf__average=True, clf__l1_ratio=0.25, clf__loss=perceptron, clf__penalty=l1, clf__power_t=0.25\n",
            "[CV 2/3; 229/324] END clf__alpha=1.5e-05, clf__average=True, clf__l1_ratio=0.25, clf__loss=perceptron, clf__penalty=l1, clf__power_t=0.25;, score=0.843 total time=   2.5s\n",
            "[CV 3/3; 229/324] START clf__alpha=1.5e-05, clf__average=True, clf__l1_ratio=0.25, clf__loss=perceptron, clf__penalty=l1, clf__power_t=0.25\n",
            "[CV 3/3; 229/324] END clf__alpha=1.5e-05, clf__average=True, clf__l1_ratio=0.25, clf__loss=perceptron, clf__penalty=l1, clf__power_t=0.25;, score=0.839 total time=   2.4s\n",
            "[CV 1/3; 230/324] START clf__alpha=1.5e-05, clf__average=True, clf__l1_ratio=0.25, clf__loss=perceptron, clf__penalty=l1, clf__power_t=0.75\n",
            "[CV 1/3; 230/324] END clf__alpha=1.5e-05, clf__average=True, clf__l1_ratio=0.25, clf__loss=perceptron, clf__penalty=l1, clf__power_t=0.75;, score=0.846 total time=   2.4s\n",
            "[CV 2/3; 230/324] START clf__alpha=1.5e-05, clf__average=True, clf__l1_ratio=0.25, clf__loss=perceptron, clf__penalty=l1, clf__power_t=0.75\n",
            "[CV 2/3; 230/324] END clf__alpha=1.5e-05, clf__average=True, clf__l1_ratio=0.25, clf__loss=perceptron, clf__penalty=l1, clf__power_t=0.75;, score=0.837 total time=   2.4s\n",
            "[CV 3/3; 230/324] START clf__alpha=1.5e-05, clf__average=True, clf__l1_ratio=0.25, clf__loss=perceptron, clf__penalty=l1, clf__power_t=0.75\n",
            "[CV 3/3; 230/324] END clf__alpha=1.5e-05, clf__average=True, clf__l1_ratio=0.25, clf__loss=perceptron, clf__penalty=l1, clf__power_t=0.75;, score=0.838 total time=   2.3s\n",
            "[CV 1/3; 231/324] START clf__alpha=1.5e-05, clf__average=True, clf__l1_ratio=0.25, clf__loss=perceptron, clf__penalty=l1, clf__power_t=1\n",
            "[CV 1/3; 231/324] END clf__alpha=1.5e-05, clf__average=True, clf__l1_ratio=0.25, clf__loss=perceptron, clf__penalty=l1, clf__power_t=1;, score=0.840 total time=   2.3s\n",
            "[CV 2/3; 231/324] START clf__alpha=1.5e-05, clf__average=True, clf__l1_ratio=0.25, clf__loss=perceptron, clf__penalty=l1, clf__power_t=1\n",
            "[CV 2/3; 231/324] END clf__alpha=1.5e-05, clf__average=True, clf__l1_ratio=0.25, clf__loss=perceptron, clf__penalty=l1, clf__power_t=1;, score=0.845 total time=   2.4s\n",
            "[CV 3/3; 231/324] START clf__alpha=1.5e-05, clf__average=True, clf__l1_ratio=0.25, clf__loss=perceptron, clf__penalty=l1, clf__power_t=1\n",
            "[CV 3/3; 231/324] END clf__alpha=1.5e-05, clf__average=True, clf__l1_ratio=0.25, clf__loss=perceptron, clf__penalty=l1, clf__power_t=1;, score=0.832 total time=   2.4s\n",
            "[CV 1/3; 232/324] START clf__alpha=1.5e-05, clf__average=True, clf__l1_ratio=0.25, clf__loss=perceptron, clf__penalty=elasticnet, clf__power_t=0.25\n",
            "[CV 1/3; 232/324] END clf__alpha=1.5e-05, clf__average=True, clf__l1_ratio=0.25, clf__loss=perceptron, clf__penalty=elasticnet, clf__power_t=0.25;, score=0.643 total time=   2.5s\n",
            "[CV 2/3; 232/324] START clf__alpha=1.5e-05, clf__average=True, clf__l1_ratio=0.25, clf__loss=perceptron, clf__penalty=elasticnet, clf__power_t=0.25\n",
            "[CV 2/3; 232/324] END clf__alpha=1.5e-05, clf__average=True, clf__l1_ratio=0.25, clf__loss=perceptron, clf__penalty=elasticnet, clf__power_t=0.25;, score=0.643 total time=   2.5s\n",
            "[CV 3/3; 232/324] START clf__alpha=1.5e-05, clf__average=True, clf__l1_ratio=0.25, clf__loss=perceptron, clf__penalty=elasticnet, clf__power_t=0.25\n",
            "[CV 3/3; 232/324] END clf__alpha=1.5e-05, clf__average=True, clf__l1_ratio=0.25, clf__loss=perceptron, clf__penalty=elasticnet, clf__power_t=0.25;, score=0.651 total time=   2.5s\n",
            "[CV 1/3; 233/324] START clf__alpha=1.5e-05, clf__average=True, clf__l1_ratio=0.25, clf__loss=perceptron, clf__penalty=elasticnet, clf__power_t=0.75\n",
            "[CV 1/3; 233/324] END clf__alpha=1.5e-05, clf__average=True, clf__l1_ratio=0.25, clf__loss=perceptron, clf__penalty=elasticnet, clf__power_t=0.75;, score=0.659 total time=   2.4s\n",
            "[CV 2/3; 233/324] START clf__alpha=1.5e-05, clf__average=True, clf__l1_ratio=0.25, clf__loss=perceptron, clf__penalty=elasticnet, clf__power_t=0.75\n",
            "[CV 2/3; 233/324] END clf__alpha=1.5e-05, clf__average=True, clf__l1_ratio=0.25, clf__loss=perceptron, clf__penalty=elasticnet, clf__power_t=0.75;, score=0.670 total time=   2.4s\n",
            "[CV 3/3; 233/324] START clf__alpha=1.5e-05, clf__average=True, clf__l1_ratio=0.25, clf__loss=perceptron, clf__penalty=elasticnet, clf__power_t=0.75\n",
            "[CV 3/3; 233/324] END clf__alpha=1.5e-05, clf__average=True, clf__l1_ratio=0.25, clf__loss=perceptron, clf__penalty=elasticnet, clf__power_t=0.75;, score=0.645 total time=   2.4s\n",
            "[CV 1/3; 234/324] START clf__alpha=1.5e-05, clf__average=True, clf__l1_ratio=0.25, clf__loss=perceptron, clf__penalty=elasticnet, clf__power_t=1\n",
            "[CV 1/3; 234/324] END clf__alpha=1.5e-05, clf__average=True, clf__l1_ratio=0.25, clf__loss=perceptron, clf__penalty=elasticnet, clf__power_t=1;, score=0.658 total time=   2.5s\n",
            "[CV 2/3; 234/324] START clf__alpha=1.5e-05, clf__average=True, clf__l1_ratio=0.25, clf__loss=perceptron, clf__penalty=elasticnet, clf__power_t=1\n",
            "[CV 2/3; 234/324] END clf__alpha=1.5e-05, clf__average=True, clf__l1_ratio=0.25, clf__loss=perceptron, clf__penalty=elasticnet, clf__power_t=1;, score=0.679 total time=   2.4s\n",
            "[CV 3/3; 234/324] START clf__alpha=1.5e-05, clf__average=True, clf__l1_ratio=0.25, clf__loss=perceptron, clf__penalty=elasticnet, clf__power_t=1\n",
            "[CV 3/3; 234/324] END clf__alpha=1.5e-05, clf__average=True, clf__l1_ratio=0.25, clf__loss=perceptron, clf__penalty=elasticnet, clf__power_t=1;, score=0.655 total time=   2.4s\n",
            "[CV 1/3; 235/324] START clf__alpha=1.5e-05, clf__average=True, clf__l1_ratio=0.75, clf__loss=log, clf__penalty=l2, clf__power_t=0.25\n",
            "[CV 1/3; 235/324] END clf__alpha=1.5e-05, clf__average=True, clf__l1_ratio=0.75, clf__loss=log, clf__penalty=l2, clf__power_t=0.25;, score=0.960 total time=   2.1s\n",
            "[CV 2/3; 235/324] START clf__alpha=1.5e-05, clf__average=True, clf__l1_ratio=0.75, clf__loss=log, clf__penalty=l2, clf__power_t=0.25\n",
            "[CV 2/3; 235/324] END clf__alpha=1.5e-05, clf__average=True, clf__l1_ratio=0.75, clf__loss=log, clf__penalty=l2, clf__power_t=0.25;, score=0.964 total time=   2.1s\n",
            "[CV 3/3; 235/324] START clf__alpha=1.5e-05, clf__average=True, clf__l1_ratio=0.75, clf__loss=log, clf__penalty=l2, clf__power_t=0.25\n",
            "[CV 3/3; 235/324] END clf__alpha=1.5e-05, clf__average=True, clf__l1_ratio=0.75, clf__loss=log, clf__penalty=l2, clf__power_t=0.25;, score=0.978 total time=   2.2s\n",
            "[CV 1/3; 236/324] START clf__alpha=1.5e-05, clf__average=True, clf__l1_ratio=0.75, clf__loss=log, clf__penalty=l2, clf__power_t=0.75\n",
            "[CV 1/3; 236/324] END clf__alpha=1.5e-05, clf__average=True, clf__l1_ratio=0.75, clf__loss=log, clf__penalty=l2, clf__power_t=0.75;, score=0.960 total time=   2.1s\n",
            "[CV 2/3; 236/324] START clf__alpha=1.5e-05, clf__average=True, clf__l1_ratio=0.75, clf__loss=log, clf__penalty=l2, clf__power_t=0.75\n",
            "[CV 2/3; 236/324] END clf__alpha=1.5e-05, clf__average=True, clf__l1_ratio=0.75, clf__loss=log, clf__penalty=l2, clf__power_t=0.75;, score=0.965 total time=   2.1s\n",
            "[CV 3/3; 236/324] START clf__alpha=1.5e-05, clf__average=True, clf__l1_ratio=0.75, clf__loss=log, clf__penalty=l2, clf__power_t=0.75\n",
            "[CV 3/3; 236/324] END clf__alpha=1.5e-05, clf__average=True, clf__l1_ratio=0.75, clf__loss=log, clf__penalty=l2, clf__power_t=0.75;, score=0.978 total time=   2.1s\n",
            "[CV 1/3; 237/324] START clf__alpha=1.5e-05, clf__average=True, clf__l1_ratio=0.75, clf__loss=log, clf__penalty=l2, clf__power_t=1\n",
            "[CV 1/3; 237/324] END clf__alpha=1.5e-05, clf__average=True, clf__l1_ratio=0.75, clf__loss=log, clf__penalty=l2, clf__power_t=1;, score=0.960 total time=   2.1s\n",
            "[CV 2/3; 237/324] START clf__alpha=1.5e-05, clf__average=True, clf__l1_ratio=0.75, clf__loss=log, clf__penalty=l2, clf__power_t=1\n",
            "[CV 2/3; 237/324] END clf__alpha=1.5e-05, clf__average=True, clf__l1_ratio=0.75, clf__loss=log, clf__penalty=l2, clf__power_t=1;, score=0.965 total time=   2.1s\n",
            "[CV 3/3; 237/324] START clf__alpha=1.5e-05, clf__average=True, clf__l1_ratio=0.75, clf__loss=log, clf__penalty=l2, clf__power_t=1\n",
            "[CV 3/3; 237/324] END clf__alpha=1.5e-05, clf__average=True, clf__l1_ratio=0.75, clf__loss=log, clf__penalty=l2, clf__power_t=1;, score=0.979 total time=   2.1s\n",
            "[CV 1/3; 238/324] START clf__alpha=1.5e-05, clf__average=True, clf__l1_ratio=0.75, clf__loss=log, clf__penalty=l1, clf__power_t=0.25\n",
            "[CV 1/3; 238/324] END clf__alpha=1.5e-05, clf__average=True, clf__l1_ratio=0.75, clf__loss=log, clf__penalty=l1, clf__power_t=0.25;, score=0.919 total time=   2.5s\n",
            "[CV 2/3; 238/324] START clf__alpha=1.5e-05, clf__average=True, clf__l1_ratio=0.75, clf__loss=log, clf__penalty=l1, clf__power_t=0.25\n",
            "[CV 2/3; 238/324] END clf__alpha=1.5e-05, clf__average=True, clf__l1_ratio=0.75, clf__loss=log, clf__penalty=l1, clf__power_t=0.25;, score=0.925 total time=   2.5s\n",
            "[CV 3/3; 238/324] START clf__alpha=1.5e-05, clf__average=True, clf__l1_ratio=0.75, clf__loss=log, clf__penalty=l1, clf__power_t=0.25\n",
            "[CV 3/3; 238/324] END clf__alpha=1.5e-05, clf__average=True, clf__l1_ratio=0.75, clf__loss=log, clf__penalty=l1, clf__power_t=0.25;, score=0.936 total time=   2.5s\n",
            "[CV 1/3; 239/324] START clf__alpha=1.5e-05, clf__average=True, clf__l1_ratio=0.75, clf__loss=log, clf__penalty=l1, clf__power_t=0.75\n",
            "[CV 1/3; 239/324] END clf__alpha=1.5e-05, clf__average=True, clf__l1_ratio=0.75, clf__loss=log, clf__penalty=l1, clf__power_t=0.75;, score=0.918 total time=   2.5s\n",
            "[CV 2/3; 239/324] START clf__alpha=1.5e-05, clf__average=True, clf__l1_ratio=0.75, clf__loss=log, clf__penalty=l1, clf__power_t=0.75\n",
            "[CV 2/3; 239/324] END clf__alpha=1.5e-05, clf__average=True, clf__l1_ratio=0.75, clf__loss=log, clf__penalty=l1, clf__power_t=0.75;, score=0.921 total time=   2.4s\n",
            "[CV 3/3; 239/324] START clf__alpha=1.5e-05, clf__average=True, clf__l1_ratio=0.75, clf__loss=log, clf__penalty=l1, clf__power_t=0.75\n",
            "[CV 3/3; 239/324] END clf__alpha=1.5e-05, clf__average=True, clf__l1_ratio=0.75, clf__loss=log, clf__penalty=l1, clf__power_t=0.75;, score=0.932 total time=   2.5s\n",
            "[CV 1/3; 240/324] START clf__alpha=1.5e-05, clf__average=True, clf__l1_ratio=0.75, clf__loss=log, clf__penalty=l1, clf__power_t=1\n",
            "[CV 1/3; 240/324] END clf__alpha=1.5e-05, clf__average=True, clf__l1_ratio=0.75, clf__loss=log, clf__penalty=l1, clf__power_t=1;, score=0.919 total time=   2.5s\n",
            "[CV 2/3; 240/324] START clf__alpha=1.5e-05, clf__average=True, clf__l1_ratio=0.75, clf__loss=log, clf__penalty=l1, clf__power_t=1\n",
            "[CV 2/3; 240/324] END clf__alpha=1.5e-05, clf__average=True, clf__l1_ratio=0.75, clf__loss=log, clf__penalty=l1, clf__power_t=1;, score=0.921 total time=   2.4s\n",
            "[CV 3/3; 240/324] START clf__alpha=1.5e-05, clf__average=True, clf__l1_ratio=0.75, clf__loss=log, clf__penalty=l1, clf__power_t=1\n",
            "[CV 3/3; 240/324] END clf__alpha=1.5e-05, clf__average=True, clf__l1_ratio=0.75, clf__loss=log, clf__penalty=l1, clf__power_t=1;, score=0.931 total time=   2.5s\n",
            "[CV 1/3; 241/324] START clf__alpha=1.5e-05, clf__average=True, clf__l1_ratio=0.75, clf__loss=log, clf__penalty=elasticnet, clf__power_t=0.25\n",
            "[CV 1/3; 241/324] END clf__alpha=1.5e-05, clf__average=True, clf__l1_ratio=0.75, clf__loss=log, clf__penalty=elasticnet, clf__power_t=0.25;, score=0.908 total time=   2.5s\n",
            "[CV 2/3; 241/324] START clf__alpha=1.5e-05, clf__average=True, clf__l1_ratio=0.75, clf__loss=log, clf__penalty=elasticnet, clf__power_t=0.25\n",
            "[CV 2/3; 241/324] END clf__alpha=1.5e-05, clf__average=True, clf__l1_ratio=0.75, clf__loss=log, clf__penalty=elasticnet, clf__power_t=0.25;, score=0.911 total time=   2.5s\n",
            "[CV 3/3; 241/324] START clf__alpha=1.5e-05, clf__average=True, clf__l1_ratio=0.75, clf__loss=log, clf__penalty=elasticnet, clf__power_t=0.25\n",
            "[CV 3/3; 241/324] END clf__alpha=1.5e-05, clf__average=True, clf__l1_ratio=0.75, clf__loss=log, clf__penalty=elasticnet, clf__power_t=0.25;, score=0.925 total time=   2.5s\n",
            "[CV 1/3; 242/324] START clf__alpha=1.5e-05, clf__average=True, clf__l1_ratio=0.75, clf__loss=log, clf__penalty=elasticnet, clf__power_t=0.75\n",
            "[CV 1/3; 242/324] END clf__alpha=1.5e-05, clf__average=True, clf__l1_ratio=0.75, clf__loss=log, clf__penalty=elasticnet, clf__power_t=0.75;, score=0.907 total time=   2.5s\n",
            "[CV 2/3; 242/324] START clf__alpha=1.5e-05, clf__average=True, clf__l1_ratio=0.75, clf__loss=log, clf__penalty=elasticnet, clf__power_t=0.75\n",
            "[CV 2/3; 242/324] END clf__alpha=1.5e-05, clf__average=True, clf__l1_ratio=0.75, clf__loss=log, clf__penalty=elasticnet, clf__power_t=0.75;, score=0.913 total time=   2.5s\n",
            "[CV 3/3; 242/324] START clf__alpha=1.5e-05, clf__average=True, clf__l1_ratio=0.75, clf__loss=log, clf__penalty=elasticnet, clf__power_t=0.75\n",
            "[CV 3/3; 242/324] END clf__alpha=1.5e-05, clf__average=True, clf__l1_ratio=0.75, clf__loss=log, clf__penalty=elasticnet, clf__power_t=0.75;, score=0.924 total time=   2.5s\n",
            "[CV 1/3; 243/324] START clf__alpha=1.5e-05, clf__average=True, clf__l1_ratio=0.75, clf__loss=log, clf__penalty=elasticnet, clf__power_t=1\n",
            "[CV 1/3; 243/324] END clf__alpha=1.5e-05, clf__average=True, clf__l1_ratio=0.75, clf__loss=log, clf__penalty=elasticnet, clf__power_t=1;, score=0.909 total time=   2.4s\n",
            "[CV 2/3; 243/324] START clf__alpha=1.5e-05, clf__average=True, clf__l1_ratio=0.75, clf__loss=log, clf__penalty=elasticnet, clf__power_t=1\n",
            "[CV 2/3; 243/324] END clf__alpha=1.5e-05, clf__average=True, clf__l1_ratio=0.75, clf__loss=log, clf__penalty=elasticnet, clf__power_t=1;, score=0.910 total time=   2.4s\n",
            "[CV 3/3; 243/324] START clf__alpha=1.5e-05, clf__average=True, clf__l1_ratio=0.75, clf__loss=log, clf__penalty=elasticnet, clf__power_t=1\n",
            "[CV 3/3; 243/324] END clf__alpha=1.5e-05, clf__average=True, clf__l1_ratio=0.75, clf__loss=log, clf__penalty=elasticnet, clf__power_t=1;, score=0.922 total time=   2.4s\n",
            "[CV 1/3; 244/324] START clf__alpha=1.5e-05, clf__average=True, clf__l1_ratio=0.75, clf__loss=perceptron, clf__penalty=l2, clf__power_t=0.25\n",
            "[CV 1/3; 244/324] END clf__alpha=1.5e-05, clf__average=True, clf__l1_ratio=0.75, clf__loss=perceptron, clf__penalty=l2, clf__power_t=0.25;, score=0.971 total time=   1.8s\n",
            "[CV 2/3; 244/324] START clf__alpha=1.5e-05, clf__average=True, clf__l1_ratio=0.75, clf__loss=perceptron, clf__penalty=l2, clf__power_t=0.25\n",
            "[CV 2/3; 244/324] END clf__alpha=1.5e-05, clf__average=True, clf__l1_ratio=0.75, clf__loss=perceptron, clf__penalty=l2, clf__power_t=0.25;, score=0.974 total time=   1.8s\n",
            "[CV 3/3; 244/324] START clf__alpha=1.5e-05, clf__average=True, clf__l1_ratio=0.75, clf__loss=perceptron, clf__penalty=l2, clf__power_t=0.25\n",
            "[CV 3/3; 244/324] END clf__alpha=1.5e-05, clf__average=True, clf__l1_ratio=0.75, clf__loss=perceptron, clf__penalty=l2, clf__power_t=0.25;, score=0.989 total time=   2.0s\n",
            "[CV 1/3; 245/324] START clf__alpha=1.5e-05, clf__average=True, clf__l1_ratio=0.75, clf__loss=perceptron, clf__penalty=l2, clf__power_t=0.75\n",
            "[CV 1/3; 245/324] END clf__alpha=1.5e-05, clf__average=True, clf__l1_ratio=0.75, clf__loss=perceptron, clf__penalty=l2, clf__power_t=0.75;, score=0.970 total time=   1.9s\n",
            "[CV 2/3; 245/324] START clf__alpha=1.5e-05, clf__average=True, clf__l1_ratio=0.75, clf__loss=perceptron, clf__penalty=l2, clf__power_t=0.75\n",
            "[CV 2/3; 245/324] END clf__alpha=1.5e-05, clf__average=True, clf__l1_ratio=0.75, clf__loss=perceptron, clf__penalty=l2, clf__power_t=0.75;, score=0.971 total time=   1.9s\n",
            "[CV 3/3; 245/324] START clf__alpha=1.5e-05, clf__average=True, clf__l1_ratio=0.75, clf__loss=perceptron, clf__penalty=l2, clf__power_t=0.75\n",
            "[CV 3/3; 245/324] END clf__alpha=1.5e-05, clf__average=True, clf__l1_ratio=0.75, clf__loss=perceptron, clf__penalty=l2, clf__power_t=0.75;, score=0.991 total time=   1.9s\n",
            "[CV 1/3; 246/324] START clf__alpha=1.5e-05, clf__average=True, clf__l1_ratio=0.75, clf__loss=perceptron, clf__penalty=l2, clf__power_t=1\n",
            "[CV 1/3; 246/324] END clf__alpha=1.5e-05, clf__average=True, clf__l1_ratio=0.75, clf__loss=perceptron, clf__penalty=l2, clf__power_t=1;, score=0.969 total time=   1.8s\n",
            "[CV 2/3; 246/324] START clf__alpha=1.5e-05, clf__average=True, clf__l1_ratio=0.75, clf__loss=perceptron, clf__penalty=l2, clf__power_t=1\n",
            "[CV 2/3; 246/324] END clf__alpha=1.5e-05, clf__average=True, clf__l1_ratio=0.75, clf__loss=perceptron, clf__penalty=l2, clf__power_t=1;, score=0.973 total time=   1.9s\n",
            "[CV 3/3; 246/324] START clf__alpha=1.5e-05, clf__average=True, clf__l1_ratio=0.75, clf__loss=perceptron, clf__penalty=l2, clf__power_t=1\n",
            "[CV 3/3; 246/324] END clf__alpha=1.5e-05, clf__average=True, clf__l1_ratio=0.75, clf__loss=perceptron, clf__penalty=l2, clf__power_t=1;, score=0.991 total time=   2.0s\n",
            "[CV 1/3; 247/324] START clf__alpha=1.5e-05, clf__average=True, clf__l1_ratio=0.75, clf__loss=perceptron, clf__penalty=l1, clf__power_t=0.25\n",
            "[CV 1/3; 247/324] END clf__alpha=1.5e-05, clf__average=True, clf__l1_ratio=0.75, clf__loss=perceptron, clf__penalty=l1, clf__power_t=0.25;, score=0.830 total time=   2.4s\n",
            "[CV 2/3; 247/324] START clf__alpha=1.5e-05, clf__average=True, clf__l1_ratio=0.75, clf__loss=perceptron, clf__penalty=l1, clf__power_t=0.25\n",
            "[CV 2/3; 247/324] END clf__alpha=1.5e-05, clf__average=True, clf__l1_ratio=0.75, clf__loss=perceptron, clf__penalty=l1, clf__power_t=0.25;, score=0.849 total time=   2.4s\n",
            "[CV 3/3; 247/324] START clf__alpha=1.5e-05, clf__average=True, clf__l1_ratio=0.75, clf__loss=perceptron, clf__penalty=l1, clf__power_t=0.25\n",
            "[CV 3/3; 247/324] END clf__alpha=1.5e-05, clf__average=True, clf__l1_ratio=0.75, clf__loss=perceptron, clf__penalty=l1, clf__power_t=0.25;, score=0.830 total time=   2.4s\n",
            "[CV 1/3; 248/324] START clf__alpha=1.5e-05, clf__average=True, clf__l1_ratio=0.75, clf__loss=perceptron, clf__penalty=l1, clf__power_t=0.75\n",
            "[CV 1/3; 248/324] END clf__alpha=1.5e-05, clf__average=True, clf__l1_ratio=0.75, clf__loss=perceptron, clf__penalty=l1, clf__power_t=0.75;, score=0.836 total time=   2.4s\n",
            "[CV 2/3; 248/324] START clf__alpha=1.5e-05, clf__average=True, clf__l1_ratio=0.75, clf__loss=perceptron, clf__penalty=l1, clf__power_t=0.75\n",
            "[CV 2/3; 248/324] END clf__alpha=1.5e-05, clf__average=True, clf__l1_ratio=0.75, clf__loss=perceptron, clf__penalty=l1, clf__power_t=0.75;, score=0.855 total time=   2.4s\n",
            "[CV 3/3; 248/324] START clf__alpha=1.5e-05, clf__average=True, clf__l1_ratio=0.75, clf__loss=perceptron, clf__penalty=l1, clf__power_t=0.75\n",
            "[CV 3/3; 248/324] END clf__alpha=1.5e-05, clf__average=True, clf__l1_ratio=0.75, clf__loss=perceptron, clf__penalty=l1, clf__power_t=0.75;, score=0.851 total time=   2.4s\n",
            "[CV 1/3; 249/324] START clf__alpha=1.5e-05, clf__average=True, clf__l1_ratio=0.75, clf__loss=perceptron, clf__penalty=l1, clf__power_t=1\n",
            "[CV 1/3; 249/324] END clf__alpha=1.5e-05, clf__average=True, clf__l1_ratio=0.75, clf__loss=perceptron, clf__penalty=l1, clf__power_t=1;, score=0.834 total time=   2.4s\n",
            "[CV 2/3; 249/324] START clf__alpha=1.5e-05, clf__average=True, clf__l1_ratio=0.75, clf__loss=perceptron, clf__penalty=l1, clf__power_t=1\n",
            "[CV 2/3; 249/324] END clf__alpha=1.5e-05, clf__average=True, clf__l1_ratio=0.75, clf__loss=perceptron, clf__penalty=l1, clf__power_t=1;, score=0.843 total time=   2.4s\n",
            "[CV 3/3; 249/324] START clf__alpha=1.5e-05, clf__average=True, clf__l1_ratio=0.75, clf__loss=perceptron, clf__penalty=l1, clf__power_t=1\n",
            "[CV 3/3; 249/324] END clf__alpha=1.5e-05, clf__average=True, clf__l1_ratio=0.75, clf__loss=perceptron, clf__penalty=l1, clf__power_t=1;, score=0.833 total time=   2.5s\n",
            "[CV 1/3; 250/324] START clf__alpha=1.5e-05, clf__average=True, clf__l1_ratio=0.75, clf__loss=perceptron, clf__penalty=elasticnet, clf__power_t=0.25\n",
            "[CV 1/3; 250/324] END clf__alpha=1.5e-05, clf__average=True, clf__l1_ratio=0.75, clf__loss=perceptron, clf__penalty=elasticnet, clf__power_t=0.25;, score=0.701 total time=   2.4s\n",
            "[CV 2/3; 250/324] START clf__alpha=1.5e-05, clf__average=True, clf__l1_ratio=0.75, clf__loss=perceptron, clf__penalty=elasticnet, clf__power_t=0.25\n",
            "[CV 2/3; 250/324] END clf__alpha=1.5e-05, clf__average=True, clf__l1_ratio=0.75, clf__loss=perceptron, clf__penalty=elasticnet, clf__power_t=0.25;, score=0.692 total time=   2.3s\n",
            "[CV 3/3; 250/324] START clf__alpha=1.5e-05, clf__average=True, clf__l1_ratio=0.75, clf__loss=perceptron, clf__penalty=elasticnet, clf__power_t=0.25\n",
            "[CV 3/3; 250/324] END clf__alpha=1.5e-05, clf__average=True, clf__l1_ratio=0.75, clf__loss=perceptron, clf__penalty=elasticnet, clf__power_t=0.25;, score=0.667 total time=   2.4s\n",
            "[CV 1/3; 251/324] START clf__alpha=1.5e-05, clf__average=True, clf__l1_ratio=0.75, clf__loss=perceptron, clf__penalty=elasticnet, clf__power_t=0.75\n",
            "[CV 1/3; 251/324] END clf__alpha=1.5e-05, clf__average=True, clf__l1_ratio=0.75, clf__loss=perceptron, clf__penalty=elasticnet, clf__power_t=0.75;, score=0.696 total time=   2.3s\n",
            "[CV 2/3; 251/324] START clf__alpha=1.5e-05, clf__average=True, clf__l1_ratio=0.75, clf__loss=perceptron, clf__penalty=elasticnet, clf__power_t=0.75\n",
            "[CV 2/3; 251/324] END clf__alpha=1.5e-05, clf__average=True, clf__l1_ratio=0.75, clf__loss=perceptron, clf__penalty=elasticnet, clf__power_t=0.75;, score=0.722 total time=   2.3s\n",
            "[CV 3/3; 251/324] START clf__alpha=1.5e-05, clf__average=True, clf__l1_ratio=0.75, clf__loss=perceptron, clf__penalty=elasticnet, clf__power_t=0.75\n",
            "[CV 3/3; 251/324] END clf__alpha=1.5e-05, clf__average=True, clf__l1_ratio=0.75, clf__loss=perceptron, clf__penalty=elasticnet, clf__power_t=0.75;, score=0.684 total time=   2.4s\n",
            "[CV 1/3; 252/324] START clf__alpha=1.5e-05, clf__average=True, clf__l1_ratio=0.75, clf__loss=perceptron, clf__penalty=elasticnet, clf__power_t=1\n",
            "[CV 1/3; 252/324] END clf__alpha=1.5e-05, clf__average=True, clf__l1_ratio=0.75, clf__loss=perceptron, clf__penalty=elasticnet, clf__power_t=1;, score=0.703 total time=   2.4s\n",
            "[CV 2/3; 252/324] START clf__alpha=1.5e-05, clf__average=True, clf__l1_ratio=0.75, clf__loss=perceptron, clf__penalty=elasticnet, clf__power_t=1\n",
            "[CV 2/3; 252/324] END clf__alpha=1.5e-05, clf__average=True, clf__l1_ratio=0.75, clf__loss=perceptron, clf__penalty=elasticnet, clf__power_t=1;, score=0.698 total time=   2.4s\n",
            "[CV 3/3; 252/324] START clf__alpha=1.5e-05, clf__average=True, clf__l1_ratio=0.75, clf__loss=perceptron, clf__penalty=elasticnet, clf__power_t=1\n",
            "[CV 3/3; 252/324] END clf__alpha=1.5e-05, clf__average=True, clf__l1_ratio=0.75, clf__loss=perceptron, clf__penalty=elasticnet, clf__power_t=1;, score=0.675 total time=   2.3s\n",
            "[CV 1/3; 253/324] START clf__alpha=1.5e-05, clf__average=True, clf__l1_ratio=1, clf__loss=log, clf__penalty=l2, clf__power_t=0.25\n",
            "[CV 1/3; 253/324] END clf__alpha=1.5e-05, clf__average=True, clf__l1_ratio=1, clf__loss=log, clf__penalty=l2, clf__power_t=0.25;, score=0.960 total time=   2.1s\n",
            "[CV 2/3; 253/324] START clf__alpha=1.5e-05, clf__average=True, clf__l1_ratio=1, clf__loss=log, clf__penalty=l2, clf__power_t=0.25\n",
            "[CV 2/3; 253/324] END clf__alpha=1.5e-05, clf__average=True, clf__l1_ratio=1, clf__loss=log, clf__penalty=l2, clf__power_t=0.25;, score=0.964 total time=   2.1s\n",
            "[CV 3/3; 253/324] START clf__alpha=1.5e-05, clf__average=True, clf__l1_ratio=1, clf__loss=log, clf__penalty=l2, clf__power_t=0.25\n",
            "[CV 3/3; 253/324] END clf__alpha=1.5e-05, clf__average=True, clf__l1_ratio=1, clf__loss=log, clf__penalty=l2, clf__power_t=0.25;, score=0.978 total time=   2.1s\n",
            "[CV 1/3; 254/324] START clf__alpha=1.5e-05, clf__average=True, clf__l1_ratio=1, clf__loss=log, clf__penalty=l2, clf__power_t=0.75\n",
            "[CV 1/3; 254/324] END clf__alpha=1.5e-05, clf__average=True, clf__l1_ratio=1, clf__loss=log, clf__penalty=l2, clf__power_t=0.75;, score=0.960 total time=   2.1s\n",
            "[CV 2/3; 254/324] START clf__alpha=1.5e-05, clf__average=True, clf__l1_ratio=1, clf__loss=log, clf__penalty=l2, clf__power_t=0.75\n",
            "[CV 2/3; 254/324] END clf__alpha=1.5e-05, clf__average=True, clf__l1_ratio=1, clf__loss=log, clf__penalty=l2, clf__power_t=0.75;, score=0.965 total time=   2.2s\n",
            "[CV 3/3; 254/324] START clf__alpha=1.5e-05, clf__average=True, clf__l1_ratio=1, clf__loss=log, clf__penalty=l2, clf__power_t=0.75\n",
            "[CV 3/3; 254/324] END clf__alpha=1.5e-05, clf__average=True, clf__l1_ratio=1, clf__loss=log, clf__penalty=l2, clf__power_t=0.75;, score=0.978 total time=   2.2s\n",
            "[CV 1/3; 255/324] START clf__alpha=1.5e-05, clf__average=True, clf__l1_ratio=1, clf__loss=log, clf__penalty=l2, clf__power_t=1\n",
            "[CV 1/3; 255/324] END clf__alpha=1.5e-05, clf__average=True, clf__l1_ratio=1, clf__loss=log, clf__penalty=l2, clf__power_t=1;, score=0.961 total time=   2.1s\n",
            "[CV 2/3; 255/324] START clf__alpha=1.5e-05, clf__average=True, clf__l1_ratio=1, clf__loss=log, clf__penalty=l2, clf__power_t=1\n",
            "[CV 2/3; 255/324] END clf__alpha=1.5e-05, clf__average=True, clf__l1_ratio=1, clf__loss=log, clf__penalty=l2, clf__power_t=1;, score=0.964 total time=   2.1s\n",
            "[CV 3/3; 255/324] START clf__alpha=1.5e-05, clf__average=True, clf__l1_ratio=1, clf__loss=log, clf__penalty=l2, clf__power_t=1\n",
            "[CV 3/3; 255/324] END clf__alpha=1.5e-05, clf__average=True, clf__l1_ratio=1, clf__loss=log, clf__penalty=l2, clf__power_t=1;, score=0.978 total time=   2.1s\n",
            "[CV 1/3; 256/324] START clf__alpha=1.5e-05, clf__average=True, clf__l1_ratio=1, clf__loss=log, clf__penalty=l1, clf__power_t=0.25\n",
            "[CV 1/3; 256/324] END clf__alpha=1.5e-05, clf__average=True, clf__l1_ratio=1, clf__loss=log, clf__penalty=l1, clf__power_t=0.25;, score=0.918 total time=   2.5s\n",
            "[CV 2/3; 256/324] START clf__alpha=1.5e-05, clf__average=True, clf__l1_ratio=1, clf__loss=log, clf__penalty=l1, clf__power_t=0.25\n",
            "[CV 2/3; 256/324] END clf__alpha=1.5e-05, clf__average=True, clf__l1_ratio=1, clf__loss=log, clf__penalty=l1, clf__power_t=0.25;, score=0.921 total time=   2.5s\n",
            "[CV 3/3; 256/324] START clf__alpha=1.5e-05, clf__average=True, clf__l1_ratio=1, clf__loss=log, clf__penalty=l1, clf__power_t=0.25\n",
            "[CV 3/3; 256/324] END clf__alpha=1.5e-05, clf__average=True, clf__l1_ratio=1, clf__loss=log, clf__penalty=l1, clf__power_t=0.25;, score=0.932 total time=   2.5s\n",
            "[CV 1/3; 257/324] START clf__alpha=1.5e-05, clf__average=True, clf__l1_ratio=1, clf__loss=log, clf__penalty=l1, clf__power_t=0.75\n",
            "[CV 1/3; 257/324] END clf__alpha=1.5e-05, clf__average=True, clf__l1_ratio=1, clf__loss=log, clf__penalty=l1, clf__power_t=0.75;, score=0.921 total time=   2.5s\n",
            "[CV 2/3; 257/324] START clf__alpha=1.5e-05, clf__average=True, clf__l1_ratio=1, clf__loss=log, clf__penalty=l1, clf__power_t=0.75\n",
            "[CV 2/3; 257/324] END clf__alpha=1.5e-05, clf__average=True, clf__l1_ratio=1, clf__loss=log, clf__penalty=l1, clf__power_t=0.75;, score=0.921 total time=   2.5s\n",
            "[CV 3/3; 257/324] START clf__alpha=1.5e-05, clf__average=True, clf__l1_ratio=1, clf__loss=log, clf__penalty=l1, clf__power_t=0.75\n",
            "[CV 3/3; 257/324] END clf__alpha=1.5e-05, clf__average=True, clf__l1_ratio=1, clf__loss=log, clf__penalty=l1, clf__power_t=0.75;, score=0.934 total time=   2.4s\n",
            "[CV 1/3; 258/324] START clf__alpha=1.5e-05, clf__average=True, clf__l1_ratio=1, clf__loss=log, clf__penalty=l1, clf__power_t=1\n",
            "[CV 1/3; 258/324] END clf__alpha=1.5e-05, clf__average=True, clf__l1_ratio=1, clf__loss=log, clf__penalty=l1, clf__power_t=1;, score=0.921 total time=   2.5s\n",
            "[CV 2/3; 258/324] START clf__alpha=1.5e-05, clf__average=True, clf__l1_ratio=1, clf__loss=log, clf__penalty=l1, clf__power_t=1\n",
            "[CV 2/3; 258/324] END clf__alpha=1.5e-05, clf__average=True, clf__l1_ratio=1, clf__loss=log, clf__penalty=l1, clf__power_t=1;, score=0.926 total time=   2.5s\n",
            "[CV 3/3; 258/324] START clf__alpha=1.5e-05, clf__average=True, clf__l1_ratio=1, clf__loss=log, clf__penalty=l1, clf__power_t=1\n",
            "[CV 3/3; 258/324] END clf__alpha=1.5e-05, clf__average=True, clf__l1_ratio=1, clf__loss=log, clf__penalty=l1, clf__power_t=1;, score=0.931 total time=   2.6s\n",
            "[CV 1/3; 259/324] START clf__alpha=1.5e-05, clf__average=True, clf__l1_ratio=1, clf__loss=log, clf__penalty=elasticnet, clf__power_t=0.25\n",
            "[CV 1/3; 259/324] END clf__alpha=1.5e-05, clf__average=True, clf__l1_ratio=1, clf__loss=log, clf__penalty=elasticnet, clf__power_t=0.25;, score=0.920 total time=   2.5s\n",
            "[CV 2/3; 259/324] START clf__alpha=1.5e-05, clf__average=True, clf__l1_ratio=1, clf__loss=log, clf__penalty=elasticnet, clf__power_t=0.25\n",
            "[CV 2/3; 259/324] END clf__alpha=1.5e-05, clf__average=True, clf__l1_ratio=1, clf__loss=log, clf__penalty=elasticnet, clf__power_t=0.25;, score=0.925 total time=   2.4s\n",
            "[CV 3/3; 259/324] START clf__alpha=1.5e-05, clf__average=True, clf__l1_ratio=1, clf__loss=log, clf__penalty=elasticnet, clf__power_t=0.25\n",
            "[CV 3/3; 259/324] END clf__alpha=1.5e-05, clf__average=True, clf__l1_ratio=1, clf__loss=log, clf__penalty=elasticnet, clf__power_t=0.25;, score=0.934 total time=   2.5s\n",
            "[CV 1/3; 260/324] START clf__alpha=1.5e-05, clf__average=True, clf__l1_ratio=1, clf__loss=log, clf__penalty=elasticnet, clf__power_t=0.75\n",
            "[CV 1/3; 260/324] END clf__alpha=1.5e-05, clf__average=True, clf__l1_ratio=1, clf__loss=log, clf__penalty=elasticnet, clf__power_t=0.75;, score=0.916 total time=   2.4s\n",
            "[CV 2/3; 260/324] START clf__alpha=1.5e-05, clf__average=True, clf__l1_ratio=1, clf__loss=log, clf__penalty=elasticnet, clf__power_t=0.75\n",
            "[CV 2/3; 260/324] END clf__alpha=1.5e-05, clf__average=True, clf__l1_ratio=1, clf__loss=log, clf__penalty=elasticnet, clf__power_t=0.75;, score=0.922 total time=   2.5s\n",
            "[CV 3/3; 260/324] START clf__alpha=1.5e-05, clf__average=True, clf__l1_ratio=1, clf__loss=log, clf__penalty=elasticnet, clf__power_t=0.75\n",
            "[CV 3/3; 260/324] END clf__alpha=1.5e-05, clf__average=True, clf__l1_ratio=1, clf__loss=log, clf__penalty=elasticnet, clf__power_t=0.75;, score=0.930 total time=   2.5s\n",
            "[CV 1/3; 261/324] START clf__alpha=1.5e-05, clf__average=True, clf__l1_ratio=1, clf__loss=log, clf__penalty=elasticnet, clf__power_t=1\n",
            "[CV 1/3; 261/324] END clf__alpha=1.5e-05, clf__average=True, clf__l1_ratio=1, clf__loss=log, clf__penalty=elasticnet, clf__power_t=1;, score=0.915 total time=   2.6s\n",
            "[CV 2/3; 261/324] START clf__alpha=1.5e-05, clf__average=True, clf__l1_ratio=1, clf__loss=log, clf__penalty=elasticnet, clf__power_t=1\n",
            "[CV 2/3; 261/324] END clf__alpha=1.5e-05, clf__average=True, clf__l1_ratio=1, clf__loss=log, clf__penalty=elasticnet, clf__power_t=1;, score=0.924 total time=   2.5s\n",
            "[CV 3/3; 261/324] START clf__alpha=1.5e-05, clf__average=True, clf__l1_ratio=1, clf__loss=log, clf__penalty=elasticnet, clf__power_t=1\n",
            "[CV 3/3; 261/324] END clf__alpha=1.5e-05, clf__average=True, clf__l1_ratio=1, clf__loss=log, clf__penalty=elasticnet, clf__power_t=1;, score=0.933 total time=   2.5s\n",
            "[CV 1/3; 262/324] START clf__alpha=1.5e-05, clf__average=True, clf__l1_ratio=1, clf__loss=perceptron, clf__penalty=l2, clf__power_t=0.25\n",
            "[CV 1/3; 262/324] END clf__alpha=1.5e-05, clf__average=True, clf__l1_ratio=1, clf__loss=perceptron, clf__penalty=l2, clf__power_t=0.25;, score=0.971 total time=   1.9s\n",
            "[CV 2/3; 262/324] START clf__alpha=1.5e-05, clf__average=True, clf__l1_ratio=1, clf__loss=perceptron, clf__penalty=l2, clf__power_t=0.25\n",
            "[CV 2/3; 262/324] END clf__alpha=1.5e-05, clf__average=True, clf__l1_ratio=1, clf__loss=perceptron, clf__penalty=l2, clf__power_t=0.25;, score=0.971 total time=   1.9s\n",
            "[CV 3/3; 262/324] START clf__alpha=1.5e-05, clf__average=True, clf__l1_ratio=1, clf__loss=perceptron, clf__penalty=l2, clf__power_t=0.25\n",
            "[CV 3/3; 262/324] END clf__alpha=1.5e-05, clf__average=True, clf__l1_ratio=1, clf__loss=perceptron, clf__penalty=l2, clf__power_t=0.25;, score=0.988 total time=   2.0s\n",
            "[CV 1/3; 263/324] START clf__alpha=1.5e-05, clf__average=True, clf__l1_ratio=1, clf__loss=perceptron, clf__penalty=l2, clf__power_t=0.75\n",
            "[CV 1/3; 263/324] END clf__alpha=1.5e-05, clf__average=True, clf__l1_ratio=1, clf__loss=perceptron, clf__penalty=l2, clf__power_t=0.75;, score=0.970 total time=   2.0s\n",
            "[CV 2/3; 263/324] START clf__alpha=1.5e-05, clf__average=True, clf__l1_ratio=1, clf__loss=perceptron, clf__penalty=l2, clf__power_t=0.75\n",
            "[CV 2/3; 263/324] END clf__alpha=1.5e-05, clf__average=True, clf__l1_ratio=1, clf__loss=perceptron, clf__penalty=l2, clf__power_t=0.75;, score=0.974 total time=   1.9s\n",
            "[CV 3/3; 263/324] START clf__alpha=1.5e-05, clf__average=True, clf__l1_ratio=1, clf__loss=perceptron, clf__penalty=l2, clf__power_t=0.75\n",
            "[CV 3/3; 263/324] END clf__alpha=1.5e-05, clf__average=True, clf__l1_ratio=1, clf__loss=perceptron, clf__penalty=l2, clf__power_t=0.75;, score=0.988 total time=   1.9s\n",
            "[CV 1/3; 264/324] START clf__alpha=1.5e-05, clf__average=True, clf__l1_ratio=1, clf__loss=perceptron, clf__penalty=l2, clf__power_t=1\n",
            "[CV 1/3; 264/324] END clf__alpha=1.5e-05, clf__average=True, clf__l1_ratio=1, clf__loss=perceptron, clf__penalty=l2, clf__power_t=1;, score=0.967 total time=   1.9s\n",
            "[CV 2/3; 264/324] START clf__alpha=1.5e-05, clf__average=True, clf__l1_ratio=1, clf__loss=perceptron, clf__penalty=l2, clf__power_t=1\n",
            "[CV 2/3; 264/324] END clf__alpha=1.5e-05, clf__average=True, clf__l1_ratio=1, clf__loss=perceptron, clf__penalty=l2, clf__power_t=1;, score=0.972 total time=   2.0s\n",
            "[CV 3/3; 264/324] START clf__alpha=1.5e-05, clf__average=True, clf__l1_ratio=1, clf__loss=perceptron, clf__penalty=l2, clf__power_t=1\n",
            "[CV 3/3; 264/324] END clf__alpha=1.5e-05, clf__average=True, clf__l1_ratio=1, clf__loss=perceptron, clf__penalty=l2, clf__power_t=1;, score=0.989 total time=   1.9s\n",
            "[CV 1/3; 265/324] START clf__alpha=1.5e-05, clf__average=True, clf__l1_ratio=1, clf__loss=perceptron, clf__penalty=l1, clf__power_t=0.25\n",
            "[CV 1/3; 265/324] END clf__alpha=1.5e-05, clf__average=True, clf__l1_ratio=1, clf__loss=perceptron, clf__penalty=l1, clf__power_t=0.25;, score=0.830 total time=   2.4s\n",
            "[CV 2/3; 265/324] START clf__alpha=1.5e-05, clf__average=True, clf__l1_ratio=1, clf__loss=perceptron, clf__penalty=l1, clf__power_t=0.25\n",
            "[CV 2/3; 265/324] END clf__alpha=1.5e-05, clf__average=True, clf__l1_ratio=1, clf__loss=perceptron, clf__penalty=l1, clf__power_t=0.25;, score=0.844 total time=   2.5s\n",
            "[CV 3/3; 265/324] START clf__alpha=1.5e-05, clf__average=True, clf__l1_ratio=1, clf__loss=perceptron, clf__penalty=l1, clf__power_t=0.25\n",
            "[CV 3/3; 265/324] END clf__alpha=1.5e-05, clf__average=True, clf__l1_ratio=1, clf__loss=perceptron, clf__penalty=l1, clf__power_t=0.25;, score=0.845 total time=   2.4s\n",
            "[CV 1/3; 266/324] START clf__alpha=1.5e-05, clf__average=True, clf__l1_ratio=1, clf__loss=perceptron, clf__penalty=l1, clf__power_t=0.75\n",
            "[CV 1/3; 266/324] END clf__alpha=1.5e-05, clf__average=True, clf__l1_ratio=1, clf__loss=perceptron, clf__penalty=l1, clf__power_t=0.75;, score=0.827 total time=   2.5s\n",
            "[CV 2/3; 266/324] START clf__alpha=1.5e-05, clf__average=True, clf__l1_ratio=1, clf__loss=perceptron, clf__penalty=l1, clf__power_t=0.75\n",
            "[CV 2/3; 266/324] END clf__alpha=1.5e-05, clf__average=True, clf__l1_ratio=1, clf__loss=perceptron, clf__penalty=l1, clf__power_t=0.75;, score=0.835 total time=   2.3s\n",
            "[CV 3/3; 266/324] START clf__alpha=1.5e-05, clf__average=True, clf__l1_ratio=1, clf__loss=perceptron, clf__penalty=l1, clf__power_t=0.75\n",
            "[CV 3/3; 266/324] END clf__alpha=1.5e-05, clf__average=True, clf__l1_ratio=1, clf__loss=perceptron, clf__penalty=l1, clf__power_t=0.75;, score=0.851 total time=   2.3s\n",
            "[CV 1/3; 267/324] START clf__alpha=1.5e-05, clf__average=True, clf__l1_ratio=1, clf__loss=perceptron, clf__penalty=l1, clf__power_t=1\n",
            "[CV 1/3; 267/324] END clf__alpha=1.5e-05, clf__average=True, clf__l1_ratio=1, clf__loss=perceptron, clf__penalty=l1, clf__power_t=1;, score=0.847 total time=   2.4s\n",
            "[CV 2/3; 267/324] START clf__alpha=1.5e-05, clf__average=True, clf__l1_ratio=1, clf__loss=perceptron, clf__penalty=l1, clf__power_t=1\n",
            "[CV 2/3; 267/324] END clf__alpha=1.5e-05, clf__average=True, clf__l1_ratio=1, clf__loss=perceptron, clf__penalty=l1, clf__power_t=1;, score=0.842 total time=   2.5s\n",
            "[CV 3/3; 267/324] START clf__alpha=1.5e-05, clf__average=True, clf__l1_ratio=1, clf__loss=perceptron, clf__penalty=l1, clf__power_t=1\n",
            "[CV 3/3; 267/324] END clf__alpha=1.5e-05, clf__average=True, clf__l1_ratio=1, clf__loss=perceptron, clf__penalty=l1, clf__power_t=1;, score=0.849 total time=   2.5s\n",
            "[CV 1/3; 268/324] START clf__alpha=1.5e-05, clf__average=True, clf__l1_ratio=1, clf__loss=perceptron, clf__penalty=elasticnet, clf__power_t=0.25\n",
            "[CV 1/3; 268/324] END clf__alpha=1.5e-05, clf__average=True, clf__l1_ratio=1, clf__loss=perceptron, clf__penalty=elasticnet, clf__power_t=0.25;, score=0.835 total time=   2.5s\n",
            "[CV 2/3; 268/324] START clf__alpha=1.5e-05, clf__average=True, clf__l1_ratio=1, clf__loss=perceptron, clf__penalty=elasticnet, clf__power_t=0.25\n",
            "[CV 2/3; 268/324] END clf__alpha=1.5e-05, clf__average=True, clf__l1_ratio=1, clf__loss=perceptron, clf__penalty=elasticnet, clf__power_t=0.25;, score=0.845 total time=   2.4s\n",
            "[CV 3/3; 268/324] START clf__alpha=1.5e-05, clf__average=True, clf__l1_ratio=1, clf__loss=perceptron, clf__penalty=elasticnet, clf__power_t=0.25\n",
            "[CV 3/3; 268/324] END clf__alpha=1.5e-05, clf__average=True, clf__l1_ratio=1, clf__loss=perceptron, clf__penalty=elasticnet, clf__power_t=0.25;, score=0.830 total time=   2.4s\n",
            "[CV 1/3; 269/324] START clf__alpha=1.5e-05, clf__average=True, clf__l1_ratio=1, clf__loss=perceptron, clf__penalty=elasticnet, clf__power_t=0.75\n",
            "[CV 1/3; 269/324] END clf__alpha=1.5e-05, clf__average=True, clf__l1_ratio=1, clf__loss=perceptron, clf__penalty=elasticnet, clf__power_t=0.75;, score=0.840 total time=   2.4s\n",
            "[CV 2/3; 269/324] START clf__alpha=1.5e-05, clf__average=True, clf__l1_ratio=1, clf__loss=perceptron, clf__penalty=elasticnet, clf__power_t=0.75\n",
            "[CV 2/3; 269/324] END clf__alpha=1.5e-05, clf__average=True, clf__l1_ratio=1, clf__loss=perceptron, clf__penalty=elasticnet, clf__power_t=0.75;, score=0.844 total time=   2.4s\n",
            "[CV 3/3; 269/324] START clf__alpha=1.5e-05, clf__average=True, clf__l1_ratio=1, clf__loss=perceptron, clf__penalty=elasticnet, clf__power_t=0.75\n",
            "[CV 3/3; 269/324] END clf__alpha=1.5e-05, clf__average=True, clf__l1_ratio=1, clf__loss=perceptron, clf__penalty=elasticnet, clf__power_t=0.75;, score=0.848 total time=   2.5s\n",
            "[CV 1/3; 270/324] START clf__alpha=1.5e-05, clf__average=True, clf__l1_ratio=1, clf__loss=perceptron, clf__penalty=elasticnet, clf__power_t=1\n",
            "[CV 1/3; 270/324] END clf__alpha=1.5e-05, clf__average=True, clf__l1_ratio=1, clf__loss=perceptron, clf__penalty=elasticnet, clf__power_t=1;, score=0.833 total time=   2.5s\n",
            "[CV 2/3; 270/324] START clf__alpha=1.5e-05, clf__average=True, clf__l1_ratio=1, clf__loss=perceptron, clf__penalty=elasticnet, clf__power_t=1\n",
            "[CV 2/3; 270/324] END clf__alpha=1.5e-05, clf__average=True, clf__l1_ratio=1, clf__loss=perceptron, clf__penalty=elasticnet, clf__power_t=1;, score=0.848 total time=   2.4s\n",
            "[CV 3/3; 270/324] START clf__alpha=1.5e-05, clf__average=True, clf__l1_ratio=1, clf__loss=perceptron, clf__penalty=elasticnet, clf__power_t=1\n",
            "[CV 3/3; 270/324] END clf__alpha=1.5e-05, clf__average=True, clf__l1_ratio=1, clf__loss=perceptron, clf__penalty=elasticnet, clf__power_t=1;, score=0.841 total time=   2.4s\n",
            "[CV 1/3; 271/324] START clf__alpha=1.5e-05, clf__average=False, clf__l1_ratio=0.25, clf__loss=log, clf__penalty=l2, clf__power_t=0.25\n",
            "[CV 1/3; 271/324] END clf__alpha=1.5e-05, clf__average=False, clf__l1_ratio=0.25, clf__loss=log, clf__penalty=l2, clf__power_t=0.25;, score=0.961 total time=   2.1s\n",
            "[CV 2/3; 271/324] START clf__alpha=1.5e-05, clf__average=False, clf__l1_ratio=0.25, clf__loss=log, clf__penalty=l2, clf__power_t=0.25\n",
            "[CV 2/3; 271/324] END clf__alpha=1.5e-05, clf__average=False, clf__l1_ratio=0.25, clf__loss=log, clf__penalty=l2, clf__power_t=0.25;, score=0.965 total time=   2.1s\n",
            "[CV 3/3; 271/324] START clf__alpha=1.5e-05, clf__average=False, clf__l1_ratio=0.25, clf__loss=log, clf__penalty=l2, clf__power_t=0.25\n",
            "[CV 3/3; 271/324] END clf__alpha=1.5e-05, clf__average=False, clf__l1_ratio=0.25, clf__loss=log, clf__penalty=l2, clf__power_t=0.25;, score=0.979 total time=   2.1s\n",
            "[CV 1/3; 272/324] START clf__alpha=1.5e-05, clf__average=False, clf__l1_ratio=0.25, clf__loss=log, clf__penalty=l2, clf__power_t=0.75\n",
            "[CV 1/3; 272/324] END clf__alpha=1.5e-05, clf__average=False, clf__l1_ratio=0.25, clf__loss=log, clf__penalty=l2, clf__power_t=0.75;, score=0.961 total time=   2.1s\n",
            "[CV 2/3; 272/324] START clf__alpha=1.5e-05, clf__average=False, clf__l1_ratio=0.25, clf__loss=log, clf__penalty=l2, clf__power_t=0.75\n",
            "[CV 2/3; 272/324] END clf__alpha=1.5e-05, clf__average=False, clf__l1_ratio=0.25, clf__loss=log, clf__penalty=l2, clf__power_t=0.75;, score=0.964 total time=   2.1s\n",
            "[CV 3/3; 272/324] START clf__alpha=1.5e-05, clf__average=False, clf__l1_ratio=0.25, clf__loss=log, clf__penalty=l2, clf__power_t=0.75\n",
            "[CV 3/3; 272/324] END clf__alpha=1.5e-05, clf__average=False, clf__l1_ratio=0.25, clf__loss=log, clf__penalty=l2, clf__power_t=0.75;, score=0.978 total time=   2.1s\n",
            "[CV 1/3; 273/324] START clf__alpha=1.5e-05, clf__average=False, clf__l1_ratio=0.25, clf__loss=log, clf__penalty=l2, clf__power_t=1\n",
            "[CV 1/3; 273/324] END clf__alpha=1.5e-05, clf__average=False, clf__l1_ratio=0.25, clf__loss=log, clf__penalty=l2, clf__power_t=1;, score=0.960 total time=   2.0s\n",
            "[CV 2/3; 273/324] START clf__alpha=1.5e-05, clf__average=False, clf__l1_ratio=0.25, clf__loss=log, clf__penalty=l2, clf__power_t=1\n",
            "[CV 2/3; 273/324] END clf__alpha=1.5e-05, clf__average=False, clf__l1_ratio=0.25, clf__loss=log, clf__penalty=l2, clf__power_t=1;, score=0.965 total time=   2.1s\n",
            "[CV 3/3; 273/324] START clf__alpha=1.5e-05, clf__average=False, clf__l1_ratio=0.25, clf__loss=log, clf__penalty=l2, clf__power_t=1\n",
            "[CV 3/3; 273/324] END clf__alpha=1.5e-05, clf__average=False, clf__l1_ratio=0.25, clf__loss=log, clf__penalty=l2, clf__power_t=1;, score=0.979 total time=   2.1s\n",
            "[CV 1/3; 274/324] START clf__alpha=1.5e-05, clf__average=False, clf__l1_ratio=0.25, clf__loss=log, clf__penalty=l1, clf__power_t=0.25\n",
            "[CV 1/3; 274/324] END clf__alpha=1.5e-05, clf__average=False, clf__l1_ratio=0.25, clf__loss=log, clf__penalty=l1, clf__power_t=0.25;, score=0.962 total time=   2.4s\n",
            "[CV 2/3; 274/324] START clf__alpha=1.5e-05, clf__average=False, clf__l1_ratio=0.25, clf__loss=log, clf__penalty=l1, clf__power_t=0.25\n",
            "[CV 2/3; 274/324] END clf__alpha=1.5e-05, clf__average=False, clf__l1_ratio=0.25, clf__loss=log, clf__penalty=l1, clf__power_t=0.25;, score=0.962 total time=   2.5s\n",
            "[CV 3/3; 274/324] START clf__alpha=1.5e-05, clf__average=False, clf__l1_ratio=0.25, clf__loss=log, clf__penalty=l1, clf__power_t=0.25\n",
            "[CV 3/3; 274/324] END clf__alpha=1.5e-05, clf__average=False, clf__l1_ratio=0.25, clf__loss=log, clf__penalty=l1, clf__power_t=0.25;, score=0.979 total time=   2.5s\n",
            "[CV 1/3; 275/324] START clf__alpha=1.5e-05, clf__average=False, clf__l1_ratio=0.25, clf__loss=log, clf__penalty=l1, clf__power_t=0.75\n",
            "[CV 1/3; 275/324] END clf__alpha=1.5e-05, clf__average=False, clf__l1_ratio=0.25, clf__loss=log, clf__penalty=l1, clf__power_t=0.75;, score=0.961 total time=   2.4s\n",
            "[CV 2/3; 275/324] START clf__alpha=1.5e-05, clf__average=False, clf__l1_ratio=0.25, clf__loss=log, clf__penalty=l1, clf__power_t=0.75\n",
            "[CV 2/3; 275/324] END clf__alpha=1.5e-05, clf__average=False, clf__l1_ratio=0.25, clf__loss=log, clf__penalty=l1, clf__power_t=0.75;, score=0.962 total time=   2.4s\n",
            "[CV 3/3; 275/324] START clf__alpha=1.5e-05, clf__average=False, clf__l1_ratio=0.25, clf__loss=log, clf__penalty=l1, clf__power_t=0.75\n",
            "[CV 3/3; 275/324] END clf__alpha=1.5e-05, clf__average=False, clf__l1_ratio=0.25, clf__loss=log, clf__penalty=l1, clf__power_t=0.75;, score=0.980 total time=   2.4s\n",
            "[CV 1/3; 276/324] START clf__alpha=1.5e-05, clf__average=False, clf__l1_ratio=0.25, clf__loss=log, clf__penalty=l1, clf__power_t=1\n",
            "[CV 1/3; 276/324] END clf__alpha=1.5e-05, clf__average=False, clf__l1_ratio=0.25, clf__loss=log, clf__penalty=l1, clf__power_t=1;, score=0.961 total time=   2.4s\n",
            "[CV 2/3; 276/324] START clf__alpha=1.5e-05, clf__average=False, clf__l1_ratio=0.25, clf__loss=log, clf__penalty=l1, clf__power_t=1\n",
            "[CV 2/3; 276/324] END clf__alpha=1.5e-05, clf__average=False, clf__l1_ratio=0.25, clf__loss=log, clf__penalty=l1, clf__power_t=1;, score=0.961 total time=   2.4s\n",
            "[CV 3/3; 276/324] START clf__alpha=1.5e-05, clf__average=False, clf__l1_ratio=0.25, clf__loss=log, clf__penalty=l1, clf__power_t=1\n",
            "[CV 3/3; 276/324] END clf__alpha=1.5e-05, clf__average=False, clf__l1_ratio=0.25, clf__loss=log, clf__penalty=l1, clf__power_t=1;, score=0.978 total time=   2.4s\n",
            "[CV 1/3; 277/324] START clf__alpha=1.5e-05, clf__average=False, clf__l1_ratio=0.25, clf__loss=log, clf__penalty=elasticnet, clf__power_t=0.25\n",
            "[CV 1/3; 277/324] END clf__alpha=1.5e-05, clf__average=False, clf__l1_ratio=0.25, clf__loss=log, clf__penalty=elasticnet, clf__power_t=0.25;, score=0.959 total time=   2.5s\n",
            "[CV 2/3; 277/324] START clf__alpha=1.5e-05, clf__average=False, clf__l1_ratio=0.25, clf__loss=log, clf__penalty=elasticnet, clf__power_t=0.25\n",
            "[CV 2/3; 277/324] END clf__alpha=1.5e-05, clf__average=False, clf__l1_ratio=0.25, clf__loss=log, clf__penalty=elasticnet, clf__power_t=0.25;, score=0.964 total time=   2.4s\n",
            "[CV 3/3; 277/324] START clf__alpha=1.5e-05, clf__average=False, clf__l1_ratio=0.25, clf__loss=log, clf__penalty=elasticnet, clf__power_t=0.25\n",
            "[CV 3/3; 277/324] END clf__alpha=1.5e-05, clf__average=False, clf__l1_ratio=0.25, clf__loss=log, clf__penalty=elasticnet, clf__power_t=0.25;, score=0.979 total time=   2.5s\n",
            "[CV 1/3; 278/324] START clf__alpha=1.5e-05, clf__average=False, clf__l1_ratio=0.25, clf__loss=log, clf__penalty=elasticnet, clf__power_t=0.75\n",
            "[CV 1/3; 278/324] END clf__alpha=1.5e-05, clf__average=False, clf__l1_ratio=0.25, clf__loss=log, clf__penalty=elasticnet, clf__power_t=0.75;, score=0.959 total time=   2.4s\n",
            "[CV 2/3; 278/324] START clf__alpha=1.5e-05, clf__average=False, clf__l1_ratio=0.25, clf__loss=log, clf__penalty=elasticnet, clf__power_t=0.75\n",
            "[CV 2/3; 278/324] END clf__alpha=1.5e-05, clf__average=False, clf__l1_ratio=0.25, clf__loss=log, clf__penalty=elasticnet, clf__power_t=0.75;, score=0.964 total time=   2.4s\n",
            "[CV 3/3; 278/324] START clf__alpha=1.5e-05, clf__average=False, clf__l1_ratio=0.25, clf__loss=log, clf__penalty=elasticnet, clf__power_t=0.75\n",
            "[CV 3/3; 278/324] END clf__alpha=1.5e-05, clf__average=False, clf__l1_ratio=0.25, clf__loss=log, clf__penalty=elasticnet, clf__power_t=0.75;, score=0.979 total time=   2.6s\n",
            "[CV 1/3; 279/324] START clf__alpha=1.5e-05, clf__average=False, clf__l1_ratio=0.25, clf__loss=log, clf__penalty=elasticnet, clf__power_t=1\n",
            "[CV 1/3; 279/324] END clf__alpha=1.5e-05, clf__average=False, clf__l1_ratio=0.25, clf__loss=log, clf__penalty=elasticnet, clf__power_t=1;, score=0.959 total time=   2.5s\n",
            "[CV 2/3; 279/324] START clf__alpha=1.5e-05, clf__average=False, clf__l1_ratio=0.25, clf__loss=log, clf__penalty=elasticnet, clf__power_t=1\n",
            "[CV 2/3; 279/324] END clf__alpha=1.5e-05, clf__average=False, clf__l1_ratio=0.25, clf__loss=log, clf__penalty=elasticnet, clf__power_t=1;, score=0.963 total time=   2.4s\n",
            "[CV 3/3; 279/324] START clf__alpha=1.5e-05, clf__average=False, clf__l1_ratio=0.25, clf__loss=log, clf__penalty=elasticnet, clf__power_t=1\n",
            "[CV 3/3; 279/324] END clf__alpha=1.5e-05, clf__average=False, clf__l1_ratio=0.25, clf__loss=log, clf__penalty=elasticnet, clf__power_t=1;, score=0.979 total time=   2.5s\n",
            "[CV 1/3; 280/324] START clf__alpha=1.5e-05, clf__average=False, clf__l1_ratio=0.25, clf__loss=perceptron, clf__penalty=l2, clf__power_t=0.25\n",
            "[CV 1/3; 280/324] END clf__alpha=1.5e-05, clf__average=False, clf__l1_ratio=0.25, clf__loss=perceptron, clf__penalty=l2, clf__power_t=0.25;, score=0.973 total time=   1.8s\n",
            "[CV 2/3; 280/324] START clf__alpha=1.5e-05, clf__average=False, clf__l1_ratio=0.25, clf__loss=perceptron, clf__penalty=l2, clf__power_t=0.25\n",
            "[CV 2/3; 280/324] END clf__alpha=1.5e-05, clf__average=False, clf__l1_ratio=0.25, clf__loss=perceptron, clf__penalty=l2, clf__power_t=0.25;, score=0.975 total time=   1.8s\n",
            "[CV 3/3; 280/324] START clf__alpha=1.5e-05, clf__average=False, clf__l1_ratio=0.25, clf__loss=perceptron, clf__penalty=l2, clf__power_t=0.25\n",
            "[CV 3/3; 280/324] END clf__alpha=1.5e-05, clf__average=False, clf__l1_ratio=0.25, clf__loss=perceptron, clf__penalty=l2, clf__power_t=0.25;, score=0.992 total time=   1.8s\n",
            "[CV 1/3; 281/324] START clf__alpha=1.5e-05, clf__average=False, clf__l1_ratio=0.25, clf__loss=perceptron, clf__penalty=l2, clf__power_t=0.75\n",
            "[CV 1/3; 281/324] END clf__alpha=1.5e-05, clf__average=False, clf__l1_ratio=0.25, clf__loss=perceptron, clf__penalty=l2, clf__power_t=0.75;, score=0.970 total time=   1.8s\n",
            "[CV 2/3; 281/324] START clf__alpha=1.5e-05, clf__average=False, clf__l1_ratio=0.25, clf__loss=perceptron, clf__penalty=l2, clf__power_t=0.75\n",
            "[CV 2/3; 281/324] END clf__alpha=1.5e-05, clf__average=False, clf__l1_ratio=0.25, clf__loss=perceptron, clf__penalty=l2, clf__power_t=0.75;, score=0.976 total time=   1.8s\n",
            "[CV 3/3; 281/324] START clf__alpha=1.5e-05, clf__average=False, clf__l1_ratio=0.25, clf__loss=perceptron, clf__penalty=l2, clf__power_t=0.75\n",
            "[CV 3/3; 281/324] END clf__alpha=1.5e-05, clf__average=False, clf__l1_ratio=0.25, clf__loss=perceptron, clf__penalty=l2, clf__power_t=0.75;, score=0.992 total time=   1.8s\n",
            "[CV 1/3; 282/324] START clf__alpha=1.5e-05, clf__average=False, clf__l1_ratio=0.25, clf__loss=perceptron, clf__penalty=l2, clf__power_t=1\n",
            "[CV 1/3; 282/324] END clf__alpha=1.5e-05, clf__average=False, clf__l1_ratio=0.25, clf__loss=perceptron, clf__penalty=l2, clf__power_t=1;, score=0.970 total time=   1.8s\n",
            "[CV 2/3; 282/324] START clf__alpha=1.5e-05, clf__average=False, clf__l1_ratio=0.25, clf__loss=perceptron, clf__penalty=l2, clf__power_t=1\n",
            "[CV 2/3; 282/324] END clf__alpha=1.5e-05, clf__average=False, clf__l1_ratio=0.25, clf__loss=perceptron, clf__penalty=l2, clf__power_t=1;, score=0.974 total time=   1.8s\n",
            "[CV 3/3; 282/324] START clf__alpha=1.5e-05, clf__average=False, clf__l1_ratio=0.25, clf__loss=perceptron, clf__penalty=l2, clf__power_t=1\n",
            "[CV 3/3; 282/324] END clf__alpha=1.5e-05, clf__average=False, clf__l1_ratio=0.25, clf__loss=perceptron, clf__penalty=l2, clf__power_t=1;, score=0.992 total time=   1.9s\n",
            "[CV 1/3; 283/324] START clf__alpha=1.5e-05, clf__average=False, clf__l1_ratio=0.25, clf__loss=perceptron, clf__penalty=l1, clf__power_t=0.25\n",
            "[CV 1/3; 283/324] END clf__alpha=1.5e-05, clf__average=False, clf__l1_ratio=0.25, clf__loss=perceptron, clf__penalty=l1, clf__power_t=0.25;, score=0.964 total time=   2.3s\n",
            "[CV 2/3; 283/324] START clf__alpha=1.5e-05, clf__average=False, clf__l1_ratio=0.25, clf__loss=perceptron, clf__penalty=l1, clf__power_t=0.25\n",
            "[CV 2/3; 283/324] END clf__alpha=1.5e-05, clf__average=False, clf__l1_ratio=0.25, clf__loss=perceptron, clf__penalty=l1, clf__power_t=0.25;, score=0.967 total time=   2.2s\n",
            "[CV 3/3; 283/324] START clf__alpha=1.5e-05, clf__average=False, clf__l1_ratio=0.25, clf__loss=perceptron, clf__penalty=l1, clf__power_t=0.25\n",
            "[CV 3/3; 283/324] END clf__alpha=1.5e-05, clf__average=False, clf__l1_ratio=0.25, clf__loss=perceptron, clf__penalty=l1, clf__power_t=0.25;, score=0.985 total time=   2.3s\n",
            "[CV 1/3; 284/324] START clf__alpha=1.5e-05, clf__average=False, clf__l1_ratio=0.25, clf__loss=perceptron, clf__penalty=l1, clf__power_t=0.75\n",
            "[CV 1/3; 284/324] END clf__alpha=1.5e-05, clf__average=False, clf__l1_ratio=0.25, clf__loss=perceptron, clf__penalty=l1, clf__power_t=0.75;, score=0.962 total time=   2.3s\n",
            "[CV 2/3; 284/324] START clf__alpha=1.5e-05, clf__average=False, clf__l1_ratio=0.25, clf__loss=perceptron, clf__penalty=l1, clf__power_t=0.75\n",
            "[CV 2/3; 284/324] END clf__alpha=1.5e-05, clf__average=False, clf__l1_ratio=0.25, clf__loss=perceptron, clf__penalty=l1, clf__power_t=0.75;, score=0.964 total time=   2.4s\n",
            "[CV 3/3; 284/324] START clf__alpha=1.5e-05, clf__average=False, clf__l1_ratio=0.25, clf__loss=perceptron, clf__penalty=l1, clf__power_t=0.75\n",
            "[CV 3/3; 284/324] END clf__alpha=1.5e-05, clf__average=False, clf__l1_ratio=0.25, clf__loss=perceptron, clf__penalty=l1, clf__power_t=0.75;, score=0.985 total time=   2.3s\n",
            "[CV 1/3; 285/324] START clf__alpha=1.5e-05, clf__average=False, clf__l1_ratio=0.25, clf__loss=perceptron, clf__penalty=l1, clf__power_t=1\n",
            "[CV 1/3; 285/324] END clf__alpha=1.5e-05, clf__average=False, clf__l1_ratio=0.25, clf__loss=perceptron, clf__penalty=l1, clf__power_t=1;, score=0.961 total time=   2.3s\n",
            "[CV 2/3; 285/324] START clf__alpha=1.5e-05, clf__average=False, clf__l1_ratio=0.25, clf__loss=perceptron, clf__penalty=l1, clf__power_t=1\n",
            "[CV 2/3; 285/324] END clf__alpha=1.5e-05, clf__average=False, clf__l1_ratio=0.25, clf__loss=perceptron, clf__penalty=l1, clf__power_t=1;, score=0.965 total time=   2.2s\n",
            "[CV 3/3; 285/324] START clf__alpha=1.5e-05, clf__average=False, clf__l1_ratio=0.25, clf__loss=perceptron, clf__penalty=l1, clf__power_t=1\n",
            "[CV 3/3; 285/324] END clf__alpha=1.5e-05, clf__average=False, clf__l1_ratio=0.25, clf__loss=perceptron, clf__penalty=l1, clf__power_t=1;, score=0.984 total time=   2.3s\n",
            "[CV 1/3; 286/324] START clf__alpha=1.5e-05, clf__average=False, clf__l1_ratio=0.25, clf__loss=perceptron, clf__penalty=elasticnet, clf__power_t=0.25\n",
            "[CV 1/3; 286/324] END clf__alpha=1.5e-05, clf__average=False, clf__l1_ratio=0.25, clf__loss=perceptron, clf__penalty=elasticnet, clf__power_t=0.25;, score=0.969 total time=   2.4s\n",
            "[CV 2/3; 286/324] START clf__alpha=1.5e-05, clf__average=False, clf__l1_ratio=0.25, clf__loss=perceptron, clf__penalty=elasticnet, clf__power_t=0.25\n",
            "[CV 2/3; 286/324] END clf__alpha=1.5e-05, clf__average=False, clf__l1_ratio=0.25, clf__loss=perceptron, clf__penalty=elasticnet, clf__power_t=0.25;, score=0.971 total time=   2.4s\n",
            "[CV 3/3; 286/324] START clf__alpha=1.5e-05, clf__average=False, clf__l1_ratio=0.25, clf__loss=perceptron, clf__penalty=elasticnet, clf__power_t=0.25\n",
            "[CV 3/3; 286/324] END clf__alpha=1.5e-05, clf__average=False, clf__l1_ratio=0.25, clf__loss=perceptron, clf__penalty=elasticnet, clf__power_t=0.25;, score=0.990 total time=   2.4s\n",
            "[CV 1/3; 287/324] START clf__alpha=1.5e-05, clf__average=False, clf__l1_ratio=0.25, clf__loss=perceptron, clf__penalty=elasticnet, clf__power_t=0.75\n",
            "[CV 1/3; 287/324] END clf__alpha=1.5e-05, clf__average=False, clf__l1_ratio=0.25, clf__loss=perceptron, clf__penalty=elasticnet, clf__power_t=0.75;, score=0.970 total time=   2.4s\n",
            "[CV 2/3; 287/324] START clf__alpha=1.5e-05, clf__average=False, clf__l1_ratio=0.25, clf__loss=perceptron, clf__penalty=elasticnet, clf__power_t=0.75\n",
            "[CV 2/3; 287/324] END clf__alpha=1.5e-05, clf__average=False, clf__l1_ratio=0.25, clf__loss=perceptron, clf__penalty=elasticnet, clf__power_t=0.75;, score=0.972 total time=   2.4s\n",
            "[CV 3/3; 287/324] START clf__alpha=1.5e-05, clf__average=False, clf__l1_ratio=0.25, clf__loss=perceptron, clf__penalty=elasticnet, clf__power_t=0.75\n",
            "[CV 3/3; 287/324] END clf__alpha=1.5e-05, clf__average=False, clf__l1_ratio=0.25, clf__loss=perceptron, clf__penalty=elasticnet, clf__power_t=0.75;, score=0.991 total time=   2.4s\n",
            "[CV 1/3; 288/324] START clf__alpha=1.5e-05, clf__average=False, clf__l1_ratio=0.25, clf__loss=perceptron, clf__penalty=elasticnet, clf__power_t=1\n",
            "[CV 1/3; 288/324] END clf__alpha=1.5e-05, clf__average=False, clf__l1_ratio=0.25, clf__loss=perceptron, clf__penalty=elasticnet, clf__power_t=1;, score=0.968 total time=   2.4s\n",
            "[CV 2/3; 288/324] START clf__alpha=1.5e-05, clf__average=False, clf__l1_ratio=0.25, clf__loss=perceptron, clf__penalty=elasticnet, clf__power_t=1\n",
            "[CV 2/3; 288/324] END clf__alpha=1.5e-05, clf__average=False, clf__l1_ratio=0.25, clf__loss=perceptron, clf__penalty=elasticnet, clf__power_t=1;, score=0.973 total time=   2.3s\n",
            "[CV 3/3; 288/324] START clf__alpha=1.5e-05, clf__average=False, clf__l1_ratio=0.25, clf__loss=perceptron, clf__penalty=elasticnet, clf__power_t=1\n",
            "[CV 3/3; 288/324] END clf__alpha=1.5e-05, clf__average=False, clf__l1_ratio=0.25, clf__loss=perceptron, clf__penalty=elasticnet, clf__power_t=1;, score=0.992 total time=   2.6s\n",
            "[CV 1/3; 289/324] START clf__alpha=1.5e-05, clf__average=False, clf__l1_ratio=0.75, clf__loss=log, clf__penalty=l2, clf__power_t=0.25\n",
            "[CV 1/3; 289/324] END clf__alpha=1.5e-05, clf__average=False, clf__l1_ratio=0.75, clf__loss=log, clf__penalty=l2, clf__power_t=0.25;, score=0.960 total time=   2.1s\n",
            "[CV 2/3; 289/324] START clf__alpha=1.5e-05, clf__average=False, clf__l1_ratio=0.75, clf__loss=log, clf__penalty=l2, clf__power_t=0.25\n",
            "[CV 2/3; 289/324] END clf__alpha=1.5e-05, clf__average=False, clf__l1_ratio=0.75, clf__loss=log, clf__penalty=l2, clf__power_t=0.25;, score=0.965 total time=   2.1s\n",
            "[CV 3/3; 289/324] START clf__alpha=1.5e-05, clf__average=False, clf__l1_ratio=0.75, clf__loss=log, clf__penalty=l2, clf__power_t=0.25\n",
            "[CV 3/3; 289/324] END clf__alpha=1.5e-05, clf__average=False, clf__l1_ratio=0.75, clf__loss=log, clf__penalty=l2, clf__power_t=0.25;, score=0.978 total time=   2.1s\n",
            "[CV 1/3; 290/324] START clf__alpha=1.5e-05, clf__average=False, clf__l1_ratio=0.75, clf__loss=log, clf__penalty=l2, clf__power_t=0.75\n",
            "[CV 1/3; 290/324] END clf__alpha=1.5e-05, clf__average=False, clf__l1_ratio=0.75, clf__loss=log, clf__penalty=l2, clf__power_t=0.75;, score=0.961 total time=   2.1s\n",
            "[CV 2/3; 290/324] START clf__alpha=1.5e-05, clf__average=False, clf__l1_ratio=0.75, clf__loss=log, clf__penalty=l2, clf__power_t=0.75\n",
            "[CV 2/3; 290/324] END clf__alpha=1.5e-05, clf__average=False, clf__l1_ratio=0.75, clf__loss=log, clf__penalty=l2, clf__power_t=0.75;, score=0.965 total time=   2.1s\n",
            "[CV 3/3; 290/324] START clf__alpha=1.5e-05, clf__average=False, clf__l1_ratio=0.75, clf__loss=log, clf__penalty=l2, clf__power_t=0.75\n",
            "[CV 3/3; 290/324] END clf__alpha=1.5e-05, clf__average=False, clf__l1_ratio=0.75, clf__loss=log, clf__penalty=l2, clf__power_t=0.75;, score=0.978 total time=   2.2s\n",
            "[CV 1/3; 291/324] START clf__alpha=1.5e-05, clf__average=False, clf__l1_ratio=0.75, clf__loss=log, clf__penalty=l2, clf__power_t=1\n",
            "[CV 1/3; 291/324] END clf__alpha=1.5e-05, clf__average=False, clf__l1_ratio=0.75, clf__loss=log, clf__penalty=l2, clf__power_t=1;, score=0.961 total time=   2.2s\n",
            "[CV 2/3; 291/324] START clf__alpha=1.5e-05, clf__average=False, clf__l1_ratio=0.75, clf__loss=log, clf__penalty=l2, clf__power_t=1\n",
            "[CV 2/3; 291/324] END clf__alpha=1.5e-05, clf__average=False, clf__l1_ratio=0.75, clf__loss=log, clf__penalty=l2, clf__power_t=1;, score=0.964 total time=   2.1s\n",
            "[CV 3/3; 291/324] START clf__alpha=1.5e-05, clf__average=False, clf__l1_ratio=0.75, clf__loss=log, clf__penalty=l2, clf__power_t=1\n",
            "[CV 3/3; 291/324] END clf__alpha=1.5e-05, clf__average=False, clf__l1_ratio=0.75, clf__loss=log, clf__penalty=l2, clf__power_t=1;, score=0.979 total time=   2.1s\n",
            "[CV 1/3; 292/324] START clf__alpha=1.5e-05, clf__average=False, clf__l1_ratio=0.75, clf__loss=log, clf__penalty=l1, clf__power_t=0.25\n",
            "[CV 1/3; 292/324] END clf__alpha=1.5e-05, clf__average=False, clf__l1_ratio=0.75, clf__loss=log, clf__penalty=l1, clf__power_t=0.25;, score=0.961 total time=   2.5s\n",
            "[CV 2/3; 292/324] START clf__alpha=1.5e-05, clf__average=False, clf__l1_ratio=0.75, clf__loss=log, clf__penalty=l1, clf__power_t=0.25\n",
            "[CV 2/3; 292/324] END clf__alpha=1.5e-05, clf__average=False, clf__l1_ratio=0.75, clf__loss=log, clf__penalty=l1, clf__power_t=0.25;, score=0.962 total time=   2.5s\n",
            "[CV 3/3; 292/324] START clf__alpha=1.5e-05, clf__average=False, clf__l1_ratio=0.75, clf__loss=log, clf__penalty=l1, clf__power_t=0.25\n",
            "[CV 3/3; 292/324] END clf__alpha=1.5e-05, clf__average=False, clf__l1_ratio=0.75, clf__loss=log, clf__penalty=l1, clf__power_t=0.25;, score=0.979 total time=   2.6s\n",
            "[CV 1/3; 293/324] START clf__alpha=1.5e-05, clf__average=False, clf__l1_ratio=0.75, clf__loss=log, clf__penalty=l1, clf__power_t=0.75\n",
            "[CV 1/3; 293/324] END clf__alpha=1.5e-05, clf__average=False, clf__l1_ratio=0.75, clf__loss=log, clf__penalty=l1, clf__power_t=0.75;, score=0.961 total time=   2.6s\n",
            "[CV 2/3; 293/324] START clf__alpha=1.5e-05, clf__average=False, clf__l1_ratio=0.75, clf__loss=log, clf__penalty=l1, clf__power_t=0.75\n",
            "[CV 2/3; 293/324] END clf__alpha=1.5e-05, clf__average=False, clf__l1_ratio=0.75, clf__loss=log, clf__penalty=l1, clf__power_t=0.75;, score=0.962 total time=   2.6s\n",
            "[CV 3/3; 293/324] START clf__alpha=1.5e-05, clf__average=False, clf__l1_ratio=0.75, clf__loss=log, clf__penalty=l1, clf__power_t=0.75\n",
            "[CV 3/3; 293/324] END clf__alpha=1.5e-05, clf__average=False, clf__l1_ratio=0.75, clf__loss=log, clf__penalty=l1, clf__power_t=0.75;, score=0.979 total time=   2.5s\n",
            "[CV 1/3; 294/324] START clf__alpha=1.5e-05, clf__average=False, clf__l1_ratio=0.75, clf__loss=log, clf__penalty=l1, clf__power_t=1\n",
            "[CV 1/3; 294/324] END clf__alpha=1.5e-05, clf__average=False, clf__l1_ratio=0.75, clf__loss=log, clf__penalty=l1, clf__power_t=1;, score=0.961 total time=   2.5s\n",
            "[CV 2/3; 294/324] START clf__alpha=1.5e-05, clf__average=False, clf__l1_ratio=0.75, clf__loss=log, clf__penalty=l1, clf__power_t=1\n",
            "[CV 2/3; 294/324] END clf__alpha=1.5e-05, clf__average=False, clf__l1_ratio=0.75, clf__loss=log, clf__penalty=l1, clf__power_t=1;, score=0.962 total time=   2.4s\n",
            "[CV 3/3; 294/324] START clf__alpha=1.5e-05, clf__average=False, clf__l1_ratio=0.75, clf__loss=log, clf__penalty=l1, clf__power_t=1\n",
            "[CV 3/3; 294/324] END clf__alpha=1.5e-05, clf__average=False, clf__l1_ratio=0.75, clf__loss=log, clf__penalty=l1, clf__power_t=1;, score=0.980 total time=   2.4s\n",
            "[CV 1/3; 295/324] START clf__alpha=1.5e-05, clf__average=False, clf__l1_ratio=0.75, clf__loss=log, clf__penalty=elasticnet, clf__power_t=0.25\n",
            "[CV 1/3; 295/324] END clf__alpha=1.5e-05, clf__average=False, clf__l1_ratio=0.75, clf__loss=log, clf__penalty=elasticnet, clf__power_t=0.25;, score=0.960 total time=   2.4s\n",
            "[CV 2/3; 295/324] START clf__alpha=1.5e-05, clf__average=False, clf__l1_ratio=0.75, clf__loss=log, clf__penalty=elasticnet, clf__power_t=0.25\n",
            "[CV 2/3; 295/324] END clf__alpha=1.5e-05, clf__average=False, clf__l1_ratio=0.75, clf__loss=log, clf__penalty=elasticnet, clf__power_t=0.25;, score=0.961 total time=   2.4s\n",
            "[CV 3/3; 295/324] START clf__alpha=1.5e-05, clf__average=False, clf__l1_ratio=0.75, clf__loss=log, clf__penalty=elasticnet, clf__power_t=0.25\n",
            "[CV 3/3; 295/324] END clf__alpha=1.5e-05, clf__average=False, clf__l1_ratio=0.75, clf__loss=log, clf__penalty=elasticnet, clf__power_t=0.25;, score=0.979 total time=   2.4s\n",
            "[CV 1/3; 296/324] START clf__alpha=1.5e-05, clf__average=False, clf__l1_ratio=0.75, clf__loss=log, clf__penalty=elasticnet, clf__power_t=0.75\n",
            "[CV 1/3; 296/324] END clf__alpha=1.5e-05, clf__average=False, clf__l1_ratio=0.75, clf__loss=log, clf__penalty=elasticnet, clf__power_t=0.75;, score=0.959 total time=   2.4s\n",
            "[CV 2/3; 296/324] START clf__alpha=1.5e-05, clf__average=False, clf__l1_ratio=0.75, clf__loss=log, clf__penalty=elasticnet, clf__power_t=0.75\n",
            "[CV 2/3; 296/324] END clf__alpha=1.5e-05, clf__average=False, clf__l1_ratio=0.75, clf__loss=log, clf__penalty=elasticnet, clf__power_t=0.75;, score=0.962 total time=   2.4s\n",
            "[CV 3/3; 296/324] START clf__alpha=1.5e-05, clf__average=False, clf__l1_ratio=0.75, clf__loss=log, clf__penalty=elasticnet, clf__power_t=0.75\n",
            "[CV 3/3; 296/324] END clf__alpha=1.5e-05, clf__average=False, clf__l1_ratio=0.75, clf__loss=log, clf__penalty=elasticnet, clf__power_t=0.75;, score=0.979 total time=   2.4s\n",
            "[CV 1/3; 297/324] START clf__alpha=1.5e-05, clf__average=False, clf__l1_ratio=0.75, clf__loss=log, clf__penalty=elasticnet, clf__power_t=1\n",
            "[CV 1/3; 297/324] END clf__alpha=1.5e-05, clf__average=False, clf__l1_ratio=0.75, clf__loss=log, clf__penalty=elasticnet, clf__power_t=1;, score=0.960 total time=   2.5s\n",
            "[CV 2/3; 297/324] START clf__alpha=1.5e-05, clf__average=False, clf__l1_ratio=0.75, clf__loss=log, clf__penalty=elasticnet, clf__power_t=1\n",
            "[CV 2/3; 297/324] END clf__alpha=1.5e-05, clf__average=False, clf__l1_ratio=0.75, clf__loss=log, clf__penalty=elasticnet, clf__power_t=1;, score=0.961 total time=   2.5s\n",
            "[CV 3/3; 297/324] START clf__alpha=1.5e-05, clf__average=False, clf__l1_ratio=0.75, clf__loss=log, clf__penalty=elasticnet, clf__power_t=1\n",
            "[CV 3/3; 297/324] END clf__alpha=1.5e-05, clf__average=False, clf__l1_ratio=0.75, clf__loss=log, clf__penalty=elasticnet, clf__power_t=1;, score=0.979 total time=   2.5s\n",
            "[CV 1/3; 298/324] START clf__alpha=1.5e-05, clf__average=False, clf__l1_ratio=0.75, clf__loss=perceptron, clf__penalty=l2, clf__power_t=0.25\n",
            "[CV 1/3; 298/324] END clf__alpha=1.5e-05, clf__average=False, clf__l1_ratio=0.75, clf__loss=perceptron, clf__penalty=l2, clf__power_t=0.25;, score=0.972 total time=   1.8s\n",
            "[CV 2/3; 298/324] START clf__alpha=1.5e-05, clf__average=False, clf__l1_ratio=0.75, clf__loss=perceptron, clf__penalty=l2, clf__power_t=0.25\n",
            "[CV 2/3; 298/324] END clf__alpha=1.5e-05, clf__average=False, clf__l1_ratio=0.75, clf__loss=perceptron, clf__penalty=l2, clf__power_t=0.25;, score=0.973 total time=   1.8s\n",
            "[CV 3/3; 298/324] START clf__alpha=1.5e-05, clf__average=False, clf__l1_ratio=0.75, clf__loss=perceptron, clf__penalty=l2, clf__power_t=0.25\n",
            "[CV 3/3; 298/324] END clf__alpha=1.5e-05, clf__average=False, clf__l1_ratio=0.75, clf__loss=perceptron, clf__penalty=l2, clf__power_t=0.25;, score=0.992 total time=   1.8s\n",
            "[CV 1/3; 299/324] START clf__alpha=1.5e-05, clf__average=False, clf__l1_ratio=0.75, clf__loss=perceptron, clf__penalty=l2, clf__power_t=0.75\n",
            "[CV 1/3; 299/324] END clf__alpha=1.5e-05, clf__average=False, clf__l1_ratio=0.75, clf__loss=perceptron, clf__penalty=l2, clf__power_t=0.75;, score=0.970 total time=   1.8s\n",
            "[CV 2/3; 299/324] START clf__alpha=1.5e-05, clf__average=False, clf__l1_ratio=0.75, clf__loss=perceptron, clf__penalty=l2, clf__power_t=0.75\n",
            "[CV 2/3; 299/324] END clf__alpha=1.5e-05, clf__average=False, clf__l1_ratio=0.75, clf__loss=perceptron, clf__penalty=l2, clf__power_t=0.75;, score=0.974 total time=   1.7s\n",
            "[CV 3/3; 299/324] START clf__alpha=1.5e-05, clf__average=False, clf__l1_ratio=0.75, clf__loss=perceptron, clf__penalty=l2, clf__power_t=0.75\n",
            "[CV 3/3; 299/324] END clf__alpha=1.5e-05, clf__average=False, clf__l1_ratio=0.75, clf__loss=perceptron, clf__penalty=l2, clf__power_t=0.75;, score=0.992 total time=   1.8s\n",
            "[CV 1/3; 300/324] START clf__alpha=1.5e-05, clf__average=False, clf__l1_ratio=0.75, clf__loss=perceptron, clf__penalty=l2, clf__power_t=1\n",
            "[CV 1/3; 300/324] END clf__alpha=1.5e-05, clf__average=False, clf__l1_ratio=0.75, clf__loss=perceptron, clf__penalty=l2, clf__power_t=1;, score=0.972 total time=   1.8s\n",
            "[CV 2/3; 300/324] START clf__alpha=1.5e-05, clf__average=False, clf__l1_ratio=0.75, clf__loss=perceptron, clf__penalty=l2, clf__power_t=1\n",
            "[CV 2/3; 300/324] END clf__alpha=1.5e-05, clf__average=False, clf__l1_ratio=0.75, clf__loss=perceptron, clf__penalty=l2, clf__power_t=1;, score=0.975 total time=   1.9s\n",
            "[CV 3/3; 300/324] START clf__alpha=1.5e-05, clf__average=False, clf__l1_ratio=0.75, clf__loss=perceptron, clf__penalty=l2, clf__power_t=1\n",
            "[CV 3/3; 300/324] END clf__alpha=1.5e-05, clf__average=False, clf__l1_ratio=0.75, clf__loss=perceptron, clf__penalty=l2, clf__power_t=1;, score=0.992 total time=   1.9s\n",
            "[CV 1/3; 301/324] START clf__alpha=1.5e-05, clf__average=False, clf__l1_ratio=0.75, clf__loss=perceptron, clf__penalty=l1, clf__power_t=0.25\n",
            "[CV 1/3; 301/324] END clf__alpha=1.5e-05, clf__average=False, clf__l1_ratio=0.75, clf__loss=perceptron, clf__penalty=l1, clf__power_t=0.25;, score=0.963 total time=   2.4s\n",
            "[CV 2/3; 301/324] START clf__alpha=1.5e-05, clf__average=False, clf__l1_ratio=0.75, clf__loss=perceptron, clf__penalty=l1, clf__power_t=0.25\n",
            "[CV 2/3; 301/324] END clf__alpha=1.5e-05, clf__average=False, clf__l1_ratio=0.75, clf__loss=perceptron, clf__penalty=l1, clf__power_t=0.25;, score=0.966 total time=   2.4s\n",
            "[CV 3/3; 301/324] START clf__alpha=1.5e-05, clf__average=False, clf__l1_ratio=0.75, clf__loss=perceptron, clf__penalty=l1, clf__power_t=0.25\n",
            "[CV 3/3; 301/324] END clf__alpha=1.5e-05, clf__average=False, clf__l1_ratio=0.75, clf__loss=perceptron, clf__penalty=l1, clf__power_t=0.25;, score=0.985 total time=   2.4s\n",
            "[CV 1/3; 302/324] START clf__alpha=1.5e-05, clf__average=False, clf__l1_ratio=0.75, clf__loss=perceptron, clf__penalty=l1, clf__power_t=0.75\n",
            "[CV 1/3; 302/324] END clf__alpha=1.5e-05, clf__average=False, clf__l1_ratio=0.75, clf__loss=perceptron, clf__penalty=l1, clf__power_t=0.75;, score=0.961 total time=   2.4s\n",
            "[CV 2/3; 302/324] START clf__alpha=1.5e-05, clf__average=False, clf__l1_ratio=0.75, clf__loss=perceptron, clf__penalty=l1, clf__power_t=0.75\n",
            "[CV 2/3; 302/324] END clf__alpha=1.5e-05, clf__average=False, clf__l1_ratio=0.75, clf__loss=perceptron, clf__penalty=l1, clf__power_t=0.75;, score=0.967 total time=   2.4s\n",
            "[CV 3/3; 302/324] START clf__alpha=1.5e-05, clf__average=False, clf__l1_ratio=0.75, clf__loss=perceptron, clf__penalty=l1, clf__power_t=0.75\n",
            "[CV 3/3; 302/324] END clf__alpha=1.5e-05, clf__average=False, clf__l1_ratio=0.75, clf__loss=perceptron, clf__penalty=l1, clf__power_t=0.75;, score=0.986 total time=   2.4s\n",
            "[CV 1/3; 303/324] START clf__alpha=1.5e-05, clf__average=False, clf__l1_ratio=0.75, clf__loss=perceptron, clf__penalty=l1, clf__power_t=1\n",
            "[CV 1/3; 303/324] END clf__alpha=1.5e-05, clf__average=False, clf__l1_ratio=0.75, clf__loss=perceptron, clf__penalty=l1, clf__power_t=1;, score=0.963 total time=   2.3s\n",
            "[CV 2/3; 303/324] START clf__alpha=1.5e-05, clf__average=False, clf__l1_ratio=0.75, clf__loss=perceptron, clf__penalty=l1, clf__power_t=1\n",
            "[CV 2/3; 303/324] END clf__alpha=1.5e-05, clf__average=False, clf__l1_ratio=0.75, clf__loss=perceptron, clf__penalty=l1, clf__power_t=1;, score=0.964 total time=   2.3s\n",
            "[CV 3/3; 303/324] START clf__alpha=1.5e-05, clf__average=False, clf__l1_ratio=0.75, clf__loss=perceptron, clf__penalty=l1, clf__power_t=1\n",
            "[CV 3/3; 303/324] END clf__alpha=1.5e-05, clf__average=False, clf__l1_ratio=0.75, clf__loss=perceptron, clf__penalty=l1, clf__power_t=1;, score=0.985 total time=   2.3s\n",
            "[CV 1/3; 304/324] START clf__alpha=1.5e-05, clf__average=False, clf__l1_ratio=0.75, clf__loss=perceptron, clf__penalty=elasticnet, clf__power_t=0.25\n",
            "[CV 1/3; 304/324] END clf__alpha=1.5e-05, clf__average=False, clf__l1_ratio=0.75, clf__loss=perceptron, clf__penalty=elasticnet, clf__power_t=0.25;, score=0.966 total time=   2.3s\n",
            "[CV 2/3; 304/324] START clf__alpha=1.5e-05, clf__average=False, clf__l1_ratio=0.75, clf__loss=perceptron, clf__penalty=elasticnet, clf__power_t=0.25\n",
            "[CV 2/3; 304/324] END clf__alpha=1.5e-05, clf__average=False, clf__l1_ratio=0.75, clf__loss=perceptron, clf__penalty=elasticnet, clf__power_t=0.25;, score=0.967 total time=   2.3s\n",
            "[CV 3/3; 304/324] START clf__alpha=1.5e-05, clf__average=False, clf__l1_ratio=0.75, clf__loss=perceptron, clf__penalty=elasticnet, clf__power_t=0.25\n",
            "[CV 3/3; 304/324] END clf__alpha=1.5e-05, clf__average=False, clf__l1_ratio=0.75, clf__loss=perceptron, clf__penalty=elasticnet, clf__power_t=0.25;, score=0.988 total time=   2.4s\n",
            "[CV 1/3; 305/324] START clf__alpha=1.5e-05, clf__average=False, clf__l1_ratio=0.75, clf__loss=perceptron, clf__penalty=elasticnet, clf__power_t=0.75\n",
            "[CV 1/3; 305/324] END clf__alpha=1.5e-05, clf__average=False, clf__l1_ratio=0.75, clf__loss=perceptron, clf__penalty=elasticnet, clf__power_t=0.75;, score=0.967 total time=   2.3s\n",
            "[CV 2/3; 305/324] START clf__alpha=1.5e-05, clf__average=False, clf__l1_ratio=0.75, clf__loss=perceptron, clf__penalty=elasticnet, clf__power_t=0.75\n",
            "[CV 2/3; 305/324] END clf__alpha=1.5e-05, clf__average=False, clf__l1_ratio=0.75, clf__loss=perceptron, clf__penalty=elasticnet, clf__power_t=0.75;, score=0.967 total time=   2.3s\n",
            "[CV 3/3; 305/324] START clf__alpha=1.5e-05, clf__average=False, clf__l1_ratio=0.75, clf__loss=perceptron, clf__penalty=elasticnet, clf__power_t=0.75\n",
            "[CV 3/3; 305/324] END clf__alpha=1.5e-05, clf__average=False, clf__l1_ratio=0.75, clf__loss=perceptron, clf__penalty=elasticnet, clf__power_t=0.75;, score=0.985 total time=   2.3s\n",
            "[CV 1/3; 306/324] START clf__alpha=1.5e-05, clf__average=False, clf__l1_ratio=0.75, clf__loss=perceptron, clf__penalty=elasticnet, clf__power_t=1\n",
            "[CV 1/3; 306/324] END clf__alpha=1.5e-05, clf__average=False, clf__l1_ratio=0.75, clf__loss=perceptron, clf__penalty=elasticnet, clf__power_t=1;, score=0.966 total time=   2.2s\n",
            "[CV 2/3; 306/324] START clf__alpha=1.5e-05, clf__average=False, clf__l1_ratio=0.75, clf__loss=perceptron, clf__penalty=elasticnet, clf__power_t=1\n",
            "[CV 2/3; 306/324] END clf__alpha=1.5e-05, clf__average=False, clf__l1_ratio=0.75, clf__loss=perceptron, clf__penalty=elasticnet, clf__power_t=1;, score=0.969 total time=   2.3s\n",
            "[CV 3/3; 306/324] START clf__alpha=1.5e-05, clf__average=False, clf__l1_ratio=0.75, clf__loss=perceptron, clf__penalty=elasticnet, clf__power_t=1\n",
            "[CV 3/3; 306/324] END clf__alpha=1.5e-05, clf__average=False, clf__l1_ratio=0.75, clf__loss=perceptron, clf__penalty=elasticnet, clf__power_t=1;, score=0.989 total time=   2.4s\n",
            "[CV 1/3; 307/324] START clf__alpha=1.5e-05, clf__average=False, clf__l1_ratio=1, clf__loss=log, clf__penalty=l2, clf__power_t=0.25\n",
            "[CV 1/3; 307/324] END clf__alpha=1.5e-05, clf__average=False, clf__l1_ratio=1, clf__loss=log, clf__penalty=l2, clf__power_t=0.25;, score=0.961 total time=   2.2s\n",
            "[CV 2/3; 307/324] START clf__alpha=1.5e-05, clf__average=False, clf__l1_ratio=1, clf__loss=log, clf__penalty=l2, clf__power_t=0.25\n",
            "[CV 2/3; 307/324] END clf__alpha=1.5e-05, clf__average=False, clf__l1_ratio=1, clf__loss=log, clf__penalty=l2, clf__power_t=0.25;, score=0.965 total time=   2.1s\n",
            "[CV 3/3; 307/324] START clf__alpha=1.5e-05, clf__average=False, clf__l1_ratio=1, clf__loss=log, clf__penalty=l2, clf__power_t=0.25\n",
            "[CV 3/3; 307/324] END clf__alpha=1.5e-05, clf__average=False, clf__l1_ratio=1, clf__loss=log, clf__penalty=l2, clf__power_t=0.25;, score=0.979 total time=   2.0s\n",
            "[CV 1/3; 308/324] START clf__alpha=1.5e-05, clf__average=False, clf__l1_ratio=1, clf__loss=log, clf__penalty=l2, clf__power_t=0.75\n",
            "[CV 1/3; 308/324] END clf__alpha=1.5e-05, clf__average=False, clf__l1_ratio=1, clf__loss=log, clf__penalty=l2, clf__power_t=0.75;, score=0.961 total time=   2.0s\n",
            "[CV 2/3; 308/324] START clf__alpha=1.5e-05, clf__average=False, clf__l1_ratio=1, clf__loss=log, clf__penalty=l2, clf__power_t=0.75\n",
            "[CV 2/3; 308/324] END clf__alpha=1.5e-05, clf__average=False, clf__l1_ratio=1, clf__loss=log, clf__penalty=l2, clf__power_t=0.75;, score=0.965 total time=   2.0s\n",
            "[CV 3/3; 308/324] START clf__alpha=1.5e-05, clf__average=False, clf__l1_ratio=1, clf__loss=log, clf__penalty=l2, clf__power_t=0.75\n",
            "[CV 3/3; 308/324] END clf__alpha=1.5e-05, clf__average=False, clf__l1_ratio=1, clf__loss=log, clf__penalty=l2, clf__power_t=0.75;, score=0.979 total time=   2.1s\n",
            "[CV 1/3; 309/324] START clf__alpha=1.5e-05, clf__average=False, clf__l1_ratio=1, clf__loss=log, clf__penalty=l2, clf__power_t=1\n",
            "[CV 1/3; 309/324] END clf__alpha=1.5e-05, clf__average=False, clf__l1_ratio=1, clf__loss=log, clf__penalty=l2, clf__power_t=1;, score=0.961 total time=   2.1s\n",
            "[CV 2/3; 309/324] START clf__alpha=1.5e-05, clf__average=False, clf__l1_ratio=1, clf__loss=log, clf__penalty=l2, clf__power_t=1\n",
            "[CV 2/3; 309/324] END clf__alpha=1.5e-05, clf__average=False, clf__l1_ratio=1, clf__loss=log, clf__penalty=l2, clf__power_t=1;, score=0.965 total time=   2.1s\n",
            "[CV 3/3; 309/324] START clf__alpha=1.5e-05, clf__average=False, clf__l1_ratio=1, clf__loss=log, clf__penalty=l2, clf__power_t=1\n",
            "[CV 3/3; 309/324] END clf__alpha=1.5e-05, clf__average=False, clf__l1_ratio=1, clf__loss=log, clf__penalty=l2, clf__power_t=1;, score=0.979 total time=   2.1s\n",
            "[CV 1/3; 310/324] START clf__alpha=1.5e-05, clf__average=False, clf__l1_ratio=1, clf__loss=log, clf__penalty=l1, clf__power_t=0.25\n",
            "[CV 1/3; 310/324] END clf__alpha=1.5e-05, clf__average=False, clf__l1_ratio=1, clf__loss=log, clf__penalty=l1, clf__power_t=0.25;, score=0.960 total time=   2.4s\n",
            "[CV 2/3; 310/324] START clf__alpha=1.5e-05, clf__average=False, clf__l1_ratio=1, clf__loss=log, clf__penalty=l1, clf__power_t=0.25\n",
            "[CV 2/3; 310/324] END clf__alpha=1.5e-05, clf__average=False, clf__l1_ratio=1, clf__loss=log, clf__penalty=l1, clf__power_t=0.25;, score=0.962 total time=   2.4s\n",
            "[CV 3/3; 310/324] START clf__alpha=1.5e-05, clf__average=False, clf__l1_ratio=1, clf__loss=log, clf__penalty=l1, clf__power_t=0.25\n",
            "[CV 3/3; 310/324] END clf__alpha=1.5e-05, clf__average=False, clf__l1_ratio=1, clf__loss=log, clf__penalty=l1, clf__power_t=0.25;, score=0.979 total time=   2.4s\n",
            "[CV 1/3; 311/324] START clf__alpha=1.5e-05, clf__average=False, clf__l1_ratio=1, clf__loss=log, clf__penalty=l1, clf__power_t=0.75\n",
            "[CV 1/3; 311/324] END clf__alpha=1.5e-05, clf__average=False, clf__l1_ratio=1, clf__loss=log, clf__penalty=l1, clf__power_t=0.75;, score=0.960 total time=   2.4s\n",
            "[CV 2/3; 311/324] START clf__alpha=1.5e-05, clf__average=False, clf__l1_ratio=1, clf__loss=log, clf__penalty=l1, clf__power_t=0.75\n",
            "[CV 2/3; 311/324] END clf__alpha=1.5e-05, clf__average=False, clf__l1_ratio=1, clf__loss=log, clf__penalty=l1, clf__power_t=0.75;, score=0.961 total time=   2.5s\n",
            "[CV 3/3; 311/324] START clf__alpha=1.5e-05, clf__average=False, clf__l1_ratio=1, clf__loss=log, clf__penalty=l1, clf__power_t=0.75\n",
            "[CV 3/3; 311/324] END clf__alpha=1.5e-05, clf__average=False, clf__l1_ratio=1, clf__loss=log, clf__penalty=l1, clf__power_t=0.75;, score=0.979 total time=   2.5s\n",
            "[CV 1/3; 312/324] START clf__alpha=1.5e-05, clf__average=False, clf__l1_ratio=1, clf__loss=log, clf__penalty=l1, clf__power_t=1\n",
            "[CV 1/3; 312/324] END clf__alpha=1.5e-05, clf__average=False, clf__l1_ratio=1, clf__loss=log, clf__penalty=l1, clf__power_t=1;, score=0.961 total time=   2.4s\n",
            "[CV 2/3; 312/324] START clf__alpha=1.5e-05, clf__average=False, clf__l1_ratio=1, clf__loss=log, clf__penalty=l1, clf__power_t=1\n",
            "[CV 2/3; 312/324] END clf__alpha=1.5e-05, clf__average=False, clf__l1_ratio=1, clf__loss=log, clf__penalty=l1, clf__power_t=1;, score=0.962 total time=   2.4s\n",
            "[CV 3/3; 312/324] START clf__alpha=1.5e-05, clf__average=False, clf__l1_ratio=1, clf__loss=log, clf__penalty=l1, clf__power_t=1\n",
            "[CV 3/3; 312/324] END clf__alpha=1.5e-05, clf__average=False, clf__l1_ratio=1, clf__loss=log, clf__penalty=l1, clf__power_t=1;, score=0.980 total time=   2.4s\n",
            "[CV 1/3; 313/324] START clf__alpha=1.5e-05, clf__average=False, clf__l1_ratio=1, clf__loss=log, clf__penalty=elasticnet, clf__power_t=0.25\n",
            "[CV 1/3; 313/324] END clf__alpha=1.5e-05, clf__average=False, clf__l1_ratio=1, clf__loss=log, clf__penalty=elasticnet, clf__power_t=0.25;, score=0.962 total time=   2.4s\n",
            "[CV 2/3; 313/324] START clf__alpha=1.5e-05, clf__average=False, clf__l1_ratio=1, clf__loss=log, clf__penalty=elasticnet, clf__power_t=0.25\n",
            "[CV 2/3; 313/324] END clf__alpha=1.5e-05, clf__average=False, clf__l1_ratio=1, clf__loss=log, clf__penalty=elasticnet, clf__power_t=0.25;, score=0.962 total time=   2.5s\n",
            "[CV 3/3; 313/324] START clf__alpha=1.5e-05, clf__average=False, clf__l1_ratio=1, clf__loss=log, clf__penalty=elasticnet, clf__power_t=0.25\n",
            "[CV 3/3; 313/324] END clf__alpha=1.5e-05, clf__average=False, clf__l1_ratio=1, clf__loss=log, clf__penalty=elasticnet, clf__power_t=0.25;, score=0.979 total time=   2.4s\n",
            "[CV 1/3; 314/324] START clf__alpha=1.5e-05, clf__average=False, clf__l1_ratio=1, clf__loss=log, clf__penalty=elasticnet, clf__power_t=0.75\n",
            "[CV 1/3; 314/324] END clf__alpha=1.5e-05, clf__average=False, clf__l1_ratio=1, clf__loss=log, clf__penalty=elasticnet, clf__power_t=0.75;, score=0.960 total time=   2.4s\n",
            "[CV 2/3; 314/324] START clf__alpha=1.5e-05, clf__average=False, clf__l1_ratio=1, clf__loss=log, clf__penalty=elasticnet, clf__power_t=0.75\n",
            "[CV 2/3; 314/324] END clf__alpha=1.5e-05, clf__average=False, clf__l1_ratio=1, clf__loss=log, clf__penalty=elasticnet, clf__power_t=0.75;, score=0.962 total time=   2.4s\n",
            "[CV 3/3; 314/324] START clf__alpha=1.5e-05, clf__average=False, clf__l1_ratio=1, clf__loss=log, clf__penalty=elasticnet, clf__power_t=0.75\n",
            "[CV 3/3; 314/324] END clf__alpha=1.5e-05, clf__average=False, clf__l1_ratio=1, clf__loss=log, clf__penalty=elasticnet, clf__power_t=0.75;, score=0.981 total time=   2.4s\n",
            "[CV 1/3; 315/324] START clf__alpha=1.5e-05, clf__average=False, clf__l1_ratio=1, clf__loss=log, clf__penalty=elasticnet, clf__power_t=1\n",
            "[CV 1/3; 315/324] END clf__alpha=1.5e-05, clf__average=False, clf__l1_ratio=1, clf__loss=log, clf__penalty=elasticnet, clf__power_t=1;, score=0.961 total time=   2.4s\n",
            "[CV 2/3; 315/324] START clf__alpha=1.5e-05, clf__average=False, clf__l1_ratio=1, clf__loss=log, clf__penalty=elasticnet, clf__power_t=1\n",
            "[CV 2/3; 315/324] END clf__alpha=1.5e-05, clf__average=False, clf__l1_ratio=1, clf__loss=log, clf__penalty=elasticnet, clf__power_t=1;, score=0.960 total time=   2.4s\n",
            "[CV 3/3; 315/324] START clf__alpha=1.5e-05, clf__average=False, clf__l1_ratio=1, clf__loss=log, clf__penalty=elasticnet, clf__power_t=1\n",
            "[CV 3/3; 315/324] END clf__alpha=1.5e-05, clf__average=False, clf__l1_ratio=1, clf__loss=log, clf__penalty=elasticnet, clf__power_t=1;, score=0.979 total time=   2.5s\n",
            "[CV 1/3; 316/324] START clf__alpha=1.5e-05, clf__average=False, clf__l1_ratio=1, clf__loss=perceptron, clf__penalty=l2, clf__power_t=0.25\n",
            "[CV 1/3; 316/324] END clf__alpha=1.5e-05, clf__average=False, clf__l1_ratio=1, clf__loss=perceptron, clf__penalty=l2, clf__power_t=0.25;, score=0.971 total time=   1.7s\n",
            "[CV 2/3; 316/324] START clf__alpha=1.5e-05, clf__average=False, clf__l1_ratio=1, clf__loss=perceptron, clf__penalty=l2, clf__power_t=0.25\n",
            "[CV 2/3; 316/324] END clf__alpha=1.5e-05, clf__average=False, clf__l1_ratio=1, clf__loss=perceptron, clf__penalty=l2, clf__power_t=0.25;, score=0.976 total time=   1.8s\n",
            "[CV 3/3; 316/324] START clf__alpha=1.5e-05, clf__average=False, clf__l1_ratio=1, clf__loss=perceptron, clf__penalty=l2, clf__power_t=0.25\n",
            "[CV 3/3; 316/324] END clf__alpha=1.5e-05, clf__average=False, clf__l1_ratio=1, clf__loss=perceptron, clf__penalty=l2, clf__power_t=0.25;, score=0.992 total time=   1.8s\n",
            "[CV 1/3; 317/324] START clf__alpha=1.5e-05, clf__average=False, clf__l1_ratio=1, clf__loss=perceptron, clf__penalty=l2, clf__power_t=0.75\n",
            "[CV 1/3; 317/324] END clf__alpha=1.5e-05, clf__average=False, clf__l1_ratio=1, clf__loss=perceptron, clf__penalty=l2, clf__power_t=0.75;, score=0.970 total time=   1.7s\n",
            "[CV 2/3; 317/324] START clf__alpha=1.5e-05, clf__average=False, clf__l1_ratio=1, clf__loss=perceptron, clf__penalty=l2, clf__power_t=0.75\n",
            "[CV 2/3; 317/324] END clf__alpha=1.5e-05, clf__average=False, clf__l1_ratio=1, clf__loss=perceptron, clf__penalty=l2, clf__power_t=0.75;, score=0.975 total time=   1.7s\n",
            "[CV 3/3; 317/324] START clf__alpha=1.5e-05, clf__average=False, clf__l1_ratio=1, clf__loss=perceptron, clf__penalty=l2, clf__power_t=0.75\n",
            "[CV 3/3; 317/324] END clf__alpha=1.5e-05, clf__average=False, clf__l1_ratio=1, clf__loss=perceptron, clf__penalty=l2, clf__power_t=0.75;, score=0.993 total time=   1.8s\n",
            "[CV 1/3; 318/324] START clf__alpha=1.5e-05, clf__average=False, clf__l1_ratio=1, clf__loss=perceptron, clf__penalty=l2, clf__power_t=1\n",
            "[CV 1/3; 318/324] END clf__alpha=1.5e-05, clf__average=False, clf__l1_ratio=1, clf__loss=perceptron, clf__penalty=l2, clf__power_t=1;, score=0.970 total time=   1.8s\n",
            "[CV 2/3; 318/324] START clf__alpha=1.5e-05, clf__average=False, clf__l1_ratio=1, clf__loss=perceptron, clf__penalty=l2, clf__power_t=1\n",
            "[CV 2/3; 318/324] END clf__alpha=1.5e-05, clf__average=False, clf__l1_ratio=1, clf__loss=perceptron, clf__penalty=l2, clf__power_t=1;, score=0.973 total time=   1.9s\n",
            "[CV 3/3; 318/324] START clf__alpha=1.5e-05, clf__average=False, clf__l1_ratio=1, clf__loss=perceptron, clf__penalty=l2, clf__power_t=1\n",
            "[CV 3/3; 318/324] END clf__alpha=1.5e-05, clf__average=False, clf__l1_ratio=1, clf__loss=perceptron, clf__penalty=l2, clf__power_t=1;, score=0.991 total time=   1.8s\n",
            "[CV 1/3; 319/324] START clf__alpha=1.5e-05, clf__average=False, clf__l1_ratio=1, clf__loss=perceptron, clf__penalty=l1, clf__power_t=0.25\n",
            "[CV 1/3; 319/324] END clf__alpha=1.5e-05, clf__average=False, clf__l1_ratio=1, clf__loss=perceptron, clf__penalty=l1, clf__power_t=0.25;, score=0.964 total time=   2.4s\n",
            "[CV 2/3; 319/324] START clf__alpha=1.5e-05, clf__average=False, clf__l1_ratio=1, clf__loss=perceptron, clf__penalty=l1, clf__power_t=0.25\n",
            "[CV 2/3; 319/324] END clf__alpha=1.5e-05, clf__average=False, clf__l1_ratio=1, clf__loss=perceptron, clf__penalty=l1, clf__power_t=0.25;, score=0.966 total time=   2.3s\n",
            "[CV 3/3; 319/324] START clf__alpha=1.5e-05, clf__average=False, clf__l1_ratio=1, clf__loss=perceptron, clf__penalty=l1, clf__power_t=0.25\n",
            "[CV 3/3; 319/324] END clf__alpha=1.5e-05, clf__average=False, clf__l1_ratio=1, clf__loss=perceptron, clf__penalty=l1, clf__power_t=0.25;, score=0.985 total time=   2.3s\n",
            "[CV 1/3; 320/324] START clf__alpha=1.5e-05, clf__average=False, clf__l1_ratio=1, clf__loss=perceptron, clf__penalty=l1, clf__power_t=0.75\n",
            "[CV 1/3; 320/324] END clf__alpha=1.5e-05, clf__average=False, clf__l1_ratio=1, clf__loss=perceptron, clf__penalty=l1, clf__power_t=0.75;, score=0.962 total time=   2.3s\n",
            "[CV 2/3; 320/324] START clf__alpha=1.5e-05, clf__average=False, clf__l1_ratio=1, clf__loss=perceptron, clf__penalty=l1, clf__power_t=0.75\n",
            "[CV 2/3; 320/324] END clf__alpha=1.5e-05, clf__average=False, clf__l1_ratio=1, clf__loss=perceptron, clf__penalty=l1, clf__power_t=0.75;, score=0.964 total time=   2.3s\n",
            "[CV 3/3; 320/324] START clf__alpha=1.5e-05, clf__average=False, clf__l1_ratio=1, clf__loss=perceptron, clf__penalty=l1, clf__power_t=0.75\n",
            "[CV 3/3; 320/324] END clf__alpha=1.5e-05, clf__average=False, clf__l1_ratio=1, clf__loss=perceptron, clf__penalty=l1, clf__power_t=0.75;, score=0.986 total time=   2.4s\n",
            "[CV 1/3; 321/324] START clf__alpha=1.5e-05, clf__average=False, clf__l1_ratio=1, clf__loss=perceptron, clf__penalty=l1, clf__power_t=1\n",
            "[CV 1/3; 321/324] END clf__alpha=1.5e-05, clf__average=False, clf__l1_ratio=1, clf__loss=perceptron, clf__penalty=l1, clf__power_t=1;, score=0.963 total time=   2.3s\n",
            "[CV 2/3; 321/324] START clf__alpha=1.5e-05, clf__average=False, clf__l1_ratio=1, clf__loss=perceptron, clf__penalty=l1, clf__power_t=1\n",
            "[CV 2/3; 321/324] END clf__alpha=1.5e-05, clf__average=False, clf__l1_ratio=1, clf__loss=perceptron, clf__penalty=l1, clf__power_t=1;, score=0.967 total time=   2.3s\n",
            "[CV 3/3; 321/324] START clf__alpha=1.5e-05, clf__average=False, clf__l1_ratio=1, clf__loss=perceptron, clf__penalty=l1, clf__power_t=1\n",
            "[CV 3/3; 321/324] END clf__alpha=1.5e-05, clf__average=False, clf__l1_ratio=1, clf__loss=perceptron, clf__penalty=l1, clf__power_t=1;, score=0.985 total time=   2.3s\n",
            "[CV 1/3; 322/324] START clf__alpha=1.5e-05, clf__average=False, clf__l1_ratio=1, clf__loss=perceptron, clf__penalty=elasticnet, clf__power_t=0.25\n",
            "[CV 1/3; 322/324] END clf__alpha=1.5e-05, clf__average=False, clf__l1_ratio=1, clf__loss=perceptron, clf__penalty=elasticnet, clf__power_t=0.25;, score=0.963 total time=   2.3s\n",
            "[CV 2/3; 322/324] START clf__alpha=1.5e-05, clf__average=False, clf__l1_ratio=1, clf__loss=perceptron, clf__penalty=elasticnet, clf__power_t=0.25\n",
            "[CV 2/3; 322/324] END clf__alpha=1.5e-05, clf__average=False, clf__l1_ratio=1, clf__loss=perceptron, clf__penalty=elasticnet, clf__power_t=0.25;, score=0.966 total time=   2.3s\n",
            "[CV 3/3; 322/324] START clf__alpha=1.5e-05, clf__average=False, clf__l1_ratio=1, clf__loss=perceptron, clf__penalty=elasticnet, clf__power_t=0.25\n",
            "[CV 3/3; 322/324] END clf__alpha=1.5e-05, clf__average=False, clf__l1_ratio=1, clf__loss=perceptron, clf__penalty=elasticnet, clf__power_t=0.25;, score=0.984 total time=   2.4s\n",
            "[CV 1/3; 323/324] START clf__alpha=1.5e-05, clf__average=False, clf__l1_ratio=1, clf__loss=perceptron, clf__penalty=elasticnet, clf__power_t=0.75\n",
            "[CV 1/3; 323/324] END clf__alpha=1.5e-05, clf__average=False, clf__l1_ratio=1, clf__loss=perceptron, clf__penalty=elasticnet, clf__power_t=0.75;, score=0.962 total time=   2.3s\n",
            "[CV 2/3; 323/324] START clf__alpha=1.5e-05, clf__average=False, clf__l1_ratio=1, clf__loss=perceptron, clf__penalty=elasticnet, clf__power_t=0.75\n",
            "[CV 2/3; 323/324] END clf__alpha=1.5e-05, clf__average=False, clf__l1_ratio=1, clf__loss=perceptron, clf__penalty=elasticnet, clf__power_t=0.75;, score=0.966 total time=   2.4s\n",
            "[CV 3/3; 323/324] START clf__alpha=1.5e-05, clf__average=False, clf__l1_ratio=1, clf__loss=perceptron, clf__penalty=elasticnet, clf__power_t=0.75\n",
            "[CV 3/3; 323/324] END clf__alpha=1.5e-05, clf__average=False, clf__l1_ratio=1, clf__loss=perceptron, clf__penalty=elasticnet, clf__power_t=0.75;, score=0.985 total time=   2.4s\n",
            "[CV 1/3; 324/324] START clf__alpha=1.5e-05, clf__average=False, clf__l1_ratio=1, clf__loss=perceptron, clf__penalty=elasticnet, clf__power_t=1\n",
            "[CV 1/3; 324/324] END clf__alpha=1.5e-05, clf__average=False, clf__l1_ratio=1, clf__loss=perceptron, clf__penalty=elasticnet, clf__power_t=1;, score=0.964 total time=   2.3s\n",
            "[CV 2/3; 324/324] START clf__alpha=1.5e-05, clf__average=False, clf__l1_ratio=1, clf__loss=perceptron, clf__penalty=elasticnet, clf__power_t=1\n",
            "[CV 2/3; 324/324] END clf__alpha=1.5e-05, clf__average=False, clf__l1_ratio=1, clf__loss=perceptron, clf__penalty=elasticnet, clf__power_t=1;, score=0.966 total time=   2.3s\n",
            "[CV 3/3; 324/324] START clf__alpha=1.5e-05, clf__average=False, clf__l1_ratio=1, clf__loss=perceptron, clf__penalty=elasticnet, clf__power_t=1\n",
            "[CV 3/3; 324/324] END clf__alpha=1.5e-05, clf__average=False, clf__l1_ratio=1, clf__loss=perceptron, clf__penalty=elasticnet, clf__power_t=1;, score=0.984 total time=   2.3s\n"
          ]
        },
        {
          "output_type": "execute_result",
          "data": {
            "text/plain": [
              "GridSearchCV(cv=3,\n",
              "             estimator=Pipeline(steps=[('tfidf',\n",
              "                                        TfidfVectorizer(max_df=0.7,\n",
              "                                                        max_features=5000,\n",
              "                                                        min_df=3,\n",
              "                                                        stop_words=['de', 'a',\n",
              "                                                                    'o', 'que',\n",
              "                                                                    'e', 'é',\n",
              "                                                                    'do', 'da',\n",
              "                                                                    'em', 'um',\n",
              "                                                                    'para',\n",
              "                                                                    'com',\n",
              "                                                                    'não',\n",
              "                                                                    'uma', 'os',\n",
              "                                                                    'no', 'se',\n",
              "                                                                    'na', 'por',\n",
              "                                                                    'mais',\n",
              "                                                                    'as', 'dos',\n",
              "                                                                    'como',\n",
              "                                                                    'mas', 'ao',\n",
              "                                                                    'ele',\n",
              "                                                                    'das', 'à',\n",
              "                                                                    'seu',\n",
              "                                                                    'sua', ...])),\n",
              "                                       ('clf',\n",
              "                                        SGDClassifier(alpha=1e-06, loss='log',\n",
              "                                                      penalty='elasticnet'))]),\n",
              "             param_grid={'clf__alpha': [1e-05, 0.0001001, 1.5e-05],\n",
              "                         'clf__average': [True, False],\n",
              "                         'clf__l1_ratio': [0.25, 0.75, 1],\n",
              "                         'clf__loss': ['log', 'perceptron'],\n",
              "                         'clf__penalty': ['l2', 'l1', 'elasticnet'],\n",
              "                         'clf__power_t': [0.25, 0.75, 1]},\n",
              "             scoring='balanced_accuracy', verbose=100)"
            ]
          },
          "metadata": {},
          "execution_count": 137
        }
      ]
    },
    {
      "cell_type": "code",
      "source": [
        "grid.best_params_"
      ],
      "metadata": {
        "colab": {
          "base_uri": "https://localhost:8080/"
        },
        "id": "DO-EdrBMXqfs",
        "outputId": "cd917f43-572a-47b3-bfb1-d24e54e2f2e2"
      },
      "execution_count": 151,
      "outputs": [
        {
          "output_type": "execute_result",
          "data": {
            "text/plain": [
              "{'clf__alpha': 0.0001001,\n",
              " 'clf__average': False,\n",
              " 'clf__l1_ratio': 0.75,\n",
              " 'clf__loss': 'perceptron',\n",
              " 'clf__penalty': 'l2',\n",
              " 'clf__power_t': 0.75}"
            ]
          },
          "metadata": {},
          "execution_count": 151
        }
      ]
    },
    {
      "cell_type": "markdown",
      "source": [
        "# 5 Modelo Final"
      ],
      "metadata": {
        "id": "_6w-qw0Qin3j"
      }
    },
    {
      "cell_type": "code",
      "source": [
        "pipeline_5 = Pipeline([\n",
        "    ('tfidf', TfidfVectorizer(max_features=5000, max_df=0.7, min_df=3, stop_words=stopwords)),\n",
        "    ('clf', SGDClassifier(loss='perceptron', penalty='l2', alpha=0.0001001, average=False, l1_ratio=0.75, power_t=0.75)) \n",
        "])"
      ],
      "metadata": {
        "id": "w99fyruJ9Vkw"
      },
      "execution_count": 152,
      "outputs": []
    },
    {
      "cell_type": "code",
      "source": [
        "classificador_5_balanced = pipeline_5.fit(X_train_balanced['Enunciado'], y_train_balanced)"
      ],
      "metadata": {
        "id": "RactPXcslMIQ"
      },
      "execution_count": 153,
      "outputs": []
    },
    {
      "cell_type": "code",
      "source": [
        "classificador_5_balanced.score(X_test,y_test)"
      ],
      "metadata": {
        "colab": {
          "base_uri": "https://localhost:8080/"
        },
        "id": "tw-wfiMXlZMg",
        "outputId": "82c9497c-6c01-4cdf-bf7e-aff5dd59f443"
      },
      "execution_count": 154,
      "outputs": [
        {
          "output_type": "execute_result",
          "data": {
            "text/plain": [
              "0.8728342595619484"
            ]
          },
          "metadata": {},
          "execution_count": 154
        }
      ]
    },
    {
      "cell_type": "code",
      "source": [
        "predicted_5_balanced = classificador_5_balanced.predict(X_test)"
      ],
      "metadata": {
        "id": "vwii4jiAlhrk"
      },
      "execution_count": 155,
      "outputs": []
    },
    {
      "cell_type": "code",
      "source": [
        "print(metrics.classification_report(y_test, predicted_5_balanced))"
      ],
      "metadata": {
        "colab": {
          "base_uri": "https://localhost:8080/"
        },
        "id": "mLjGpog3loeW",
        "outputId": "6cedfc38-8636-4a75-c031-7d4680c5e8fd"
      },
      "execution_count": 156,
      "outputs": [
        {
          "output_type": "stream",
          "name": "stdout",
          "text": [
            "              precision    recall  f1-score   support\n",
            "\n",
            "           0       0.81      0.71      0.76       131\n",
            "           1       0.82      0.80      0.81       205\n",
            "           2       0.83      0.72      0.77       152\n",
            "           3       0.77      0.34      0.48        29\n",
            "           4       0.88      0.88      0.88       433\n",
            "           5       0.86      0.64      0.73        84\n",
            "           6       0.80      0.54      0.65        74\n",
            "           7       0.88      0.93      0.90       601\n",
            "           8       0.91      0.98      0.94       798\n",
            "           9       0.85      0.88      0.86       552\n",
            "\n",
            "    accuracy                           0.87      3059\n",
            "   macro avg       0.84      0.74      0.78      3059\n",
            "weighted avg       0.87      0.87      0.87      3059\n",
            "\n"
          ]
        }
      ]
    },
    {
      "cell_type": "code",
      "source": [
        "pipeline_6 = Pipeline([\n",
        "    ('tfidf', TfidfVectorizer(max_features=5000, max_df=0.7, min_df=3, stop_words=stopwords)),\n",
        "    ('clf', SGDClassifier(loss='log', penalty='elasticnet', alpha=1e-06)) \n",
        "])"
      ],
      "metadata": {
        "id": "S214BMdTisdl"
      },
      "execution_count": 409,
      "outputs": []
    },
    {
      "cell_type": "code",
      "source": [
        "classificador_6_balanced = pipeline_6.fit(X_train_balanced['Enunciado'], y_train_balanced)"
      ],
      "metadata": {
        "id": "-DslYAG8-mPP"
      },
      "execution_count": 410,
      "outputs": []
    },
    {
      "cell_type": "code",
      "source": [
        "classificador_6_balanced.score(X_test,y_test)"
      ],
      "metadata": {
        "colab": {
          "base_uri": "https://localhost:8080/"
        },
        "id": "6CPgCIPS-t-C",
        "outputId": "e0352770-11da-4939-ac76-f1ecfc6139c0"
      },
      "execution_count": 411,
      "outputs": [
        {
          "output_type": "execute_result",
          "data": {
            "text/plain": [
              "0.8885256619810395"
            ]
          },
          "metadata": {},
          "execution_count": 411
        }
      ]
    },
    {
      "cell_type": "code",
      "source": [
        "predicted_6_balanced = classificador_6_balanced.predict(X_test)"
      ],
      "metadata": {
        "id": "66vQr_cz-yhw"
      },
      "execution_count": 412,
      "outputs": []
    },
    {
      "cell_type": "code",
      "source": [
        "print(metrics.classification_report(y_test, predicted_6_balanced))"
      ],
      "metadata": {
        "colab": {
          "base_uri": "https://localhost:8080/"
        },
        "id": "46R1bp5_-3MP",
        "outputId": "07926bd1-b7e1-4c21-becf-e5e4468d05be"
      },
      "execution_count": 413,
      "outputs": [
        {
          "output_type": "stream",
          "name": "stdout",
          "text": [
            "              precision    recall  f1-score   support\n",
            "\n",
            "           0       0.77      0.83      0.80       131\n",
            "           1       0.82      0.85      0.83       205\n",
            "           2       0.74      0.78      0.76       152\n",
            "           3       0.72      0.72      0.72        29\n",
            "           4       0.91      0.88      0.89       433\n",
            "           5       0.78      0.76      0.77        84\n",
            "           6       0.73      0.66      0.70        74\n",
            "           7       0.93      0.93      0.93       601\n",
            "           8       0.95      0.96      0.96       798\n",
            "           9       0.89      0.86      0.87       552\n",
            "\n",
            "    accuracy                           0.89      3059\n",
            "   macro avg       0.82      0.82      0.82      3059\n",
            "weighted avg       0.89      0.89      0.89      3059\n",
            "\n"
          ]
        }
      ]
    },
    {
      "cell_type": "markdown",
      "source": [
        "#Salvar o modelo em disco"
      ],
      "metadata": {
        "id": "n54z0xAGyzFT"
      }
    },
    {
      "cell_type": "code",
      "source": [
        "# Salvando o modelo 1 para posterior reuso\n",
        "dump(classificador_1, 'modelo_tf-idf_sklearn_tcu_jurisprudencia1.pkl')"
      ],
      "metadata": {
        "id": "0akXEZmSy2Yz",
        "colab": {
          "base_uri": "https://localhost:8080/"
        },
        "outputId": "c4b7a24a-58f8-4710-c4c3-672d5432820b"
      },
      "execution_count": 414,
      "outputs": [
        {
          "output_type": "execute_result",
          "data": {
            "text/plain": [
              "['modelo_tf-idf_sklearn_tcu_jurisprudencia1.pkl']"
            ]
          },
          "metadata": {},
          "execution_count": 414
        }
      ]
    },
    {
      "cell_type": "code",
      "source": [
        "# Salvando o modelo 2 para posterior reuso\n",
        "dump(classificador_1_balanced, 'modelo_tf-idf_sklearn_tcu_jurisprudencia1_balanced.pkl')"
      ],
      "metadata": {
        "colab": {
          "base_uri": "https://localhost:8080/"
        },
        "id": "JA6nOgIU1Hfh",
        "outputId": "7a053dd1-2dfb-460c-afc5-7fc0119e69b3"
      },
      "execution_count": 415,
      "outputs": [
        {
          "output_type": "execute_result",
          "data": {
            "text/plain": [
              "['modelo_tf-idf_sklearn_tcu_jurisprudencia1_balanced.pkl']"
            ]
          },
          "metadata": {},
          "execution_count": 415
        }
      ]
    },
    {
      "cell_type": "code",
      "source": [
        "# Salvando o modelo 3 para posterior reuso\n",
        "dump(classificador_2, 'modelo_tf-idf_sklearn_tcu_jurisprudencia2.pkl')"
      ],
      "metadata": {
        "id": "bNAlvUjAy4Mb",
        "colab": {
          "base_uri": "https://localhost:8080/"
        },
        "outputId": "9d156d8b-0306-48e5-a20a-10b0bc601844"
      },
      "execution_count": 416,
      "outputs": [
        {
          "output_type": "execute_result",
          "data": {
            "text/plain": [
              "['modelo_tf-idf_sklearn_tcu_jurisprudencia2.pkl']"
            ]
          },
          "metadata": {},
          "execution_count": 416
        }
      ]
    },
    {
      "cell_type": "code",
      "source": [
        "# Salvando o modelo 4 para posterior reuso\n",
        "dump(classificador_3, 'modelo_tf-idf_sklearn_tcu_jurisprudencia3.pkl')"
      ],
      "metadata": {
        "id": "cJcqJiWiy72E",
        "colab": {
          "base_uri": "https://localhost:8080/"
        },
        "outputId": "4aaac98d-9177-46d7-9022-c4f5433e19a4"
      },
      "execution_count": 417,
      "outputs": [
        {
          "output_type": "execute_result",
          "data": {
            "text/plain": [
              "['modelo_tf-idf_sklearn_tcu_jurisprudencia3.pkl']"
            ]
          },
          "metadata": {},
          "execution_count": 417
        }
      ]
    },
    {
      "cell_type": "code",
      "source": [
        "# Salvando o modelo 5 para posterior reuso\n",
        "dump(classificador_5_balanced, 'modelo_tf-idf_sklearn_tcu_jurisprudencia5.pkl')"
      ],
      "metadata": {
        "colab": {
          "base_uri": "https://localhost:8080/"
        },
        "id": "Y5vllABY0u47",
        "outputId": "83e2ecec-a48c-4f13-d7a4-d2ecebb0f9ac"
      },
      "execution_count": 418,
      "outputs": [
        {
          "output_type": "execute_result",
          "data": {
            "text/plain": [
              "['modelo_tf-idf_sklearn_tcu_jurisprudencia5.pkl']"
            ]
          },
          "metadata": {},
          "execution_count": 418
        }
      ]
    },
    {
      "cell_type": "code",
      "source": [
        "# Carregar o modelo do disco\n",
        "loaded_model_1 = load('modelo_tf-idf_sklearn_tcu_jurisprudencia1.pkl')\n",
        "loaded_model_2 = load('modelo_tf-idf_sklearn_tcu_jurisprudencia1_balanced.pkl')\n",
        "loaded_model_3 = load('modelo_tf-idf_sklearn_tcu_jurisprudencia2.pkl')\n",
        "loaded_model_4 = load('modelo_tf-idf_sklearn_tcu_jurisprudencia3.pkl')\n",
        "loaded_model_5 = load('modelo_tf-idf_sklearn_tcu_jurisprudencia5.pkl')"
      ],
      "metadata": {
        "id": "WhVHI9Tey8p8"
      },
      "execution_count": 419,
      "outputs": []
    },
    {
      "cell_type": "code",
      "source": [
        "# usar o modelo carregado para inferência.\n",
        "result1 = loaded_model_1.score(X_test, y_test)\n",
        "result1"
      ],
      "metadata": {
        "id": "I_Z5eh3by-Vp",
        "colab": {
          "base_uri": "https://localhost:8080/"
        },
        "outputId": "3c2c8997-76a2-4a45-a70b-e473c18b4e03"
      },
      "execution_count": 420,
      "outputs": [
        {
          "output_type": "execute_result",
          "data": {
            "text/plain": [
              "0.8881987577639752"
            ]
          },
          "metadata": {},
          "execution_count": 420
        }
      ]
    },
    {
      "cell_type": "code",
      "source": [
        "# usar o modelo carregado para inferência.\n",
        "result2 = loaded_model_2.score(X_test, y_test)\n",
        "result2"
      ],
      "metadata": {
        "id": "Aqp8Q1FZzAJz",
        "colab": {
          "base_uri": "https://localhost:8080/"
        },
        "outputId": "dffd6fbf-9f90-481d-8ced-6a5ea5acbf30"
      },
      "execution_count": 421,
      "outputs": [
        {
          "output_type": "execute_result",
          "data": {
            "text/plain": [
              "0.8881987577639752"
            ]
          },
          "metadata": {},
          "execution_count": 421
        }
      ]
    },
    {
      "cell_type": "code",
      "source": [
        "# usar o modelo carregado para inferência.\n",
        "result3 = loaded_model_3.score(X_test, y_test)\n",
        "result3"
      ],
      "metadata": {
        "id": "5-QRIM-tzBy7",
        "colab": {
          "base_uri": "https://localhost:8080/"
        },
        "outputId": "5ebc6e27-886f-479d-d6f2-14dbcf6e276f"
      },
      "execution_count": 422,
      "outputs": [
        {
          "output_type": "execute_result",
          "data": {
            "text/plain": [
              "0.8394900294213795"
            ]
          },
          "metadata": {},
          "execution_count": 422
        }
      ]
    },
    {
      "cell_type": "code",
      "source": [
        "# usar o modelo carregado para inferência.\n",
        "result4 = loaded_model_4.score(X_test, y_test)\n",
        "result4"
      ],
      "metadata": {
        "colab": {
          "base_uri": "https://localhost:8080/"
        },
        "id": "fG3uZKJX2D0k",
        "outputId": "499aa64c-6f58-4e94-c99b-62973c54956f"
      },
      "execution_count": 423,
      "outputs": [
        {
          "output_type": "execute_result",
          "data": {
            "text/plain": [
              "0.84472049689441"
            ]
          },
          "metadata": {},
          "execution_count": 423
        }
      ]
    },
    {
      "cell_type": "code",
      "source": [
        "# usar o modelo carregado para inferência.\n",
        "result5 = loaded_model_5.score(X_test, y_test)\n",
        "result5"
      ],
      "metadata": {
        "colab": {
          "base_uri": "https://localhost:8080/"
        },
        "id": "-IQJcnLS2JAs",
        "outputId": "1a0142b7-d1a4-422b-b420-da059f714774"
      },
      "execution_count": 424,
      "outputs": [
        {
          "output_type": "execute_result",
          "data": {
            "text/plain": [
              "0.8728342595619484"
            ]
          },
          "metadata": {},
          "execution_count": 424
        }
      ]
    },
    {
      "cell_type": "code",
      "source": [
        "df_prob_2.iloc[:, 0:2]"
      ],
      "metadata": {
        "id": "Zz5cza8WzLUT",
        "colab": {
          "base_uri": "https://localhost:8080/",
          "height": 424
        },
        "outputId": "a571717b-4042-4ff3-dddf-4272ba46ba26"
      },
      "execution_count": 426,
      "outputs": [
        {
          "output_type": "execute_result",
          "data": {
            "text/html": [
              "<div>\n",
              "<style scoped>\n",
              "    .dataframe tbody tr th:only-of-type {\n",
              "        vertical-align: middle;\n",
              "    }\n",
              "\n",
              "    .dataframe tbody tr th {\n",
              "        vertical-align: top;\n",
              "    }\n",
              "\n",
              "    .dataframe thead th {\n",
              "        text-align: right;\n",
              "    }\n",
              "</style>\n",
              "<table border=\"1\" class=\"dataframe\">\n",
              "  <thead>\n",
              "    <tr style=\"text-align: right;\">\n",
              "      <th></th>\n",
              "      <th>texto</th>\n",
              "      <th>actual</th>\n",
              "    </tr>\n",
              "  </thead>\n",
              "  <tbody>\n",
              "    <tr>\n",
              "      <th>10639</th>\n",
              "      <td>É ilegal o cômputo de tempo das atividades de ...</td>\n",
              "      <td>8</td>\n",
              "    </tr>\n",
              "    <tr>\n",
              "      <th>14465</th>\n",
              "      <td>A ausência de rodízio de membros das comissões...</td>\n",
              "      <td>9</td>\n",
              "    </tr>\n",
              "    <tr>\n",
              "      <th>4924</th>\n",
              "      <td>Podem ser aplicados aos Fundos Constitucionais...</td>\n",
              "      <td>5</td>\n",
              "    </tr>\n",
              "    <tr>\n",
              "      <th>4493</th>\n",
              "      <td>Os relatórios de vistoria &lt;i&gt;in loco&lt;/i&gt; dos ó...</td>\n",
              "      <td>4</td>\n",
              "    </tr>\n",
              "    <tr>\n",
              "      <th>10030</th>\n",
              "      <td>O exame levado a efeito pelo TCU sobre os atos...</td>\n",
              "      <td>8</td>\n",
              "    </tr>\n",
              "    <tr>\n",
              "      <th>...</th>\n",
              "      <td>...</td>\n",
              "      <td>...</td>\n",
              "    </tr>\n",
              "    <tr>\n",
              "      <th>10172</th>\n",
              "      <td>Para fins de incorporação de quintos, quando m...</td>\n",
              "      <td>8</td>\n",
              "    </tr>\n",
              "    <tr>\n",
              "      <th>5653</th>\n",
              "      <td>Antes da locação de imóvel de terceiros, a Adm...</td>\n",
              "      <td>7</td>\n",
              "    </tr>\n",
              "    <tr>\n",
              "      <th>909</th>\n",
              "      <td>Não devem os empregados terceirizados serem de...</td>\n",
              "      <td>1</td>\n",
              "    </tr>\n",
              "    <tr>\n",
              "      <th>3363</th>\n",
              "      <td>Adota-se como termo inicial do prazo para reco...</td>\n",
              "      <td>4</td>\n",
              "    </tr>\n",
              "    <tr>\n",
              "      <th>10963</th>\n",
              "      <td>A justificação judicial, por si só, não torna ...</td>\n",
              "      <td>8</td>\n",
              "    </tr>\n",
              "  </tbody>\n",
              "</table>\n",
              "<p>3059 rows × 2 columns</p>\n",
              "</div>"
            ],
            "text/plain": [
              "                                                   texto  actual\n",
              "10639  É ilegal o cômputo de tempo das atividades de ...       8\n",
              "14465  A ausência de rodízio de membros das comissões...       9\n",
              "4924   Podem ser aplicados aos Fundos Constitucionais...       5\n",
              "4493   Os relatórios de vistoria <i>in loco</i> dos ó...       4\n",
              "10030  O exame levado a efeito pelo TCU sobre os atos...       8\n",
              "...                                                  ...     ...\n",
              "10172  Para fins de incorporação de quintos, quando m...       8\n",
              "5653   Antes da locação de imóvel de terceiros, a Adm...       7\n",
              "909    Não devem os empregados terceirizados serem de...       1\n",
              "3363   Adota-se como termo inicial do prazo para reco...       4\n",
              "10963  A justificação judicial, por si só, não torna ...       8\n",
              "\n",
              "[3059 rows x 2 columns]"
            ]
          },
          "metadata": {},
          "execution_count": 426
        }
      ]
    }
  ]
}